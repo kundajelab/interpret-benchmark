{
 "cells": [
  {
   "cell_type": "code",
   "execution_count": 1,
   "metadata": {},
   "outputs": [],
   "source": [
    "#!/usr/bin/env python\n",
    "from __future__ import division, print_function, absolute_import\n",
    "import numpy as np\n",
    "import h5py\n",
    "import simdna.synthetic as synthetic\n",
    "from sklearn.metrics import (\n",
    "    roc_auc_score, average_precision_score,\n",
    "    roc_curve, precision_recall_curve)\n",
    "import re\n",
    "from collections import OrderedDict, defaultdict\n",
    "def load_motif_matches(motif_match_file, doprint=False):\n",
    "        \"\"\"\n",
    "        Loads a homer motif match file into an ordered dictionary with key as se\n",
    "quence name\n",
    "        and value as list of dictionaries each containing the keys - motif, sequ\n",
    "ence,\n",
    "        begin (0-indexed inclusive begin index of motif), end (0-indexed exclusi\n",
    "ve end index),\n",
    "        strand (+ or -), seqval. Each dictionary\n",
    "        represents one motif match on that sequence\n",
    "        \"\"\"\n",
    "        motif_matches = OrderedDict()\n",
    "        fp = open(motif_match_file, \"r\")\n",
    "        if doprint:\n",
    "                print(\"#Loading \" + motif_match_file + \" ...\")\n",
    "        numlines = 0\n",
    "        for line in fp:\n",
    "                match = re.match(\"((\\w|\\-)+)\\s+((\\w|\\:|\\-)+)\\s+(\\d+)\\s+(\\d+)\\s+(\\+|\\-)\\s+.+\\s+(\\w+)$\", line)\n",
    "                if match:\n",
    "                        numlines = numlines + 1\n",
    "                        motif = match.group(1)\n",
    "                        sequence = match.group(3)\n",
    "                        begin = int(match.group(5))\n",
    "                        end = int(match.group(6))\n",
    "                        strand = match.group(7)\n",
    "                        seqval = match.group(8)\n",
    "                        entry = dict()\n",
    "                        entry['motif'] = motif\n",
    "                        entry['sequence'] = sequence\n",
    "                        entry['begin'] = begin-1 # Homer motif match file is 1 indexed, convert to 0\n",
    "                        entry['end'] = end # Homer motif match file is 1 indexed AND inclusive, convert to 0 and exclusive\n",
    "                        entry['strand'] = strand\n",
    "                        entry['seqval'] = seqval\n",
    "                        if sequence not in motif_matches:\n",
    "                                motif_matches[sequence] = list()\n",
    "                        motif_matches[sequence].append(entry)\n",
    "        fp.close()\n",
    "        if doprint:\n",
    "                print(\"#Loaded \" + str(numlines) + \" motif matches in \" + str(len(motif_matches.keys())) + \" sequences\")\n",
    "        return motif_matches"
   ]
  },
  {
   "cell_type": "code",
   "execution_count": 2,
   "metadata": {
    "collapsed": true
   },
   "outputs": [],
   "source": [
    "def rename(label):\n",
    "    match=re.match('.*_(chr.*)$',label)\n",
    "    if match:\n",
    "        return match.group(1)\n",
    "    else:\n",
    "        return \"\""
   ]
  },
  {
   "cell_type": "code",
   "execution_count": 3,
   "metadata": {},
   "outputs": [],
   "source": [
    "def get_relevant_labels_in_order_of_scores(labels, motif_matches):\n",
    "    relevant_labels_list=[]\n",
    "    relevant_indices_list=[]\n",
    "    sequence_index=0\n",
    "    positive_labels=[]\n",
    "    for label in motif_matches.keys():\n",
    "        positive_labels.append(label)\n",
    "    positive_labels_set = set(positive_labels)\n",
    "    for sequence_label in labels:\n",
    "        if sequence_label in positive_labels_set:\n",
    "            if sequence_index==731:\n",
    "                print(sequence_index)\n",
    "            relevant_indices_list.append(sequence_index)\n",
    "            relevant_labels_list.append(sequence_label)\n",
    "        sequence_index=sequence_index+1\n",
    "    print (len(relevant_indices_list))\n",
    "    print (len(relevant_labels_list))\n",
    "    return relevant_indices_list, relevant_labels_list"
   ]
  },
  {
   "cell_type": "code",
   "execution_count": 4,
   "metadata": {
    "collapsed": true
   },
   "outputs": [],
   "source": [
    "def get_relevant_scores(relevant_indices_list, scores, seq_len=400):\n",
    "    relevant_scores=np.zeros((len(relevant_indices_list),seq_len))\n",
    "    index=0\n",
    "    for scores_index in relevant_indices_list:\n",
    "        relevant_scores[index]=scores[scores_index]\n",
    "        index=index+1\n",
    "    return relevant_scores"
   ]
  },
  {
   "cell_type": "code",
   "execution_count": 5,
   "metadata": {},
   "outputs": [],
   "source": [
    "def load_labels(labels_file):\n",
    "    f = open(labels_file, \"r\")\n",
    "    l = f.read().splitlines()\n",
    "    print (\"Read \" + str(len(l)) + \" labels from \" + str(labels_file))\n",
    "    f.close()\n",
    "    return l"
   ]
  },
  {
   "cell_type": "code",
   "execution_count": 6,
   "metadata": {},
   "outputs": [
    {
     "name": "stdout",
     "output_type": "stream",
     "text": [
      "Read 68400 labels from /users/eprakash/projects/benchmarking/notebooks/momma_dragonn/ISM_scores_adaptDeepSea_GM12878_positive.labels.txt\n",
      "(68400,)\n",
      "(68400, 400, 4)\n",
      "(68400, 400)\n",
      "#Loading /users/eprakash/projects/benchmarking/newdata/GM12878/400bp/GM12878.motif.matches.txt ...\n",
      "#Loaded 1843233 motif matches in 68407 sequences\n",
      "68407\n"
     ]
    }
   ],
   "source": [
    "scores_file='/users/eprakash/projects/benchmarking/notebooks/momma_dragonn/ISM_adaptDeepSea_gm12878_pos.npy'\n",
    "initial_labels=load_labels(\"/users/eprakash/projects/benchmarking/notebooks/momma_dragonn/ISM_scores_adaptDeepSea_GM12878_positive.labels.txt\")\n",
    "size=len(initial_labels)\n",
    "labels=np.empty(size,dtype=object)\n",
    "#fpointer = open(\"/users/eprakash/projects/benchmarking/newdata/K562/K562_pos_labels_truncated.txt\", \"w\")\n",
    "for index in range(0, size):\n",
    "    labels[index]=rename(initial_labels[index])\n",
    "    #fpointer.write(str(labels[index]) + \"\\n\")\n",
    "#Sanity check\n",
    "#fpointer.close()\n",
    "print (labels.shape)\n",
    "#print(\"Labels\")\n",
    "#print(labels)\n",
    "\n",
    "original_ism_scores=np.load(scores_file)\n",
    "print(original_ism_scores.shape)\n",
    "original_ism_scores=np.sum(original_ism_scores, axis=2)\n",
    "print(original_ism_scores.shape)\n",
    "\n",
    "seq_len=original_ism_scores.shape[1]\n",
    "motif_matches=load_motif_matches('/users/eprakash/projects/benchmarking/newdata/GM12878/400bp/GM12878.motif.matches.txt', True)\n",
    "initial_seq_ids_of_interest = motif_matches.keys()\n",
    "#print(\"Initial seq ids of interest\")\n",
    "#print(initial_seq_ids_of_interest)\n",
    "seq_ids_of_interest=initial_seq_ids_of_interest\n",
    "#seq_ids_of_interest=[]\n",
    "#for id in initial_seq_ids_of_interest:\n",
    "#    seq_ids_of_interest.append(rename(id))\n",
    "print(len(seq_ids_of_interest))"
   ]
  },
  {
   "cell_type": "code",
   "execution_count": 7,
   "metadata": {},
   "outputs": [
    {
     "name": "stdout",
     "output_type": "stream",
     "text": [
      "68407\n",
      "68400\n",
      "set(['chr17:489269-489669', 'chr9:41229356-41229756', 'chr17:25919997-25920397', 'chr1:143184536-143184936', 'chr5:49666011-49666411', 'chr3:16816064-16816464', 'chr2:32916358-32916758'])\n",
      "set([])\n"
     ]
    }
   ],
   "source": [
    "motif_keyz = set(motif_matches.keys())\n",
    "print(len(motif_keyz))\n",
    "labels_keyz = set(labels)\n",
    "print(len(labels_keyz))\n",
    "print((motif_keyz - labels_keyz))\n",
    "print((labels_keyz - motif_keyz))"
   ]
  },
  {
   "cell_type": "code",
   "execution_count": 8,
   "metadata": {},
   "outputs": [
    {
     "name": "stdout",
     "output_type": "stream",
     "text": [
      "68407\n",
      "68407\n",
      "731\n",
      "68400\n",
      "68400\n",
      "(68400, 400)\n"
     ]
    }
   ],
   "source": [
    "seq_ids_of_interest_set = set(seq_ids_of_interest)\n",
    "print(len(seq_ids_of_interest))\n",
    "print(len(seq_ids_of_interest_set))\n",
    "relevant_indices_list, relevant_labels_list=get_relevant_labels_in_order_of_scores(labels, motif_matches)\n",
    "ism_scores=get_relevant_scores(relevant_indices_list, original_ism_scores, seq_len)\n",
    "#reveal_cancel_scores=get_relevant_scores(relevant_indices_list, original_reveal_cancel_scores, seq_len)\n",
    "#guided_backprop_scores=get_relevant_scores(relevant_indices_list, original_guided_backprop_scores, seq_len)\n",
    "print (ism_scores.shape)"
   ]
  },
  {
   "cell_type": "code",
   "execution_count": 9,
   "metadata": {},
   "outputs": [
    {
     "name": "stdout",
     "output_type": "stream",
     "text": [
      "68407\n",
      "68400\n",
      "set(['chr17:489269-489669', 'chr9:41229356-41229756', 'chr17:25919997-25920397', 'chr1:143184536-143184936', 'chr5:49666011-49666411', 'chr3:16816064-16816464', 'chr2:32916358-32916758'])\n",
      "set([])\n",
      "68400\n"
     ]
    }
   ],
   "source": [
    "print(len(seq_ids_of_interest_set))\n",
    "relevant_labels_set = set(relevant_labels_list)\n",
    "print(len(relevant_labels_set))\n",
    "print(seq_ids_of_interest_set - relevant_labels_set)\n",
    "print(relevant_labels_set - seq_ids_of_interest_set)\n",
    "seq_ids_of_interest_set = relevant_labels_set\n",
    "removables = list()\n",
    "for i in range(len(seq_ids_of_interest)):\n",
    "    if seq_ids_of_interest[i] not in relevant_labels_set:\n",
    "        removables.append(i)\n",
    "removables.reverse()\n",
    "for i in removables:\n",
    "    del seq_ids_of_interest[i]\n",
    "print(len(seq_ids_of_interest))"
   ]
  },
  {
   "cell_type": "code",
   "execution_count": 10,
   "metadata": {},
   "outputs": [
    {
     "name": "stdout",
     "output_type": "stream",
     "text": [
      "68400\n",
      "68400\n",
      "Motif positions: 9354719.0, total positions: 27360000\n"
     ]
    }
   ],
   "source": [
    "import re\n",
    "method_to_saved_scores = OrderedDict([\n",
    "    ('ism', ism_scores)\n",
    "])\n",
    "method_to_seq_id_to_scores = {}\n",
    "for method_name in method_to_saved_scores:\n",
    "    scores = method_to_saved_scores[method_name]\n",
    "    if (method_name=='integrated_gradients'):\n",
    "        assert(len(ig_seq_ids_of_interest)==len(scores))\n",
    "        seq_id_to_scores = dict(zip(ig_seq_ids_of_interest,scores))\n",
    "    else:\n",
    "        print(len(seq_ids_of_interest))\n",
    "        print(len(scores))\n",
    "        assert(len(seq_ids_of_interest)==len(scores))\n",
    "        seq_id_to_scores = dict(zip(relevant_labels_list,scores))\n",
    "    method_to_seq_id_to_scores[method_name] = seq_id_to_scores\n",
    "\n",
    "\n",
    "#covered_positions marks a position as a 1 if it overlaps\n",
    "# an embedded motif\n",
    "seq_id_to_covered_positions = {}\n",
    "motif_id_to_hit_locations = defaultdict(list)\n",
    "motif_id_to_motif_length = {}\n",
    "#For each motif, we need a mapping from the motif\n",
    "# to the positives locations\n",
    "for seq_id in motif_matches:\n",
    "    original_seq_id=seq_id\n",
    "    #seq_id=rename(seq_id)\n",
    "    if (method_name=='integrated_gradients'):\n",
    "        if (seq_id in ig_seq_ids_of_interest):\n",
    "            embedded_positions = np.zeros(seq_len)\n",
    "            for embedding in motif_matches[original_seq_id]:\n",
    "                the_seq=embedding['sequence']\n",
    "                motif_start_loc = embedding['begin'] \n",
    "                motif_end_loc = embedding['end']\n",
    "                motif_len = motif_end_loc-motif_start_loc\n",
    "                embedded_positions[motif_start_loc:motif_end_loc] = 1.0\n",
    "                motif_name = re.match('(\\d+)-(\\w+)-(\\d+)',embedding['motif']).group(2)\n",
    "                if (motif_name in motif_id_to_motif_length):\n",
    "                    assert (motif_id_to_motif_length[motif_name]==motif_len)\n",
    "                else:\n",
    "                    motif_id_to_motif_length[motif_name] = motif_len\n",
    "                motif_id_to_hit_locations[motif_name].append(\n",
    "                    (seq_id,motif_start_loc))\n",
    "            seq_id_to_covered_positions[seq_id] = embedded_positions \n",
    "    else:\n",
    "        if (seq_id in seq_ids_of_interest_set):\n",
    "            embedded_positions = np.zeros(seq_len)\n",
    "            for embedding in motif_matches[original_seq_id]:\n",
    "                the_seq=embedding['sequence']\n",
    "                motif_start_loc = embedding['begin'] \n",
    "                motif_end_loc = embedding['end']\n",
    "                motif_len = motif_end_loc-motif_start_loc\n",
    "                embedded_positions[motif_start_loc:motif_end_loc] = 1.0\n",
    "                motif_name = re.match('(\\d+)-(\\w+)-(\\d+)',embedding['motif']).group(2)\n",
    "                if (motif_name in motif_id_to_motif_length):\n",
    "                    assert (motif_id_to_motif_length[motif_name]==motif_len)\n",
    "                else:\n",
    "                    motif_id_to_motif_length[motif_name] = motif_len\n",
    "                motif_id_to_hit_locations[motif_name].append(\n",
    "                    (seq_id,motif_start_loc))\n",
    "        #print(embedded_positions)\n",
    "            seq_id_to_covered_positions[seq_id] = embedded_positions \n",
    "\n",
    "total_motif_bases = 0\n",
    "total_bases = 0\n",
    "for (seqname, arr) in seq_id_to_covered_positions.items():\n",
    "    total_motif_bases = total_motif_bases + np.sum(arr)\n",
    "    total_bases = total_bases +  len(arr)\n",
    "print(\"Motif positions: \" + str(total_motif_bases) + \", total positions: \" + str(total_bases))\n",
    "\n",
    "#find windows of a given length that do not overlap any motif\n",
    "motif_len_to_negatives = defaultdict(list)                            \n",
    "for motif_len in set(motif_id_to_motif_length.values()):\n",
    "    for seq_id,covered_positions in seq_id_to_covered_positions.items():\n",
    "        cumsum = np.array([0]+list(np.cumsum(covered_positions)))\n",
    "        window_sums = cumsum[motif_len:]-cumsum[0:-motif_len]\n",
    "        null_windows = [(seq_id,x) for x in\n",
    "                        np.nonzero(window_sums==0)[0]]\n",
    "        motif_len_to_negatives[motif_len].extend(null_windows)"
   ]
  },
  {
   "cell_type": "code",
   "execution_count": 11,
   "metadata": {},
   "outputs": [
    {
     "name": "stdout",
     "output_type": "stream",
     "text": [
      "75\n"
     ]
    }
   ],
   "source": [
    "motif_id_to_pos_locs={}\n",
    "for motif_id in motif_id_to_hit_locations:\n",
    "    motif_len = motif_id_to_motif_length[motif_id]\n",
    "    num_pos_locs = len(motif_id_to_hit_locations[motif_id])\n",
    "    #num_neg_locs = len(motif_len_to_negatives[motif_len])\n",
    "    motif_id_to_pos_locs.update({motif_id:float(num_pos_locs)})\n",
    "print(len(motif_id_to_pos_locs))\n",
    "top_5_motif_ids=sorted(motif_id_to_pos_locs, key=lambda x: motif_id_to_pos_locs[x])\n",
    "#['TGAATGAATGAA', 'GGGGCGGGGC', 'AGAGGAAGTG', 'AAAAAAAAAAAA', 'AAAAAAAAAA', 'CTTCCTCT', 'GCCACTGCAC', 'AAAAAAAA', 'GGGTGGGG'] \n",
    "#top_5_motif_ids=sorted(motif_id_to_hit_locations, key=lambda x: len(motif_id_to_hit_locations[x]))[-5:]\n",
    "#rescale_all_scores=np.random.rand(rescale_all_scores.shape[0], rescale_all_scores.shape[1])"
   ]
  },
  {
   "cell_type": "code",
   "execution_count": 12,
   "metadata": {},
   "outputs": [
    {
     "name": "stdout",
     "output_type": "stream",
     "text": [
      "Number of motifs is 75\n",
      "GCCMYCTRGTGG: [0.8771812850952948, 0.5331087508400927, 8171.0]\n",
      "CCCTCTAGTG: [0.8527558062320584, 0.46191535163285813, 7281.0]\n",
      "CCACTAGAGG: [0.8221582275981758, 0.3574349089693705, 3299.0]\n",
      "ATGACTCA: [0.8310513309518511, 0.19924883169877294, 17095.0]\n",
      "RTGASTCAKH: [0.8690684244538909, 0.1848132729025499, 13552.0]\n",
      "AGRTGGCA: [0.637342204224465, 0.1702590336612362, 15232.0]\n",
      "ATGASTCAKHNN: [0.8477384739070699, 0.1510330735645968, 13770.0]\n",
      "VCCACTAG: [0.5878856828999882, 0.04676649157501293, 25301.0]\n",
      "CGCCCTWT: [0.6465062594788709, 0.04388393040532927, 24043.0]\n",
      "GGGGCGGGGC: [0.730399087903646, 0.040799682138335805, 17322.0]\n",
      "NVGCCCCGCCCC: [0.7253173729320045, 0.03385810708529748, 16708.0]\n",
      "GCCAATCG: [0.7308056374518861, 0.026578106295019947, 9137.0]\n",
      "BCTGATTGGCYG: [0.7644499054604685, 0.025121564895956152, 4940.0]\n",
      "SAGTCATYTS: [0.5887504896277198, 0.0226615007368311, 19661.0]\n",
      "VSCGGAAA: [0.6146392121211071, 0.02248142804553347, 92354.0]\n",
      "GCCCCGCC: [0.7067752712649076, 0.022095155100958837, 13869.0]\n",
      "RACCGGAAGT: [0.6162823992837386, 0.02159937673280031, 40065.0]\n",
      "TGATTGGYYS: [0.6872289855955387, 0.020753748611757994, 11081.0]\n",
      "CGGAAGTG: [0.6198471839963366, 0.020352178561883125, 46164.0]\n",
      "STGCGCATGCGC: [0.6841919726044196, 0.01835108119601217, 3468.0]\n",
      "DRRGGSSRRR: [0.6527843657165366, 0.016725655214291948, 26007.0]\n",
      "YGCGCATGCG: [0.6654799969148657, 0.015549937563373131, 3703.0]\n",
      "GGGAATTGTAGT: [0.7301877741414979, 0.014444097806688837, 1316.0]\n",
      "SNCGYTAVBS: [0.5841267619215199, 0.01389416399613781, 30016.0]\n",
      "CGCATGCG: [0.6325400747225521, 0.012832103315644097, 5425.0]\n",
      "CNCGSAAGNNNN: [0.5906050472727729, 0.012794176412175647, 49773.0]\n",
      "CTCCGCCC: [0.7477103838978502, 0.011846641153714012, 13424.0]\n",
      "BCGATTCGNN: [0.6377686456170569, 0.01046660343841841, 9071.0]\n",
      "CACTTCCTSTTY: [0.5074743275829484, 0.010360007434709663, 40206.0]\n",
      "GGGRRTTTYC: [0.5317077152914411, 0.010164286990581927, 70433.0]\n",
      "GACGTNAC: [0.5932145109691681, 0.00908065636445133, 23993.0]\n",
      "NNDNCGGWHVNN: [0.6229013095450044, 0.008193347277022337, 26888.0]\n",
      "NGTGACGTCA: [0.7205119226716568, 0.0069097907506479, 3689.0]\n",
      "AGACGACT: [0.5562743037998531, 0.006770133465363146, 21957.0]\n",
      "GTGACTRA: [0.5146447691205914, 0.006543852713187066, 59307.0]\n",
      "BNCGKTWH: [0.519961831361669, 0.006481120149357046, 70697.0]\n",
      "BCGGTTTC: [0.47704320205454304, 0.006450423339325822, 78379.0]\n",
      "AVWAAVCSGC: [0.509944193172559, 0.006371591228518762, 66301.0]\n",
      "WAGBCCGC: [0.5553187341582926, 0.006346439972953557, 57646.0]\n",
      "CGGTGACGTCAS: [0.6670525639933518, 0.006274051380842388, 6642.0]\n",
      "CCCCCCCCCCCC: [0.675889288638759, 0.006196236702927287, 20459.0]\n",
      "GGGAAATGTA: [0.6825063789604933, 0.005775815643455046, 1318.0]\n",
      "TGACAGCH: [0.5007943025414505, 0.005621229532394134, 59708.0]\n",
      "YCGCDARK: [0.4978385107419165, 0.005528022137979851, 64786.0]\n",
      "CGAAACBGAACN: [0.46025385930241003, 0.005031833233895439, 54082.0]\n",
      "NTBTCGCGNV: [0.5329991085046211, 0.005028676729653823, 38046.0]\n",
      "GMCACGTNAC: [0.5697796907870368, 0.004984536941391266, 19298.0]\n",
      "NBTYNNKYCG: [0.5586945304954797, 0.004602067544276045, 38981.0]\n",
      "GKAAGTGGYT: [0.5485415860211783, 0.004509714245670116, 23417.0]\n",
      "CGTTTCAG: [0.43915373114385703, 0.0043776675465572, 64059.0]\n",
      "TTYCGSTT: [0.4602244144161383, 0.0040559560327688305, 33196.0]\n",
      "NWAACCACAR: [0.4299015678208444, 0.004054499490761775, 35326.0]\n",
      "TCGCGAGA: [0.6990987018861777, 0.0038505772812055315, 745.0]\n",
      "TCCGAAYG: [0.5077137166168237, 0.0037974294643417484, 46567.0]\n",
      "TTTCRSTTCC: [0.4272707964820521, 0.0035558149053909302, 31904.0]\n",
      "NNSDWWCGDHNB: [0.5175604206210516, 0.003314670879716625, 29444.0]\n",
      "TAACCACA: [0.4134019479374386, 0.00298854568329805, 30223.0]\n",
      "TGAAACYRNN: [0.4131431896205595, 0.0029128398817963035, 39851.0]\n",
      "RNTCTCGCGAGA: [0.7274368156399476, 0.002756360458063857, 655.0]\n",
      "CCGCCATCTT: [0.6949706576328434, 0.0023423574962484605, 1179.0]\n",
      "GTGCGAAA: [0.4169175197371484, 0.0023369176311443048, 35551.0]\n",
      "NNNAAACCACAN: [0.4082381868031081, 0.0020937427225863822, 18482.0]\n",
      "BNCATTYGCRTA: [0.4412471273954856, 0.0017717279939973303, 18842.0]\n",
      "ATGCAAATCV: [0.43483480105067535, 0.0015465823862106107, 20052.0]\n",
      "AAGATGGCGGCS: [0.6795723164508649, 0.001533335433580882, 1402.0]\n",
      "GGGGATTT: [0.4142638876783693, 0.0012196682343225543, 17336.0]\n",
      "YGCCATGGCAAC: [0.6265146976161726, 0.0011626525122432247, 3141.0]\n",
      "TTCTCAGAAACT: [0.4528164125560762, 0.0009435178732574597, 11495.0]\n",
      "GGGAAWTCCCCN: [0.4174902578685445, 0.0007221432039303131, 6554.0]\n",
      "TGGTTTCASTTY: [0.2705589349903873, 0.0004849961140270552, 7384.0]\n",
      "CGAATGGAATCA: [0.3957326817892024, 5.281612644799408e-05, 765.0]\n",
      "ATKGAACSGA: [0.42437310000859063, 4.267856409937653e-05, 597.0]\n",
      "ATSGAATGGAAT: [0.34986178975255944, 1.8816407055048865e-05, 293.0]\n",
      "TCGAATGGAATC: [0.42662978125420026, 1.862469820272603e-05, 255.0]\n",
      "ATCATCGAATGG: [0.35395011599221554, 1.488579771520673e-05, 231.0]\n"
     ]
    }
   ],
   "source": [
    "import matplotlib\n",
    "import matplotlib.pyplot as plt\n",
    "%matplotlib inline\n",
    "\n",
    "font = {'family' : 'normal',\n",
    "        'weight' : 'bold',\n",
    "        'size'   : 15}\n",
    "\n",
    "matplotlib.rc('font', **font)\n",
    "\n",
    "method_name_to_plot_style = {\n",
    "    'grad_times_input': {'color':'green'},\n",
    "    'rescale_all': {'color':'orange'},\n",
    "    'rescale_conv': {'color':'purple'},\n",
    "    'reveal_cancel': {'color': 'red'},\n",
    "    'guided_backprop': {'color': 'yellow'},\n",
    "    'integrated_gradients': {'color': 'blue'}\n",
    "}\n",
    "\n",
    "method_name_nicename = {\n",
    "    'grad_times_input': 'grad_times_input',\n",
    "    'rescale_all': 'rescale_all',\n",
    "    'rescale_conv': 'rescale_conv',\n",
    "    'reveal_cancel': 'reveal_cancel',\n",
    "    'guided_backprop': 'guided_backprop',\n",
    "    'integrated_gradients': 'integrated_gradients'\n",
    "}\n",
    "motif_info={}\n",
    "print(\"Number of motifs is \" + str(len(motif_id_to_motif_length.keys())))\n",
    "for motif_id in sorted(top_5_motif_ids):\n",
    "    \n",
    "    for methods_to_plot in [['ism']]:\n",
    "    #[['grad_times_input', 'rescale_all', 'rescale_conv', 'reveal_cancel', 'guided_backprop', 'integrated_gradients']]:\n",
    "        \n",
    "        #print(\"On motif\",motif_id)\n",
    "        motif_len = motif_id_to_motif_length[motif_id]\n",
    "        pos_locs = motif_id_to_hit_locations[motif_id]\n",
    "        neg_locs = motif_len_to_negatives[motif_len]\n",
    "        #print(\"num pos\",len(pos_locs))\n",
    "        #print(\"num neg\",len(neg_locs))\n",
    "        all_locs = list(pos_locs)+list(neg_locs)\n",
    "        #print(len(motif_matches.items()))\n",
    "        loc_labels = [1 for x in pos_locs]+[0 for x in neg_locs]\n",
    "\n",
    "        #f,axarr = plt.subplots(1,2, figsize=(20,5))\n",
    "        #plt.subplot(122)\n",
    "        #plt.title(motif_id+' auROC Curves')\n",
    "        #plt.plot([0, 1], [0, 1], color='black', linestyle='--')\n",
    "        #plt.xlim([0, 1])\n",
    "        #plt.ylim([0, 1])\n",
    "        #plt.ylabel('True Positive Rate')\n",
    "        #plt.xlabel('False Positive Rate')\n",
    "\n",
    "        pos_frac = float(len(pos_locs))/(len(pos_locs)+len(neg_locs))\n",
    "        #plt.subplot(121)\n",
    "        #plt.title(motif_id+' auPRC Curves')\n",
    "        #plt.plot([0, 1], [pos_frac, pos_frac], color='black', linestyle='--')\n",
    "        #plt.xlim([0, 1])\n",
    "        #plt.ylim([0, 1])\n",
    "        #plt.ylabel('Precision')\n",
    "        #plt.xlabel('Recall') \n",
    "    \n",
    "        for method_name in methods_to_plot:\n",
    "            #print(method_name)\n",
    "            seq_id_to_windowsums = {}\n",
    "            seq_id_to_scores=method_to_seq_id_to_scores[method_name]\n",
    "            for seq_id,scores in seq_id_to_scores.items():\n",
    "                #cumsum = np.array([0]+list(np.cumsum(np.sum(scores,axis=-1))))\n",
    "                cumsum = np.array([0]+list(np.cumsum(scores)))\n",
    "                windowsums = cumsum[motif_len:]-cumsum[:-motif_len]\n",
    "                seq_id_to_windowsums[seq_id] = windowsums\n",
    "            loc_scores = [seq_id_to_windowsums[seq_id][pos]\n",
    "                          for (seq_id, pos) in all_locs]\n",
    "            auroc = roc_auc_score(y_true=loc_labels,\n",
    "                                  y_score=loc_scores)\n",
    "            auprc = average_precision_score(y_true=loc_labels,\n",
    "                                            y_score=loc_scores)\n",
    "            #print(\"auROC: \" + str(auroc))\n",
    "            #print(\"auPRC: \" + str(auprc))\n",
    "            #print(\"Hits in pos set: \" + str(motif_id_to_pos_locs[motif_id]))\n",
    "            motif_info.update({motif_id:[auroc,auprc,motif_id_to_pos_locs[motif_id]]})\n",
    "            \"\"\"plt.subplot(122)\n",
    "            fpr, tpr, rocthresholds = roc_curve(\n",
    "                loc_labels, loc_scores, pos_label=1)\n",
    "            plt.plot(fpr, tpr,\n",
    "                     label = method_name_nicename[method_name]+(' AUC = %0.2f' % (100*auroc))+\"%\",\n",
    "                     linewidth=2,\n",
    "                     **method_name_to_plot_style[method_name])\n",
    "            plt.legend(loc = 'lower right', fontsize='xx-small')\n",
    "\n",
    "            plt.subplot(121)\n",
    "            precision, recall, thresholds = precision_recall_curve(\n",
    "                loc_labels, loc_scores, pos_label=1)\n",
    "            plt.plot(precision, recall,\n",
    "                     label = method_name_nicename[method_name]+(' AUC = %0.2f' % (100*auprc))+\"%\",\n",
    "                     linewidth=2,\n",
    "                     **method_name_to_plot_style[method_name])\n",
    "            plt.legend(loc = 'top right', fontsize='xx-small')\n",
    "\n",
    "        plt.show()\"\"\"\n",
    "\n",
    "sorted_keys=(sorted(motif_info, key=lambda x: motif_info[x][1]))\n",
    "for key in sorted_keys[::-1]:\n",
    "    print(key+\": \"+str(motif_info[key]))"
   ]
  },
  {
   "cell_type": "markdown",
   "metadata": {
    "collapsed": true
   },
   "source": [
    "# Sanity Check"
   ]
  },
  {
   "cell_type": "markdown",
   "metadata": {},
   "source": [
    "#### Extract base pair sequences"
   ]
  },
  {
   "cell_type": "code",
   "execution_count": null,
   "metadata": {},
   "outputs": [],
   "source": [
    "shuffled_motifs={'SAGATAAV', 'NVCTTTYACA', 'NTRTCTAGCK', 'NNATGASTCATN', 'DCTGTRAAARVN', 'STTCYDGGAA', 'WGAAAAGCAG', 'CGCGGCGC', 'CAGCCAAANV', 'RCCAATCG', 'NBNTTATCTG', 'GGCGSCGSCG', 'CMYCTRGTGG', 'SNAAACMGCH', 'GGGGGAGGGGSN', 'AGGAAACG', 'CAGCCAMA', 'GNTCTCGCGAGA', 'AAAAGCHGNCTN', 'GCCGCTAG', 'AACAGCAG', 'VAGRYGGCGSCN', 'GCCCCGCCCC', 'NBTGTYTAGCTG', 'ACCAGAAG', 'YGTTTCCHNN', 'HRAATGGAAT', 'CCTTCCCC', 'TGTCTAGC', 'GCTTTGCAAA', 'AAAGCCDC', 'AAACCAGA', 'AAAGSCNNNN', 'CCCCNCCC', 'YGTTTACA', 'RMTGACWG', 'RKCWGTAAAR', 'YTTCTGGTTT', 'GCTCCTCC', 'ATGACWDCRN', 'GSGGGGGSGGSG', 'ATGACTCA', 'GCCMYCTRGTGG', 'ACTTCCTB', 'NWGATAANVNNN', 'NNGCGCVKSCGC', 'AGATAGGRNNNN', 'RCTTCCTBYYNN', 'CCGCGCGGCG', 'CTTTCACA', 'NVMGCNVGCG', 'BYTGCTGTTW', 'GTGTGTGT', 'GATGAGTCAT', 'RCCAATSVSNNN', 'GTGACDTC', 'HGTSACTTVD', 'GCTCCWCCCG', 'CSGCGGCG', 'NHGCAGAAAARA', 'NTSTGGCTKBHD', 'CGCCCTCT', 'CTTTCMCAGAAG', 'NDGTCACRTGAC', 'TTTACARWCCYT', 'RGAGGAAGYG', 'NNDGHAGTCACT', 'GWGTGTGTGT', 'NNNARACAGCAR', 'AGCGCGCG', 'NCMVCTCCCYCN', 'NGBCCCGCGVGV', 'GWGTGTGTGTGT', 'DGCTGTTW', 'NGGGYGGRGCSR'}\n",
    "original_motifs={'AAAGCSDC', 'HGGCCCCGCCCC', 'ACCAATCG', 'NNDACNGCNS', 'TTGGWGAACCTT', 'CCAATCAG', 'CCCCTCCCCCNC', 'ACTTCCTSYTBN', 'CAGCCAAA', 'AGGGTTTGTAAA', 'ASMMAAACAS', 'STTATCWG', 'GGCGCGGGCGCG', 'GAGTGTGTGTGT', 'YTGTCAGB', 'RTGACGTCAYCS', 'TAAAAGCAGGCT', 'CMYCTAGYGG', 'ACTACRNYTCCC', 'GGCGGCGGCG', 'HKCGCGCG', 'CGCAAGATTTAT', 'TGBAAACG', 'AGTGACCTCTAG', 'VTCATGTGAC', 'TGTGAAAG', 'GCCMCGCC', 'DGTGACGTCA', 'CGCCGCCG', 'CACYAGRGGG', 'TGTCTAGC', 'GCWGHMAAAAMV', 'BYTSTGGTTT', 'CGCGCNNGCG', 'ATTATACGCTAA', 'RMTCTCGCGAGA', 'RRCCAATCRG', 'CTAGCGGC', 'CWGATAAGANNN', 'TBTRKCTAGCTV', 'GGGHGGAGCC', 'CTCCGCCC', 'GCCCCGCCCC', 'VTTCYNGGAA', 'ATGACTCA', 'TCGAATGGAATC', 'CYCTGTMAAA', 'KGCKGTTT', 'RASMGGAAGT', 'CTGCGCATGCGC', 'CCGCGCGGCG', 'DACAGCWG', 'NGVTGASTCATC', 'GATGAGTCAT', 'AAGATGGCGGCS', 'RCCAATCAGMDB', 'TGGTCTAGCGGT', 'CTTATCTSNN', 'GRGGRAGT', 'CCCCCCCC', 'GCCMCCTAGTGG', 'CCMCKCCCMC', 'CGCATGCG', 'CGCCCTCT', 'TKAGCATGCT', 'WGATAAVS', 'KVKCGCGVGA', 'RYCAYRTGRYHN', 'NBCTTATCTS', 'GTGACTWC', 'GTRTCTAGCT', 'CTTCCGGT', 'SGWTYGTRAA', 'AGCGCCCCCT'}\n",
    "print (\"Intersects:\", shuffled_motifs.intersection(original_motifs))"
   ]
  },
  {
   "cell_type": "code",
   "execution_count": null,
   "metadata": {
    "collapsed": true
   },
   "outputs": [],
   "source": [
    "import gzip\n",
    "import re\n",
    "from collections import OrderedDict\n",
    "def load_sequences_from_bedfile(seqfile):\n",
    "    seqs = OrderedDict()\n",
    "    fp = gzip.open(seqfile, \"rb\")\n",
    "    print(\"#Loading \" + seqfile + \" ...\")\n",
    "    for line in fp:\n",
    "        (label, sequence)=line.split()\n",
    "        seqs[label]=sequence\n",
    "    fp.close()\n",
    "    print(\"#Loaded \" + str(len(seqs.keys())) + \" sequences from \" + seqfile)\n",
    "    return seqs"
   ]
  },
  {
   "cell_type": "code",
   "execution_count": null,
   "metadata": {
    "collapsed": true
   },
   "outputs": [],
   "source": [
    "def rename(label):\n",
    "    match=re.match('.*_(chr.*)$',label)\n",
    "    if match:\n",
    "        return match.group(1)\n",
    "    else:\n",
    "        return \"\""
   ]
  },
  {
   "cell_type": "code",
   "execution_count": null,
   "metadata": {},
   "outputs": [],
   "source": [
    "data_filename_positive = \"/users/eprakash/projects/benchmarking/newdata/SPI1_in_K562/SPI1.pos.summits.implanted.bed.gz\"\n",
    "data_filename_negative = \"/users/eprakash/projects/benchmarking/newdata/SPI1_in_K562/SPI1.neg.summits.implanted.bed.gz\"\n",
    "labeled_sequences = load_sequences_from_bedfile(data_filename_positive)\n",
    "neg_seqs = load_sequences_from_bedfile(data_filename_negative)\n",
    "labeled_sequences.update(neg_seqs)\n",
    "sequences={}\n",
    "for (label,seq) in labeled_sequences.items():\n",
    "    sequences.update({rename(label):seq})"
   ]
  },
  {
   "cell_type": "markdown",
   "metadata": {},
   "source": [
    "#### Select random 5 sequences for motif"
   ]
  },
  {
   "cell_type": "code",
   "execution_count": null,
   "metadata": {},
   "outputs": [],
   "source": [
    "from random import *\n",
    "motif='CTTCCTTYCT'\n",
    "motif_seqs=[value[0] for value in motif_id_to_hit_locations[motif]]\n",
    "random_indices=[randint(0,len(motif_seqs)) for i in range(0,5)]\n",
    "print (random_indices)\n",
    "selected_seqs=[motif_seqs[i] for i in random_indices]\n",
    "print (selected_seqs)"
   ]
  },
  {
   "cell_type": "markdown",
   "metadata": {},
   "source": [
    "#### Onehot encode"
   ]
  },
  {
   "cell_type": "code",
   "execution_count": null,
   "metadata": {},
   "outputs": [],
   "source": [
    "def one_hot_encode_along_channel_axis(sequence):\n",
    "    to_return = np.zeros((len(sequence),4), dtype=np.int8)\n",
    "    seq_to_one_hot_fill_in_array(zeros_array=to_return,\n",
    "                                 sequence=sequence, one_hot_axis=1)\n",
    "    return to_return\n",
    "\n",
    "def seq_to_one_hot_fill_in_array(zeros_array, sequence, one_hot_axis):\n",
    "    assert one_hot_axis==0 or one_hot_axis==1\n",
    "    if (one_hot_axis==0):\n",
    "        assert zeros_array.shape[1] == len(sequence)\n",
    "    elif (one_hot_axis==1): \n",
    "        assert zeros_array.shape[0] == len(sequence)\n",
    "    #will mutate zeros_array\n",
    "    for (i,char) in enumerate(sequence):\n",
    "        if (char==\"A\" or char==\"a\"):\n",
    "            char_idx = 0\n",
    "        elif (char==\"C\" or char==\"c\"):\n",
    "            char_idx = 1\n",
    "        elif (char==\"G\" or char==\"g\"):\n",
    "            char_idx = 2\n",
    "        elif (char==\"T\" or char==\"t\"):\n",
    "            char_idx = 3\n",
    "        elif (char==\"N\" or char==\"n\"):\n",
    "            continue #leave that pos as all 0's\n",
    "        else:\n",
    "            raise RuntimeError(\"Unsupported character: \"+str(char))\n",
    "        if (one_hot_axis==0):\n",
    "            zeros_array[char_idx,i] = 1\n",
    "        elif (one_hot_axis==1):\n",
    "            zeros_array[i,char_idx] = 1\n",
    "#sequences = sequences[-5000:]            \n",
    "onehot_data = np.array([one_hot_encode_along_channel_axis(sequences[select_seq]) for select_seq in selected_seqs])"
   ]
  },
  {
   "cell_type": "code",
   "execution_count": null,
   "metadata": {},
   "outputs": [],
   "source": [
    "print (onehot_data.shape)"
   ]
  },
  {
   "cell_type": "markdown",
   "metadata": {},
   "source": [
    "#### Get relevant scores"
   ]
  },
  {
   "cell_type": "code",
   "execution_count": null,
   "metadata": {},
   "outputs": [],
   "source": [
    "selected_relevant_indices_list=[list(labels).index(seq) for seq in selected_seqs]\n",
    "selected_rescale_conv_scores=get_relevant_scores(selected_relevant_indices_list, original_rescale_conv_scores, seq_len)\n",
    "print (selected_rescale_conv_scores.shape)"
   ]
  },
  {
   "cell_type": "code",
   "execution_count": null,
   "metadata": {},
   "outputs": [],
   "source": [
    "def split_sequence_by_motif_name(motif_name, list_of_dicts):\n",
    "    list_with_motif = list()\n",
    "    list_without_motif = list()\n",
    "    for one_motif_occurrence in list_of_dicts:\n",
    "        full_motif = one_motif_occurrence['motif']\n",
    "        essential_motif = re.match('(\\d+)-(\\w+)-(\\d+)',full_motif).group(2)\n",
    "        if essential_motif == motif_name:\n",
    "            list_with_motif.append(one_motif_occurrence)\n",
    "        else:\n",
    "            list_without_motif.append(one_motif_occurrence)\n",
    "    return (list_with_motif, list_without_motif)"
   ]
  },
  {
   "cell_type": "markdown",
   "metadata": {},
   "source": [
    "#### Visualization"
   ]
  },
  {
   "cell_type": "code",
   "execution_count": null,
   "metadata": {},
   "outputs": [],
   "source": [
    "%matplotlib inline\n",
    "from deeplift.visualization import viz_sequence\n",
    "for i in range(0,len(selected_seqs)):\n",
    "    scores=selected_grad_times_input_scores[i]\n",
    "    seq_id=selected_seqs[i]\n",
    "    print(seq_id)\n",
    "    (list_with_motif, list_without_motif)=split_sequence_by_motif_name(motif, motif_matches[seq_id])\n",
    "    viz_sequence.plot_weights(onehot_data[i]*scores[:, None], subticks_frequency=10, highlight={'blue':[(seq_info['begin'],seq_info['end']) for seq_info in list_with_motif]})\n",
    "    viz_sequence.plot_weights(onehot_data[i]*scores[:, None], subticks_frequency=10, highlight={'red':[(seq_info['begin'],seq_info['end']) for seq_info in list_without_motif]})"
   ]
  },
  {
   "cell_type": "code",
   "execution_count": null,
   "metadata": {},
   "outputs": [],
   "source": [
    "pwm = np.array([[0.036,0.170,0.033,0.761],[0.001,0.635,0.125,0.239],[0.031,0.128,0.004,0.837],[0.001,0.676,0.166,0.157],\n",
    "                [0.058,0.113,0.040,0.789],[0.007,0.676,0.207,0.110],[0.007,0.125,0.001,0.867],[0.001,0.660,0.206,0.133],\n",
    "                [0.005,0.186,0.001,0.808],[0.001,0.607,0.241,0.151],[0.054,0.231,0.006,0.709],[0.025,0.540,0.217,0.218]])\n",
    "print (pwm.shape)"
   ]
  },
  {
   "cell_type": "code",
   "execution_count": null,
   "metadata": {},
   "outputs": [],
   "source": [
    "%matplotlib inline\n",
    "from deeplift.visualization import viz_sequence\n",
    "viz_sequence.plot_weights(pwm, subticks_frequency=10)"
   ]
  },
  {
   "cell_type": "code",
   "execution_count": null,
   "metadata": {
    "collapsed": true
   },
   "outputs": [],
   "source": []
  }
 ],
 "metadata": {
  "anaconda-cloud": {},
  "kernelspec": {
   "display_name": "Python 2",
   "language": "python",
   "name": "python2"
  },
  "language_info": {
   "codemirror_mode": {
    "name": "ipython",
    "version": 2
   },
   "file_extension": ".py",
   "mimetype": "text/x-python",
   "name": "python",
   "nbconvert_exporter": "python",
   "pygments_lexer": "ipython2",
   "version": "2.7.12"
  }
 },
 "nbformat": 4,
 "nbformat_minor": 2
}
