{
 "cells": [
  {
   "cell_type": "code",
   "execution_count": 1,
   "metadata": {},
   "outputs": [],
   "source": [
    "#!/usr/bin/env python\n",
    "from __future__ import division, print_function, absolute_import\n",
    "import numpy as np\n",
    "import h5py\n",
    "import simdna.synthetic as synthetic\n",
    "from sklearn.metrics import (\n",
    "    roc_auc_score, average_precision_score,\n",
    "    roc_curve, precision_recall_curve)\n",
    "import re\n",
    "from collections import OrderedDict, defaultdict\n",
    "\n",
    "def load_motif_matches(motif_match_file, doprint=False):\n",
    "        \"\"\"\n",
    "        Loads a homer motif match file into an ordered dictionary with key as se\n",
    "quence name\n",
    "        and value as list of dictionaries each containing the keys - motif, sequ\n",
    "ence,\n",
    "        begin (0-indexed inclusive begin index of motif), end (0-indexed exclusi\n",
    "ve end index),\n",
    "        strand (+ or -), seqval. Each dictionary\n",
    "        represents one motif match on that sequence\n",
    "        \"\"\"\n",
    "        motif_matches = OrderedDict()\n",
    "        fp = open(motif_match_file, \"r\")\n",
    "        if doprint:\n",
    "                print(\"#Loading \" + motif_match_file + \" ...\")\n",
    "        numlines = 0\n",
    "        for line in fp:\n",
    "                match = re.match(\"((\\w|\\-)+)\\s+((\\w|\\:|\\-)+)\\s+(\\d+)\\s+(\\d+)\\s+(\\+|\\-)\\s+.+\\s+(\\w+)$\", line)\n",
    "                if match:\n",
    "                        numlines = numlines + 1\n",
    "                        motif = match.group(1)\n",
    "                        sequence = match.group(3)\n",
    "                        begin = int(match.group(5))\n",
    "                        end = int(match.group(6))\n",
    "                        strand = match.group(7)\n",
    "                        seqval = match.group(8)\n",
    "                        entry = dict()\n",
    "                        entry['motif'] = motif\n",
    "                        entry['sequence'] = sequence\n",
    "                        entry['begin'] = begin-1 # Homer motif match file is 1 indexed, convert to 0\n",
    "                        entry['end'] = end # Homer motif match file is 1 indexed AND inclusive, convert to 0 and exclusive\n",
    "                        entry['strand'] = strand\n",
    "                        entry['seqval'] = seqval\n",
    "                        if sequence not in motif_matches:\n",
    "                                motif_matches[sequence] = list()\n",
    "                        motif_matches[sequence].append(entry)\n",
    "        fp.close()\n",
    "        if doprint:\n",
    "                print(\"#Loaded \" + str(numlines) + \" motif matches in \" + str(len(motif_matches.keys())) + \" sequences\")\n",
    "        return motif_matches"
   ]
  },
  {
   "cell_type": "code",
   "execution_count": 2,
   "metadata": {
    "collapsed": true
   },
   "outputs": [],
   "source": [
    "def rename(label):\n",
    "    match=re.match('.*_(chr.*)$',label)\n",
    "    if match:\n",
    "        return match.group(1)\n",
    "    else:\n",
    "        return \"\""
   ]
  },
  {
   "cell_type": "code",
   "execution_count": 3,
   "metadata": {},
   "outputs": [],
   "source": [
    "def get_relevant_labels_in_order_of_scores(labels, motif_matches):\n",
    "    relevant_labels_list=[]\n",
    "    relevant_indices_list=[]\n",
    "    sequence_index=0\n",
    "    positive_labels=[]\n",
    "    for label in motif_matches.keys():\n",
    "        positive_labels.append(label)\n",
    "    positive_labels_set = set(positive_labels)\n",
    "    print(\"Motif matches sequences are \" + str(len(positive_labels_set)))\n",
    "    print(\"Supplied labels are \" + str(len(labels)))\n",
    "    for sequence_label in labels:\n",
    "        if sequence_label in positive_labels_set:\n",
    "            if sequence_index==731:\n",
    "                print(sequence_index)\n",
    "            relevant_indices_list.append(sequence_index)\n",
    "            relevant_labels_list.append(sequence_label)\n",
    "        else:\n",
    "            print(\"Did not find this label in motif matches: \" + sequence_label)\n",
    "        sequence_index=sequence_index+1\n",
    "    print (len(relevant_indices_list))\n",
    "    print (len(relevant_labels_list))\n",
    "    return relevant_indices_list, relevant_labels_list"
   ]
  },
  {
   "cell_type": "code",
   "execution_count": 4,
   "metadata": {
    "collapsed": true
   },
   "outputs": [],
   "source": [
    "def get_relevant_scores(relevant_indices_list, scores, seq_len=400):\n",
    "    relevant_scores=np.zeros((len(relevant_indices_list),seq_len))\n",
    "    index=0\n",
    "    for scores_index in relevant_indices_list:\n",
    "        relevant_scores[index]=scores[scores_index]\n",
    "        index=index+1\n",
    "    return relevant_scores"
   ]
  },
  {
   "cell_type": "code",
   "execution_count": 5,
   "metadata": {},
   "outputs": [
    {
     "name": "stdout",
     "output_type": "stream",
     "text": [
      "(5000,)\n",
      "#Loading /users/eprakash/projects/benchmarking/newdata/A549/A549.motif.matches.txt ...\n",
      "#Loaded 4599731 motif matches in 143217 sequences\n",
      "143217\n"
     ]
    }
   ],
   "source": [
    "scores_file='/users/eprakash/projects/benchmarking/newdata/A549/models/deepseabeluga/results/A549.deepseabeluga.scores.5Ksubsample.h5'\n",
    "h5f = h5py.File(scores_file,'r')\n",
    "initial_labels=np.array(h5f.get(\"labels\"))\n",
    "size=len(initial_labels)\n",
    "labels=np.empty(size,dtype=object)\n",
    "#fpointer = open(\"/users/eprakash/projects/benchmarking/newdata/K562/K562_pos_labels_truncated.txt\", \"w\")\n",
    "for index in range(0, size):\n",
    "    labels[index]=rename(initial_labels[index])\n",
    "    #fpointer.write(str(labels[index]) + \"\\n\")\n",
    "#Sanity check\n",
    "#fpointer.close()\n",
    "print (labels.shape)\n",
    "\n",
    "original_grad_times_input_scores=np.array(h5f.get(\"grad_times_inp\"))\n",
    "original_rescale_all_scores=np.array(h5f.get(\"rescale_all_layers_multiref_10\"))\n",
    "original_rescale_conv_scores=np.array(h5f.get(\"rescale_conv_revealcancel_fc_multiref_10\"))\n",
    "\n",
    "ig_scores=np.array(h5f.get(\"integrated_gradients10_multiref_10\"))\n",
    "h5f.close()\n",
    "\n",
    "seq_len=original_grad_times_input_scores.shape[1]\n",
    "motif_matches=load_motif_matches('/users/eprakash/projects/benchmarking/newdata/A549/A549.motif.matches.txt', True)\n",
    "initial_seq_ids_of_interest = motif_matches.keys()\n",
    "seq_ids_of_interest=[]\n",
    "for id in initial_seq_ids_of_interest:\n",
    "    seq_ids_of_interest.append(rename(id))\n",
    "print(len(seq_ids_of_interest))"
   ]
  },
  {
   "cell_type": "code",
   "execution_count": 6,
   "metadata": {},
   "outputs": [
    {
     "name": "stdout",
     "output_type": "stream",
     "text": [
      "Motif matches sequences are 143217\n",
      "Supplied labels are 5000\n",
      "731\n",
      "5000\n",
      "5000\n",
      "(5000, 400)\n"
     ]
    }
   ],
   "source": [
    "seq_ids_of_interest_set = set(seq_ids_of_interest)\n",
    "relevant_indices_list, relevant_labels_list=get_relevant_labels_in_order_of_scores(labels, motif_matches)\n",
    "#Changed later: reducing seq_ids_of_interest to those which are common to motif matches and labels\n",
    "seq_ids_of_interest = relevant_labels_list\n",
    "seq_ids_of_interest_set = set(relevant_labels_list)\n",
    "ig_h5f=h5py.File('/users/eprakash/projects/benchmarking/newdata/A549/models/deepseabeluga/results/top1kposlabels_A549_1kb','r')\n",
    "ig_seq_ids_of_interest=list(ig_h5f.get(\"labels\"))\n",
    "grad_times_input_scores=get_relevant_scores(relevant_indices_list, original_grad_times_input_scores, seq_len)\n",
    "rescale_all_scores=get_relevant_scores(relevant_indices_list, original_rescale_all_scores, seq_len)\n",
    "rescale_conv_scores=get_relevant_scores(relevant_indices_list, original_rescale_conv_scores, seq_len)\n",
    "#reveal_cancel_scores=get_relevant_scores(relevant_indices_list, original_reveal_cancel_scores, seq_len)\n",
    "#guided_backprop_scores=get_relevant_scores(relevant_indices_list, original_guided_backprop_scores, seq_len)\n",
    "\n",
    "print (rescale_conv_scores.shape)"
   ]
  },
  {
   "cell_type": "code",
   "execution_count": 7,
   "metadata": {},
   "outputs": [],
   "source": [
    "for index in range(0,len(ig_seq_ids_of_interest)):\n",
    "    ig_seq_ids_of_interest[index]=rename(ig_seq_ids_of_interest[index])"
   ]
  },
  {
   "cell_type": "code",
   "execution_count": 8,
   "metadata": {},
   "outputs": [
    {
     "name": "stdout",
     "output_type": "stream",
     "text": [
      "5000\n",
      "5000\n",
      "5000\n",
      "5000\n",
      "5000\n",
      "5000\n",
      "Motif positions: 178369.0, total positions: 400000\n"
     ]
    }
   ],
   "source": [
    "import re\n",
    "method_to_saved_scores = OrderedDict([\n",
    "    ('grad_times_input', grad_times_input_scores),\n",
    "    ('rescale_all', rescale_all_scores),\n",
    "    ('rescale_conv', rescale_conv_scores),\n",
    "    #('guided_backprop', guided_backprop_scores),\n",
    "    #('reveal_cancel', reveal_cancel_scores),\n",
    "    ('integrated_gradients', ig_scores)\n",
    "\n",
    "])\n",
    "method_to_seq_id_to_scores = {}\n",
    "for method_name in method_to_saved_scores:\n",
    "    scores = method_to_saved_scores[method_name]\n",
    "    if (method_name=='integrated_gradients'):\n",
    "        assert(len(ig_seq_ids_of_interest)==len(scores))\n",
    "        seq_id_to_scores = dict(zip(ig_seq_ids_of_interest,scores))\n",
    "    else:\n",
    "        print(len(seq_ids_of_interest))\n",
    "        print(len(scores))\n",
    "        assert(len(seq_ids_of_interest)==len(scores))\n",
    "        seq_id_to_scores = dict(zip(relevant_labels_list,scores))\n",
    "    method_to_seq_id_to_scores[method_name] = seq_id_to_scores\n",
    "\n",
    "\n",
    "#covered_positions marks a position as a 1 if it overlaps\n",
    "# an embedded motif\n",
    "seq_id_to_covered_positions = {}\n",
    "motif_id_to_hit_locations = defaultdict(list)\n",
    "motif_id_to_motif_length = {}\n",
    "#For each motif, we need a mapping from the motif\n",
    "# to the positives locations\n",
    "for seq_id in motif_matches:\n",
    "    original_seq_id=seq_id\n",
    "    #seq_id=rename(seq_id)\n",
    "    if (method_name=='integrated_gradients'):\n",
    "        if (seq_id in ig_seq_ids_of_interest):\n",
    "            embedded_positions = np.zeros(seq_len)\n",
    "            for embedding in motif_matches[original_seq_id]:\n",
    "                the_seq=embedding['sequence']\n",
    "                motif_start_loc = embedding['begin'] \n",
    "                motif_end_loc = embedding['end']\n",
    "                motif_len = motif_end_loc-motif_start_loc\n",
    "                embedded_positions[motif_start_loc:motif_end_loc] = 1.0\n",
    "                motif_name = re.match('(\\d+)-(\\w+)-(\\d+)',embedding['motif']).group(2)\n",
    "                if (motif_name in motif_id_to_motif_length):\n",
    "                    assert (motif_id_to_motif_length[motif_name]==motif_len)\n",
    "                else:\n",
    "                    motif_id_to_motif_length[motif_name] = motif_len\n",
    "                motif_id_to_hit_locations[motif_name].append(\n",
    "                    (seq_id,motif_start_loc))\n",
    "            seq_id_to_covered_positions[seq_id] = embedded_positions \n",
    "    else:\n",
    "        if (seq_id in seq_ids_of_interest_set):\n",
    "            embedded_positions = np.zeros(seq_len)\n",
    "            for embedding in motif_matches[original_seq_id]:\n",
    "                the_seq=embedding['sequence']\n",
    "                motif_start_loc = embedding['begin'] \n",
    "                motif_end_loc = embedding['end']\n",
    "                motif_len = motif_end_loc-motif_start_loc\n",
    "                embedded_positions[motif_start_loc:motif_end_loc] = 1.0\n",
    "                motif_name = re.match('(\\d+)-(\\w+)-(\\d+)',embedding['motif']).group(2)\n",
    "                if (motif_name in motif_id_to_motif_length):\n",
    "                    assert (motif_id_to_motif_length[motif_name]==motif_len)\n",
    "                else:\n",
    "                    motif_id_to_motif_length[motif_name] = motif_len\n",
    "                motif_id_to_hit_locations[motif_name].append(\n",
    "                    (seq_id,motif_start_loc))\n",
    "        #print(embedded_positions)\n",
    "            seq_id_to_covered_positions[seq_id] = embedded_positions \n",
    "\n",
    "total_motif_bases = 0\n",
    "total_bases = 0\n",
    "for (seqname, arr) in seq_id_to_covered_positions.items():\n",
    "    total_motif_bases = total_motif_bases + np.sum(arr)\n",
    "    total_bases = total_bases +  len(arr)\n",
    "print(\"Motif positions: \" + str(total_motif_bases) + \", total positions: \" + str(total_bases))\n",
    "\n",
    "#find windows of a given length that do not overlap any motif\n",
    "motif_len_to_negatives = defaultdict(list)                            \n",
    "for motif_len in set(motif_id_to_motif_length.values()):\n",
    "    for seq_id,covered_positions in seq_id_to_covered_positions.items():\n",
    "        cumsum = np.array([0]+list(np.cumsum(covered_positions)))\n",
    "        window_sums = cumsum[motif_len:]-cumsum[0:-motif_len]\n",
    "        null_windows = [(seq_id,x) for x in\n",
    "                        np.nonzero(window_sums==0)[0]]\n",
    "        motif_len_to_negatives[motif_len].extend(null_windows)"
   ]
  },
  {
   "cell_type": "code",
   "execution_count": 9,
   "metadata": {},
   "outputs": [
    {
     "name": "stdout",
     "output_type": "stream",
     "text": [
      "75\n"
     ]
    }
   ],
   "source": [
    "motif_id_to_pos_locs={}\n",
    "for motif_id in motif_id_to_hit_locations:\n",
    "    motif_len = motif_id_to_motif_length[motif_id]\n",
    "    num_pos_locs = len(motif_id_to_hit_locations[motif_id])\n",
    "    #num_neg_locs = len(motif_len_to_negatives[motif_len])\n",
    "    motif_id_to_pos_locs.update({motif_id:float(num_pos_locs)})\n",
    "print(len(motif_id_to_pos_locs))\n",
    "top_5_motif_ids=sorted(motif_id_to_pos_locs, key=lambda x: motif_id_to_pos_locs[x])\n",
    "#['TGAATGAATGAA', 'GGGGCGGGGC', 'AGAGGAAGTG', 'AAAAAAAAAAAA', 'AAAAAAAAAA', 'CTTCCTCT', 'GCCACTGCAC', 'AAAAAAAA', 'GGGTGGGG'] \n",
    "#top_5_motif_ids=sorted(motif_id_to_hit_locations, key=lambda x: len(motif_id_to_hit_locations[x]))[-5:]\n",
    "#rescale_all_scores=np.random.rand(rescale_all_scores.shape[0], rescale_all_scores.shape[1])"
   ]
  },
  {
   "cell_type": "code",
   "execution_count": 10,
   "metadata": {
    "scrolled": true
   },
   "outputs": [
    {
     "name": "stdout",
     "output_type": "stream",
     "text": [
      "Number of motifs is 75\n",
      "CCACYAGRKGGC: [0.9764731034102485, 0.71748083630887, 353.0]\n",
      "CACTAGRGGG: [0.9797909473008104, 0.6752914006556534, 278.0]\n",
      "CCCCTAGTGGCC: [0.9282952038681368, 0.49674051902310123, 134.0]\n",
      "CCRCTAGGKG: [0.9590597227031163, 0.4905623286192296, 146.0]\n",
      "ATGACTCA: [0.9798172683967634, 0.4394746579108471, 446.0]\n",
      "ATGACTCATC: [0.9721418604735722, 0.3740816771512532, 431.0]\n",
      "TGASTCAB: [0.9567088907017632, 0.35354617753371725, 657.0]\n",
      "NNATGASTCATN: [0.9756676563850748, 0.3309039873363139, 407.0]\n",
      "CYAGGGGGCGCT: [0.8903750669525721, 0.3085971722448273, 116.0]\n",
      "STTAVTCABH: [0.8964442149002603, 0.24396702060645015, 786.0]\n",
      "CTAGCGGC: [0.852106000888972, 0.17403580391453563, 525.0]\n",
      "CAGTCATK: [0.8249274194311456, 0.13356417921397146, 1649.0]\n",
      "AGAGGGCGCT: [0.7426374757782344, 0.11598061641254896, 751.0]\n",
      "CGCGCBCT: [0.7066155729017861, 0.06698861423290592, 695.0]\n",
      "SCYYTARR: [0.7747514998539695, 0.04572896736237263, 1287.0]\n",
      "VACWTTCC: [0.7589078781955958, 0.024529873314344405, 1244.0]\n",
      "TSGGAAMG: [0.6771241816621494, 0.022452680091800972, 1775.0]\n",
      "GACGTCAC: [0.7494069328516337, 0.019808826826107215, 594.0]\n",
      "GGRAGTGTTT: [0.7499458921509179, 0.019720270040454724, 742.0]\n",
      "RCCGGAARYG: [0.7235284573364211, 0.018265931038777054, 1024.0]\n",
      "CCAAWCGS: [0.7626238116970343, 0.01754375226183601, 800.0]\n",
      "VGGAGGAR: [0.6672433181542622, 0.01731691960931044, 1172.0]\n",
      "CCGGAAAT: [0.7391372379213801, 0.0171899980507959, 875.0]\n",
      "AAAACGMG: [0.6818079151211245, 0.016881710984746712, 1387.0]\n",
      "TTAATGATTAAC: [0.8487105341324062, 0.015462467279797578, 58.0]\n",
      "NAACAGGAARTB: [0.6821839734059141, 0.013989497719286741, 843.0]\n",
      "ACAAATCC: [0.6923136813504351, 0.01382666983599665, 958.0]\n",
      "GWGTGTGTGTGT: [0.684419472102461, 0.012717020708332024, 538.0]\n",
      "CTGTTTRC: [0.7925495070229867, 0.011813141868430568, 492.0]\n",
      "GBTTTCTCTCCS: [0.5610646259357096, 0.011136404900128561, 1031.0]\n",
      "NMAABRTTTVYH: [0.6589986870638469, 0.010889820253974478, 684.0]\n",
      "TTAACCGC: [0.6987081062085367, 0.010225959904670522, 715.0]\n",
      "TGWGTAAACA: [0.7837534561747426, 0.010101670877185564, 334.0]\n",
      "BCGCGGAR: [0.6521541588177173, 0.00974466111900062, 951.0]\n",
      "TTGCGTAA: [0.7732278721465254, 0.009592072225795674, 399.0]\n",
      "TGACGTCAYY: [0.8061505785885861, 0.009567676811458408, 147.0]\n",
      "YTCCTCCCCC: [0.6824299968900249, 0.009385702826222725, 575.0]\n",
      "DGGAAWTTSC: [0.7402705014567658, 0.009244542799543544, 434.0]\n",
      "CTCTCGCG: [0.7378985532205482, 0.009011218281270385, 483.0]\n",
      "NSBSTCGCGVNC: [0.6340937540103763, 0.008932950302002036, 464.0]\n",
      "CGTCACTTCCGG: [0.7628842424152822, 0.008851851008385307, 234.0]\n",
      "NNCRAABCCG: [0.6729238752088215, 0.00834200365214523, 624.0]\n",
      "TTCGCTCCGS: [0.6576721060053577, 0.00815442758781728, 659.0]\n",
      "SGACCGAA: [0.6923659822615095, 0.00796235727697191, 627.0]\n",
      "GGGCGGGGCC: [0.7528454511775146, 0.007797588924869183, 381.0]\n",
      "NNCCGCTTMCSN: [0.6193127778630176, 0.007540209103940008, 622.0]\n",
      "GGGGCGGRVCSG: [0.6950242051084037, 0.0075316957141302, 423.0]\n",
      "GGGGCGKA: [0.7239203889803442, 0.007222218739240659, 398.0]\n",
      "CGGCGGCG: [0.6705234048378821, 0.00693473359479497, 632.0]\n",
      "TTCCNGGAAN: [0.6422290407875277, 0.0066901574741876964, 527.0]\n",
      "BBCGKGGAAANK: [0.5776601023223549, 0.006501422403345082, 613.0]\n",
      "NRGTSACGTSAC: [0.7207156865866013, 0.006421162016338588, 146.0]\n",
      "CGCVYGCGCG: [0.6501601477701184, 0.0063462236641021645, 550.0]\n",
      "GTTGCCANRB: [0.6923613228748186, 0.006269690111905797, 294.0]\n",
      "CGRCGCGCGS: [0.6066187894144883, 0.006232575097179542, 585.0]\n",
      "CGGCCAATCR: [0.8251958786067723, 0.00608753540922513, 122.0]\n",
      "SCGCSGCGSV: [0.6089932260910391, 0.005928790556103554, 621.0]\n",
      "GGCGGCGC: [0.7277705442357633, 0.005783102463384723, 389.0]\n",
      "GTGTTTGT: [0.7680698842978566, 0.005743187112892585, 244.0]\n",
      "GGGGGCGGGGCC: [0.7467375393887571, 0.005548893291891601, 245.0]\n",
      "YBSYSATTGGCY: [0.7970398209505664, 0.005194257569805441, 138.0]\n",
      "ATTKCACAAC: [0.7296391320634958, 0.003785349709960933, 161.0]\n",
      "GCCGCCGCCGCN: [0.6122985461588191, 0.003660790631553318, 312.0]\n",
      "GCGCGGCGCCGC: [0.5765058271559761, 0.003546316276422154, 356.0]\n",
      "TVTGCGCA: [0.6752907913016102, 0.0035266570718063064, 285.0]\n",
      "GGGAAAAAAA: [0.5933726106910996, 0.003497810250178658, 339.0]\n",
      "KCTCGCGCGA: [0.6763733873822126, 0.0033119489167395782, 212.0]\n",
      "AAGATGGCGGCS: [0.7095210222540609, 0.0025170545785625255, 30.0]\n",
      "CCGCCCTCCSGC: [0.5736666094332344, 0.002273093777130802, 104.0]\n",
      "SSGCGCSSGCGC: [0.6077474170634438, 0.0022659063770030926, 202.0]\n",
      "GTCACGTGAC: [0.7474218515274234, 0.0012820163853286218, 22.0]\n",
      "GGGARWYGTAGT: [0.7529615781105305, 0.0006926874082081725, 24.0]\n",
      "CCGCCATCTT: [0.677479202824825, 0.0006254584662698436, 14.0]\n",
      "CGGAGCCGAGCC: [0.4877370918306604, 0.0003485336092504106, 43.0]\n",
      "CGCCATGGCGAC: [0.5766690545664215, 8.679704726818259e-05, 7.0]\n"
     ]
    }
   ],
   "source": [
    "import matplotlib\n",
    "import matplotlib.pyplot as plt\n",
    "%matplotlib inline\n",
    "\n",
    "font = {'family' : 'normal',\n",
    "        'weight' : 'bold',\n",
    "        'size'   : 15}\n",
    "\n",
    "matplotlib.rc('font', **font)\n",
    "\n",
    "method_name_to_plot_style = {\n",
    "    'grad_times_input': {'color':'green'},\n",
    "    'rescale_all': {'color':'orange'},\n",
    "    'rescale_conv': {'color':'purple'},\n",
    "    'reveal_cancel': {'color': 'red'},\n",
    "    'guided_backprop': {'color': 'yellow'},\n",
    "    'integrated_gradients': {'color': 'blue'}\n",
    "}\n",
    "\n",
    "method_name_nicename = {\n",
    "    'grad_times_input': 'grad_times_input',\n",
    "    'rescale_all': 'rescale_all',\n",
    "    'rescale_conv': 'rescale_conv',\n",
    "    'reveal_cancel': 'reveal_cancel',\n",
    "    'guided_backprop': 'guided_backprop',\n",
    "    'integrated_gradients': 'integrated_gradients'\n",
    "}\n",
    "motif_info={}\n",
    "print(\"Number of motifs is \" + str(len(motif_id_to_motif_length.keys())))\n",
    "for motif_id in sorted(top_5_motif_ids):\n",
    "    \n",
    "    for methods_to_plot in [['integrated_gradients']]:\n",
    "    #[['grad_times_input', 'rescale_all', 'rescale_conv', 'reveal_cancel', 'guided_backprop', 'integrated_gradients']]:\n",
    "        \n",
    "        #print(\"On motif\",motif_id)\n",
    "        motif_len = motif_id_to_motif_length[motif_id]\n",
    "        pos_locs = motif_id_to_hit_locations[motif_id]\n",
    "        neg_locs = motif_len_to_negatives[motif_len]\n",
    "        #print(\"num pos\",len(pos_locs))\n",
    "        #print(\"num neg\",len(neg_locs))\n",
    "        all_locs = list(pos_locs)+list(neg_locs)\n",
    "        #print(len(motif_matches.items()))\n",
    "        loc_labels = [1 for x in pos_locs]+[0 for x in neg_locs]\n",
    "\n",
    "        #f,axarr = plt.subplots(1,2, figsize=(20,5))\n",
    "        #plt.subplot(122)\n",
    "        #plt.title(motif_id+' auROC Curves')\n",
    "        #plt.plot([0, 1], [0, 1], color='black', linestyle='--')\n",
    "        #plt.xlim([0, 1])\n",
    "        #plt.ylim([0, 1])\n",
    "        #plt.ylabel('True Positive Rate')\n",
    "        #plt.xlabel('False Positive Rate')\n",
    "\n",
    "        pos_frac = float(len(pos_locs))/(len(pos_locs)+len(neg_locs))\n",
    "        #plt.subplot(121)\n",
    "        #plt.title(motif_id+' auPRC Curves')\n",
    "        #plt.plot([0, 1], [pos_frac, pos_frac], color='black', linestyle='--')\n",
    "        #plt.xlim([0, 1])\n",
    "        #plt.ylim([0, 1])\n",
    "        #plt.ylabel('Precision')\n",
    "        #plt.xlabel('Recall') \n",
    "    \n",
    "        for method_name in methods_to_plot:\n",
    "            #print(method_name)\n",
    "            seq_id_to_windowsums = {}\n",
    "            seq_id_to_scores=method_to_seq_id_to_scores[method_name]\n",
    "            for seq_id,scores in seq_id_to_scores.items():\n",
    "                #cumsum = np.array([0]+list(np.cumsum(np.sum(scores,axis=-1))))\n",
    "                cumsum = np.array([0]+list(np.cumsum(scores)))\n",
    "                windowsums = cumsum[motif_len:]-cumsum[:-motif_len]\n",
    "                seq_id_to_windowsums[seq_id] = windowsums\n",
    "            loc_scores = [seq_id_to_windowsums[seq_id][pos]\n",
    "                          for (seq_id, pos) in all_locs]\n",
    "            auroc = roc_auc_score(y_true=loc_labels,\n",
    "                                  y_score=loc_scores)\n",
    "            auprc = average_precision_score(y_true=loc_labels,\n",
    "                                            y_score=loc_scores)\n",
    "            #print(\"auROC: \" + str(auroc))\n",
    "            #print(\"auPRC: \" + str(auprc))\n",
    "            #print(\"Hits in pos set: \" + str(motif_id_to_pos_locs[motif_id]))\n",
    "            motif_info.update({motif_id:[auroc,auprc,motif_id_to_pos_locs[motif_id]]})\n",
    "            \"\"\"plt.subplot(122)\n",
    "            fpr, tpr, rocthresholds = roc_curve(\n",
    "                loc_labels, loc_scores, pos_label=1)\n",
    "            plt.plot(fpr, tpr,\n",
    "                     label = method_name_nicename[method_name]+(' AUC = %0.2f' % (100*auroc))+\"%\",\n",
    "                     linewidth=2,\n",
    "                     **method_name_to_plot_style[method_name])\n",
    "            plt.legend(loc = 'lower right', fontsize='xx-small')\n",
    "\n",
    "            plt.subplot(121)\n",
    "            precision, recall, thresholds = precision_recall_curve(\n",
    "                loc_labels, loc_scores, pos_label=1)\n",
    "            plt.plot(precision, recall,\n",
    "                     label = method_name_nicename[method_name]+(' AUC = %0.2f' % (100*auprc))+\"%\",\n",
    "                     linewidth=2,\n",
    "                     **method_name_to_plot_style[method_name])\n",
    "            plt.legend(loc = 'top right', fontsize='xx-small')\n",
    "\n",
    "        plt.show()\"\"\"\n",
    "\n",
    "sorted_keys=(sorted(motif_info, key=lambda x: motif_info[x][1]))\n",
    "for key in sorted_keys[::-1]:\n",
    "    print(key+\": \"+str(motif_info[key]))"
   ]
  },
  {
   "cell_type": "markdown",
   "metadata": {
    "collapsed": true
   },
   "source": [
    "# Sanity Check"
   ]
  },
  {
   "cell_type": "markdown",
   "metadata": {},
   "source": [
    "#### Extract base pair sequences"
   ]
  },
  {
   "cell_type": "code",
   "execution_count": null,
   "metadata": {},
   "outputs": [],
   "source": [
    "shuffled_motifs={'SAGATAAV', 'NVCTTTYACA', 'NTRTCTAGCK', 'NNATGASTCATN', 'DCTGTRAAARVN', 'STTCYDGGAA', 'WGAAAAGCAG', 'CGCGGCGC', 'CAGCCAAANV', 'RCCAATCG', 'NBNTTATCTG', 'GGCGSCGSCG', 'CMYCTRGTGG', 'SNAAACMGCH', 'GGGGGAGGGGSN', 'AGGAAACG', 'CAGCCAMA', 'GNTCTCGCGAGA', 'AAAAGCHGNCTN', 'GCCGCTAG', 'AACAGCAG', 'VAGRYGGCGSCN', 'GCCCCGCCCC', 'NBTGTYTAGCTG', 'ACCAGAAG', 'YGTTTCCHNN', 'HRAATGGAAT', 'CCTTCCCC', 'TGTCTAGC', 'GCTTTGCAAA', 'AAAGCCDC', 'AAACCAGA', 'AAAGSCNNNN', 'CCCCNCCC', 'YGTTTACA', 'RMTGACWG', 'RKCWGTAAAR', 'YTTCTGGTTT', 'GCTCCTCC', 'ATGACWDCRN', 'GSGGGGGSGGSG', 'ATGACTCA', 'GCCMYCTRGTGG', 'ACTTCCTB', 'NWGATAANVNNN', 'NNGCGCVKSCGC', 'AGATAGGRNNNN', 'RCTTCCTBYYNN', 'CCGCGCGGCG', 'CTTTCACA', 'NVMGCNVGCG', 'BYTGCTGTTW', 'GTGTGTGT', 'GATGAGTCAT', 'RCCAATSVSNNN', 'GTGACDTC', 'HGTSACTTVD', 'GCTCCWCCCG', 'CSGCGGCG', 'NHGCAGAAAARA', 'NTSTGGCTKBHD', 'CGCCCTCT', 'CTTTCMCAGAAG', 'NDGTCACRTGAC', 'TTTACARWCCYT', 'RGAGGAAGYG', 'NNDGHAGTCACT', 'GWGTGTGTGT', 'NNNARACAGCAR', 'AGCGCGCG', 'NCMVCTCCCYCN', 'NGBCCCGCGVGV', 'GWGTGTGTGTGT', 'DGCTGTTW', 'NGGGYGGRGCSR'}\n",
    "original_motifs={'AAAGCSDC', 'HGGCCCCGCCCC', 'ACCAATCG', 'NNDACNGCNS', 'TTGGWGAACCTT', 'CCAATCAG', 'CCCCTCCCCCNC', 'ACTTCCTSYTBN', 'CAGCCAAA', 'AGGGTTTGTAAA', 'ASMMAAACAS', 'STTATCWG', 'GGCGCGGGCGCG', 'GAGTGTGTGTGT', 'YTGTCAGB', 'RTGACGTCAYCS', 'TAAAAGCAGGCT', 'CMYCTAGYGG', 'ACTACRNYTCCC', 'GGCGGCGGCG', 'HKCGCGCG', 'CGCAAGATTTAT', 'TGBAAACG', 'AGTGACCTCTAG', 'VTCATGTGAC', 'TGTGAAAG', 'GCCMCGCC', 'DGTGACGTCA', 'CGCCGCCG', 'CACYAGRGGG', 'TGTCTAGC', 'GCWGHMAAAAMV', 'BYTSTGGTTT', 'CGCGCNNGCG', 'ATTATACGCTAA', 'RMTCTCGCGAGA', 'RRCCAATCRG', 'CTAGCGGC', 'CWGATAAGANNN', 'TBTRKCTAGCTV', 'GGGHGGAGCC', 'CTCCGCCC', 'GCCCCGCCCC', 'VTTCYNGGAA', 'ATGACTCA', 'TCGAATGGAATC', 'CYCTGTMAAA', 'KGCKGTTT', 'RASMGGAAGT', 'CTGCGCATGCGC', 'CCGCGCGGCG', 'DACAGCWG', 'NGVTGASTCATC', 'GATGAGTCAT', 'AAGATGGCGGCS', 'RCCAATCAGMDB', 'TGGTCTAGCGGT', 'CTTATCTSNN', 'GRGGRAGT', 'CCCCCCCC', 'GCCMCCTAGTGG', 'CCMCKCCCMC', 'CGCATGCG', 'CGCCCTCT', 'TKAGCATGCT', 'WGATAAVS', 'KVKCGCGVGA', 'RYCAYRTGRYHN', 'NBCTTATCTS', 'GTGACTWC', 'GTRTCTAGCT', 'CTTCCGGT', 'SGWTYGTRAA', 'AGCGCCCCCT'}\n",
    "print (\"Intersects:\", shuffled_motifs.intersection(original_motifs))"
   ]
  },
  {
   "cell_type": "code",
   "execution_count": null,
   "metadata": {
    "collapsed": true
   },
   "outputs": [],
   "source": [
    "import gzip\n",
    "import re\n",
    "from collections import OrderedDict\n",
    "def load_sequences_from_bedfile(seqfile):\n",
    "    seqs = OrderedDict()\n",
    "    fp = gzip.open(seqfile, \"rb\")\n",
    "    print(\"#Loading \" + seqfile + \" ...\")\n",
    "    for line in fp:\n",
    "        (label, sequence)=line.split()\n",
    "        seqs[label]=sequence\n",
    "    fp.close()\n",
    "    print(\"#Loaded \" + str(len(seqs.keys())) + \" sequences from \" + seqfile)\n",
    "    return seqs"
   ]
  },
  {
   "cell_type": "code",
   "execution_count": null,
   "metadata": {
    "collapsed": true
   },
   "outputs": [],
   "source": [
    "def rename(label):\n",
    "    match=re.match('.*_(chr.*)$',label)\n",
    "    if match:\n",
    "        return match.group(1)\n",
    "    else:\n",
    "        return \"\""
   ]
  },
  {
   "cell_type": "code",
   "execution_count": null,
   "metadata": {},
   "outputs": [],
   "source": [
    "data_filename_positive = \"/users/eprakash/projects/benchmarking/newdata/SPI1_in_K562/SPI1.pos.summits.implanted.bed.gz\"\n",
    "data_filename_negative = \"/users/eprakash/projects/benchmarking/newdata/SPI1_in_K562/SPI1.neg.summits.implanted.bed.gz\"\n",
    "labeled_sequences = load_sequences_from_bedfile(data_filename_positive)\n",
    "neg_seqs = load_sequences_from_bedfile(data_filename_negative)\n",
    "labeled_sequences.update(neg_seqs)\n",
    "sequences={}\n",
    "for (label,seq) in labeled_sequences.items():\n",
    "    sequences.update({rename(label):seq})"
   ]
  },
  {
   "cell_type": "markdown",
   "metadata": {},
   "source": [
    "#### Select random 5 sequences for motif"
   ]
  },
  {
   "cell_type": "code",
   "execution_count": null,
   "metadata": {},
   "outputs": [],
   "source": [
    "from random import *\n",
    "motif='CTTCCTTYCT'\n",
    "motif_seqs=[value[0] for value in motif_id_to_hit_locations[motif]]\n",
    "random_indices=[randint(0,len(motif_seqs)) for i in range(0,5)]\n",
    "print (random_indices)\n",
    "selected_seqs=[motif_seqs[i] for i in random_indices]\n",
    "print (selected_seqs)"
   ]
  },
  {
   "cell_type": "markdown",
   "metadata": {},
   "source": [
    "#### Onehot encode"
   ]
  },
  {
   "cell_type": "code",
   "execution_count": null,
   "metadata": {},
   "outputs": [],
   "source": [
    "def one_hot_encode_along_channel_axis(sequence):\n",
    "    to_return = np.zeros((len(sequence),4), dtype=np.int8)\n",
    "    seq_to_one_hot_fill_in_array(zeros_array=to_return,\n",
    "                                 sequence=sequence, one_hot_axis=1)\n",
    "    return to_return\n",
    "\n",
    "def seq_to_one_hot_fill_in_array(zeros_array, sequence, one_hot_axis):\n",
    "    assert one_hot_axis==0 or one_hot_axis==1\n",
    "    if (one_hot_axis==0):\n",
    "        assert zeros_array.shape[1] == len(sequence)\n",
    "    elif (one_hot_axis==1): \n",
    "        assert zeros_array.shape[0] == len(sequence)\n",
    "    #will mutate zeros_array\n",
    "    for (i,char) in enumerate(sequence):\n",
    "        if (char==\"A\" or char==\"a\"):\n",
    "            char_idx = 0\n",
    "        elif (char==\"C\" or char==\"c\"):\n",
    "            char_idx = 1\n",
    "        elif (char==\"G\" or char==\"g\"):\n",
    "            char_idx = 2\n",
    "        elif (char==\"T\" or char==\"t\"):\n",
    "            char_idx = 3\n",
    "        elif (char==\"N\" or char==\"n\"):\n",
    "            continue #leave that pos as all 0's\n",
    "        else:\n",
    "            raise RuntimeError(\"Unsupported character: \"+str(char))\n",
    "        if (one_hot_axis==0):\n",
    "            zeros_array[char_idx,i] = 1\n",
    "        elif (one_hot_axis==1):\n",
    "            zeros_array[i,char_idx] = 1\n",
    "#sequences = sequences[-5000:]            \n",
    "onehot_data = np.array([one_hot_encode_along_channel_axis(sequences[select_seq]) for select_seq in selected_seqs])"
   ]
  },
  {
   "cell_type": "code",
   "execution_count": null,
   "metadata": {},
   "outputs": [],
   "source": [
    "print (onehot_data.shape)"
   ]
  },
  {
   "cell_type": "markdown",
   "metadata": {},
   "source": [
    "#### Get relevant scores"
   ]
  },
  {
   "cell_type": "code",
   "execution_count": null,
   "metadata": {},
   "outputs": [],
   "source": [
    "selected_relevant_indices_list=[list(labels).index(seq) for seq in selected_seqs]\n",
    "selected_rescale_conv_scores=get_relevant_scores(selected_relevant_indices_list, original_rescale_conv_scores, seq_len)\n",
    "print (selected_rescale_conv_scores.shape)"
   ]
  },
  {
   "cell_type": "code",
   "execution_count": null,
   "metadata": {},
   "outputs": [],
   "source": [
    "def split_sequence_by_motif_name(motif_name, list_of_dicts):\n",
    "    list_with_motif = list()\n",
    "    list_without_motif = list()\n",
    "    for one_motif_occurrence in list_of_dicts:\n",
    "        full_motif = one_motif_occurrence['motif']\n",
    "        essential_motif = re.match('(\\d+)-(\\w+)-(\\d+)',full_motif).group(2)\n",
    "        if essential_motif == motif_name:\n",
    "            list_with_motif.append(one_motif_occurrence)\n",
    "        else:\n",
    "            list_without_motif.append(one_motif_occurrence)\n",
    "    return (list_with_motif, list_without_motif)"
   ]
  },
  {
   "cell_type": "markdown",
   "metadata": {},
   "source": [
    "#### Visualization"
   ]
  },
  {
   "cell_type": "code",
   "execution_count": null,
   "metadata": {},
   "outputs": [],
   "source": [
    "%matplotlib inline\n",
    "from deeplift.visualization import viz_sequence\n",
    "for i in range(0,len(selected_seqs)):\n",
    "    scores=selected_grad_times_input_scores[i]\n",
    "    seq_id=selected_seqs[i]\n",
    "    print(seq_id)\n",
    "    (list_with_motif, list_without_motif)=split_sequence_by_motif_name(motif, motif_matches[seq_id])\n",
    "    viz_sequence.plot_weights(onehot_data[i]*scores[:, None], subticks_frequency=10, highlight={'blue':[(seq_info['begin'],seq_info['end']) for seq_info in list_with_motif]})\n",
    "    viz_sequence.plot_weights(onehot_data[i]*scores[:, None], subticks_frequency=10, highlight={'red':[(seq_info['begin'],seq_info['end']) for seq_info in list_without_motif]})"
   ]
  },
  {
   "cell_type": "code",
   "execution_count": null,
   "metadata": {},
   "outputs": [],
   "source": [
    "pwm = np.array([[0.036,0.170,0.033,0.761],[0.001,0.635,0.125,0.239],[0.031,0.128,0.004,0.837],[0.001,0.676,0.166,0.157],\n",
    "                [0.058,0.113,0.040,0.789],[0.007,0.676,0.207,0.110],[0.007,0.125,0.001,0.867],[0.001,0.660,0.206,0.133],\n",
    "                [0.005,0.186,0.001,0.808],[0.001,0.607,0.241,0.151],[0.054,0.231,0.006,0.709],[0.025,0.540,0.217,0.218]])\n",
    "print (pwm.shape)"
   ]
  },
  {
   "cell_type": "code",
   "execution_count": null,
   "metadata": {},
   "outputs": [],
   "source": [
    "%matplotlib inline\n",
    "from deeplift.visualization import viz_sequence\n",
    "viz_sequence.plot_weights(pwm, subticks_frequency=10)"
   ]
  },
  {
   "cell_type": "code",
   "execution_count": null,
   "metadata": {
    "collapsed": true
   },
   "outputs": [],
   "source": []
  }
 ],
 "metadata": {
  "anaconda-cloud": {},
  "kernelspec": {
   "display_name": "Python 2",
   "language": "python",
   "name": "python2"
  },
  "language_info": {
   "codemirror_mode": {
    "name": "ipython",
    "version": 2
   },
   "file_extension": ".py",
   "mimetype": "text/x-python",
   "name": "python",
   "nbconvert_exporter": "python",
   "pygments_lexer": "ipython2",
   "version": "2.7.12"
  }
 },
 "nbformat": 4,
 "nbformat_minor": 2
}
