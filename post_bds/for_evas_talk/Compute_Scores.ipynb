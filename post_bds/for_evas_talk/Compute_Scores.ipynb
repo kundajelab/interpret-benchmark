{
 "cells": [
  {
   "cell_type": "code",
   "execution_count": 1,
   "metadata": {},
   "outputs": [
    {
     "name": "stderr",
     "output_type": "stream",
     "text": [
      "Using TensorFlow backend.\n"
     ]
    }
   ],
   "source": [
    "import numpy as np\n",
    "import h5py\n",
    "import keras\n",
    "from collections import OrderedDict"
   ]
  },
  {
   "cell_type": "code",
   "execution_count": 2,
   "metadata": {},
   "outputs": [
    {
     "name": "stdout",
     "output_type": "stream",
     "text": [
      "4\r\n"
     ]
    }
   ],
   "source": [
    "!echo $CUDA_VISIBLE_DEVICES"
   ]
  },
  {
   "cell_type": "code",
   "execution_count": 22,
   "metadata": {},
   "outputs": [],
   "source": [
    "celltype_to_corefiles = {\n",
    "    'HepG2': {\n",
    "        'modeljson': '/users/eprakash/projects/benchmarking/newdata/HepG2/models/deepseabeluga/momma_dragonn/examples/fasta_sequential_model/model_files/record_1_model_ppZZI_modelJson.json',\n",
    "        'modelweights': '/users/eprakash/projects/benchmarking/newdata/HepG2/models/deepseabeluga/momma_dragonn/examples/fasta_sequential_model/model_files/record_1_model_ppZZI_modelWeights.h5',\n",
    "        'valid_positive_set': '/users/eprakash/projects/benchmarking/newdata/HepG2/HepG2.summits.400bp.implanted.valid.bed.gz',\n",
    "        'valid_negative_set': '/users/eprakash/projects/benchmarking/newdata/HepG2/no_HepG2_universal_dnase.matched.valid.bed.gz'\n",
    "    },\n",
    "    'A549': {\n",
    "        'modeljson': '/users/eprakash/projects/benchmarking/newdata/A549/models/deepseabeluga/momma_dragonn/examples/fasta_sequential_model/model_files/record_1_model_ugaHs_modelJson.json',\n",
    "        'modelweights': '/users/eprakash/projects/benchmarking/newdata/A549/models/deepseabeluga/momma_dragonn/examples/fasta_sequential_model/model_files/record_1_model_ugaHs_modelWeights.h5',\n",
    "        'valid_positive_set': '/users/eprakash/projects/benchmarking/newdata/A549/A549.summits.400bp.implanted.train.bed.gz',\n",
    "        'valid_negative_set': '/users/eprakash/projects/benchmarking/newdata/A549/no_A549_universal_dnase.matched.valid.bed.gz'\n",
    "    },\n",
    "    'H1ESC': {\n",
    "        'modeljson': '/users/eprakash/projects/benchmarking/newdata/H1ESC/models/deepseabeluga/momma_dragonn/examples/fasta_sequential_model/model_files/record_1_model_rjU3H_modelJson.json',\n",
    "        'modelweights': '/users/eprakash/projects/benchmarking/newdata/H1ESC/models/deepseabeluga/momma_dragonn/examples/fasta_sequential_model/model_files/record_1_model_rjU3H_modelWeights.h5',\n",
    "        'valid_positive_set': '/users/eprakash/projects/benchmarking/newdata/H1ESC/H1ESC.summits.400bp.implanted.valid.bed.gz',\n",
    "        'valid_negative_set': '/users/eprakash/projects/benchmarking/newdata/H1ESC/no_H1ESC_universal_dnase.matched.valid.bed.gz'\n",
    "    },\n",
    "    'K562': {\n",
    "        'modeljson': '/users/eprakash/git/momma_dragonn/examples/fasta_sequential_model/model_files/oldmodels/record_4_model_4W8mu_modelJson.json',\n",
    "        'modelweights': '/users/eprakash/git/momma_dragonn/examples/fasta_sequential_model/model_files/oldmodels/record_4_model_4W8mu_modelWeights.h5',\n",
    "        'valid_positive_set': '/users/eprakash/projects/benchmarking/newdata/deepsea_K562/K562.pos.summits.valid.implanted.bed.gz',\n",
    "        'valid_negative_set': '/users/eprakash/projects/benchmarking/newdata/deepsea_K562/K562.neg.summits.valid.implanted.bed.gz'\n",
    "    }\n",
    "}"
   ]
  },
  {
   "cell_type": "code",
   "execution_count": 29,
   "metadata": {},
   "outputs": [],
   "source": [
    "import keras\n",
    "import gzip\n",
    "\n",
    "\n",
    "def load_keras_model(modeljson, modelweights):\n",
    "    model = keras.models.model_from_json(open(modeljson).read())\n",
    "    model.load_weights(modelweights)\n",
    "    return model\n",
    "\n",
    "    \n",
    "def onehot_encode(seqs):\n",
    "    ltr = {'A': [1,0,0,0], 'C': [0,1,0,0], 'G': [0,0,1,0], 'T': [0,0,0,1], 'N': [0,0,0,0]}\n",
    "    return np.array([[ltr[x] for x in seq.upper()] for seq in seqs])\n",
    "\n",
    "\n",
    "def load_seqs_and_onehot(sequences_file):\n",
    "    seqids = []\n",
    "    seqs = []\n",
    "    for line in gzip.open(sequences_file):\n",
    "        seqid, seq = line.decode(\"utf-8\").rstrip().split(\"\\t\")\n",
    "        seqids.append(seqid)\n",
    "        seqs.append(seq)\n",
    "    onehotseqs = onehot_encode(seqs)\n",
    "    return seqids, seqs, onehotseqs\n",
    "\n"
   ]
  },
  {
   "cell_type": "code",
   "execution_count": 68,
   "metadata": {},
   "outputs": [
    {
     "name": "stdout",
     "output_type": "stream",
     "text": [
      "On cell type H1ESC\n",
      "nonlinear_mxts_mode is set to: DeepLIFT_GenomicsDefault\n",
      "For layer 1 the preceding linear layer is 0 of type Conv1D;\n",
      "In accordance with nonlinear_mxts_mode=DeepLIFT_GenomicsDefault we are setting the NonlinearMxtsMode to Rescale\n",
      "For layer 3 the preceding linear layer is 2 of type Conv1D;\n",
      "In accordance with nonlinear_mxts_mode=DeepLIFT_GenomicsDefault we are setting the NonlinearMxtsMode to Rescale\n",
      "Heads-up: current implementation assumes maxpool layer is followed by a linear transformation (conv/dense layer)\n",
      "For layer 7 the preceding linear layer is 6 of type Conv1D;\n",
      "In accordance with nonlinear_mxts_mode=DeepLIFT_GenomicsDefault we are setting the NonlinearMxtsMode to Rescale\n",
      "For layer 9 the preceding linear layer is 8 of type Conv1D;\n",
      "In accordance with nonlinear_mxts_mode=DeepLIFT_GenomicsDefault we are setting the NonlinearMxtsMode to Rescale\n",
      "Heads-up: current implementation assumes maxpool layer is followed by a linear transformation (conv/dense layer)\n",
      "For layer 13 the preceding linear layer is 12 of type Conv1D;\n",
      "In accordance with nonlinear_mxts_mode=DeepLIFT_GenomicsDefault we are setting the NonlinearMxtsMode to Rescale\n",
      "For layer 15 the preceding linear layer is 14 of type Conv1D;\n",
      "In accordance with nonlinear_mxts_mode=DeepLIFT_GenomicsDefault we are setting the NonlinearMxtsMode to Rescale\n",
      "For layer 18 the preceding linear layer is 17 of type Dense;\n",
      "In accordance with nonlinear_mxts_modeDeepLIFT_GenomicsDefault we are setting the NonlinearMxtsMode to RevealCancel\n",
      "Heads-up: I assume sigmoid is the output layer, not an intermediate one; if it's an intermediate layer then please bug me and I will implement the grad func\n",
      "For layer 20 the preceding linear layer is 19 of type Dense;\n",
      "In accordance with nonlinear_mxts_modeDeepLIFT_GenomicsDefault we are setting the NonlinearMxtsMode to RevealCancel\n",
      "nonlinear_mxts_mode is set to: Rescale\n",
      "Heads-up: current implementation assumes maxpool layer is followed by a linear transformation (conv/dense layer)\n",
      "Heads-up: current implementation assumes maxpool layer is followed by a linear transformation (conv/dense layer)\n",
      "Heads-up: I assume sigmoid is the output layer, not an intermediate one; if it's an intermediate layer then please bug me and I will implement the grad func\n",
      "Done 0\n",
      "Done 10000\n",
      "Done 0\n",
      "Done 10000\n",
      "avg prec 0.9343741568592794\n",
      "roc auc 0.953507430701135\n"
     ]
    }
   ],
   "source": [
    "import deeplift\n",
    "from deeplift.conversion import kerasapi_conversion as kc\n",
    "from sklearn.metrics import roc_auc_score, average_precision_score\n",
    "import numpy as np\n",
    "import sys\n",
    "\n",
    "celltypes = ['H1ESC']\n",
    "\n",
    "num_to_make_preds_on = 5000\n",
    "\n",
    "for celltype in celltypes:\n",
    "    print(\"On cell type\",celltype)\n",
    "    sys.stdout.flush()\n",
    "    corefiles = celltype_to_corefiles[celltype]\n",
    "    keras.backend.clear_session()\n",
    "    \n",
    "    deeplift_genomicsdefault_model =\\\n",
    "        kc.convert_model_from_saved_files(\n",
    "            json_file=corefiles['modeljson'],\n",
    "            h5_file=corefiles['modelweights'],\n",
    "            nonlinear_mxts_mode=deeplift.layers.NonlinearMxtsMode.DeepLIFT_GenomicsDefault) \n",
    "    deeplift_rescale_model =\\\n",
    "        kc.convert_model_from_saved_files(\n",
    "            json_file=corefiles['modeljson'],\n",
    "            h5_file=corefiles['modelweights'],\n",
    "            nonlinear_mxts_mode=deeplift.layers.NonlinearMxtsMode.Rescale) \n",
    "    pred_func = deeplift.util.compile_func(\n",
    "    inputs=[deeplift_genomicsdefault_model.get_layers()[0].get_activation_vars()],\n",
    "    outputs=deeplift_genomicsdefault_model.get_layers()[-2].get_activation_vars()[:,0])\n",
    "    \n",
    "    (pos_seqids, pos_seqs, pos_onehotseqs) = (\n",
    "        load_seqs_and_onehot(sequences_file=corefiles['valid_positive_set']))\n",
    "    (neg_seqids, neg_seqs, neg_onehotseqs) = (\n",
    "        load_seqs_and_onehot(sequences_file=corefiles['valid_negative_set']))\n",
    "    \n",
    "    pos_preds = np.array(deeplift.util.run_function_in_batches(pred_func,\n",
    "                            input_data_list=[pos_onehotseqs],\n",
    "                            batch_size=200,\n",
    "                            progress_update=10000))\n",
    "    neg_preds = np.array(deeplift.util.run_function_in_batches(pred_func,\n",
    "                            input_data_list=[neg_onehotseqs],\n",
    "                            batch_size=200,\n",
    "                            progress_update=10000))\n",
    "    \n",
    "    y_true = [1 for x in pos_preds]+[0 for x in neg_preds]\n",
    "    y_score = list(pos_preds)+list(neg_preds)\n",
    "    \n",
    "    print(\"avg prec\", average_precision_score(y_true=y_true,\n",
    "                                              y_score=y_score))\n",
    "    sys.stdout.flush()\n",
    "    print(\"roc auc\", roc_auc_score(y_true=y_true, y_score=y_score))\n",
    "    sys.stdout.flush()\n",
    "    \n",
    "    seqids_top_pred_positives = sorted(enumerate(zip(pos_seqids, pos_preds)),\n",
    "        key=lambda x: -x[1][1])[:num_to_make_preds_on]\n",
    "    open(celltype+\"_toppredpos.txt\",'w').write(\n",
    "        \"\\n\".join(x[1][0] for x in seqids_top_pred_positives))\n",
    "    \n",
    "    print(\"Prediction on avg pos:\", np.mean(pos_preds))\n",
    "    print(\"Prediction on avg neg:\", np.mean(neg_pred))\n",
    "    print(\"Prediction on all zeros:\", pred_func([np.zeros((1,1000,4))]))\n",
    "    avgpos_gcref = np.mean(pos_onehotseqs, axis=0, keepdims=True)\n",
    "    print(\"Prediction on avg gc of pos:\", pred_func([avgpos_gcref]))\n",
    "    avgneg_gcref = np.mean(neg_onehotseqs, axis=0, keepdims=True)\n",
    "    print(\"Prediction on avg gc of neg:\", pred_func([avgneg_gcref]))\n",
    "    \n",
    "\n",
    "    "
   ]
  },
  {
   "cell_type": "code",
   "execution_count": 77,
   "metadata": {},
   "outputs": [
    {
     "name": "stdout",
     "output_type": "stream",
     "text": [
      "Prediction on avg pos: 7.6369276\n",
      "Prediction on avg neg: -6.5960503\n",
      "Prediction on all zeros: [-6.4120007]\n",
      "Prediction on avg gc of pos: [-6.561149]\n",
      "Prediction on avg gc of neg: [-6.561149]\n"
     ]
    }
   ],
   "source": [
    "print(\"Prediction on avg pos:\", np.mean(pos_preds))\n",
    "print(\"Prediction on avg neg:\", np.mean(neg_preds))\n",
    "print(\"Prediction on all zeros:\", pred_func([np.zeros((1,400,4))]))\n",
    "avgpos_gcref = np.mean(pos_onehotseqs, axis=(0,1))[None,None,:]*np.ones((1,400,4))\n",
    "print(\"Prediction on avg gc of pos:\", pred_func([avgpos_gcref]))\n",
    "avgneg_gcref = np.mean(neg_onehotseqs, axis=(0,1))[None,None,:]*np.ones((1,400,4))\n",
    "print(\"Prediction on avg gc of neg:\", pred_func([avgneg_gcref]))"
   ]
  },
  {
   "cell_type": "code",
   "execution_count": 87,
   "metadata": {},
   "outputs": [],
   "source": [
    "gcdist_pos = np.sum(np.mean(pos_onehotseqs,axis=1)[:,[1,2]], axis=-1)\n",
    "gcdist_neg = np.sum(np.mean(neg_onehotseqs,axis=1)[:,[1,2]], axis=-1)"
   ]
  },
  {
   "cell_type": "code",
   "execution_count": 89,
   "metadata": {},
   "outputs": [
    {
     "data": {
      "image/png": "[encoded data removed]",
      "text/plain": [
       "<Figure size 432x288 with 1 Axes>"
      ]
     },
     "metadata": {
      "needs_background": "light"
     },
     "output_type": "display_data"
    }
   ],
   "source": [
    "%matplotlib inline\n",
    "from matplotlib import pyplot as plt\n",
    "plt.hist(gcdist_pos, bins=20, alpha=0.5)\n",
    "plt.hist(gcdist_neg, bins=20, alpha=0.5)\n",
    "plt.show()"
   ]
  },
  {
   "cell_type": "code",
   "execution_count": 82,
   "metadata": {},
   "outputs": [
    {
     "data": {
      "text/plain": [
       "array([[[0.21634415, 0.28420917, 0.2846407 , 0.21480585],\n",
       "        [0.21634415, 0.28420917, 0.2846407 , 0.21480585],\n",
       "        [0.21634415, 0.28420917, 0.2846407 , 0.21480585],\n",
       "        ...,\n",
       "        [0.21634415, 0.28420917, 0.2846407 , 0.21480585],\n",
       "        [0.21634415, 0.28420917, 0.2846407 , 0.21480585],\n",
       "        [0.21634415, 0.28420917, 0.2846407 , 0.21480585]]])"
      ]
     },
     "execution_count": 82,
     "metadata": {},
     "output_type": "execute_result"
    }
   ],
   "source": [
    "avgpos_gcref"
   ]
  },
  {
   "cell_type": "code",
   "execution_count": null,
   "metadata": {},
   "outputs": [],
   "source": [
    "\n",
    "\n",
    "def run_interpretation_methods(sequences, preact_model,\n",
    "                               modeljson, modelweights):\n",
    "    "
   ]
  },
  {
   "cell_type": "code",
   "execution_count": 62,
   "metadata": {},
   "outputs": [],
   "source": [
    "#identify a subset of 5000 sequences on which to run imp scoring\n",
    "\n",
    "toppredpos_indices = [x[0] for x in seqids_top_pred_positives]\n",
    "subset_pos_onehot = pos_onehotseqs[toppredpos_indices]\n",
    "\n",
    "#run the different interpretation methods on subset_pos_onehot\n",
    "\n"
   ]
  },
  {
   "cell_type": "code",
   "execution_count": 51,
   "metadata": {},
   "outputs": [
    {
     "name": "stdout",
     "output_type": "stream",
     "text": [
      "_________________________________________________________________\n",
      "Layer (type)                 Output Shape              Param #   \n",
      "=================================================================\n",
      "conv1d_1 (Conv1D)            (None, 393, 320)          10560     \n",
      "_________________________________________________________________\n",
      "activation_1 (Activation)    (None, 393, 320)          0         \n",
      "_________________________________________________________________\n",
      "conv1d_2 (Conv1D)            (None, 386, 320)          819520    \n",
      "_________________________________________________________________\n",
      "activation_2 (Activation)    (None, 386, 320)          0         \n",
      "_________________________________________________________________\n",
      "dropout_1 (Dropout)          (None, 386, 320)          0         \n",
      "_________________________________________________________________\n",
      "max_pooling1d_1 (MaxPooling1 (None, 96, 320)           0         \n",
      "_________________________________________________________________\n",
      "conv1d_3 (Conv1D)            (None, 89, 480)           1229280   \n",
      "_________________________________________________________________\n",
      "activation_3 (Activation)    (None, 89, 480)           0         \n",
      "_________________________________________________________________\n",
      "conv1d_4 (Conv1D)            (None, 82, 480)           1843680   \n",
      "_________________________________________________________________\n",
      "activation_4 (Activation)    (None, 82, 480)           0         \n",
      "_________________________________________________________________\n",
      "dropout_2 (Dropout)          (None, 82, 480)           0         \n",
      "_________________________________________________________________\n",
      "max_pooling1d_2 (MaxPooling1 (None, 20, 480)           0         \n",
      "_________________________________________________________________\n",
      "conv1d_5 (Conv1D)            (None, 13, 640)           2458240   \n",
      "_________________________________________________________________\n",
      "activation_5 (Activation)    (None, 13, 640)           0         \n",
      "_________________________________________________________________\n",
      "conv1d_6 (Conv1D)            (None, 6, 640)            3277440   \n",
      "_________________________________________________________________\n",
      "activation_6 (Activation)    (None, 6, 640)            0         \n",
      "_________________________________________________________________\n",
      "dropout_3 (Dropout)          (None, 6, 640)            0         \n",
      "_________________________________________________________________\n",
      "flatten_1 (Flatten)          (None, 3840)              0         \n",
      "_________________________________________________________________\n",
      "dense_1 (Dense)              (None, 1000)              3841000   \n",
      "_________________________________________________________________\n",
      "act1 (Activation)            (None, 1000)              0         \n",
      "_________________________________________________________________\n",
      "d1 (Dense)                   (None, 1)                 1001      \n",
      "_________________________________________________________________\n",
      "output (Activation)          (None, 1)                 0         \n",
      "=================================================================\n",
      "Total params: 13,480,721\n",
      "Trainable params: 13,480,721\n",
      "Non-trainable params: 0\n",
      "_________________________________________________________________\n"
     ]
    }
   ],
   "source": [
    "keras_model.summary()"
   ]
  },
  {
   "cell_type": "code",
   "execution_count": 63,
   "metadata": {},
   "outputs": [
    {
     "data": {
      "text/plain": [
       "5000"
      ]
     },
     "execution_count": 63,
     "metadata": {},
     "output_type": "execute_result"
    }
   ],
   "source": [
    "len(subset_pos_onehot)"
   ]
  },
  {
   "cell_type": "code",
   "execution_count": 50,
   "metadata": {},
   "outputs": [
    {
     "data": {
      "text/plain": [
       "23526"
      ]
     },
     "execution_count": 50,
     "metadata": {},
     "output_type": "execute_result"
    }
   ],
   "source": [
    "sum(pos_preds==1.0)"
   ]
  },
  {
   "cell_type": "code",
   "execution_count": 15,
   "metadata": {},
   "outputs": [
    {
     "name": "stdout",
     "output_type": "stream",
     "text": [
      "/users/eprakash/projects/benchmarking/notebooks/momma_dragonn/gm12878_model_architecture.json\r\n",
      "/users/eprakash/projects/benchmarking/notebooks/momma_dragonn/gm12878_weights.h5\r\n"
     ]
    }
   ],
   "source": [
    "!ls /users/eprakash/projects/benchmarking/notebooks/momma_dragonn/gm12878*"
   ]
  },
  {
   "cell_type": "code",
   "execution_count": 17,
   "metadata": {},
   "outputs": [
    {
     "name": "stdout",
     "output_type": "stream",
     "text": [
      "dinuc_shuffled_motifs_implanted_chr10:34716976-34717376\tACAGACCCAGGAGGAATGATTATCCTTGAAATTGGCTCCTTCCTCAAAGTAATTCCCATGAATCTAGAAAACCTCTCTGAAAGAGCTTAGCTGCTAGATCACTTAGAAATGGACTCTATAAAGAGCCCCTCATCTTGCCCAAGTTCAAGTAATTTACTCTCGTGCCCAGTCAAAAGCAGGGAACCTAGCAGGAGCAACAAGTTGCTTTCAAGAACCCAAGGCTGCCTGGAATTATCCACCAAATGAAATGGCTAAGCAGTGTCCTTACTACTGGAAACCAATGACCAGTTACCTGCTTTTCCGCACAACAAGTCAAAGAGATAGTATTCCCCTCATCATCATCGTAAAACACTTATACATACAAGACTAAACAATCAAAATGTCAATAAAATGAAACCTC\r\n",
      "dinuc_shuffled_motifs_implanted_chr10:32190897-32191297\tAGATATATGTGACATTATTAAAGATAAACATGAAACTGGTCAAACCAGCTTTCATTATATGAACAGTAACAATCCCTCTAGAAGTCCAGAGTAGAAATGATTATTTATATTTCAAACTCAAATTCATTGGCTAGAACAAGAAATGAACCTGGAATTAGTGCCCAAAGATAATCACAGGTTAGGCAAAAATACAAAAAGTTTTAACTTGTGCCAAAACAAGGAAAATaacagaatTAGGGATAcagaaataGAAGCTTCCATACAACACAGGAGCCCTAAATCTTTTTAATTACACGAAGACCAAATGCTAAGGAGGGATTAAATGGATAGACCTATTCAAGCTACTTCCAGAAAATAATAAAGAAATCAGGGAAAGGGGTACCATAATTTAAGCTCACCT\r\n",
      "dinuc_shuffled_motifs_implanted_chr10:30639954-30640354\tCTGGTTCCCAGTTATCTTAAGTTATTAATTGTATTGTCGGCCATAGAAACCAGTTGTGGATTGAGGCAGTTTTTATTGTTCTGAGTTGCTTAGCCTATTATACACTCATTCCCTTTGTGGCAAAAGCCTGGCGGTTCACCCTGGTGACGCAACTTACAGATTGAACGCCTTGAATGAGGGAGGCCCATCAGGAAGACTTTTGTCCTCCTTTCAGACTCCGAGTGGCATCATGGCAGCTTACTCTCAGTCTAACCAGGCCATTAGGATTGCCAAACTTGATattttcgtGATGAACTTCCTTTAGATAATTCTGGTCAAGGCTGGTTTAGCAGCTTTGGTCCCGATTGGTAGGTGATTGCCAAGCATCCCGACCTTTTCTCAGTTTTTCTTCTTGGCAGCC\r\n",
      "dinuc_shuffled_motifs_implanted_chr10:17742815-17743215\tTTAATCCCATTAATCAAATAGAATTTCTCAATGGATCGACATACAAGAAGGTTGAGATACTTGTATAAAATTATCATAAATTTTATGAGTTAATATGCCATAAAAACTAATTCTAAGTTCTATTTATGCTATTTGCCACTTAACATGATGCTACAAAAAACAGGTTGGTACGCTAATTTTCTATGAAGATTGTTGTTACATTACTCTACTTAAATTTCACTGTAAAATGTTTTAATTGGTCTATAAATGTGATAATTACTGTTTGAATTAACTGATATCATTTAGTTTAAATCCTTGAGTGTCAGATGATTCCTATAAAACCTACAATGTCACTATGGGCCAATTAAACATTTCATGATTATTTATCAAGCAGATGGTATTTGCTATTAACAACTTTGCA\r\n",
      "dinuc_shuffled_motifs_implanted_chr10:14196915-14197315\tGAATCCAATATGAGGAGGGGCAGAGTGGTAAGCACTGTTCATCTGAACGCCCATGCAGCTCACTTGCTGACTGTGTCTTGACTCCTGCTTGTCAGGGCAATGGCACTAACCAGCTCCCAGAATGCTCAGTGCCAAGCTGTATTATCCTTGTTGCTgcaagccaAAGACCGGGGGTGGAGTTGAgcaacccaAGCCCCAGGATCAAGTCACAGGTCCAGTAGACTACATGTTTACTGCCACATTGGGGAATCTAAGTGTTATGACTCTGCCTGGGTGACTTCTGTTAAAATCACCATTGGATGCAGCTGGAAGAGTTGTCACGGGACTCAGCTAGCCTGATCAGGAGCTTAACCAATTAACTCAATCATATTTGGGTGGAACAAAAAAGGACCTCACCATT\r\n",
      "dinuc_shuffled_motifs_implanted_chr10:124500682-124501082\tAGACATTATAGCAACCAATAAAATGGACACACACGGCTCTTAGGAGAAATAGGTTGTCAGTGAGTGATATGCTAAGAAAGGTCGAATGTGCATCTTCGACCTTGCACGGCTGGGGAAACAAGGCGCATGGGCCACCACTAATCTAACTTCATAATCAGAGAGTAAACCTTTAGATGAGCACCCAATGCTAGGAAAAGAGCCACCAGAACACCAGTTGTTCAAGGAGTCCAGTGGAATCCAAGAGGGCACACTCACAAACAGACAGCAAGAATATCCCTAACACTGATTTTGCACAAACAAAGTCTGAGGGATAAGGTGAGTTCGGCCGAGTGAGCAAGTTGGGAGTGCCTGAGTTTCATCATAGCAATATTCAACGGGAGACCACAGACCTTTAAAGAGG\r\n",
      "dinuc_shuffled_motifs_implanted_chr10:117804489-117804889\tTGAGGTTTTACTTGTGACCACCTTGTAGTTACAGGATCTTGCCAGGTTAAGTTGAGGTGGAGTTGACATGGACTAAGACAAAAAGGCAAAATGGTTGGCTCAATTTGCGGTAAAACTCTGGGAGTGGAGGCGCATGGATACCATTTCACAACTCCATGGCAGTGCATAGCCAAACTGTTAAAGAAGACCTGGTGGTCAGAAAACCTATGGTTGAAACTCAATTCGGATGGAGCTTTGAGGGCTTAGAAAATATTTGGTTCCGGTACTCCTATCTCACTGCTGTCTTCTCTCCTGACTTAAGAGTCTGTTTTTAATTTGGCGTTCACAGGGCAACAATTTAATAGCCCTTAGGTAGACGTAATGTTAATGGTGTTTAACCTATGCCAATGCACTGACCCAT\r\n",
      "dinuc_shuffled_motifs_implanted_chr9:3508637-3509037\tAGTGGACATCTGATCAAGGAAGGCAAATCTTCCACAGCACTTCCTTACACACATGCGTTTCTTCTTTAGGTATTTTGTGAGATCATTAGCAAGGAATTTTACATCCTATATTGGGACAGACACAACAGAGGGTATAAAACTCACATTCAACAAGGTAAAGATAACTTACTGGAAGTTCAAGAAACTTAACGAAAACCCTTCACAAATTGACTCACTTAGACACTTTACTAATTGACAAGAAATGAGAGAGGGGGTTTCAAGTGGTTATCTTTTGAGACTCATGCAGTTTTTGTCCCACAATCAAAGCTTGATTTATGCAAGTGAAGGAACCAGTAATGAGCCCAGATAGGTATTACCATAGCTCTTTGCAAACAACTGAATTCAGTTAAACATTAACACA\r\n",
      "dinuc_shuffled_motifs_implanted_chr3:143831229-143831629\tGAATCATTGTGTGGAATGGCCAATGATGGAGCTGTACAAGTTTCTGTTGGATAATTGTCTTTTAAATTTGCTAACCGAATTGGGTGAAGAGATCTTAGGTTTGTAAGAAAGTGGAAAGCCTGCAAGAGCGCAGCAGACAAACCAGGTGACGGAAGTGGTGTTTGAGATGGAGTTATCCAGATTGCAGTTTAGATTTACTGGGAGGTGTTGAGTGCCTAGTATGGCAACTGCTGTGTGGGGATGTGTACAGAAGCTAGTTGGTAACAGGGGAGAGAACTATAACAGAATGGTGGGAAAAAAGGTTTAAGGAGAAGCAGGGAGTTAAACATTACACTGTCCAATAACAGTAATCCATGTTTGATAAGCATAGAATTATGTTTGAAGATTTCAGTGGGTGAGA\r\n",
      "dinuc_shuffled_motifs_implanted_chr11:71978031-71978431\tAGGCACACTTGTACCTTTCCGTGTCAAAACCCACAACCCAGGATGCACCTCCCTCAGCTTGCTCAGTCACTTCCAACACTTTTGGGCTCCAGGCTGGAAAAGCCTGTCAAACATTTCATTATATTAGTTGCTATGTTTCTGCGCGGATCTCAATGCCTCAGTTATCTGAGGTTATCTCGGTGCAACCCTTTGGGTACCTGAGCTTTGAGACCCACTCCCCAGCAGTTTGACTGCTTTcaacaggcgccagccaCAAGTCAACTGTCCTTTCACTTTTTTTACTTGCTGCCTGGTTGAAGGTGCTGCTTCCGCTTGTAAGATGAAGTGGGCATTCATTTGGATTTCCTCACCCCTCTCCTATCAGAACTAGCACACTGTTCCCAGATCCCTGTGGAACCCT\r\n",
      "\r\n",
      "gzip: stdout: Broken pipe\r\n"
     ]
    }
   ],
   "source": [
    "!zcat /users/eprakash/projects/benchmarking/newdata/GM12878/GM12878.summits.implanted.valid.bed.gz | head"
   ]
  },
  {
   "cell_type": "code",
   "execution_count": 18,
   "metadata": {},
   "outputs": [
    {
     "name": "stdout",
     "output_type": "stream",
     "text": [
      "15-GTGACTRA-48070\tchr11:71978031-71978431\t14\t21\t-\t5.331139\tGTAGAAAC\r\n",
      "8-TGAAACYRNN-33212\tchr11:71978031-71978431\t16\t25\t+\t6.907642\tAGAAACTGAA\r\n",
      "8-CGAAACBGAACN-44096\tchr11:71978031-71978431\t16\t27\t+\t6.229017\tAGAAACTGAAAA\r\n",
      "2-TTTCRSTTCC-27032\tchr11:71978031-71978431\t17\t26\t-\t6.871742\tGAAACTGAAA\r\n",
      "4-BCGGTTTC-64319\tchr11:71978031-71978431\t17\t24\t-\t6.629700\tGAAACTGA\r\n",
      "4-TGGTTTCASTTY-6406\tchr11:71978031-71978431\t18\t29\t-\t9.549813\tAAACTGAAAAAA\r\n",
      "2-TTYCGSTT-28015\tchr11:71978031-71978431\t19\t26\t-\t5.425699\tAACTGAAA\r\n",
      "8-TGAAACYRNN-33213\tchr11:71978031-71978431\t196\t205\t+\t7.060089\tAGAAACCAGG\r\n",
      "4-BCGGTTTC-64320\tchr11:71978031-71978431\t197\t204\t-\t6.691214\tGAAACCAG\r\n",
      "4-GGGRRTTTYC-57722\tchr11:71978031-71978431\t204\t213\t+\t7.014103\tGGTAACTTCC\r\n",
      "11-GACGTNAC-20077\tchr11:71978031-71978431\t205\t212\t-\t5.232004\tGTAACTTC\r\n",
      "1-CACTTCCTSTTY-34125\tchr11:71978031-71978431\t207\t218\t+\t8.594434\tAACTTCCCCTTT\r\n",
      "1-RACCGGAAGT-34361\tchr11:71978031-71978431\t208\t217\t-\t7.404138\tACTTCCCCTT\r\n",
      "13-DRRGGSSRRR-21765\tchr11:71978031-71978431\t209\t218\t-\t6.607031\tCTTCCCCTTT\r\n",
      "2-TTYCGSTT-28016\tchr11:71978031-71978431\t210\t217\t+\t5.905484\tTTCCCCTT\r\n",
      "1-CGGAAGTG-39046\tchr11:71978031-71978431\t272\t279\t+\t6.490876\tAGGAACTG\r\n",
      "4-GGGRRTTTYC-57723\tchr11:71978031-71978431\t279\t288\t+\t6.084271\tGGGTCCTTCC\r\n",
      "4-GGGRRTTTYC-57724\tchr11:71978031-71978431\t295\t304\t+\t5.708642\tAGCTGCTTTC\r\n",
      "9-AVWAAVCSGC-53564\tchr11:71978031-71978431\t296\t305\t-\t6.437193\tGCTGCTTTCT\r\n",
      "14-WAGBCCGC-46516\tchr11:71978031-71978431\t296\t303\t-\t4.615496\tGCTGCTTT\r\n",
      "4-BCGGTTTC-64321\tchr11:71978031-71978431\t297\t304\t+\t5.690127\tCTGCTTTC\r\n",
      "13-TGACAGCH-48857\tchr11:71978031-71978431\t298\t305\t-\t6.820445\tTGCTTTCT\r\n",
      "1-RACCGGAAGT-34362\tchr11:71978031-71978431\t313\t322\t+\t6.238868\tAAGCAGAAGT\r\n",
      "13-TGACAGCH-48858\tchr11:71978031-71978431\t324\t331\t-\t7.265155\tGGCTTTCA\r\n",
      "8-CGTTTCAG-52494\tchr11:71978031-71978431\t358\t365\t-\t5.055541\tCTGAAAAT\r\n",
      "9-AVWAAVCSGC-53565\tchr11:71978031-71978431\t359\t368\t+\t4.547437\tTGAAAATGGC\r\n",
      "4-GGGRRTTTYC-57725\tchr11:71978031-71978431\t360\t369\t-\t6.976406\tGAAAATGGCC\r\n"
     ]
    }
   ],
   "source": [
    "!grep chr11:71978031-71978431 /users/eprakash/projects/benchmarking/newdata/GM12878/400bp/GM12878.motif.matches.txt"
   ]
  },
  {
   "cell_type": "code",
   "execution_count": null,
   "metadata": {},
   "outputs": [],
   "source": []
  }
 ],
 "metadata": {
  "kernelspec": {
   "display_name": "Python 3",
   "language": "python",
   "name": "python3"
  },
  "language_info": {
   "codemirror_mode": {
    "name": "ipython",
    "version": 3
   },
   "file_extension": ".py",
   "mimetype": "text/x-python",
   "name": "python",
   "nbconvert_exporter": "python",
   "pygments_lexer": "ipython3",
   "version": "3.7.3"
  }
 },
 "nbformat": 4,
 "nbformat_minor": 2
}
