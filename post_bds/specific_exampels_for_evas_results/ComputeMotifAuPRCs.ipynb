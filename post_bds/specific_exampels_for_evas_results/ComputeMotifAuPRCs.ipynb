{
 "cells": [
  {
   "cell_type": "code",
   "execution_count": 129,
   "metadata": {
    "scrolled": false
   },
   "outputs": [],
   "source": [
    "import numpy as np\n",
    "import h5py\n",
    "import keras\n",
    "from collections import OrderedDict\n",
    "\n",
    "celltype_to_corefiles = {   \n",
    "    'GM12878': {\n",
    "          'ism_scores_npy_file': \"/users/eprakash/projects/benchmarking/notebooks/momma_dragonn/ISM_adaptDeepSea_gm12878_pos.npy\",\n",
    "          'ism_scores_seqnames_file': \"/users/eprakash/projects/benchmarking/notebooks/momma_dragonn/ISM_scores_adaptDeepSea_GM12878_positive.labels.txt\",\n",
    "          'backpropscores_h5file': \"/users/eprakash/projects/benchmarking/notebooks/momma_dragonn/GM12878.adaptDeepSea.posIG.h5\",\n",
    "          'positive_sequences_file': \"/users/eprakash/projects/benchmarking/newdata/GM12878/400bp/GM12878.400bp.summits.implanted.bed.gz\",\n",
    "          'seqnames_used_for_ig_h5file': '/users/eprakash/projects/benchmarking/notebooks/momma_dragonn/top1kposlabels_GM12878_1kb',\n",
    "          'motifmatches_file': '/users/eprakash/projects/benchmarking/newdata/GM12878/400bp/GM12878.motif.matches.txt'\n",
    "    },\n",
    "    'A549': {\n",
    "        'ism_scores_npy_file':\"/users/eprakash/projects/benchmarking/newdata/A549/models/deepseabeluga/results/A549.deepseabeluga.ISM.scores.5Ksubsample.npy\",\n",
    "        'ism_scores_seqnames_file': \"/users/eprakash/projects/benchmarking/newdata/A549/models/deepseabeluga/results/ISM_deepseabeluga_A549_positive.labels.txt\",\n",
    "        'backpropscores_h5file': '/users/eprakash/projects/benchmarking/newdata/A549/models/deepseabeluga/results/A549.deepseabeluga.scores.5Ksubsample.h5',\n",
    "        'positive_sequences_file': \"/users/eprakash/projects/benchmarking/newdata/A549/A549.summits.400bp.implanted.5Ksubsample.bed.gz\",\n",
    "        'seqnames_used_for_ig_h5file': \"/users/eprakash/projects/benchmarking/newdata/A549/models/deepseabeluga/results/top1kposlabels_A549_1kb\",\n",
    "        'motifmatches_file': '/users/eprakash/projects/benchmarking/newdata/A549/A549.motif.matches.txt',\n",
    "        'variedrefs_h5file': '/users/eprakash/projects/benchmarking/newdata/A549/models/deepseabeluga/results/A549.deepseabeluga.scores.variedrefs.5Ksubsample.h5'\n",
    "    }\n",
    "}\n"
   ]
  },
  {
   "cell_type": "code",
   "execution_count": 130,
   "metadata": {},
   "outputs": [],
   "source": [
    "import h5py\n",
    "import numpy as np\n",
    "import gzip\n",
    "\n",
    "def onehot_encode(seqs):\n",
    "    ltr = {'A': [1,0,0,0], 'C': [0,1,0,0], 'G': [0,0,1,0], 'T': [0,0,0,1], 'N': [0,0,0,0]}\n",
    "    return np.array([[ltr[x] for x in seq.upper()] for seq in seqs])\n",
    "\n",
    "\n",
    "def get_indices_of_subset(superset_seqnames, subset_seqnames):\n",
    "    seqname_to_idx = dict([(x[1], x[0]) for x in enumerate(superset_seqnames)])\n",
    "    idx_ordering = [seqname_to_idx[x] for x in subset_seqnames]\n",
    "    return idx_ordering\n",
    "\n",
    "\n",
    "def load_posseqs(corefiles, pos_idx_ordering):\n",
    "    all_posseqs = [x.decode(\"utf-8\").rstrip().split(\"\\t\")[1]\n",
    "                   for x in gzip.open(corefiles['positive_sequences_file'])]\n",
    "    posseqs = [all_posseqs[idx] for idx in pos_idx_ordering]\n",
    "    return onehot_encode(posseqs), posseqs\n",
    "\n",
    "\n",
    "def load_ism_scores(method_to_scores, corefiles, onehot, ism_idx_ordering):\n",
    "    ism_scores_npy = corefiles['ism_scores_npy_file']\n",
    "    ism_scores = np.load(ism_scores_npy)[ism_idx_ordering]\n",
    "    #do some sanity checking\n",
    "    #i.e. make sure that the ism scores are one-hot masked according to the\n",
    "    # corresponding one-hot encoded sequence\n",
    "    assert np.max(np.abs(np.sum(ism_scores*onehot,axis=-1)-np.sum(ism_scores,axis=-1)))==0.0\n",
    "    method_to_scores['ism'] = np.sum(ism_scores,axis=-1)\n",
    "\n",
    "\n",
    "def load_ig_scores(method_to_scores, corefiles, ig_idx_ordering):\n",
    "    method_to_scores['ig10_multiref10'] = np.array(h5py.File(\n",
    "        corefiles['backpropscores_h5file'], \"r\")\n",
    "                 ['integrated_gradients10_multiref_10'][:]\n",
    "                 [ig_idx_ordering])\n",
    "\n",
    "\n",
    "def load_nonig_scores(method_to_scores, corefiles, nonig_idx_ordering):\n",
    "    h5pyfile = h5py.File(corefiles['backpropscores_h5file'], \"r\")\n",
    "    method_to_scores['gradtimesinp'] = h5pyfile['grad_times_inp'][:][nonig_idx_ordering]\n",
    "    method_to_scores['deeplift-RS_multiref10'] = h5pyfile['rescale_all_layers_multiref_10'][:][nonig_idx_ordering]\n",
    "    method_to_scores['deeplift-RC_multiref10'] = h5pyfile['rescale_conv_revealcancel_fc_multiref_10'][:][nonig_idx_ordering]\n",
    "\n",
    "\n",
    "def load_variedrefs_scores(method_to_scores, corefiles, variedrefs_idx_ordering):\n",
    "    #'rescale_all_layers_avg_gc_ref'\n",
    "    h5pyfile = h5py.File(corefiles['variedrefs_h5file'], \"r\")\n",
    "    method_to_scores['ig10_zeroref'] = h5pyfile['integrated_gradients10_all_zeros_ref'][:][variedrefs_idx_ordering]\n",
    "    method_to_scores['ig10_gcref'] = h5pyfile['integrated_gradients10_avg_gc_ref'][:][variedrefs_idx_ordering]\n",
    "    method_to_scores['deeplift-RS_zeroref'] = h5pyfile['rescale_all_layers_all_zeros_ref'][:][variedrefs_idx_ordering]\n",
    "    method_to_scores['deeplift-RS_gcref'] = h5pyfile['rescale_all_layers_avg_gc_ref'][:][variedrefs_idx_ordering]\n",
    "    \n",
    "\n",
    "def get_scores_for_common_sequences(corefiles):\n",
    "    corefiles = celltype_to_corefiles[celltype]\n",
    "    \n",
    "    #######\n",
    "    #Load all the seqnames\n",
    "    positives_seqnames = [x.decode(\"utf-8\").rstrip().split(\"\\t\")[0]\n",
    "                          for x in gzip.open(corefiles['positive_sequences_file'])]\n",
    "    ig_seqnames = [x.decode(\"utf-8\") for x in\n",
    "                   h5py.File(corefiles['seqnames_used_for_ig_h5file'])['labels'][:]]\n",
    "    nonig_backprop_seqnames = [\n",
    "        x.decode(\"utf-8\") for x in\n",
    "        h5py.File(corefiles['backpropscores_h5file'])['labels'][:]]\n",
    "    ism_seqnames = [\n",
    "        x.rstrip() for x in open(corefiles['ism_scores_seqnames_file'])]\n",
    "    all_seqnames = [ism_seqnames, nonig_backprop_seqnames, ig_seqnames]\n",
    "    if ('variedrefs_h5file' in corefiles):\n",
    "        variedrefs_seqnames = [x.decode(\"utf-8\") for x in\n",
    "                               h5py.File(corefiles['backpropscores_h5file'])['labels'][:]]\n",
    "        all_seqnames.append(variedrefs_seqnames)\n",
    "    \n",
    "    ########\n",
    "    #Figure out the common seqnames\n",
    "    common_seqnames = set(all_seqnames[0])\n",
    "    for seqnames in all_seqnames[1:]:\n",
    "        common_seqnames = common_seqnames.intersection(set(seqnames))\n",
    "    common_seqnames = sorted(list(common_seqnames))\n",
    "    assert len(common_seqnames) == min(len(x) for x in all_seqnames), (len(common_seqnames), [len(x) for x in all_seqnames])\n",
    "    print(\"Number of common seqnames:\",len(common_seqnames))\n",
    "    \n",
    "    ########\n",
    "    #Figure out the mapping from sequence to indices for the common seqnames\n",
    "    positives_idx_ordering = get_indices_of_subset(superset_seqnames=positives_seqnames,\n",
    "                                                   subset_seqnames=common_seqnames)\n",
    "    ism_idx_ordering = get_indices_of_subset(superset_seqnames=ism_seqnames,\n",
    "                                             subset_seqnames=common_seqnames)\n",
    "    ig_idx_ordering = get_indices_of_subset(superset_seqnames=ig_seqnames,\n",
    "                                            subset_seqnames=common_seqnames)\n",
    "    nonig_idx_ordering = get_indices_of_subset(superset_seqnames=nonig_backprop_seqnames,\n",
    "                                               subset_seqnames=common_seqnames)\n",
    "    if ('variedrefs_h5file' in corefiles):\n",
    "        variedrefs_idx_ordering = get_indices_of_subset(superset_seqnames=variedrefs_seqnames,\n",
    "                                                        subset_seqnames=common_seqnames)\n",
    "    \n",
    "    ########\n",
    "    #Load the data using the idx ordering\n",
    "    onehot_posseqs, posseqs = load_posseqs(corefiles=corefiles,\n",
    "                                           pos_idx_ordering=positives_idx_ordering)\n",
    "    method_to_scores = {}\n",
    "    load_ism_scores(method_to_scores=method_to_scores,\n",
    "                    corefiles=corefiles, onehot=onehot_posseqs,\n",
    "                    ism_idx_ordering=ism_idx_ordering)\n",
    "    load_ig_scores(method_to_scores=method_to_scores,\n",
    "                   corefiles=corefiles,\n",
    "                   ig_idx_ordering=ig_idx_ordering)\n",
    "    load_nonig_scores(method_to_scores=method_to_scores,\n",
    "                      corefiles=corefiles,\n",
    "                      nonig_idx_ordering=nonig_idx_ordering)\n",
    "    if ('variedrefs_h5file' in corefiles):\n",
    "        load_variedrefs_scores(method_to_scores=method_to_scores,\n",
    "                               corefiles=corefiles,\n",
    "                               variedrefs_idx_ordering=variedrefs_idx_ordering)\n",
    "    \n",
    "    return method_to_scores, onehot_posseqs, posseqs"
   ]
  },
  {
   "cell_type": "code",
   "execution_count": 131,
   "metadata": {},
   "outputs": [
    {
     "name": "stdout",
     "output_type": "stream",
     "text": [
      "Number of common seqnames: 1000\n"
     ]
    }
   ],
   "source": [
    "celltype = 'A549'\n",
    "#get the scores for the different methods for those common sequences\n",
    "method_to_scores, onehot_seqs, seqs =\\\n",
    "    get_scores_for_common_sequences(celltype_to_corefiles[celltype])\n"
   ]
  },
  {
   "cell_type": "code",
   "execution_count": 132,
   "metadata": {},
   "outputs": [
    {
     "data": {
      "text/plain": [
       "dict_keys(['ism', 'ig10_multiref10', 'gradtimesinp', 'deeplift-RS_multiref10', 'deeplift-RC_multiref10', 'ig10_zeroref', 'ig10_gcref', 'deeplift-RS_zeroref', 'deeplift-RS_gcref'])"
      ]
     },
     "execution_count": 132,
     "metadata": {},
     "output_type": "execute_result"
    }
   ],
   "source": [
    "method_to_scores.keys()"
   ]
  },
  {
   "cell_type": "code",
   "execution_count": 5,
   "metadata": {},
   "outputs": [],
   "source": [
    "import deeplift\n",
    "from deeplift.visualization import viz_sequence"
   ]
  },
  {
   "cell_type": "code",
   "execution_count": null,
   "metadata": {},
   "outputs": [],
   "source": []
  }
 ],
 "metadata": {
  "kernelspec": {
   "display_name": "Python 3",
   "language": "python",
   "name": "python3"
  },
  "language_info": {
   "codemirror_mode": {
    "name": "ipython",
    "version": 3
   },
   "file_extension": ".py",
   "mimetype": "text/x-python",
   "name": "python",
   "nbconvert_exporter": "python",
   "pygments_lexer": "ipython3",
   "version": "3.7.3"
  }
 },
 "nbformat": 4,
 "nbformat_minor": 2
}
