{
 "cells": [
  {
   "cell_type": "code",
   "execution_count": 1,
   "metadata": {},
   "outputs": [],
   "source": [
    "from __future__ import print_function\n",
    "import h5py\n",
    "import numpy as np\n",
    "import deeplift\n",
    "import evautils\n",
    "from scipy import stats\n",
    "from collections import OrderedDict, defaultdict\n",
    "import os\n",
    "from sklearn.metrics import (\n",
    "    roc_auc_score, average_precision_score,\n",
    "    roc_curve, precision_recall_curve)"
   ]
  },
  {
   "cell_type": "code",
   "execution_count": 2,
   "metadata": {},
   "outputs": [],
   "source": [
    "REGION_SIZE = 400\n",
    "INTERPOLATE = False\n",
    "POS_LABELS = '/users/eprakash/git/interpret-benchmark/data/dnase_positives/common_scripts/A549/sequences/top_10k_sim_positives.txt.gz'\n",
    "MOTIF_MATCHES='/users/eprakash/git/interpret-benchmark/data/dnase_positives/common_scripts/A549/sequences/reduced_sim_fimo_out/fimo.txt'\n",
    "SCORES = '/users/eprakash/git/interpret-benchmark/scripts/deepsea_beluga/A549/sim_pos_and_neg.h5'"
   ]
  },
  {
   "cell_type": "code",
   "execution_count": 3,
   "metadata": {},
   "outputs": [],
   "source": [
    "def load_fimo_motif_matches(motif_match_file, doprint=False):\n",
    "        motif_matches = OrderedDict()\n",
    "        fp = open(motif_match_file, \"r\")\n",
    "        if doprint:\n",
    "                print(\"#Loading \" + motif_match_file + \" ...\")\n",
    "        numlines = 0\n",
    "        fp.readline()\n",
    "        for line in fp:\n",
    "            line = line.split()\n",
    "            numlines = numlines + 1\n",
    "            motif = line[0]\n",
    "            sequence = line[1]\n",
    "            begin = int(line[2])\n",
    "            end = int(line[3])\n",
    "            strand = line[4]\n",
    "            seqval = line[8]\n",
    "            entry = dict()\n",
    "            entry['motif'] = motif\n",
    "            entry['sequence'] = sequence\n",
    "            entry['begin'] = begin-1 # Fimo motif match file is 1 indexed, convert to 0\n",
    "            entry['end'] = end # Fimo motif match file is 1 indexed AND inclusive, convert to 0 and exclusive\n",
    "            entry['strand'] = strand\n",
    "            entry['seqval'] = seqval\n",
    "            if sequence not in motif_matches:\n",
    "                motif_matches[sequence] = list()\n",
    "            motif_matches[sequence].append(entry)\n",
    "        fp.close()\n",
    "        if doprint:\n",
    "                print(\"#Loaded \" + str(numlines) + \" motif matches in \" + str(len(motif_matches.keys())) + \" sequences\")\n",
    "        return motif_matches"
   ]
  },
  {
   "cell_type": "code",
   "execution_count": 4,
   "metadata": {},
   "outputs": [],
   "source": [
    "from collections import OrderedDict\n",
    "import gzip\n",
    "import numpy as np\n",
    "def load_labels_from_bedfile(seqfile):\n",
    "    seqs = []\n",
    "    fp = gzip.open(seqfile, \"rb\")\n",
    "    print(\"#Loading \" + seqfile + \" ...\")\n",
    "    for line in fp:\n",
    "        line=line.decode('utf8').split()\n",
    "        seqs.append(line[0])\n",
    "    fp.close()\n",
    "    print(\"#Loaded \" + str(len(seqs)) + \" seqnames from \" + seqfile)\n",
    "    return np.array(seqs)"
   ]
  },
  {
   "cell_type": "code",
   "execution_count": 5,
   "metadata": {},
   "outputs": [
    {
     "name": "stdout",
     "output_type": "stream",
     "text": [
      "#Loading /users/eprakash/git/interpret-benchmark/data/dnase_positives/common_scripts/A549/sequences/top_10k_sim_positives.txt.gz ...\n",
      "#Loaded 10000 seqnames from /users/eprakash/git/interpret-benchmark/data/dnase_positives/common_scripts/A549/sequences/top_10k_sim_positives.txt.gz\n",
      "<KeysViewHDF5 ['deeplift-rcrs_ref:allzeros', 'deeplift-rcrs_ref:avgc', 'deeplift-rcrs_ref:shuff-10', 'deeplift-rcrs_ref:shuff-20', 'deeplift-rs_ref:allzeros', 'deeplift-rs_ref:avgc', 'deeplift-rs_ref:shuff-10', 'deeplift-rs_ref:shuff-20', 'gradtimesinp_ref:allzeros', 'ig-10_ref:shuff-10', 'ig-10_ref:shuff-20', 'ig-20_ref:shuff-10', 'ig-20_ref:shuff-20', 'ism', 'seqids']>\n"
     ]
    }
   ],
   "source": [
    "h5f = h5py.File(SCORES,'r')\n",
    "pos_labels = load_labels_from_bedfile(POS_LABELS)\n",
    "print(h5f.keys())"
   ]
  },
  {
   "cell_type": "code",
   "execution_count": 6,
   "metadata": {},
   "outputs": [],
   "source": [
    "deeplift_rcrs_allzeros_scores=np.array(h5f.get(\"deeplift-rcrs_ref:allzeros\"))\n",
    "deeplift_rcrs_avgc_scores=np.array(h5f.get(\"deeplift-rcrs_ref:avgc\"))\n",
    "deeplift_rcrs_shuff10_scores=np.array(h5f.get(\"deeplift-rcrs_ref:shuff-10\"))\n",
    "deeplift_rcrs_shuff20_scores=np.array(h5f.get(\"deeplift-rcrs_ref:shuff-20\"))\n",
    "\n",
    "deeplift_rs_allzeros_scores=np.array(h5f.get(\"deeplift-rs_ref:allzeros\"))\n",
    "deeplift_rs_avgc_scores=np.array(h5f.get(\"deeplift-rs_ref:avgc\"))\n",
    "deeplift_rs_shuff10_scores=np.array(h5f.get(\"deeplift-rs_ref:shuff-10\"))\n",
    "deeplift_rs_shuff20_scores=np.array(h5f.get(\"deeplift-rs_ref:shuff-20\"))\n",
    "\n",
    "gradcam_scores = np.array(h5f.get(\"gradcam\"))\n",
    "gradtimesact_direct_scores = np.array(h5f.get(\"gradtimesact-direct\"))\n",
    "\n",
    "\n",
    "grad_times_input_allzeros_scores = np.array(h5f.get(\"gradtimesinp_ref:allzeros\"))\n",
    "grad_times_input_avgc_scores = np.array(h5f.get(\"gradtimesinp_ref:avgc\"))\n",
    "grad_times_input_shuff10_scores = np.array(h5f.get(\"gradtimesinp_ref:shuff-10\"))\n",
    "grad_times_input_shuff20_scores = np.array(h5f.get(\"gradtimesinp_ref:shuff-20\"))\n",
    "\n",
    "\n",
    "ism_scores = np.array(h5f.get(\"ism\"))\n",
    "\n",
    "ig10_shuff10_scores = np.array(h5f.get(\"ig-10_ref:shuff-10\"))\n",
    "ig10_shuff20_scores =np.array(h5f.get(\"ig-10_ref:shuff-20\"))\n",
    "ig20_shuff10_scores =np.array(h5f.get(\"ig-20_ref:shuff-10\"))\n",
    "ig20_shuff20_scores =np.array(h5f.get(\"ig-20_ref:shuff-20\"))\n",
    "\n",
    "seqids = [x.decode('utf-8') for x in np.array(h5f.get(\"seqids\"))]\n",
    "h5f.close()"
   ]
  },
  {
   "cell_type": "code",
   "execution_count": 7,
   "metadata": {},
   "outputs": [],
   "source": [
    "from scipy.interpolate import interp1d\n",
    "\n",
    "def interpolate_scores(method_scores):\n",
    "    leftover_sequence_length = 10\n",
    "    effective_input_length = REGION_SIZE - leftover_sequence_length\n",
    "    ret = np.zeros((method_scores.shape[0], REGION_SIZE))\n",
    "    print(ret.shape)\n",
    "    for i in range(len(method_scores)):\n",
    "        scores = method_scores[i]\n",
    "        multiplication_factor = float(effective_input_length)/(len(scores)+1)\n",
    "        interpolated_scores = interp1d(x=(np.arange(len(scores))+1)*multiplication_factor, y=scores, kind=\"linear\", fill_value=\"extrapolate\", bounds_error=False)(0.5+np.arange(effective_input_length))\n",
    "        interpolated_scores = np.pad(interpolated_scores, (0,leftover_sequence_length), 'constant')\n",
    "        ret[i] = interpolated_scores\n",
    "    return ret"
   ]
  },
  {
   "cell_type": "code",
   "execution_count": 8,
   "metadata": {},
   "outputs": [],
   "source": [
    "if INTERPOLATE:\n",
    "    deeplift_rcrs_allzeros_scores = interpolate_scores(deeplift_rcrs_allzeros_scores)\n",
    "    deeplift_rcrs_avgc_scores = interpolate_scores(deeplift_rcrs_avgc_scores)\n",
    "    deeplift_rcrs_shuff10_scores = interpolate_scores(deeplift_rcrs_shuff10_scores)\n",
    "    deeplift_rcrs_shuff20_scores = interpolate_scores(deeplift_rcrs_shuff20_scores)\n",
    "\n",
    "    deeplift_rs_allzeros_scores = interpolate_scores(deeplift_rs_allzeros_scores)\n",
    "    deeplift_rs_avgc_scores = interpolate_scores(deeplift_rs_avgc_scores)\n",
    "    deeplift_rs_shuff10_scores = interpolate_scores(deeplift_rs_shuff10_scores)\n",
    "    deeplift_rs_shuff20_scores = interpolate_scores(deeplift_rs_shuff20_scores)\n",
    "\n",
    "    gradcam_scores = interpolate_scores(gradcam_scores)\n",
    "    gradtimesact_direct_scores = interpolate_scores(gradtimesact_direct_scores)\n",
    "\n",
    "    grad_times_input_allzeros_scores = interpolate_scores(grad_times_input_allzeros_scores)\n",
    "    grad_times_input_avgc_scores = interpolate_scores(grad_times_input_avgc_scores)\n",
    "    grad_times_input_shuff10_scores = interpolate_scores(grad_times_input_shuff10_scores)\n",
    "    grad_times_input_shuff20_scores = interpolate_scores(grad_times_input_shuff20_scores)"
   ]
  },
  {
   "cell_type": "code",
   "execution_count": 9,
   "metadata": {},
   "outputs": [
    {
     "name": "stdout",
     "output_type": "stream",
     "text": [
      "#Loading /users/eprakash/git/interpret-benchmark/data/dnase_positives/common_scripts/A549/sequences/reduced_sim_fimo_out/fimo.txt ...\n",
      "#Loaded 4623218 motif matches in 879553 sequences\n",
      "#Filtered motif matches to  10000  seqs\n"
     ]
    }
   ],
   "source": [
    "motif_matches=load_fimo_motif_matches(MOTIF_MATCHES, True)\n",
    "for key in list(motif_matches.keys()):\n",
    "    if key not in pos_labels:\n",
    "        del motif_matches[key]\n",
    "seq_ids_of_interest = list(motif_matches.keys())\n",
    "print(\"#Filtered motif matches to \", len(seq_ids_of_interest), \" seqs\")"
   ]
  },
  {
   "cell_type": "code",
   "execution_count": 10,
   "metadata": {},
   "outputs": [],
   "source": [
    "def get_relevant_labels_in_order_of_scores(labels, motif_matches):\n",
    "    relevant_labels_list=[]\n",
    "    relevant_indices_list=[]\n",
    "    sequence_index=0\n",
    "    positive_labels=[]\n",
    "    for label in motif_matches.keys():\n",
    "        positive_labels.append(label)\n",
    "    positive_labels_set = set(positive_labels)\n",
    "    print(\"Motif matches sequences are \" + str(len(positive_labels_set)))\n",
    "    print(\"Supplied labels are \" + str(len(labels)))\n",
    "    for sequence_label in labels:\n",
    "        if sequence_label in positive_labels_set:\n",
    "            relevant_indices_list.append(sequence_index)\n",
    "            relevant_labels_list.append(sequence_label)\n",
    "        else:\n",
    "            print(\"Did not find this label in motif matches: \" + sequence_label)\n",
    "        sequence_index=sequence_index+1\n",
    "    return relevant_indices_list, relevant_labels_list\n",
    "\n",
    "def get_relevant_scores(relevant_indices_list, scores, seq_len=400):\n",
    "    relevant_scores=np.zeros((len(relevant_indices_list),seq_len))\n",
    "    index=0\n",
    "    for scores_index in relevant_indices_list:\n",
    "        relevant_scores[index]=scores[scores_index]\n",
    "        index=index+1\n",
    "    return relevant_scores"
   ]
  },
  {
   "cell_type": "code",
   "execution_count": 14,
   "metadata": {},
   "outputs": [
    {
     "name": "stdout",
     "output_type": "stream",
     "text": [
      "Motif matches sequences are 10000\n",
      "Supplied labels are 10000\n"
     ]
    }
   ],
   "source": [
    "seq_ids_of_interest_set = set(seq_ids_of_interest)\n",
    "relevant_indices_list, relevant_labels_list=get_relevant_labels_in_order_of_scores(seqids, motif_matches)\n",
    "seq_ids_of_interest = relevant_labels_list\n",
    "seq_ids_of_interest_set = set(relevant_labels_list)\n",
    "\n",
    "deeplift_rcrs_allzeros_scores = get_relevant_scores(relevant_indices_list, deeplift_rcrs_allzeros_scores, REGION_SIZE)\n",
    "deeplift_rcrs_avgc_scores = get_relevant_scores(relevant_indices_list, deeplift_rcrs_avgc_scores, REGION_SIZE)\n",
    "deeplift_rcrs_shuff10_scores = get_relevant_scores(relevant_indices_list, deeplift_rcrs_shuff10_scores, REGION_SIZE)\n",
    "deeplift_rcrs_shuff20_scores = get_relevant_scores(relevant_indices_list, deeplift_rcrs_shuff20_scores, REGION_SIZE)\n",
    "\n",
    "deeplift_rs_allzeros_scores = get_relevant_scores(relevant_indices_list, deeplift_rs_allzeros_scores, REGION_SIZE)\n",
    "deeplift_rs_avgc_scores = get_relevant_scores(relevant_indices_list, deeplift_rs_avgc_scores, REGION_SIZE)\n",
    "deeplift_rs_shuff10_scores = get_relevant_scores(relevant_indices_list, deeplift_rs_shuff10_scores, REGION_SIZE)\n",
    "deeplift_rs_shuff20_scores=get_relevant_scores(relevant_indices_list, deeplift_rs_shuff20_scores, REGION_SIZE)\n",
    "\n",
    "grad_times_input_allzeros_scores = get_relevant_scores(relevant_indices_list, grad_times_input_allzeros_scores, REGION_SIZE)\n",
    "#grad_times_input_avgc_scores = get_relevant_scores(relevant_indices_list, grad_times_input_avgc_scores, REGION_SIZE)\n",
    "#grad_times_input_shuff10_scores = get_relevant_scores(relevant_indices_list, grad_times_input_shuff10_scores, REGION_SIZE)\n",
    "#grad_times_input_shuff20_scores = get_relevant_scores(relevant_indices_list, grad_times_input_shuff20_scores, REGION_SIZE)\n",
    "\n",
    "#gradcam_scores = get_relevant_scores(relevant_indices_list, gradcam_scores, REGION_SIZE)\n",
    "#gradtimesact_direct_scores = get_relevant_scores(relevant_indices_list, gradtimesact_direct_scores, REGION_SIZE)"
   ]
  },
  {
   "cell_type": "code",
   "execution_count": 15,
   "metadata": {},
   "outputs": [],
   "source": [
    "method_to_saved_scores = OrderedDict([('deeplift_rcrs_shuff20', deeplift_rcrs_shuff20_scores),\n",
    "                                      ('deeplift_rs_shuff20', deeplift_rs_shuff20_scores)])"
   ]
  },
  {
   "cell_type": "code",
   "execution_count": 16,
   "metadata": {},
   "outputs": [
    {
     "name": "stdout",
     "output_type": "stream",
     "text": [
      "Num labels is 10000\n",
      "Method is deeplift_rcrs_shuff20\n",
      "Total auroc 0.8585416710368289\n",
      "Total auprc 0.799208011837059\n",
      "Mean per sequence auroc 0.8335708659621869\n",
      "Mean per sequence auprc 0.802858084324112\n",
      "Per sequence auroc stderr 0.0010064248991613913\n",
      "Per sequence auprc stderr 0.001228215095757082\n",
      "\n",
      "\n",
      "Method is deeplift_rs_shuff20\n",
      "Total auroc 0.8571701835925243\n",
      "Total auprc 0.7982526752247363\n",
      "Mean per sequence auroc 0.8326249469858991\n",
      "Mean per sequence auprc 0.8013814264287471\n",
      "Per sequence auroc stderr 0.0010091804902958258\n",
      "Per sequence auprc stderr 0.0012469886292110109\n",
      "\n",
      "\n"
     ]
    }
   ],
   "source": [
    "num_labels = len(relevant_labels_list)\n",
    "print(\"Num labels is \" + str(num_labels))\n",
    "per_seq_aurocs = []\n",
    "per_seq_auprcs = []\n",
    "\n",
    "for method in list(method_to_saved_scores.keys()):\n",
    "    total_labels = np.array([])\n",
    "    total_scores = np.array([])\n",
    "    for seq in range(num_labels):\n",
    "        motif_positions = set({})\n",
    "        seqname = relevant_labels_list[seq]\n",
    "        index = relevant_indices_list[seq]\n",
    "        scores = np.abs(np.array(method_to_saved_scores[method][index]))\n",
    "        labels = np.zeros(REGION_SIZE)\n",
    "        seqentries = motif_matches[seqname]\n",
    "        for entry in seqentries:\n",
    "                motif_positions.update(range(entry['begin'], entry['end']))\n",
    "        for i in motif_positions:\n",
    "            labels[i] = 1\n",
    "        total_scores = np.concatenate((total_scores, scores))\n",
    "        total_labels = np.concatenate((total_labels, labels))\n",
    "        per_seq_aurocs.append(roc_auc_score(y_true=labels, y_score=scores))\n",
    "        per_seq_auprcs.append(average_precision_score(y_true=labels, y_score=scores))\n",
    "        \n",
    "    print(\"Method is \" + str(method))\n",
    "    print(\"Total auroc \" + str(roc_auc_score(y_true=total_labels, y_score=total_scores)))\n",
    "    print(\"Total auprc \" + str(average_precision_score(y_true=total_labels, y_score=total_scores)))\n",
    "    print(\"Mean per sequence auroc \" + str(np.mean(np.array(per_seq_aurocs))))\n",
    "    print(\"Mean per sequence auprc \" + str(np.mean(np.array(per_seq_auprcs))))\n",
    "    print(\"Per sequence auroc stderr \" + str(np.std(np.array(per_seq_aurocs))/np.sqrt(num_labels)))\n",
    "    print(\"Per sequence auprc stderr \" + str(np.std(np.array(per_seq_auprcs))/np.sqrt(num_labels)))\n",
    "    print(\"\\n\")\n",
    "        \n",
    "    assert(len(per_seq_aurocs) == 10000)\n",
    "        \n",
    "    per_seq_aurocs.clear()\n",
    "    per_seq_auprcs.clear()"
   ]
  }
 ],
 "metadata": {
  "anaconda-cloud": {},
  "kernelspec": {
   "display_name": "Python 3",
   "language": "python",
   "name": "python3"
  },
  "language_info": {
   "codemirror_mode": {
    "name": "ipython",
    "version": 3
   },
   "file_extension": ".py",
   "mimetype": "text/x-python",
   "name": "python",
   "nbconvert_exporter": "python",
   "pygments_lexer": "ipython3",
   "version": "3.7.6"
  }
 },
 "nbformat": 4,
 "nbformat_minor": 2
}
