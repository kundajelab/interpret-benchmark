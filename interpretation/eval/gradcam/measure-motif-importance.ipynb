{
 "cells": [
  {
   "cell_type": "code",
   "execution_count": 1,
   "metadata": {},
   "outputs": [
    {
     "name": "stderr",
     "output_type": "stream",
     "text": [
      "Using TensorFlow backend.\n"
     ]
    }
   ],
   "source": [
    "from __future__ import print_function\n",
    "import h5py\n",
    "import numpy as np\n",
    "import deeplift\n",
    "import evautils\n",
    "from scipy import stats\n",
    "from evautils import sequtils\n",
    "from evautils import kerasutils\n",
    "from evautils import dirutils\n",
    "from evautils import windowscoringutils\n",
    "from evautils import impscoringutils\n",
    "from collections import OrderedDict, defaultdict\n",
    "import os\n",
    "from sklearn.metrics import (\n",
    "    roc_auc_score, average_precision_score,\n",
    "    roc_curve, precision_recall_curve)"
   ]
  },
  {
   "cell_type": "code",
   "execution_count": 2,
   "metadata": {},
   "outputs": [],
   "source": [
    "REGION_SIZE = 400\n",
    "POS_LABELS = '/users/eprakash/git/interpret-benchmark/data/dnase_positives/common_scripts/A549/sequences/top_10k_sim_positives.txt.gz'\n",
    "MOTIF_MATCHES='/users/eprakash/git/interpret-benchmark/data/dnase_positives/common_scripts/A549/sequences/reduced_sim_fimo_out/fimo.txt'\n",
    "SCORES = '/users/eprakash/git/interpret-benchmark/scripts/gradcam/deepsea_beluga/A549/deeplift_conv_contribs.h5'"
   ]
  },
  {
   "cell_type": "code",
   "execution_count": 3,
   "metadata": {},
   "outputs": [
    {
     "name": "stdout",
     "output_type": "stream",
     "text": [
      "#Loading /users/eprakash/git/interpret-benchmark/data/dnase_positives/common_scripts/A549/sequences/reduced_sim_fimo_out/fimo.txt ...\n",
      "#Loaded 4623218 motif matches in 879553 sequences\n"
     ]
    }
   ],
   "source": [
    "motif_matches=sequtils.load_fimo_motif_matches(MOTIF_MATCHES, True)"
   ]
  },
  {
   "cell_type": "code",
   "execution_count": 4,
   "metadata": {},
   "outputs": [],
   "source": [
    "from collections import OrderedDict\n",
    "import gzip\n",
    "import numpy as np\n",
    "def load_labels_from_bedfile(seqfile):\n",
    "    seqs = []\n",
    "    fp = gzip.open(seqfile, \"rb\")\n",
    "    print(\"#Loading \" + seqfile + \" ...\")\n",
    "    for line in fp:\n",
    "        line=line.decode('utf8').split()\n",
    "        seqs.append(line[0])\n",
    "    fp.close()\n",
    "    print(\"#Loaded \" + str(len(seqs)) + \" seqnames from \" + seqfile)\n",
    "    return np.array(seqs)"
   ]
  },
  {
   "cell_type": "code",
   "execution_count": 5,
   "metadata": {},
   "outputs": [
    {
     "name": "stdout",
     "output_type": "stream",
     "text": [
      "#Loading /users/eprakash/git/interpret-benchmark/data/dnase_positives/common_scripts/A549/sequences/top_10k_sim_positives.txt.gz ...\n",
      "#Loaded 10000 seqnames from /users/eprakash/git/interpret-benchmark/data/dnase_positives/common_scripts/A549/sequences/top_10k_sim_positives.txt.gz\n",
      "<KeysViewHDF5 ['deeplift-rcrs_ref:allzeros', 'deeplift-rcrs_ref:avgc', 'deeplift-rcrs_ref:shuff-20', 'deeplift-rs_ref:allzeros', 'deeplift-rs_ref:avgc', 'deeplift-rs_ref:shuff-20', 'gradcam', 'gradtimesact-direct', 'gradtimesinp_ref:allzeros', 'seqids']>\n"
     ]
    }
   ],
   "source": [
    "h5f = h5py.File(SCORES,'r')\n",
    "pos_labels = load_labels_from_bedfile(POS_LABELS)\n",
    "print(h5f.keys())"
   ]
  },
  {
   "cell_type": "code",
   "execution_count": 6,
   "metadata": {},
   "outputs": [],
   "source": [
    "deeplift_rcrs_allzeros_scores=np.array(h5f.get(\"deeplift-rcrs_ref:allzeros\"))\n",
    "deeplift_rcrs_avgc_scores=np.array(h5f.get(\"deeplift-rcrs_ref:avgc\"))\n",
    "deeplift_rcrs_shuff10_scores=np.array(h5f.get(\"deeplift-rcrs_ref:shuff-10\"))\n",
    "deeplift_rcrs_shuff20_scores=np.array(h5f.get(\"deeplift-rcrs_ref:shuff-20\"))\n",
    "\n",
    "deeplift_rs_allzeros_scores=np.array(h5f.get(\"deeplift-rs_ref:allzeros\"))\n",
    "deeplift_rs_avgc_scores=np.array(h5f.get(\"deeplift-rs_ref:avgc\"))\n",
    "deeplift_rs_shuff10_scores=np.array(h5f.get(\"deeplift-rs_ref:shuff-10\"))\n",
    "deeplift_rs_shuff20_scores=np.array(h5f.get(\"deeplift-rs_ref:shuff-20\"))\n",
    "\n",
    "gradcam_scores = np.array(h5f.get(\"gradcam\"))\n",
    "gradtimesact_direct_scores = np.array(h5f.get(\"gradtimesact-direct\"))\n",
    "\n",
    "\n",
    "grad_times_input_allzeros_scores = np.array(h5f.get(\"gradtimesinp_ref:allzeros\"))\n",
    "grad_times_input_avgc_scores = np.array(h5f.get(\"gradtimesinp_ref:avgc\"))\n",
    "grad_times_input_shuff10_scores = np.array(h5f.get(\"gradtimesinp_ref:shuff-10\"))\n",
    "grad_times_input_shuff20_scores = np.array(h5f.get(\"gradtimesinp_ref:shuff-20\"))\n",
    "\n",
    "seqids = [x.decode('utf-8') for x in np.array(h5f.get(\"seqids\"))]\n",
    "h5f.close()"
   ]
  },
  {
   "cell_type": "code",
   "execution_count": 7,
   "metadata": {},
   "outputs": [
    {
     "data": {
      "text/plain": [
       "'\\nfrom scipy.interpolate import interp1d\\n\\ndef interpolate_scores(method_scores):\\n    leftover_sequence_length = 10\\n    effective_input_length = REGION_SIZE - leftover_sequence_length\\n    ret = np.zeros((method_scores.shape[0], REGION_SIZE))\\n    print(ret.shape)\\n    for i in range(len(method_scores)):\\n        scores = method_scores[i]\\n        multiplication_factor = float(effective_input_length)/(len(scores)+1)\\n        interpolated_scores = interp1d(x=(np.arange(len(scores))+1)*multiplication_factor, y=scores, kind=\"linear\", fill_value=\"extrapolate\", bounds_error=False)(0.5+np.arange(effective_input_length))\\n        interpolated_scores = np.pad(interpolated_scores, (0,leftover_sequence_length), \\'constant\\')\\n        ret[i] = interpolated_scores\\n    return ret\\n'"
      ]
     },
     "execution_count": 7,
     "metadata": {},
     "output_type": "execute_result"
    }
   ],
   "source": [
    "def interpolate_scores(conv_scores, sequence_length=REGION_SIZE):\n",
    "    print(conv_scores.shape)\n",
    "    assert len(conv_scores.shape) == 2, \"Expecting conv_scores to have dims of examples x conv_layer_length\"\n",
    "    kernel_len = (sequence_length-conv_scores.shape[1]) + 1\n",
    "    print(\"Inferred the kernel length to be\",kernel_len,\"please ensure this is right\")\n",
    "    summed_scores = np.zeros((len(conv_scores), sequence_length), dtype=np.float64) #sum of scores of conv filters whose receptive field overlaps this position\n",
    "    overlap_count = np.zeros((len(conv_scores), sequence_length)) #counts the num of conv neurons whose receptive field overlaps this position\n",
    "    for i in range(conv_scores.shape[1]):\n",
    "        summed_scores[:, i:i+kernel_len] += (conv_scores[:, i])[:,None]\n",
    "        overlap_count[:, i:i+kernel_len] += 1\n",
    "    return (summed_scores/overlap_count)\n",
    "'''\n",
    "from scipy.interpolate import interp1d\n",
    "\n",
    "def interpolate_scores(method_scores):\n",
    "    leftover_sequence_length = 10\n",
    "    effective_input_length = REGION_SIZE - leftover_sequence_length\n",
    "    ret = np.zeros((method_scores.shape[0], REGION_SIZE))\n",
    "    print(ret.shape)\n",
    "    for i in range(len(method_scores)):\n",
    "        scores = method_scores[i]\n",
    "        multiplication_factor = float(effective_input_length)/(len(scores)+1)\n",
    "        interpolated_scores = interp1d(x=(np.arange(len(scores))+1)*multiplication_factor, y=scores, kind=\"linear\", fill_value=\"extrapolate\", bounds_error=False)(0.5+np.arange(effective_input_length))\n",
    "        interpolated_scores = np.pad(interpolated_scores, (0,leftover_sequence_length), 'constant')\n",
    "        ret[i] = interpolated_scores\n",
    "    return ret\n",
    "'''"
   ]
  },
  {
   "cell_type": "code",
   "execution_count": 8,
   "metadata": {},
   "outputs": [
    {
     "name": "stdout",
     "output_type": "stream",
     "text": [
      "(10000, 393)\n",
      "Inferred the kernel length to be 8 please ensure this is right\n",
      "(10000, 393)\n",
      "Inferred the kernel length to be 8 please ensure this is right\n",
      "(10000, 393)\n",
      "Inferred the kernel length to be 8 please ensure this is right\n",
      "(10000, 393)\n",
      "Inferred the kernel length to be 8 please ensure this is right\n",
      "(10000, 393)\n",
      "Inferred the kernel length to be 8 please ensure this is right\n"
     ]
    }
   ],
   "source": [
    "deeplift_rcrs_shuff20_scores = interpolate_scores(deeplift_rcrs_shuff20_scores)\n",
    "deeplift_rs_shuff20_scores = interpolate_scores(deeplift_rs_shuff20_scores)\n",
    "gradcam_scores = interpolate_scores(gradcam_scores)\n",
    "gradtimesact_direct_scores = interpolate_scores(gradtimesact_direct_scores)\n",
    "grad_times_input_allzeros_scores = interpolate_scores(grad_times_input_allzeros_scores)\n",
    "gradcam_times_inputgradients_scores = np.multiply(gradcam_scores, grad_times_input_allzeros_scores)"
   ]
  },
  {
   "cell_type": "code",
   "execution_count": 9,
   "metadata": {},
   "outputs": [
    {
     "name": "stdout",
     "output_type": "stream",
     "text": [
      "#Loading /users/eprakash/git/interpret-benchmark/data/dnase_positives/common_scripts/A549/sequences/reduced_sim_fimo_out/fimo.txt ...\n",
      "#Loaded 4623218 motif matches in 879553 sequences\n",
      "879553\n",
      "10000\n",
      "10000\n"
     ]
    }
   ],
   "source": [
    "motif_matches=sequtils.load_fimo_motif_matches(MOTIF_MATCHES, True)\n",
    "print(len(motif_matches))\n",
    "for key in list(motif_matches.keys()):\n",
    "    if key not in pos_labels:\n",
    "        del motif_matches[key]\n",
    "print(len(motif_matches))\n",
    "seq_ids_of_interest = list(motif_matches.keys())\n",
    "print(len(seq_ids_of_interest))"
   ]
  },
  {
   "cell_type": "code",
   "execution_count": 10,
   "metadata": {},
   "outputs": [
    {
     "name": "stdout",
     "output_type": "stream",
     "text": [
      "Motif matches sequences are 10000\n",
      "Supplied labels are 10000\n"
     ]
    }
   ],
   "source": [
    "seq_ids_of_interest_set = set(seq_ids_of_interest)\n",
    "relevant_indices_list, relevant_labels_list=sequtils.get_relevant_labels_in_order_of_scores(seqids, motif_matches)\n",
    "seq_ids_of_interest = relevant_labels_list\n",
    "seq_ids_of_interest_set = set(relevant_labels_list)\n",
    "\n",
    "deeplift_rcrs_shuff20_scores=sequtils.get_relevant_scores(relevant_indices_list, deeplift_rcrs_shuff20_scores, REGION_SIZE)\n",
    "deeplift_rs_shuff20_scores=sequtils.get_relevant_scores(relevant_indices_list, deeplift_rs_shuff20_scores, REGION_SIZE)\n",
    "grad_times_input_allzeros_scores = sequtils.get_relevant_scores(relevant_indices_list, grad_times_input_allzeros_scores, REGION_SIZE)\n",
    "gradcam_scores = sequtils.get_relevant_scores(relevant_indices_list, gradcam_scores, REGION_SIZE)\n",
    "gradtimesact_direct_scores = sequtils.get_relevant_scores(relevant_indices_list, gradtimesact_direct_scores, REGION_SIZE)\n",
    "\n",
    "gradcam_times_inputgradients_scores = sequtils.get_relevant_scores(relevant_indices_list, gradcam_times_inputgradients_scores, REGION_SIZE)"
   ]
  },
  {
   "cell_type": "code",
   "execution_count": 11,
   "metadata": {},
   "outputs": [],
   "source": [
    "method_to_saved_scores = OrderedDict([('grad_times_input', grad_times_input_allzeros_scores),\n",
    "                                      ('gradcam', gradcam_scores),\n",
    "                                      ('deeplift_rs_shuff20', deeplift_rs_shuff20_scores),\n",
    "                                      ('deeplift_rcrs_shuff20', deeplift_rcrs_shuff20_scores),\n",
    "                                      ('gradcam-times-inputgradients', gradcam_times_inputgradients_scores),\n",
    "                                      ('gradtimesact_direct', gradtimesact_direct_scores)])"
   ]
  },
  {
   "cell_type": "code",
   "execution_count": 12,
   "metadata": {},
   "outputs": [
    {
     "name": "stdout",
     "output_type": "stream",
     "text": [
      "Num labels is 10000\n",
      "Method is grad_times_input\n",
      "Total auroc 0.847069612426276\n",
      "Total auprc 0.783978810950118\n",
      "Mean per sequence auroc 0.8314011873271621\n",
      "Mean per sequence auprc 0.7996371240380944\n",
      "Per sequence auroc stderr 0.00102978725587366\n",
      "Per sequence auprc stderr 0.001243783061960048\n",
      "\n",
      "\n",
      "Method is gradcam\n",
      "Total auroc 0.4093091918819139\n",
      "Total auprc 0.2978820994603735\n",
      "Mean per sequence auroc 0.3671526899339433\n",
      "Mean per sequence auprc 0.3127943735869096\n",
      "Per sequence auroc stderr 0.0011530470161448903\n",
      "Per sequence auprc stderr 0.0018880363742564798\n",
      "\n",
      "\n",
      "Method is deeplift_rs_shuff20\n",
      "Total auroc 0.8693087014907444\n",
      "Total auprc 0.815062279684393\n",
      "Mean per sequence auroc 0.8493890599525455\n",
      "Mean per sequence auprc 0.8221648339017728\n",
      "Per sequence auroc stderr 0.0010017508134224917\n",
      "Per sequence auprc stderr 0.001255028800948049\n",
      "\n",
      "\n",
      "Method is deeplift_rcrs_shuff20\n",
      "Total auroc 0.8706775989924185\n",
      "Total auprc 0.816101381128214\n",
      "Mean per sequence auroc 0.8506011996072688\n",
      "Mean per sequence auprc 0.8238194854976617\n",
      "Per sequence auroc stderr 0.0009973970749507252\n",
      "Per sequence auprc stderr 0.0012352323020718655\n",
      "\n",
      "\n",
      "Method is gradcam-times-inputgradients\n",
      "Total auroc 0.4377733752565049\n",
      "Total auprc 0.332303908682983\n",
      "Mean per sequence auroc 0.39577512559292716\n",
      "Mean per sequence auprc 0.34659946472235464\n",
      "Per sequence auroc stderr 0.0011366220474037388\n",
      "Per sequence auprc stderr 0.001862926242309664\n",
      "\n",
      "\n",
      "Method is gradtimesact_direct\n",
      "Total auroc 0.8468921049512587\n",
      "Total auprc 0.7837728133468717\n",
      "Mean per sequence auroc 0.8312441887922498\n",
      "Mean per sequence auprc 0.7993783976670283\n",
      "Per sequence auroc stderr 0.0010297564406092094\n",
      "Per sequence auprc stderr 0.001244126192627238\n",
      "\n",
      "\n"
     ]
    }
   ],
   "source": [
    "num_labels = len(relevant_labels_list)\n",
    "print(\"Num labels is \" + str(num_labels))\n",
    "per_seq_aurocs = []\n",
    "per_seq_auprcs = []\n",
    "bad_ig = []\n",
    "good_deeplift = []\n",
    "fp = open('gradcam_first_auroc_auprc_zheng_interp.txt', 'w+')\n",
    "for method in list(method_to_saved_scores.keys()):\n",
    "    total_labels = np.array([])\n",
    "    total_scores = np.array([])\n",
    "    for seq in range(num_labels):\n",
    "        motif_positions = set({})\n",
    "        seqname = relevant_labels_list[seq]\n",
    "        index = relevant_indices_list[seq]\n",
    "        scores = np.abs(np.array(method_to_saved_scores[method][index]))\n",
    "        labels = np.zeros(REGION_SIZE)\n",
    "        seqentries = motif_matches[seqname]\n",
    "        for entry in seqentries:\n",
    "                motif_positions.update(range(entry['begin'], entry['end']))\n",
    "        for i in motif_positions:\n",
    "            labels[i] = 1\n",
    "        total_scores = np.concatenate((total_scores, scores))\n",
    "        total_labels = np.concatenate((total_labels, labels))\n",
    "        per_seq_aurocs.append(roc_auc_score(y_true=labels, y_score=scores))\n",
    "        per_seq_auprcs.append(average_precision_score(y_true=labels, y_score=scores))\n",
    "        \n",
    "    print(\"Method is \" + str(method))\n",
    "    print(\"Total auroc \" + str(roc_auc_score(y_true=total_labels, y_score=total_scores)))\n",
    "    print(\"Total auprc \" + str(average_precision_score(y_true=total_labels, y_score=total_scores)))\n",
    "    print(\"Mean per sequence auroc \" + str(np.mean(np.array(per_seq_aurocs))))\n",
    "    print(\"Mean per sequence auprc \" + str(np.mean(np.array(per_seq_auprcs))))\n",
    "    print(\"Per sequence auroc stderr \" + str(np.std(np.array(per_seq_aurocs))/np.sqrt(num_labels)))\n",
    "    print(\"Per sequence auprc stderr \" + str(np.std(np.array(per_seq_auprcs))/np.sqrt(num_labels)))\n",
    "    print(\"\\n\")\n",
    "    if ('ig20_shuff20' == method):\n",
    "        bad_ig = per_seq_auprcs.copy()\n",
    "    if ('deeplift_rs_shuff20' == method):\n",
    "        good_deeplift = per_seq_auprcs.copy()\n",
    "        \n",
    "    assert(len(per_seq_aurocs) == 10000)\n",
    "    \n",
    "    fp.write(method + \": [\" + str(np.mean(np.array(per_seq_aurocs))) + \", \" + str(np.mean(np.array(per_seq_auprcs))) + \", \"\n",
    "+ str(np.std(np.array(per_seq_aurocs))/np.sqrt(num_labels)) + \", \" + str(np.std(np.array(per_seq_auprcs))/np.sqrt(num_labels)) + \"]\\n\")\n",
    "    \n",
    "    per_seq_aurocs.clear()\n",
    "    per_seq_auprcs.clear()\n",
    "    \n",
    "fp.close()"
   ]
  }
 ],
 "metadata": {
  "anaconda-cloud": {},
  "kernelspec": {
   "display_name": "Python 3",
   "language": "python",
   "name": "python3"
  },
  "language_info": {
   "codemirror_mode": {
    "name": "ipython",
    "version": 3
   },
   "file_extension": ".py",
   "mimetype": "text/x-python",
   "name": "python",
   "nbconvert_exporter": "python",
   "pygments_lexer": "ipython3",
   "version": "3.7.6"
  }
 },
 "nbformat": 4,
 "nbformat_minor": 2
}
