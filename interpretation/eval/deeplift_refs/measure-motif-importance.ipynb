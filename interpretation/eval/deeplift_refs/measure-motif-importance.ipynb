{
 "cells": [
  {
   "cell_type": "code",
   "execution_count": 1,
   "metadata": {},
   "outputs": [
    {
     "name": "stderr",
     "output_type": "stream",
     "text": [
      "Using TensorFlow backend.\n"
     ]
    }
   ],
   "source": [
    "from __future__ import print_function\n",
    "import h5py\n",
    "import numpy as np\n",
    "import deeplift\n",
    "import evautils\n",
    "from scipy import stats\n",
    "from evautils import sequtils\n",
    "from evautils import kerasutils\n",
    "from evautils import dirutils\n",
    "from evautils import windowscoringutils\n",
    "from evautils import impscoringutils\n",
    "from collections import OrderedDict, defaultdict\n",
    "import os\n",
    "from sklearn.metrics import (\n",
    "    roc_auc_score, average_precision_score,\n",
    "    roc_curve, precision_recall_curve)"
   ]
  },
  {
   "cell_type": "code",
   "execution_count": 2,
   "metadata": {},
   "outputs": [],
   "source": [
    "REGION_SIZE = 400\n",
    "\n",
    "POS_LABELS = '/users/eprakash/git/interpret-benchmark/data/dnase_positives/common_scripts/A549/sequences/top_10k_sim_positives.txt.gz'\n",
    "SCORES_FILE='/users/eprakash/git/interpret-benchmark/scripts/deeplift_refs/deepsea_beluga/A549/sim_pos_and_neg.h5'\n",
    "MOTIF_MATCHES='/users/eprakash/git/interpret-benchmark/data/dnase_positives/common_scripts/A549/sequences/reduced_sim_fimo_out/fimo.txt'"
   ]
  },
  {
   "cell_type": "code",
   "execution_count": 3,
   "metadata": {},
   "outputs": [
    {
     "name": "stdout",
     "output_type": "stream",
     "text": [
      "#Loading /users/eprakash/git/interpret-benchmark/data/dnase_positives/common_scripts/A549/sequences/reduced_sim_fimo_out/fimo.txt ...\n",
      "#Loaded 4623218 motif matches in 879553 sequences\n"
     ]
    }
   ],
   "source": [
    "motif_matches=sequtils.load_fimo_motif_matches(MOTIF_MATCHES, True)"
   ]
  },
  {
   "cell_type": "code",
   "execution_count": 4,
   "metadata": {},
   "outputs": [],
   "source": [
    "from collections import OrderedDict\n",
    "import gzip\n",
    "import numpy as np\n",
    "def load_labels_from_bedfile(seqfile):\n",
    "    seqs = []\n",
    "    fp = gzip.open(seqfile, \"rb\")\n",
    "    print(\"#Loading \" + seqfile + \" ...\")\n",
    "    for line in fp:\n",
    "        line=line.decode('utf8').split()\n",
    "        seqs.append(line[0])\n",
    "    fp.close()\n",
    "    print(\"#Loaded \" + str(len(seqs)) + \" seqnames from \" + seqfile)\n",
    "    return np.array(seqs)"
   ]
  },
  {
   "cell_type": "code",
   "execution_count": 5,
   "metadata": {},
   "outputs": [
    {
     "name": "stdout",
     "output_type": "stream",
     "text": [
      "#Loading /users/eprakash/git/interpret-benchmark/data/dnase_positives/common_scripts/A549/sequences/top_10k_sim_positives.txt.gz ...\n",
      "#Loaded 10000 seqnames from /users/eprakash/git/interpret-benchmark/data/dnase_positives/common_scripts/A549/sequences/top_10k_sim_positives.txt.gz\n",
      "<KeysViewHDF5 ['deeplift-rcrs_ref:shuff-30', 'deeplift-rcrs_ref:shuff-40', 'deeplift-rcrs_ref:shuff-50', 'deeplift-rs_ref:shuff-30', 'deeplift-rs_ref:shuff-40', 'deeplift-rs_ref:shuff-50', 'seqids']>\n"
     ]
    }
   ],
   "source": [
    "h5f = h5py.File(SCORES_FILE,'r')\n",
    "pos_labels = load_labels_from_bedfile(POS_LABELS)\n",
    "print(h5f.keys())"
   ]
  },
  {
   "cell_type": "code",
   "execution_count": 6,
   "metadata": {},
   "outputs": [],
   "source": [
    "deeplift_rcrs_shuff30_scores=np.array(h5f.get(\"deeplift-rcrs_ref:shuff-30\"))\n",
    "deeplift_rcrs_shuff40_scores=np.array(h5f.get(\"deeplift-rcrs_ref:shuff-40\"))\n",
    "deeplift_rcrs_shuff50_scores=np.array(h5f.get(\"deeplift-rcrs_ref:shuff-50\"))\n",
    "\n",
    "\n",
    "deeplift_rs_shuff30_scores=np.array(h5f.get(\"deeplift-rs_ref:shuff-30\"))\n",
    "deeplift_rs_shuff40_scores=np.array(h5f.get(\"deeplift-rs_ref:shuff-40\"))\n",
    "deeplift_rs_shuff50_scores=np.array(h5f.get(\"deeplift-rs_ref:shuff-50\"))\n",
    "\n",
    "\n",
    "seqids = [x.decode('utf-8') for x in np.array(h5f.get(\"seqids\"))]\n",
    "#print(seqids.shape)\n",
    "\n",
    "h5f.close()"
   ]
  },
  {
   "cell_type": "code",
   "execution_count": 7,
   "metadata": {},
   "outputs": [
    {
     "name": "stdout",
     "output_type": "stream",
     "text": [
      "#Loading /users/eprakash/git/interpret-benchmark/data/dnase_positives/common_scripts/A549/sequences/reduced_sim_fimo_out/fimo.txt ...\n",
      "#Loaded 4623218 motif matches in 879553 sequences\n",
      "879553\n",
      "10000\n",
      "10000\n"
     ]
    }
   ],
   "source": [
    "motif_matches=sequtils.load_fimo_motif_matches(MOTIF_MATCHES, True)\n",
    "print(len(motif_matches))\n",
    "for key in list(motif_matches.keys()):\n",
    "    if key not in pos_labels:\n",
    "        del motif_matches[key]\n",
    "print(len(motif_matches))\n",
    "seq_ids_of_interest = list(motif_matches.keys())\n",
    "print(len(seq_ids_of_interest))"
   ]
  },
  {
   "cell_type": "code",
   "execution_count": 8,
   "metadata": {},
   "outputs": [
    {
     "name": "stdout",
     "output_type": "stream",
     "text": [
      "Motif matches sequences are 10000\n",
      "Supplied labels are 10000\n"
     ]
    }
   ],
   "source": [
    "seq_ids_of_interest_set = set(seq_ids_of_interest)\n",
    "relevant_indices_list, relevant_labels_list=sequtils.get_relevant_labels_in_order_of_scores(seqids, motif_matches)\n",
    "seq_ids_of_interest = relevant_labels_list\n",
    "seq_ids_of_interest_set = set(relevant_labels_list)\n",
    "\n",
    "deeplift_rcrs_shuff30_scores=sequtils.get_relevant_scores(relevant_indices_list, deeplift_rcrs_shuff30_scores, REGION_SIZE)\n",
    "deeplift_rcrs_shuff40_scores=sequtils.get_relevant_scores(relevant_indices_list, deeplift_rcrs_shuff40_scores, REGION_SIZE)\n",
    "deeplift_rcrs_shuff50_scores=sequtils.get_relevant_scores(relevant_indices_list, deeplift_rcrs_shuff50_scores, REGION_SIZE)\n",
    "\n",
    "\n",
    "deeplift_rs_shuff30_scores=sequtils.get_relevant_scores(relevant_indices_list, deeplift_rs_shuff30_scores, REGION_SIZE)\n",
    "deeplift_rs_shuff40_scores=sequtils.get_relevant_scores(relevant_indices_list, deeplift_rs_shuff40_scores, REGION_SIZE)\n",
    "deeplift_rs_shuff50_scores=sequtils.get_relevant_scores(relevant_indices_list, deeplift_rs_shuff50_scores, REGION_SIZE)"
   ]
  },
  {
   "cell_type": "code",
   "execution_count": 9,
   "metadata": {},
   "outputs": [],
   "source": [
    "method_to_saved_scores = OrderedDict([\n",
    "                                      ('deeplift_rcrs_shuff30', deeplift_rcrs_shuff30_scores),\n",
    "                                      ('deeplift_rcrs_shuff40', deeplift_rcrs_shuff40_scores),\n",
    "                                      ('deeplift_rcrs_shuff50', deeplift_rcrs_shuff50_scores),\n",
    "                                      ('deeplift_rs_shuff30', deeplift_rs_shuff30_scores),\n",
    "                                      ('deeplift_rs_shuff40', deeplift_rs_shuff40_scores),\n",
    "                                      ('deeplift_rs_shuff50', deeplift_rs_shuff50_scores),\n",
    "                                      ])\n",
    "                                      \n",
    "method_to_seq_id_to_scores={}\n",
    "windowscoringutils.collectSeqIdToScoresForAllMethods(method_to_saved_scores, seq_ids_of_interest, relevant_labels_list, seq_ids_of_interest, method_to_seq_id_to_scores, seq_ids_of_interest)"
   ]
  },
  {
   "cell_type": "code",
   "execution_count": 11,
   "metadata": {},
   "outputs": [
    {
     "name": "stdout",
     "output_type": "stream",
     "text": [
      "Num labels is 10000\n",
      "Method is deeplift_rcrs_shuff30\n",
      "Total auroc 0.8597292730073394\n",
      "Total auprc 0.8015140861266064\n",
      "Mean per sequence auroc 0.8351737821817252\n",
      "Mean per sequence auprc 0.8047417892039619\n",
      "Per sequence auroc stderr 0.000999351067818638\n",
      "Per sequence auprc stderr 0.001225645137379767\n",
      "\n",
      "\n",
      "Method is deeplift_rcrs_shuff40\n",
      "Total auroc 0.8603983615756234\n",
      "Total auprc 0.8027032714931716\n",
      "Mean per sequence auroc 0.8358655686043142\n",
      "Mean per sequence auprc 0.8056655143029744\n",
      "Per sequence auroc stderr 0.000997892916112205\n",
      "Per sequence auprc stderr 0.0012261296244201855\n",
      "\n",
      "\n",
      "Method is deeplift_rcrs_shuff50\n",
      "Total auroc 0.860819277059532\n",
      "Total auprc 0.8034287023497878\n",
      "Mean per sequence auroc 0.8362745789647643\n",
      "Mean per sequence auprc 0.8060675337102734\n",
      "Per sequence auroc stderr 0.0009963504205190146\n",
      "Per sequence auprc stderr 0.0012256130069386302\n",
      "\n",
      "\n",
      "Method is deeplift_rs_shuff30\n",
      "Total auroc 0.85831637585939\n",
      "Total auprc 0.8005113305786993\n",
      "Mean per sequence auroc 0.8339998895313351\n",
      "Mean per sequence auprc 0.8032037399386518\n",
      "Per sequence auroc stderr 0.0010032430169112571\n",
      "Per sequence auprc stderr 0.0012447352909871821\n",
      "\n",
      "\n",
      "Method is deeplift_rs_shuff40\n",
      "Total auroc 0.8589454099564229\n",
      "Total auprc 0.8016772081574794\n",
      "Mean per sequence auroc 0.8346789186896167\n",
      "Mean per sequence auprc 0.8040964890372888\n",
      "Per sequence auroc stderr 0.0010016068863275538\n",
      "Per sequence auprc stderr 0.001245073153774593\n",
      "\n",
      "\n",
      "Method is deeplift_rs_shuff50\n",
      "Total auroc 0.859360220261264\n",
      "Total auprc 0.8023894893045\n",
      "Mean per sequence auroc 0.835085806410869\n",
      "Mean per sequence auprc 0.8044757649551586\n",
      "Per sequence auroc stderr 0.0009998631405366656\n",
      "Per sequence auprc stderr 0.0012449847814535817\n",
      "\n",
      "\n"
     ]
    }
   ],
   "source": [
    "num_labels = len(relevant_labels_list)\n",
    "print(\"Num labels is \" + str(num_labels))\n",
    "per_seq_aurocs = []\n",
    "per_seq_auprcs = []\n",
    "fp = open('full_vs_filtered/sim_pos_and_neg_position_abs_auroc_auprc.txt', 'w+')\n",
    "for method in method_to_saved_scores:\n",
    "    total_labels = np.array([])\n",
    "    total_scores = np.array([])\n",
    "    for seq in range(num_labels):\n",
    "        motif_positions = set({})\n",
    "        seqname = relevant_labels_list[seq]\n",
    "        index = relevant_indices_list[seq]\n",
    "        scores = np.abs(np.array(method_to_saved_scores[method][index]))\n",
    "        labels = np.zeros(REGION_SIZE)\n",
    "        seqentries = motif_matches[seqname]\n",
    "        for entry in seqentries:\n",
    "                motif_positions.update(range(entry['begin'], entry['end']))\n",
    "        for i in motif_positions:\n",
    "            labels[i] = 1\n",
    "        total_scores = np.concatenate((total_scores, scores))\n",
    "        total_labels = np.concatenate((total_labels, labels))\n",
    "        per_seq_aurocs.append(roc_auc_score(y_true=labels, y_score=scores))\n",
    "        per_seq_auprcs.append(average_precision_score(y_true=labels, y_score=scores))\n",
    "    print(\"Method is \" + str(method))\n",
    "    print(\"Total auroc \" + str(roc_auc_score(y_true=total_labels, y_score=total_scores)))\n",
    "    print(\"Total auprc \" + str(average_precision_score(y_true=total_labels, y_score=total_scores)))\n",
    "    print(\"Mean per sequence auroc \" + str(np.mean(np.array(per_seq_aurocs))))\n",
    "    print(\"Mean per sequence auprc \" + str(np.mean(np.array(per_seq_auprcs))))\n",
    "    print(\"Per sequence auroc stderr \" + str(np.std(np.array(per_seq_aurocs))/np.sqrt(num_labels)))\n",
    "    print(\"Per sequence auprc stderr \" + str(np.std(np.array(per_seq_auprcs))/np.sqrt(num_labels)))\n",
    "    print(\"\\n\")\n",
    "    assert(len(per_seq_aurocs) == 10000)\n",
    "    fp.write(method + \": [\" + str(np.mean(np.array(per_seq_aurocs))) + \", \" + str(np.mean(np.array(per_seq_auprcs))) + \", \"\n",
    "+ str(np.std(np.array(per_seq_aurocs))/np.sqrt(num_labels)) + \", \" + str(np.std(np.array(per_seq_auprcs))/np.sqrt(num_labels)) + \"]\\n\")\n",
    "    per_seq_aurocs.clear()\n",
    "    per_seq_auprcs.clear()\n",
    "fp.close()"
   ]
  },
  {
   "cell_type": "code",
   "execution_count": null,
   "metadata": {},
   "outputs": [],
   "source": []
  }
 ],
 "metadata": {
  "anaconda-cloud": {},
  "kernelspec": {
   "display_name": "Python 3",
   "language": "python",
   "name": "python3"
  },
  "language_info": {
   "codemirror_mode": {
    "name": "ipython",
    "version": 3
   },
   "file_extension": ".py",
   "mimetype": "text/x-python",
   "name": "python",
   "nbconvert_exporter": "python",
   "pygments_lexer": "ipython3",
   "version": "3.7.6"
  }
 },
 "nbformat": 4,
 "nbformat_minor": 2
}
