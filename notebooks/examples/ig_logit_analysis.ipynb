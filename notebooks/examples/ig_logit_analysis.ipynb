{
 "cells": [
  {
   "cell_type": "code",
   "execution_count": 1,
   "metadata": {},
   "outputs": [],
   "source": [
    "import os\n",
    "os.environ[\"CUDA_VISIBLE_DEVICES\"] = \"2\""
   ]
  },
  {
   "cell_type": "markdown",
   "metadata": {},
   "source": [
    "### Load sequences"
   ]
  },
  {
   "cell_type": "code",
   "execution_count": 2,
   "metadata": {},
   "outputs": [],
   "source": [
    "import gzip\n",
    "import numpy as np\n",
    "from vakai import dinuc_shuffle\n",
    "def load_sequences(seqfile):\n",
    "    labels = []\n",
    "    seqs = []\n",
    "    fp = gzip.open(seqfile, \"rb\")\n",
    "    print(\"#Loading \" + seqfile + \" ...\")\n",
    "    for line in fp:\n",
    "        line=line.decode('utf8').split()\n",
    "        labels.append(line[0])\n",
    "        seqs.append(line[1])\n",
    "    fp.close()\n",
    "    print(\"#Loaded \" + str(len(seqs)) + \" sequences from \" + seqfile)\n",
    "    return labels, seqs"
   ]
  },
  {
   "cell_type": "code",
   "execution_count": 3,
   "metadata": {},
   "outputs": [
    {
     "name": "stdout",
     "output_type": "stream",
     "text": [
      "#Loading /users/eprakash/git/interpret-benchmark/scripts/top_10k_no_implant_neg_sim_positives.txt.gz ...\n",
      "#Loaded 10000 sequences from /users/eprakash/git/interpret-benchmark/scripts/top_10k_no_implant_neg_sim_positives.txt.gz\n",
      "10000\n"
     ]
    }
   ],
   "source": [
    "import h5py\n",
    "original_labels, original_seqs=load_sequences('/users/eprakash/git/interpret-benchmark/scripts/top_10k_no_implant_neg_sim_positives.txt.gz')\n",
    "rng = np.random.RandomState(1234)\n",
    "dn_shuff_seqs=[dinuc_shuffle.dinuc_shuffle(s=seq, rng=rng) for seq in original_seqs]\n",
    "print(len(dn_shuff_seqs))"
   ]
  },
  {
   "cell_type": "markdown",
   "metadata": {},
   "source": [
    "### Onehot encode data"
   ]
  },
  {
   "cell_type": "code",
   "execution_count": 4,
   "metadata": {},
   "outputs": [],
   "source": [
    "#this is set up for 1d convolutions where examples\n",
    "#have dimensions (len, num_channels)\n",
    "#the channel axis is the axis for one-hot encoding.\n",
    "def one_hot_encode_along_channel_axis(sequence):\n",
    "    to_return = np.zeros((len(sequence),4), dtype=np.int8)\n",
    "    seq_to_one_hot_fill_in_array(zeros_array=to_return,\n",
    "                                 sequence=sequence, one_hot_axis=1)\n",
    "    return to_return\n",
    "\n",
    "def seq_to_one_hot_fill_in_array(zeros_array, sequence, one_hot_axis):\n",
    "    assert one_hot_axis==0 or one_hot_axis==1\n",
    "    if (one_hot_axis==0):\n",
    "        assert zeros_array.shape[1] == len(sequence)\n",
    "    elif (one_hot_axis==1): \n",
    "        assert zeros_array.shape[0] == len(sequence)\n",
    "    #will mutate zeros_array\n",
    "    for (i,char) in enumerate(sequence):\n",
    "        if (char==\"A\" or char==\"a\"):\n",
    "            char_idx = 0\n",
    "        elif (char==\"C\" or char==\"c\"):\n",
    "            char_idx = 1\n",
    "        elif (char==\"G\" or char==\"g\"):\n",
    "            char_idx = 2\n",
    "        elif (char==\"T\" or char==\"t\"):\n",
    "            char_idx = 3\n",
    "        elif (char==\"N\" or char==\"n\"):\n",
    "            continue #leave that pos as all 0's\n",
    "        else:\n",
    "            raise RuntimeError(\"Unsupported character: \"+str(char))\n",
    "        if (one_hot_axis==0):\n",
    "            zeros_array[char_idx,i] = 1\n",
    "        elif (one_hot_axis==1):\n",
    "            zeros_array[i,char_idx] = 1\n",
    "#sequences = sequences[-5000:]            \n",
    "original_onehot_data = np.array([one_hot_encode_along_channel_axis(seq) for seq in original_seqs])\n",
    "dn_onehot_data = np.array([one_hot_encode_along_channel_axis(seq) for seq in dn_shuff_seqs])"
   ]
  },
  {
   "cell_type": "code",
   "execution_count": 5,
   "metadata": {},
   "outputs": [
    {
     "name": "stdout",
     "output_type": "stream",
     "text": [
      "(10000, 400, 4)\n",
      "(10000, 400, 4)\n"
     ]
    }
   ],
   "source": [
    "print(original_onehot_data.shape)\n",
    "print(dn_onehot_data.shape)"
   ]
  },
  {
   "cell_type": "markdown",
   "metadata": {},
   "source": [
    "### Load keras model"
   ]
  },
  {
   "cell_type": "code",
   "execution_count": 7,
   "metadata": {},
   "outputs": [
    {
     "name": "stdout",
     "output_type": "stream",
     "text": [
      "WARNING:tensorflow:From /users/eprakash/anaconda3/lib/python3.7/site-packages/tensorflow_core/python/ops/resource_variable_ops.py:1630: calling BaseResourceVariable.__init__ (from tensorflow.python.ops.resource_variable_ops) with constraint is deprecated and will be removed in a future version.\n",
      "Instructions for updating:\n",
      "If using Keras pass *_constraint arguments to layers.\n",
      "WARNING:tensorflow:From /users/eprakash/anaconda3/lib/python3.7/site-packages/keras/backend/tensorflow_backend.py:4070: The name tf.nn.max_pool is deprecated. Please use tf.nn.max_pool2d instead.\n",
      "\n"
     ]
    },
    {
     "name": "stderr",
     "output_type": "stream",
     "text": [
      "/users/eprakash/anaconda3/lib/python3.7/site-packages/ipykernel_launcher.py:12: UserWarning: Update your `Model` call to the Keras 2 API: `Model(inputs=Tensor(\"co..., outputs=Tensor(\"ne...)`\n",
      "  if sys.path[0] == '':\n"
     ]
    }
   ],
   "source": [
    "import deeplift\n",
    "import keras\n",
    "from keras.models import model_from_json\n",
    "import tensorflow as tf\n",
    "\n",
    "with tf.device('/gpu:2'):\n",
    "    keras_model_weights = \"/users/eprakash/git/interpret-benchmark/data/dnase_positives/momma_dragonn_config/model_files/no_implant_neg/spe_100/record_1_model_P2JZo_modelWeights.h5\"\n",
    "    keras_model_json = \"/users/eprakash/git/interpret-benchmark/data/dnase_positives/momma_dragonn_config/model_files/no_implant_neg/spe_100/record_1_model_P2JZo_modelJson.json\"\n",
    "\n",
    "    keras_model = model_from_json(open(keras_model_json).read())\n",
    "    keras_model.load_weights(keras_model_weights)\n",
    "    intermediate_layer_model = keras.models.Model(input=keras_model.input, output=keras_model.layers[-2].output)"
   ]
  },
  {
   "cell_type": "code",
   "execution_count": 8,
   "metadata": {},
   "outputs": [
    {
     "name": "stdout",
     "output_type": "stream",
     "text": [
      "WARNING:tensorflow:From /users/eprakash/anaconda3/lib/python3.7/site-packages/keras/backend/tensorflow_backend.py:422: The name tf.global_variables is deprecated. Please use tf.compat.v1.global_variables instead.\n",
      "\n"
     ]
    }
   ],
   "source": [
    "original_logits = intermediate_layer_model.predict(original_onehot_data)\n",
    "dn_logits = intermediate_layer_model.predict(dn_onehot_data)\n",
    "\n",
    "original_logits=np.squeeze(original_logits,axis=1)\n",
    "dn_logits=np.squeeze(dn_logits,axis=1)"
   ]
  },
  {
   "cell_type": "markdown",
   "metadata": {},
   "source": [
    "### Interpolation"
   ]
  },
  {
   "cell_type": "code",
   "execution_count": 9,
   "metadata": {},
   "outputs": [],
   "source": [
    "alpha=0.01\n",
    "logits=[]\n",
    "\n",
    "for index in range(0,len(original_seqs)):\n",
    "    reference=dn_onehot_data[index]\n",
    "    actual=original_onehot_data[index]\n",
    "    seq_logits=[]\n",
    "    for step_number in range(0,int(1/alpha)):\n",
    "        step_size=alpha*(step_number+1)\n",
    "        interpolated=(1-step_size)*reference + step_size*actual\n",
    "        interpolated_logit=intermediate_layer_model.predict(interpolated[None,:])\n",
    "        seq_logits.append(interpolated_logit)\n",
    "    logits.append(seq_logits)"
   ]
  },
  {
   "cell_type": "code",
   "execution_count": 10,
   "metadata": {},
   "outputs": [],
   "source": [
    "logits=np.array(logits)\n",
    "logits=np.squeeze(logits,axis=3)\n",
    "logits=np.squeeze(logits,axis=2)"
   ]
  },
  {
   "cell_type": "code",
   "execution_count": 11,
   "metadata": {},
   "outputs": [
    {
     "name": "stdout",
     "output_type": "stream",
     "text": [
      "(10000, 100)\n"
     ]
    }
   ],
   "source": [
    "print(logits.shape)"
   ]
  },
  {
   "cell_type": "markdown",
   "metadata": {},
   "source": [
    "### Plot logit distribution"
   ]
  },
  {
   "cell_type": "code",
   "execution_count": 21,
   "metadata": {},
   "outputs": [
    {
     "name": "stdout",
     "output_type": "stream",
     "text": [
      "PREDICTIONS DENSITY PLOT\n"
     ]
    },
    {
     "data": {
      "image/png": "[encoded data removed]",
      "text/plain": [
       "<Figure size 432x288 with 1 Axes>"
      ]
     },
     "metadata": {
      "needs_background": "light"
     },
     "output_type": "display_data"
    }
   ],
   "source": [
    "import seaborn as sns\n",
    "import matplotlib.pyplot as plt\n",
    "column=99\n",
    "print(\"PREDICTIONS DENSITY PLOT\")\n",
    "sns.distplot(original_logits, color='green', label=\"original\", axlabel=\"Sigmoid Logits\")\n",
    "sns.distplot(dn_logits, color='blue', label=\"shuffled\",)\n",
    "sns.distplot(logits[:,column], color='yellow', label=\"interpolated, alpha=\"+str(alpha*(column+1)))\n",
    "plt.legend(loc = 'upper right')\n",
    "plt.show()"
   ]
  }
 ],
 "metadata": {
  "anaconda-cloud": {},
  "kernelspec": {
   "display_name": "Python 3",
   "language": "python",
   "name": "python3"
  },
  "language_info": {
   "codemirror_mode": {
    "name": "ipython",
    "version": 3
   },
   "file_extension": ".py",
   "mimetype": "text/x-python",
   "name": "python",
   "nbconvert_exporter": "python",
   "pygments_lexer": "ipython3",
   "version": "3.7.6"
  }
 },
 "nbformat": 4,
 "nbformat_minor": 2
}
