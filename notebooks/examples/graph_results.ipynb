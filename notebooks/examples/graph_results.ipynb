{
 "cells": [
  {
   "cell_type": "code",
   "execution_count": 1,
   "metadata": {},
   "outputs": [],
   "source": [
    "from collections import OrderedDict\n",
    "import gzip\n",
    "import numpy as np\n",
    "def load_methods_from_file(file):\n",
    "    methods = OrderedDict()\n",
    "    fp = open(file, \"rb\")\n",
    "    for line in fp:\n",
    "        line = line.decode('utf8').strip().split(\": \")\n",
    "        name = line[0]\n",
    "        metrics = line[1].strip(\"[\").strip(\"]\").split(',')\n",
    "        for i in range(len(metrics)):\n",
    "            metrics[i] = float(metrics[i])\n",
    "        methods[name] = metrics\n",
    "    fp.close()\n",
    "    print(\"#Loaded \" + str(len(methods)) + \" metrics from \" + file)\n",
    "    return methods"
   ]
  },
  {
   "cell_type": "code",
   "execution_count": 2,
   "metadata": {},
   "outputs": [
    {
     "name": "stdout",
     "output_type": "stream",
     "text": [
      "#Loaded 14 metrics from /users/eprakash/git/interpret-benchmark/notebooks/DeepSEABeluga/A549/sim_pos_and_neg_position_auroc_auprc.txt\n",
      "#Loaded 14 metrics from /users/eprakash/git/interpret-benchmark/notebooks/DeepSEABeluga/GM12878/sim_pos_and_neg_position_auroc_auprc.txt\n",
      "#Loaded 14 metrics from /users/eprakash/git/interpret-benchmark/notebooks/DeepSEABeluga/H1/sim_pos_and_neg_position_auroc_auprc.txt\n",
      "#Loaded 14 metrics from /users/eprakash/git/interpret-benchmark/notebooks/DeepSEABeluga/HepG2/sim_pos_and_neg_position_auroc_auprc.txt\n",
      "#Loaded 14 metrics from /users/eprakash/git/interpret-benchmark/notebooks/DeepSEABeluga/K562/sim_pos_and_neg_position_auroc_auprc.txt\n"
     ]
    }
   ],
   "source": [
    "A549_ds_sim_pos_and_neg = load_methods_from_file('/users/eprakash/git/interpret-benchmark/notebooks/DeepSEABeluga/A549/sim_pos_and_neg_position_auroc_auprc.txt')\n",
    "GM12878_ds_sim_pos_and_neg = load_methods_from_file('/users/eprakash/git/interpret-benchmark/notebooks/DeepSEABeluga/GM12878/sim_pos_and_neg_position_auroc_auprc.txt')\n",
    "H1_ds_sim_pos_and_neg = load_methods_from_file('/users/eprakash/git/interpret-benchmark/notebooks/DeepSEABeluga/H1/sim_pos_and_neg_position_auroc_auprc.txt')\n",
    "HepG2_ds_sim_pos_and_neg = load_methods_from_file('/users/eprakash/git/interpret-benchmark/notebooks/DeepSEABeluga/HepG2/sim_pos_and_neg_position_auroc_auprc.txt')\n",
    "K562_ds_sim_pos_and_neg = load_methods_from_file('/users/eprakash/git/interpret-benchmark/notebooks/DeepSEABeluga/K562/sim_pos_and_neg_position_auroc_auprc.txt')"
   ]
  },
  {
   "cell_type": "code",
   "execution_count": 3,
   "metadata": {},
   "outputs": [
    {
     "name": "stdout",
     "output_type": "stream",
     "text": [
      "#Loaded 14 metrics from /users/eprakash/git/interpret-benchmark/notebooks/Basset/A549/sim_pos_and_neg_position_auroc_auprc.txt\n",
      "#Loaded 14 metrics from /users/eprakash/git/interpret-benchmark/notebooks/Basset/GM12878/sim_pos_and_neg_position_auroc_auprc.txt\n",
      "#Loaded 14 metrics from /users/eprakash/git/interpret-benchmark/notebooks/Basset/H1/sim_pos_and_neg_position_auroc_auprc.txt\n",
      "#Loaded 14 metrics from /users/eprakash/git/interpret-benchmark/notebooks/Basset/HepG2/sim_pos_and_neg_position_auroc_auprc.txt\n",
      "#Loaded 14 metrics from /users/eprakash/git/interpret-benchmark/notebooks/Basset/K562/sim_pos_and_neg_position_auroc_auprc.txt\n"
     ]
    }
   ],
   "source": [
    "A549_ba_sim_pos_and_neg = load_methods_from_file('/users/eprakash/git/interpret-benchmark/notebooks/Basset/A549/sim_pos_and_neg_position_auroc_auprc.txt')\n",
    "GM12878_ba_sim_pos_and_neg = load_methods_from_file('/users/eprakash/git/interpret-benchmark/notebooks/Basset/GM12878/sim_pos_and_neg_position_auroc_auprc.txt')\n",
    "H1_ba_sim_pos_and_neg = load_methods_from_file('/users/eprakash/git/interpret-benchmark/notebooks/Basset/H1/sim_pos_and_neg_position_auroc_auprc.txt')\n",
    "HepG2_ba_sim_pos_and_neg = load_methods_from_file('/users/eprakash/git/interpret-benchmark/notebooks/Basset/HepG2/sim_pos_and_neg_position_auroc_auprc.txt')\n",
    "K562_ba_sim_pos_and_neg = load_methods_from_file('/users/eprakash/git/interpret-benchmark/notebooks/Basset/K562/sim_pos_and_neg_position_auroc_auprc.txt')"
   ]
  },
  {
   "cell_type": "code",
   "execution_count": 4,
   "metadata": {},
   "outputs": [
    {
     "name": "stdout",
     "output_type": "stream",
     "text": [
      "#Loaded 6 metrics from /users/eprakash/git/interpret-benchmark/notebooks/deeplift_refs/deepsea_beluga/A549/sim_pos_and_neg_position_auroc_auprc.txt\n",
      "#Loaded 6 metrics from /users/eprakash/git/interpret-benchmark/notebooks/deeplift_refs/deepsea_beluga/GM12878/sim_pos_and_neg_position_auroc_auprc.txt\n",
      "#Loaded 6 metrics from /users/eprakash/git/interpret-benchmark/notebooks/deeplift_refs/deepsea_beluga/H1/sim_pos_and_neg_position_auroc_auprc.txt\n",
      "#Loaded 6 metrics from /users/eprakash/git/interpret-benchmark/notebooks/deeplift_refs/deepsea_beluga/HepG2/sim_pos_and_neg_position_auroc_auprc.txt\n",
      "#Loaded 6 metrics from /users/eprakash/git/interpret-benchmark/notebooks/deeplift_refs/deepsea_beluga/K562/sim_pos_and_neg_position_auroc_auprc.txt\n"
     ]
    }
   ],
   "source": [
    "A549_ds_sim_pos_and_neg.update(load_methods_from_file(\n",
    "    '/users/eprakash/git/interpret-benchmark/notebooks/deeplift_refs/deepsea_beluga/A549/sim_pos_and_neg_position_auroc_auprc.txt'))\n",
    "GM12878_ds_sim_pos_and_neg.update(load_methods_from_file(\n",
    "    '/users/eprakash/git/interpret-benchmark/notebooks/deeplift_refs/deepsea_beluga/GM12878/sim_pos_and_neg_position_auroc_auprc.txt'))\n",
    "H1_ds_sim_pos_and_neg.update(load_methods_from_file(\n",
    "    '/users/eprakash/git/interpret-benchmark/notebooks/deeplift_refs/deepsea_beluga/H1/sim_pos_and_neg_position_auroc_auprc.txt'))\n",
    "HepG2_ds_sim_pos_and_neg.update(load_methods_from_file(\n",
    "    '/users/eprakash/git/interpret-benchmark/notebooks/deeplift_refs/deepsea_beluga/HepG2/sim_pos_and_neg_position_auroc_auprc.txt'))\n",
    "K562_ds_sim_pos_and_neg.update(load_methods_from_file(\n",
    "    '/users/eprakash/git/interpret-benchmark/notebooks/deeplift_refs/deepsea_beluga/K562/sim_pos_and_neg_position_auroc_auprc.txt'))"
   ]
  },
  {
   "cell_type": "code",
   "execution_count": 5,
   "metadata": {},
   "outputs": [
    {
     "name": "stdout",
     "output_type": "stream",
     "text": [
      "#Loaded 6 metrics from /users/eprakash/git/interpret-benchmark/notebooks/deeplift_refs/basset/A549/sim_pos_and_neg_position_auroc_auprc.txt\n",
      "#Loaded 6 metrics from /users/eprakash/git/interpret-benchmark/notebooks/deeplift_refs/basset/GM12878/sim_pos_and_neg_position_auroc_auprc.txt\n",
      "#Loaded 6 metrics from /users/eprakash/git/interpret-benchmark/notebooks/deeplift_refs/basset/H1/sim_pos_and_neg_position_auroc_auprc.txt\n",
      "#Loaded 6 metrics from /users/eprakash/git/interpret-benchmark/notebooks/deeplift_refs/basset/HepG2/sim_pos_and_neg_position_auroc_auprc.txt\n",
      "#Loaded 6 metrics from /users/eprakash/git/interpret-benchmark/notebooks/deeplift_refs/basset/K562/sim_pos_and_neg_position_auroc_auprc.txt\n"
     ]
    }
   ],
   "source": [
    "A549_ba_sim_pos_and_neg.update(load_methods_from_file(\n",
    "    '/users/eprakash/git/interpret-benchmark/notebooks/deeplift_refs/basset/A549/sim_pos_and_neg_position_auroc_auprc.txt'))\n",
    "GM12878_ba_sim_pos_and_neg.update(load_methods_from_file(\n",
    "    '/users/eprakash/git/interpret-benchmark/notebooks/deeplift_refs/basset/GM12878/sim_pos_and_neg_position_auroc_auprc.txt'))\n",
    "H1_ba_sim_pos_and_neg.update(load_methods_from_file(\n",
    "    '/users/eprakash/git/interpret-benchmark/notebooks/deeplift_refs/basset/H1/sim_pos_and_neg_position_auroc_auprc.txt'))\n",
    "HepG2_ba_sim_pos_and_neg.update(load_methods_from_file(\n",
    "    '/users/eprakash/git/interpret-benchmark/notebooks/deeplift_refs/basset/HepG2/sim_pos_and_neg_position_auroc_auprc.txt'))\n",
    "K562_ba_sim_pos_and_neg.update(load_methods_from_file(\n",
    "    '/users/eprakash/git/interpret-benchmark/notebooks/deeplift_refs/basset/K562/sim_pos_and_neg_position_auroc_auprc.txt'))"
   ]
  },
  {
   "cell_type": "code",
   "execution_count": 6,
   "metadata": {},
   "outputs": [
    {
     "name": "stdout",
     "output_type": "stream",
     "text": [
      "#Loaded 1 metrics from /users/eprakash/git/interpret-benchmark/notebooks/svm/A549/sim_pos_and_neg_position_auroc_auprc.txt\n",
      "#Loaded 1 metrics from /users/eprakash/git/interpret-benchmark/notebooks/svm/GM12878/sim_pos_and_neg_position_auroc_auprc.txt\n",
      "#Loaded 1 metrics from /users/eprakash/git/interpret-benchmark/notebooks/svm/H1/sim_pos_and_neg_position_auroc_auprc.txt\n",
      "#Loaded 1 metrics from /users/eprakash/git/interpret-benchmark/notebooks/svm/HepG2/sim_pos_and_neg_position_auroc_auprc.txt\n",
      "#Loaded 1 metrics from /users/eprakash/git/interpret-benchmark/notebooks/svm/K562/sim_pos_and_neg_position_auroc_auprc.txt\n"
     ]
    }
   ],
   "source": [
    "A549_ds_sim_pos_and_neg.update(load_methods_from_file(\n",
    "    '/users/eprakash/git/interpret-benchmark/notebooks/svm/A549/sim_pos_and_neg_position_auroc_auprc.txt'))\n",
    "GM12878_ds_sim_pos_and_neg.update(load_methods_from_file(\n",
    "    '/users/eprakash/git/interpret-benchmark/notebooks/svm/GM12878/sim_pos_and_neg_position_auroc_auprc.txt'))\n",
    "H1_ds_sim_pos_and_neg.update(load_methods_from_file(\n",
    "    '/users/eprakash/git/interpret-benchmark/notebooks/svm/H1/sim_pos_and_neg_position_auroc_auprc.txt'))\n",
    "HepG2_ds_sim_pos_and_neg.update(load_methods_from_file(\n",
    "    '/users/eprakash/git/interpret-benchmark/notebooks/svm/HepG2/sim_pos_and_neg_position_auroc_auprc.txt'))\n",
    "K562_ds_sim_pos_and_neg.update(load_methods_from_file(\n",
    "    '/users/eprakash/git/interpret-benchmark/notebooks/svm/K562/sim_pos_and_neg_position_auroc_auprc.txt'))"
   ]
  },
  {
   "cell_type": "code",
   "execution_count": 7,
   "metadata": {},
   "outputs": [
    {
     "name": "stdout",
     "output_type": "stream",
     "text": [
      "#Loaded 1 metrics from /users/eprakash/git/interpret-benchmark/notebooks/svm/A549/sim_pos_and_neg_position_auroc_auprc.txt\n",
      "#Loaded 1 metrics from /users/eprakash/git/interpret-benchmark/notebooks/svm/GM12878/sim_pos_and_neg_position_auroc_auprc.txt\n",
      "#Loaded 1 metrics from /users/eprakash/git/interpret-benchmark/notebooks/svm/H1/sim_pos_and_neg_position_auroc_auprc.txt\n",
      "#Loaded 1 metrics from /users/eprakash/git/interpret-benchmark/notebooks/svm/HepG2/sim_pos_and_neg_position_auroc_auprc.txt\n",
      "#Loaded 1 metrics from /users/eprakash/git/interpret-benchmark/notebooks/svm/K562/sim_pos_and_neg_position_auroc_auprc.txt\n"
     ]
    }
   ],
   "source": [
    "A549_ba_sim_pos_and_neg.update(load_methods_from_file(\n",
    "    '/users/eprakash/git/interpret-benchmark/notebooks/svm/A549/sim_pos_and_neg_position_auroc_auprc.txt'))\n",
    "GM12878_ba_sim_pos_and_neg.update(load_methods_from_file(\n",
    "    '/users/eprakash/git/interpret-benchmark/notebooks/svm/GM12878/sim_pos_and_neg_position_auroc_auprc.txt'))\n",
    "H1_ba_sim_pos_and_neg.update(load_methods_from_file(\n",
    "    '/users/eprakash/git/interpret-benchmark/notebooks/svm/H1/sim_pos_and_neg_position_auroc_auprc.txt'))\n",
    "HepG2_ba_sim_pos_and_neg.update(load_methods_from_file(\n",
    "    '/users/eprakash/git/interpret-benchmark/notebooks/svm/HepG2/sim_pos_and_neg_position_auroc_auprc.txt'))\n",
    "K562_ba_sim_pos_and_neg.update(load_methods_from_file(\n",
    "    '/users/eprakash/git/interpret-benchmark/notebooks/svm/K562/sim_pos_and_neg_position_auroc_auprc.txt'))"
   ]
  },
  {
   "cell_type": "code",
   "execution_count": 8,
   "metadata": {},
   "outputs": [],
   "source": [
    "def consolidate_method_metrics(methods, cell_lines):\n",
    "    auprcs = OrderedDict()\n",
    "    err = OrderedDict()\n",
    "    for m in methods:\n",
    "        auprc_metrics = []\n",
    "        err_metrics = []\n",
    "        for c in cell_lines:\n",
    "            auprc_metrics.append(c[m][1])\n",
    "            err_metrics.append(c[m][3])\n",
    "            auprcs[m] = auprc_metrics\n",
    "            err[m] = err_metrics\n",
    "    return auprcs, err"
   ]
  },
  {
   "cell_type": "code",
   "execution_count": 9,
   "metadata": {},
   "outputs": [],
   "source": [
    "ds_auprcs, ds_err = consolidate_method_metrics(['grad_times_input', 'deeplift_rcrs_shuff20', 'deeplift_rs_shuff20', 'ig20_shuff20', 'ism', 'gkmexplain'], \n",
    "                                   [A549_ds_sim_pos_and_neg, GM12878_ds_sim_pos_and_neg, H1_ds_sim_pos_and_neg, HepG2_ds_sim_pos_and_neg, K562_ds_sim_pos_and_neg])"
   ]
  },
  {
   "cell_type": "code",
   "execution_count": 10,
   "metadata": {},
   "outputs": [
    {
     "data": {
      "text/plain": [
       "OrderedDict([('grad_times_input',\n",
       "              [0.5755324396868997,\n",
       "               0.5168143939509615,\n",
       "               0.5677796080034275,\n",
       "               0.5561608285813354,\n",
       "               0.5595948988246777]),\n",
       "             ('deeplift_rcrs_shuff20',\n",
       "              [0.749685818017342,\n",
       "               0.7439639641498265,\n",
       "               0.7591574622784208,\n",
       "               0.7585910413190052,\n",
       "               0.7418152508804662]),\n",
       "             ('deeplift_rs_shuff20',\n",
       "              [0.7489618274381986,\n",
       "               0.7474710099529543,\n",
       "               0.7595344092709131,\n",
       "               0.7577905754013912,\n",
       "               0.7419619226834973]),\n",
       "             ('ig20_shuff20',\n",
       "              [0.6730828319366394,\n",
       "               0.6420212877857495,\n",
       "               0.6482043261010929,\n",
       "               0.6731601390427931,\n",
       "               0.646664775072072]),\n",
       "             ('ism',\n",
       "              [0.7158149605325828,\n",
       "               0.6869919937636028,\n",
       "               0.7256910070336305,\n",
       "               0.7212669620757926,\n",
       "               0.6656987555154444]),\n",
       "             ('gkmexplain',\n",
       "              [0.7361742532277558,\n",
       "               0.6822344988688311,\n",
       "               0.7172803934029112,\n",
       "               0.7291986310690977,\n",
       "               0.7045894507869656])])"
      ]
     },
     "execution_count": 10,
     "metadata": {},
     "output_type": "execute_result"
    }
   ],
   "source": [
    "ds_auprcs"
   ]
  },
  {
   "cell_type": "code",
   "execution_count": 11,
   "metadata": {},
   "outputs": [],
   "source": [
    "ba_auprcs, ba_err = consolidate_method_metrics(['grad_times_input', 'deeplift_rcrs_shuff20', 'deeplift_rs_shuff20', 'ig20_shuff20', 'ism', 'gkmexplain'], \n",
    "                                   [A549_ba_sim_pos_and_neg, GM12878_ba_sim_pos_and_neg, H1_ba_sim_pos_and_neg, HepG2_ba_sim_pos_and_neg, K562_ba_sim_pos_and_neg])"
   ]
  },
  {
   "cell_type": "code",
   "execution_count": 12,
   "metadata": {},
   "outputs": [
    {
     "data": {
      "text/plain": [
       "OrderedDict([('grad_times_input',\n",
       "              [0.5757057580502144,\n",
       "               0.5178423433305168,\n",
       "               0.5786466807548363,\n",
       "               0.5940200693973815,\n",
       "               0.5912730921953971]),\n",
       "             ('deeplift_rcrs_shuff20',\n",
       "              [0.6904592574045416,\n",
       "               0.6463626082796061,\n",
       "               0.6620084546850953,\n",
       "               0.7091415938048391,\n",
       "               0.6529481434170664]),\n",
       "             ('deeplift_rs_shuff20',\n",
       "              [0.6843663092806482,\n",
       "               0.648626884298599,\n",
       "               0.6584589394712664,\n",
       "               0.702576029242315,\n",
       "               0.6497235666290291]),\n",
       "             ('ig20_shuff20',\n",
       "              [0.5632223091512321,\n",
       "               0.5593785466264615,\n",
       "               0.5382769309639455,\n",
       "               0.6296542109794038,\n",
       "               0.613444383010783]),\n",
       "             ('ism',\n",
       "              [0.6530008324498568,\n",
       "               0.5947623409696965,\n",
       "               0.6518240595465016,\n",
       "               0.6566350458101494,\n",
       "               0.6480595916158642]),\n",
       "             ('gkmexplain',\n",
       "              [0.7361742532277558,\n",
       "               0.6822344988688311,\n",
       "               0.7172803934029112,\n",
       "               0.7291986310690977,\n",
       "               0.7045894507869656])])"
      ]
     },
     "execution_count": 12,
     "metadata": {},
     "output_type": "execute_result"
    }
   ],
   "source": [
    "ba_auprcs"
   ]
  },
  {
   "cell_type": "code",
   "execution_count": 13,
   "metadata": {},
   "outputs": [],
   "source": [
    "import json\n",
    "\n",
    "auprcs=[ds_auprcs, ba_auprcs]\n",
    "err = [ds_err, ba_err]\n",
    "fp = open('overall_methods_comparison_auprcs.json', 'w')\n",
    "fp2 = open('overall_methods_comparison_err.json', 'w')\n",
    "fp.write(json.dumps(auprcs, indent=4))\n",
    "fp.write(json.dumps(err, indent=4))\n",
    "fp.close()\n",
    "fp2.close()"
   ]
  },
  {
   "cell_type": "code",
   "execution_count": 14,
   "metadata": {},
   "outputs": [
    {
     "data": {
      "image/png": "[encoded data removed]",
      "text/plain": [
       "<Figure size 1440x720 with 2 Axes>"
      ]
     },
     "metadata": {
      "needs_background": "light"
     },
     "output_type": "display_data"
    }
   ],
   "source": [
    "import numpy as np\n",
    "import matplotlib.pyplot as plt\n",
    "\n",
    "fig, axs = plt.subplots(1, 2, figsize=(20,10))\n",
    "fig.tight_layout(pad=3.0)\n",
    "\n",
    "N = 5\n",
    "\n",
    "names = [\"DeepSEA Beluga auPRCs\", \"Basset auPRCs\"]\n",
    "\n",
    "m = 0\n",
    "\n",
    "for r in range(2):\n",
    "    ind = np.arange(N)    \n",
    "    width = 0.10         \n",
    "    axs[r].set_title(names[m])\n",
    "    p1 = axs[r].bar(ind, auprcs[m]['grad_times_input'], width, bottom=0, align='center', yerr=err[m]['grad_times_input'])\n",
    "    p2 = axs[r].bar(ind + width, auprcs[m]['deeplift_rcrs_shuff20'], width, bottom=0, align='center', yerr=err[m]['deeplift_rcrs_shuff20'])\n",
    "    p3 = axs[r].bar(ind + 2*width, auprcs[m]['deeplift_rs_shuff20'], width, bottom=0, align='center', yerr=err[m]['deeplift_rs_shuff20'])\n",
    "    p4 = axs[r].bar(ind + 3*width, auprcs[m]['ig20_shuff20'], width, bottom=0, align='center', yerr=err[m]['ig20_shuff20'])\n",
    "    p5 = axs[r].bar(ind + 4*width, auprcs[m]['ism'], width, bottom=0, align='center', yerr=err[m]['ism'])\n",
    "    p6 = axs[r].bar(ind + 5*width, auprcs[m]['gkmexplain'], width, bottom=0, align='center', yerr=err[m]['gkmexplain'])\n",
    "    \n",
    "    axs[r].set_xticks(ind + width*2.5)\n",
    "    axs[r].set_xticklabels(('A549', 'GM12878', 'H1', 'HepG2', 'K562'))\n",
    "    axs[r].set_ylim(0.1, 1.0)\n",
    "    axs[r].set_yticks((0, 0.1, 0.2, 0.3, 0.4, 0.5, 0.6, 0.7, 0.8, 0.9, 1.0))\n",
    "    axs[r].legend((p1[0], p2[0], p3[0], p4[0], p5[0], p6[0]), ('grad_times_input', 'deeplift_rcrs_shuff20', 'deeplift_rs_shuff20', 'ig20_shuff20', 'ism', 'gkmexplain'), loc='upper left')\n",
    "    axs[r].autoscale_view()\n",
    "    m = m + 1\n",
    "\n",
    "#plt.savefig('sim_pos_and_neg_deeplift_ref.png')\n",
    "plt.show()"
   ]
  },
  {
   "cell_type": "code",
   "execution_count": 15,
   "metadata": {},
   "outputs": [],
   "source": [
    "ds_auprcs, ds_err = consolidate_method_metrics(['deeplift_rs_allzeros', 'deeplift_rs_avgc', 'deeplift_rs_shuff10', 'deeplift_rs_shuff20', 'deeplift_rs_shuff30', 'deeplift_rs_shuff40', 'deeplift_rs_shuff50'], \n",
    "                                   [A549_ds_sim_pos_and_neg, GM12878_ds_sim_pos_and_neg, H1_ds_sim_pos_and_neg, HepG2_ds_sim_pos_and_neg, K562_ds_sim_pos_and_neg])"
   ]
  },
  {
   "cell_type": "code",
   "execution_count": 16,
   "metadata": {},
   "outputs": [
    {
     "data": {
      "text/plain": [
       "OrderedDict([('deeplift_rs_allzeros',\n",
       "              [0.680908379667912,\n",
       "               0.6555994071221757,\n",
       "               0.6747324581995897,\n",
       "               0.67655371361641,\n",
       "               0.6895920493952794]),\n",
       "             ('deeplift_rs_avgc',\n",
       "              [0.7159229803013822,\n",
       "               0.6974149980908293,\n",
       "               0.7180879103998579,\n",
       "               0.7246930197342737,\n",
       "               0.7236864136777458]),\n",
       "             ('deeplift_rs_shuff10',\n",
       "              [0.7446078843458769,\n",
       "               0.7409160499922617,\n",
       "               0.7529336365779176,\n",
       "               0.75323299859096,\n",
       "               0.7351364968894638]),\n",
       "             ('deeplift_rs_shuff20',\n",
       "              [0.7489618274381986,\n",
       "               0.7474710099529543,\n",
       "               0.7595344092709131,\n",
       "               0.7577905754013912,\n",
       "               0.7419619226834973]),\n",
       "             ('deeplift_rs_shuff30',\n",
       "              [0.7508543204301766,\n",
       "               0.7497163562173138,\n",
       "               0.7618347314848827,\n",
       "               0.7593310391761153,\n",
       "               0.7443572497003441]),\n",
       "             ('deeplift_rs_shuff40',\n",
       "              [0.7515521149826936,\n",
       "               0.7508441668006041,\n",
       "               0.7630124571947475,\n",
       "               0.7601220693081202,\n",
       "               0.7455134966405925]),\n",
       "             ('deeplift_rs_shuff50',\n",
       "              [0.7519583480146037,\n",
       "               0.7515867001395965,\n",
       "               0.7636574254410144,\n",
       "               0.7606294687192687,\n",
       "               0.7461824295445544])])"
      ]
     },
     "execution_count": 16,
     "metadata": {},
     "output_type": "execute_result"
    }
   ],
   "source": [
    "ds_auprcs"
   ]
  },
  {
   "cell_type": "code",
   "execution_count": 17,
   "metadata": {},
   "outputs": [],
   "source": [
    "ba_auprcs, ba_err = consolidate_method_metrics(['deeplift_rs_allzeros', 'deeplift_rs_avgc', 'deeplift_rs_shuff10', 'deeplift_rs_shuff20', 'deeplift_rs_shuff30', 'deeplift_rs_shuff40', 'deeplift_rs_shuff50'], \n",
    "                                   [A549_ba_sim_pos_and_neg, GM12878_ba_sim_pos_and_neg, H1_ba_sim_pos_and_neg, HepG2_ba_sim_pos_and_neg, K562_ba_sim_pos_and_neg])"
   ]
  },
  {
   "cell_type": "code",
   "execution_count": 18,
   "metadata": {},
   "outputs": [],
   "source": [
    "auprcs=[ds_auprcs, ba_auprcs]\n",
    "err = [ds_err, ba_err]\n",
    "fp = open('deeplift_ref_comparison_auprcs.json', 'w')\n",
    "fp2 = open('deeplift_ref_comparison_err.json', 'w')\n",
    "fp.write(json.dumps(auprcs, indent=4))\n",
    "fp.write(json.dumps(err, indent=4))\n",
    "fp.close()\n",
    "fp2.close()"
   ]
  },
  {
   "cell_type": "code",
   "execution_count": 19,
   "metadata": {},
   "outputs": [
    {
     "data": {
      "text/plain": [
       "[0.680908379667912,\n",
       " 0.6555994071221757,\n",
       " 0.6747324581995897,\n",
       " 0.67655371361641,\n",
       " 0.6895920493952794]"
      ]
     },
     "execution_count": 19,
     "metadata": {},
     "output_type": "execute_result"
    }
   ],
   "source": [
    "auprcs[0]['deeplift_rs_allzeros']"
   ]
  },
  {
   "cell_type": "code",
   "execution_count": 20,
   "metadata": {},
   "outputs": [
    {
     "data": {
      "image/png": "[encoded data removed]",
      "text/plain": [
       "<Figure size 1440x720 with 2 Axes>"
      ]
     },
     "metadata": {
      "needs_background": "light"
     },
     "output_type": "display_data"
    }
   ],
   "source": [
    "fig, axs = plt.subplots(1, 2, figsize=(20,10))\n",
    "fig.tight_layout(pad=3.0)\n",
    "\n",
    "N = 5\n",
    "\n",
    "names = [\"DeepSEA Beluga auPRCs\", \"Basset auPRCs\"]\n",
    "\n",
    "m = 0\n",
    "\n",
    "for r in range(2):\n",
    "    ind = np.arange(N)    \n",
    "    width = 0.10         \n",
    "    axs[r].set_title(names[m])\n",
    "    p1 = axs[r].bar(ind, auprcs[m]['deeplift_rs_allzeros'], width, bottom=0, align='center', yerr=err[m]['deeplift_rs_allzeros'])\n",
    "    p2 = axs[r].bar(ind + width, auprcs[m]['deeplift_rs_avgc'], width, bottom=0, align='center', yerr=err[m]['deeplift_rs_avgc'])\n",
    "    p3 = axs[r].bar(ind + 2*width, auprcs[m]['deeplift_rs_shuff10'], width, bottom=0, align='center', yerr=err[m]['deeplift_rs_shuff10'])\n",
    "    p4 = axs[r].bar(ind + 3*width, auprcs[m]['deeplift_rs_shuff20'], width, bottom=0, align='center', yerr=err[m]['deeplift_rs_shuff20'])\n",
    "    p5 = axs[r].bar(ind + 4*width, auprcs[m]['deeplift_rs_shuff30'], width, bottom=0, align='center', yerr=err[m]['deeplift_rs_shuff30'])\n",
    "    p6 = axs[r].bar(ind + 5*width, auprcs[m]['deeplift_rs_shuff40'], width, bottom=0, align='center', yerr=err[m]['deeplift_rs_shuff40'])\n",
    "    p7 = axs[r].bar(ind + 6*width, auprcs[m]['deeplift_rs_shuff50'], width, bottom=0, align='center', yerr=err[m]['deeplift_rs_shuff50'])\n",
    "    \n",
    "    axs[r].set_xticks(ind + width*2.5)\n",
    "    axs[r].set_xticklabels(('A549', 'GM12878', 'H1', 'HepG2', 'K562'))\n",
    "    axs[r].set_ylim(0.1, 1.0)\n",
    "    axs[r].set_yticks((0, 0.1, 0.2, 0.3, 0.4, 0.5, 0.6, 0.7, 0.8, 0.9, 1.0))\n",
    "    axs[r].legend((p1[0], p2[0], p3[0], p4[0], p5[0], p6[0], p7[0]), ('deeplift_rs_allzeros', 'deeplift_rs_avgc', 'deeplift_rs_shuff10', 'deeplift_rs_shuff20', 'deeplift_rs_shuff30', 'deeplift_rs_shuff40', 'deeplift_rs_shuff50'), loc='upper left')\n",
    "    axs[r].autoscale_view()\n",
    "    m = m + 1\n",
    "\n",
    "#plt.savefig('sim_pos_and_neg_deeplift_ref.png')\n",
    "plt.show()"
   ]
  },
  {
   "cell_type": "code",
   "execution_count": 21,
   "metadata": {},
   "outputs": [],
   "source": [
    "ds_auprcs, ds_err = consolidate_method_metrics(['ig10_shuff20', 'ig20_shuff20'], \n",
    "                                   [A549_ds_sim_pos_and_neg, GM12878_ds_sim_pos_and_neg, H1_ds_sim_pos_and_neg, HepG2_ds_sim_pos_and_neg, K562_ds_sim_pos_and_neg])\n"
   ]
  },
  {
   "cell_type": "code",
   "execution_count": 22,
   "metadata": {},
   "outputs": [],
   "source": [
    "ba_auprcs, ba_err = consolidate_method_metrics(['ig10_shuff20', 'ig20_shuff20'], \n",
    "                                   [A549_ba_sim_pos_and_neg, GM12878_ba_sim_pos_and_neg, H1_ba_sim_pos_and_neg, HepG2_ba_sim_pos_and_neg, K562_ba_sim_pos_and_neg])\n"
   ]
  },
  {
   "cell_type": "code",
   "execution_count": 23,
   "metadata": {},
   "outputs": [],
   "source": [
    "auprcs=[ds_auprcs, ba_auprcs]\n",
    "err = [ds_err, ba_err]\n",
    "fp = open('ig_comparison_auprcs.json', 'w')\n",
    "fp2 = open('ig_comparison_err.json', 'w')\n",
    "fp.write(json.dumps(auprcs, indent=4))\n",
    "fp.write(json.dumps(err, indent=4))\n",
    "fp.close()\n",
    "fp2.close()"
   ]
  },
  {
   "cell_type": "code",
   "execution_count": 24,
   "metadata": {},
   "outputs": [
    {
     "data": {
      "image/png": "[encoded data removed]",
      "text/plain": [
       "<Figure size 1440x720 with 2 Axes>"
      ]
     },
     "metadata": {
      "needs_background": "light"
     },
     "output_type": "display_data"
    }
   ],
   "source": [
    "fig, axs = plt.subplots(1, 2, figsize=(20,10))\n",
    "fig.tight_layout(pad=3.0)\n",
    "\n",
    "N = 5\n",
    "\n",
    "names = [\"DeepSEA Beluga auPRCs\", \"Basset auPRCs\"]\n",
    "\n",
    "m = 0\n",
    "\n",
    "for r in range(2):\n",
    "    ind = np.arange(N)    \n",
    "    width = 0.20         \n",
    "    axs[r].set_title(names[m])\n",
    "    p1 = axs[r].bar(ind, auprcs[m]['ig10_shuff20'], width, bottom=0, align='center', yerr=err[m]['ig10_shuff20'])\n",
    "    p2 = axs[r].bar(ind + width, auprcs[m]['ig20_shuff20'], width, bottom=0, align='center', yerr=err[m]['ig20_shuff20'])\n",
    "    axs[r].set_xticks(ind + width*0.5)\n",
    "    axs[r].set_xticklabels(('A549', 'GM12878', 'H1', 'HepG2', 'K562'))\n",
    "    axs[r].set_ylim(0.1, 1.0)\n",
    "    axs[r].set_yticks((0, 0.1, 0.2, 0.3, 0.4, 0.5, 0.6, 0.7, 0.8, 0.9, 1.0))\n",
    "    axs[r].legend((p1[0], p2[0]), ('ig10_shuff20','ig20_shuff20'), loc='upper left')\n",
    "    axs[r].autoscale_view()\n",
    "    m = m + 1\n",
    "\n",
    "#plt.savefig('sim_pos_and_neg_deeplift_ref.png')\n",
    "plt.show()"
   ]
  }
 ],
 "metadata": {
  "kernelspec": {
   "display_name": "Python 3",
   "language": "python",
   "name": "python3"
  },
  "language_info": {
   "codemirror_mode": {
    "name": "ipython",
    "version": 3
   },
   "file_extension": ".py",
   "mimetype": "text/x-python",
   "name": "python",
   "nbconvert_exporter": "python",
   "pygments_lexer": "ipython3",
   "version": "3.7.6"
  }
 },
 "nbformat": 4,
 "nbformat_minor": 4
}
