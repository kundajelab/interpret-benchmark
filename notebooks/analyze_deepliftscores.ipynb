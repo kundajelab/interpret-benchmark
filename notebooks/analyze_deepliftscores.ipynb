{
 "cells": [
  {
   "cell_type": "markdown",
   "metadata": {},
   "source": [
    "# Noise Calculation"
   ]
  },
  {
   "cell_type": "code",
   "execution_count": 1,
   "metadata": {
    "collapsed": false
   },
   "outputs": [
    {
     "name": "stdout",
     "output_type": "stream",
     "text": [
      "grad_times_input_scores shape is (409865, 400)\n",
      "rescale_all_scores shape is (409865, 400)\n",
      "rescale_conv_scores shape is (409865, 400)\n",
      "initial_labels shape is (409865,)\n"
     ]
    }
   ],
   "source": [
    "#Read in scores and labels from hdf5 file\n",
    "import h5py    \n",
    "import numpy as np    \n",
    "h5f = h5py.File('/srv/scratch/eprakash/projects/benchmarking/K562/universal_dnase.K562.differential.1200K.lr0.0001/K562.universal_dnase.differential_deepliftscores.seqlabels.h5','r')\n",
    "initial_labels=np.array(h5f.get(\"labels\"))\n",
    "grad_times_input_scores=np.array(h5f.get(\"grad_times_inp\"))\n",
    "rescale_all_scores=np.array(h5f.get(\"rescale_all_layers_multiref_10\"))\n",
    "rescale_conv_scores=np.array(h5f.get(\"rescale_conv_revealcancel_fc_multiref_10\"))\n",
    "seq_len=grad_times_input_scores.shape[1]\n",
    "print (\"grad_times_input_scores shape is \" + str(grad_times_input_scores.shape))\n",
    "print (\"rescale_all_scores shape is \" + str(rescale_all_scores.shape))\n",
    "print (\"rescale_conv_scores shape is \" + str(rescale_conv_scores.shape))\n",
    "print (\"initial_labels shape is \" + str(initial_labels.shape))"
   ]
  },
  {
   "cell_type": "code",
   "execution_count": 2,
   "metadata": {
    "collapsed": false
   },
   "outputs": [
    {
     "name": "stdout",
     "output_type": "stream",
     "text": [
      "[62.31357   76.687614  78.90442   ... 33.189842  -0.7890961 57.426186 ]\n",
      "[37.073105  56.723732  50.896782  ... 24.843655  -5.3572736 42.987335 ]\n",
      "[25.569155  16.838596  15.593767  ... 24.928707   3.9366972  6.694475 ]\n"
     ]
    }
   ],
   "source": [
    "print(np.sum(grad_times_input_scores, axis=1))\n",
    "print(np.sum(rescale_all_scores, axis=1))\n",
    "print(np.sum(rescale_conv_scores, axis=1))"
   ]
  },
  {
   "cell_type": "code",
   "execution_count": 3,
   "metadata": {
    "collapsed": true
   },
   "outputs": [],
   "source": [
    "import collections\n",
    "import gzip\n",
    "def load_sequences_from_bedfile(seqfile):\n",
    "    seqs = collections.OrderedDict()\n",
    "    fp = gzip.open(seqfile, \"rb\")\n",
    "    print(\"#Loading \" + seqfile + \" ...\")\n",
    "    for line in fp:\n",
    "        (label, sequence)=line.split()\n",
    "        seqs[label]=sequence\n",
    "    fp.close()\n",
    "    print(\"#Loaded \" + str(len(seqs.keys())) + \" sequences from \" + seqfile)\n",
    "    return seqs"
   ]
  },
  {
   "cell_type": "code",
   "execution_count": 4,
   "metadata": {
    "collapsed": false
   },
   "outputs": [
    {
     "name": "stdout",
     "output_type": "stream",
     "text": [
      "#Loading /users/eprakash/projects/benchmarking/newdata/K562/K562.differential.implanted.bed.gz ...\n",
      "#Loaded 209865 sequences from /users/eprakash/projects/benchmarking/newdata/K562/K562.differential.implanted.bed.gz\n"
     ]
    }
   ],
   "source": [
    "pos_seqs=load_sequences_from_bedfile(\"/users/eprakash/projects/benchmarking/newdata/K562/K562.differential.implanted.bed.gz\")\n",
    "initial_positive_labels=pos_seqs.keys()"
   ]
  },
  {
   "cell_type": "code",
   "execution_count": 5,
   "metadata": {
    "collapsed": true
   },
   "outputs": [],
   "source": [
    "import re\n",
    "\n",
    "def rename(label):\n",
    "    match=re.match('.*_(chr.*)$',label)\n",
    "    if match:\n",
    "        return match.group(1)\n",
    "    else:\n",
    "        return \"\""
   ]
  },
  {
   "cell_type": "code",
   "execution_count": 6,
   "metadata": {
    "collapsed": false
   },
   "outputs": [
    {
     "name": "stdout",
     "output_type": "stream",
     "text": [
      "(409865,)\n"
     ]
    }
   ],
   "source": [
    "size=len(initial_labels)\n",
    "labels=np.empty(size,dtype=object)\n",
    "#fpointer = open(\"/users/eprakash/projects/benchmarking/newdata/K562/K562_pos_labels_truncated.txt\", \"w\")\n",
    "for index in range(0, size):\n",
    "    labels[index]=rename(initial_labels[index])\n",
    "    #fpointer.write(str(labels[index]) + \"\\n\")\n",
    "#Sanity check\n",
    "#fpointer.close()\n",
    "print labels.shape"
   ]
  },
  {
   "cell_type": "code",
   "execution_count": 7,
   "metadata": {
    "collapsed": false
   },
   "outputs": [
    {
     "name": "stdout",
     "output_type": "stream",
     "text": [
      "(209865,)\n",
      "['chr10:100006295-100006695' 'chr10:100008210-100008610'\n",
      " 'chr10:100009769-100010169' 'chr10:100009483-100009883'\n",
      " 'chr10:100028130-100028530' 'chr10:100027841-100028241'\n",
      " 'chr10:100044474-100044874' 'chr10:100046011-100046411'\n",
      " 'chr10:100057348-100057748' 'chr10:100065122-100065522']\n"
     ]
    }
   ],
   "source": [
    "size=len(initial_positive_labels)\n",
    "positive_labels=np.empty(size,dtype=object)\n",
    "#fpointer = open(\"/users/eprakash/projects/benchmarking/newdata/K562/K562_pos_labels_truncated.txt\", \"w\")\n",
    "for index in range(0, size):\n",
    "    positive_labels[index]=rename(initial_positive_labels[index])\n",
    "    #fpointer.write(str(labels[index]) + \"\\n\")\n",
    "#Sanity check\n",
    "#fpointer.close()\n",
    "print positive_labels.shape\n",
    "print positive_labels[0:10]"
   ]
  },
  {
   "cell_type": "code",
   "execution_count": 8,
   "metadata": {
    "collapsed": false
   },
   "outputs": [],
   "source": [
    "import re\n",
    "def load_motif_matches(motif_match_file, doprint=False):\n",
    "        \"\"\"\n",
    "        Loads a homer motif match file into an ordered dictionary with key as se\n",
    "quence name\n",
    "        and value as list of dictionaries each containing the keys - motif, sequ\n",
    "ence,\n",
    "        begin (0-indexed inclusive begin index of motif), end (0-indexed exclusi\n",
    "ve end index),\n",
    "        strand (+ or -), seqval. Each dictionary\n",
    "        represents one motif match on that sequence\n",
    "        \"\"\"\n",
    "        motif_matches = collections.OrderedDict()\n",
    "        fp = open(motif_match_file, \"r\")\n",
    "        if doprint:\n",
    "                print(\"#Loading \" + motif_match_file + \" ...\")\n",
    "        numlines = 0\n",
    "        for line in fp:\n",
    "                match = re.match(\"((\\w|\\-)+)\\s+((\\w|\\:|\\-)+)\\s+(\\d+)\\s+(\\d+)\\s+(\\+|\\-)\\s+.+\\s+(\\w+)$\", line)\n",
    "                if match:\n",
    "                        numlines = numlines + 1\n",
    "                        motif = match.group(1)\n",
    "                        sequence = match.group(3)\n",
    "                        begin = int(match.group(5))\n",
    "                        end = int(match.group(6))\n",
    "                        strand = match.group(7)\n",
    "                        seqval = match.group(8)\n",
    "                        entry = dict()\n",
    "                        entry['motif'] = motif\n",
    "                        entry['sequence'] = sequence\n",
    "                        entry['begin'] = begin-1 # Homer motif match file is 1 indexed, convert to 0\n",
    "                        entry['end'] = end # Homer motif match file is 1 indexed AND inclusive, convert to 0 and exclusive\n",
    "                        entry['strand'] = strand\n",
    "                        entry['seqval'] = seqval\n",
    "                        if sequence not in motif_matches:\n",
    "                                motif_matches[sequence] = list()\n",
    "                        motif_matches[sequence].append(entry)\n",
    "        fp.close()\n",
    "        if doprint:\n",
    "                print(\"#Loaded \" + str(numlines) + \" motif matches in \" + str(len(motif_matches.keys())) + \" sequences\")\n",
    "        return motif_matches\n",
    "    "
   ]
  },
  {
   "cell_type": "code",
   "execution_count": 9,
   "metadata": {
    "collapsed": false
   },
   "outputs": [
    {
     "name": "stdout",
     "output_type": "stream",
     "text": [
      "#Loading /users/eprakash/projects/benchmarking/newdata/K562/K562.differential.motif_matches.txt ...\n",
      "#Loaded 3592177 motif matches in 209822 sequences\n"
     ]
    }
   ],
   "source": [
    "motif_matches=load_motif_matches('/users/eprakash/projects/benchmarking/newdata/K562/K562.differential.motif_matches.txt', True)"
   ]
  },
  {
   "cell_type": "markdown",
   "metadata": {},
   "source": [
    "### Selects positive labels by checking presence in K562 motif matches\n",
    "### (retains order of labels)"
   ]
  },
  {
   "cell_type": "code",
   "execution_count": 10,
   "metadata": {
    "collapsed": false
   },
   "outputs": [
    {
     "name": "stdout",
     "output_type": "stream",
     "text": [
      "['chr10:100006295-100006695' 'chr10:100008210-100008610'\n",
      " 'chr10:100009769-100010169' 'chr10:100009483-100009883'\n",
      " 'chr10:100028130-100028530' 'chr10:100027841-100028241'\n",
      " 'chr10:100044474-100044874' 'chr10:100046011-100046411'\n",
      " 'chr10:100057348-100057748' 'chr10:100065122-100065522']\n"
     ]
    }
   ],
   "source": [
    "print positive_labels[0:10]"
   ]
  },
  {
   "cell_type": "code",
   "execution_count": 11,
   "metadata": {
    "collapsed": true
   },
   "outputs": [],
   "source": [
    "def get_relevant_labels_in_order_of_scores(labels, motif_matches):\n",
    "    relevant_labels_list=[]\n",
    "    relevant_indices_list=[]\n",
    "    sequence_index=0\n",
    "    positive_labels_set = set(positive_labels)\n",
    "    for sequence_label in labels:\n",
    "        if sequence_label in positive_labels_set:\n",
    "            relevant_indices_list.append(sequence_index)\n",
    "            relevant_labels_list.append(sequence_label)\n",
    "        sequence_index=sequence_index+1\n",
    "    print str(len(relevant_indices_list))\n",
    "    print str(len(relevant_labels_list))\n",
    "    return relevant_indices_list, relevant_labels_list"
   ]
  },
  {
   "cell_type": "code",
   "execution_count": 12,
   "metadata": {
    "collapsed": false
   },
   "outputs": [
    {
     "name": "stdout",
     "output_type": "stream",
     "text": [
      "209865\n",
      "209865\n"
     ]
    }
   ],
   "source": [
    "relevant_indices_list, relevant_labels_list = get_relevant_labels_in_order_of_scores(labels, motif_matches)"
   ]
  },
  {
   "cell_type": "code",
   "execution_count": 13,
   "metadata": {
    "collapsed": false
   },
   "outputs": [
    {
     "name": "stdout",
     "output_type": "stream",
     "text": [
      "set(['chr14:74171653-74172053', 'chr12:109385221-109385621', 'chr17:69046893-69047293', 'chr10:79879800-79880200', 'chr16:4282728-4283128', 'chr8:101646258-101646658', 'chr1:146036004-146036404', 'chr1:91095730-91096130', 'chr3:53065158-53065558', 'chr9:92825365-92825765', 'chr2:73887978-73888378', 'chr2:135011456-135011856', 'chr1:64067591-64067991', 'chr6:146466065-146466465', 'chr22:17516625-17517025', 'chr11:62850445-62850845', 'chr3:152524536-152524936', 'chr7:75245695-75246095', 'chr6:28475650-28476050', 'chr9:67051757-67052157', 'chr15:55160385-55160785', 'chr6:34353546-34353946', 'chr14:57240123-57240523', 'chr5:149871047-149871447', 'chr12:14318294-14318694', 'chr1:248938157-248938557', 'chr17:50670986-50671386', 'chr15:82388743-82389143', 'chrX:156030082-156030482', 'chr9:125537747-125538147', 'chr5:91367983-91368383', 'chr12:120994769-120995169', 'chr6:34013894-34014294', 'chr18:34861184-34861584', 'chr17:10324760-10325160', 'chr2:38363907-38364307', 'chr1:109555923-109556323', 'chr16:22052982-22053382', 'chr4:39025063-39025463', 'chr1:163208255-163208655', 'chr6:158747321-158747721', 'chr11:33362588-33362988', 'chr17:31835562-31835962'])\n"
     ]
    }
   ],
   "source": [
    "positive_labels_set = set(positive_labels)\n",
    "motif_labels_set = set(motif_matches.keys())\n",
    "missing_positive_labels = positive_labels_set - (positive_labels_set & motif_labels_set) \n",
    "print(missing_positive_labels)"
   ]
  },
  {
   "cell_type": "markdown",
   "metadata": {},
   "source": [
    "### Extracts scores corresponding to relevant labels"
   ]
  },
  {
   "cell_type": "code",
   "execution_count": 14,
   "metadata": {
    "collapsed": false
   },
   "outputs": [],
   "source": [
    "def get_relevant_scores(relevant_indices_list, scores):\n",
    "    relevant_scores=np.zeros((len(relevant_indices_list),seq_len))\n",
    "    index=0\n",
    "    for scores_index in relevant_indices_list:\n",
    "        relevant_scores[index]=scores[scores_index]\n",
    "        index=index+1\n",
    "    return relevant_scores"
   ]
  },
  {
   "cell_type": "code",
   "execution_count": 15,
   "metadata": {
    "collapsed": false
   },
   "outputs": [
    {
     "name": "stdout",
     "output_type": "stream",
     "text": [
      "[[ 0.00223626  0.02039966 -0.00274125  0.03336053 -0.00286389]\n",
      " [-0.0099206   0.00973149 -0.00650292  0.00717305  0.0231479 ]\n",
      " [ 0.01717727  0.0175387  -0.01577616  0.01614813  0.00814968]\n",
      " [-0.01551178  0.01777246  0.01931954  0.02422217  0.09361149]\n",
      " [-0.01331088 -0.01412914  0.01165758  0.04751158  0.01086766]]\n"
     ]
    }
   ],
   "source": [
    "grad_times_input_relevant_scores=get_relevant_scores(relevant_indices_list, grad_times_input_scores)\n",
    "rescale_all_relevant_scores=get_relevant_scores(relevant_indices_list, rescale_all_scores)\n",
    "rescale_conv_relevant_scores=get_relevant_scores(relevant_indices_list, rescale_conv_scores)\n",
    "#Sanity check\n",
    "print grad_times_input_relevant_scores[0:5,0:5]"
   ]
  },
  {
   "cell_type": "markdown",
   "metadata": {},
   "source": [
    "### Creates a filter for each positive sequence such that all but the actual motif positions are marked \"0\" (masked)"
   ]
  },
  {
   "cell_type": "code",
   "execution_count": 16,
   "metadata": {
    "collapsed": false
   },
   "outputs": [],
   "source": [
    "def get_filter(motif_matches, relevant_labels_list):\n",
    "    filter=np.zeros((len(relevant_labels_list),seq_len))\n",
    "    seq_index=0\n",
    "    for label in relevant_labels_list:\n",
    "        if label in motif_matches:\n",
    "            seq_info_list=motif_matches[label]\n",
    "            for seq_info in seq_info_list:\n",
    "                motif_begin=seq_info['begin']\n",
    "                motif_end=seq_info['end']\n",
    "                if seq_index==0:\n",
    "                    filter[seq_index,motif_begin:motif_end]=1.0\n",
    "        seq_index=seq_index+1\n",
    "    return filter"
   ]
  },
  {
   "cell_type": "code",
   "execution_count": 17,
   "metadata": {
    "collapsed": false
   },
   "outputs": [
    {
     "name": "stdout",
     "output_type": "stream",
     "text": [
      "[[0. 0. 0. 0. 0. 0. 0. 0. 0. 1. 1. 1. 1. 1. 1. 1. 1. 0. 0. 0.]\n",
      " [0. 0. 0. 0. 0. 0. 0. 0. 0. 0. 0. 0. 0. 0. 0. 0. 0. 0. 0. 0.]\n",
      " [0. 0. 0. 0. 0. 0. 0. 0. 0. 0. 0. 0. 0. 0. 0. 0. 0. 0. 0. 0.]\n",
      " [0. 0. 0. 0. 0. 0. 0. 0. 0. 0. 0. 0. 0. 0. 0. 0. 0. 0. 0. 0.]\n",
      " [0. 0. 0. 0. 0. 0. 0. 0. 0. 0. 0. 0. 0. 0. 0. 0. 0. 0. 0. 0.]]\n"
     ]
    }
   ],
   "source": [
    "filter=get_filter(motif_matches, relevant_labels_list)\n",
    "print filter[0:5, 0:20]"
   ]
  },
  {
   "cell_type": "code",
   "execution_count": 18,
   "metadata": {
    "collapsed": false
   },
   "outputs": [
    {
     "name": "stdout",
     "output_type": "stream",
     "text": [
      "(209865, 400)\n"
     ]
    }
   ],
   "source": [
    "print(filter.shape)"
   ]
  },
  {
   "cell_type": "markdown",
   "metadata": {},
   "source": [
    "### Weights relevant scores based on filter"
   ]
  },
  {
   "cell_type": "code",
   "execution_count": 19,
   "metadata": {
    "collapsed": false,
    "scrolled": true
   },
   "outputs": [
    {
     "name": "stdout",
     "output_type": "stream",
     "text": [
      "Shape of grad_times_input_relevant_scores is (209865, 400)\n",
      "Shape of rescale_all_motif_overlap_scores is (209865, 400)\n",
      "Shape of rescale_conv_motif_overlap_scores is (209865, 400)\n",
      "Shape of grad_times_input_motif_overlap_scores is (209865, 400)\n",
      "Shape of rescale_all_motif_overlap_scores is (209865, 400)\n",
      "Shape of rescale_conv_motif_overlap_scores is (209865, 400)\n"
     ]
    }
   ],
   "source": [
    "print(\"Shape of grad_times_input_relevant_scores is \" + str(grad_times_input_relevant_scores.shape))\n",
    "print(\"Shape of rescale_all_motif_overlap_scores is \" + str(rescale_all_relevant_scores.shape))\n",
    "print(\"Shape of rescale_conv_motif_overlap_scores is \" + str(rescale_conv_relevant_scores.shape))\n",
    "grad_times_input_motif_overlap_scores=np.multiply(filter,grad_times_input_relevant_scores)\n",
    "rescale_all_motif_overlap_scores=np.multiply(filter,rescale_all_relevant_scores)\n",
    "rescale_conv_motif_overlap_scores=np.multiply(filter,rescale_conv_relevant_scores)\n",
    "print(\"Shape of grad_times_input_motif_overlap_scores is \" + str(grad_times_input_motif_overlap_scores.shape))\n",
    "print(\"Shape of rescale_all_motif_overlap_scores is \" + str(rescale_all_motif_overlap_scores.shape))\n",
    "print(\"Shape of rescale_conv_motif_overlap_scores is \" + str(rescale_conv_motif_overlap_scores.shape))"
   ]
  },
  {
   "cell_type": "code",
   "execution_count": 20,
   "metadata": {
    "collapsed": true
   },
   "outputs": [],
   "source": [
    "def get_sum(scores, doPrint=False):\n",
    "    if doPrint:\n",
    "        tmp = np.sum(abs(scores),axis=1)\n",
    "        print tmp\n",
    "        print tmp.shape\n",
    "        return tmp\n",
    "    else:\n",
    "        return np.sum(abs(scores),axis=1)"
   ]
  },
  {
   "cell_type": "markdown",
   "metadata": {},
   "source": [
    "### Computes [sum of absolute importance falling within motif locations]/[total absolute importance in sequence]"
   ]
  },
  {
   "cell_type": "code",
   "execution_count": 21,
   "metadata": {
    "collapsed": false
   },
   "outputs": [
    {
     "name": "stdout",
     "output_type": "stream",
     "text": [
      "[36.99276502  0.          0.         ...  0.          0.\n",
      "  0.        ]\n",
      "(209865,)\n",
      "[ 93.2743771  102.3232303  111.01258956 ...  92.2001472   98.53960822\n",
      "  92.70319912]\n",
      "(209865,)\n",
      "Grad times input average: 1.8897938041047215e-06\n",
      "Rescale all average: 1.978381375977365e-06\n",
      "Rescale conv average: 2.0269886256649467e-06\n"
     ]
    }
   ],
   "source": [
    "grad_times_input_noise=np.divide(get_sum(grad_times_input_motif_overlap_scores, doPrint=True),get_sum(grad_times_input_relevant_scores,doPrint=True))\n",
    "rescale_all_noise=np.divide(get_sum(rescale_all_motif_overlap_scores),get_sum(rescale_all_relevant_scores))\n",
    "rescale_conv_noise=np.divide(get_sum(rescale_conv_motif_overlap_scores),get_sum(rescale_conv_relevant_scores))\n",
    "print (\"Grad times input average: \" + str(np.average(grad_times_input_noise)))\n",
    "print (\"Rescale all average: \" + str(np.average(rescale_all_noise)))\n",
    "print (\"Rescale conv average: \" + str(np.average(rescale_conv_noise)))"
   ]
  },
  {
   "cell_type": "markdown",
   "metadata": {},
   "source": [
    "# Violin Plots"
   ]
  },
  {
   "cell_type": "code",
   "execution_count": 22,
   "metadata": {
    "collapsed": false
   },
   "outputs": [],
   "source": [
    "combined=np.zeros((grad_times_input_noise.shape[0],3))\n",
    "combined[:,0]=grad_times_input_noise\n",
    "combined[:,1]=rescale_all_noise\n",
    "combined[:,2]=rescale_conv_noise"
   ]
  },
  {
   "cell_type": "code",
   "execution_count": 23,
   "metadata": {
    "collapsed": false
   },
   "outputs": [
    {
     "name": "stdout",
     "output_type": "stream",
     "text": [
      "grad_times_input, rescale_all, rescale_conv\n"
     ]
    },
    {
     "data": {
      "image/png": "[encoded data removed]",
      "text/plain": [
       "<matplotlib.figure.Figure at 0x7f7298d84950>"
      ]
     },
     "metadata": {},
     "output_type": "display_data"
    }
   ],
   "source": [
    "import matplotlib.pyplot as plt\n",
    "plt.violinplot(combined, showmeans=True, showextrema=True, showmedians=True)\n",
    "print(\"grad_times_input, rescale_all, rescale_conv\")\n",
    "plt.show()"
   ]
  },
  {
   "cell_type": "code",
   "execution_count": null,
   "metadata": {
    "collapsed": true
   },
   "outputs": [],
   "source": []
  }
 ],
 "metadata": {
  "anaconda-cloud": {},
  "kernelspec": {
   "display_name": "Python [default]",
   "language": "python",
   "name": "python2"
  },
  "language_info": {
   "codemirror_mode": {
    "name": "ipython",
    "version": 2
   },
   "file_extension": ".py",
   "mimetype": "text/x-python",
   "name": "python",
   "nbconvert_exporter": "python",
   "pygments_lexer": "ipython2",
   "version": "2.7.12"
  }
 },
 "nbformat": 4,
 "nbformat_minor": 2
}
