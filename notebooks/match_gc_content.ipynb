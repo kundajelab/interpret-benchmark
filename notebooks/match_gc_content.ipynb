{
 "cells": [
  {
   "cell_type": "code",
   "execution_count": 1,
   "metadata": {},
   "outputs": [],
   "source": [
    "import re\n",
    "import gzip\n",
    "from collections import OrderedDict\n",
    "\n",
    "def load_sequences(seqfile):\n",
    "        seqs = OrderedDict()\n",
    "        fp = gzip.open(seqfile, \"rb\")\n",
    "        print(\"#Loading \" + seqfile + \" ...\")\n",
    "        for line in fp:\n",
    "            line=line.decode('utf8').split()\n",
    "            seqs.update({line[0]:line[1]})\n",
    "        fp.close()\n",
    "        print(\"#Loaded \" + str(len(seqs)) + \" sequences from \" + seqfile)\n",
    "        return seqs"
   ]
  },
  {
   "cell_type": "code",
   "execution_count": 2,
   "metadata": {
    "scrolled": true
   },
   "outputs": [
    {
     "name": "stdout",
     "output_type": "stream",
     "text": [
      "#Loading /users/eprakash/git/interpret-benchmark/data/dnase_positives/common_scripts/K562/sequences/K562_test_positives.txt.gz ...\n",
      "#Loaded 30925 sequences from /users/eprakash/git/interpret-benchmark/data/dnase_positives/common_scripts/K562/sequences/K562_test_positives.txt.gz\n",
      "#Loading /users/eprakash/git/interpret-benchmark/data/dnase_positives/common_scripts/K562/sequences/K562_test_negatives.txt.gz ...\n",
      "#Loaded 176584 sequences from /users/eprakash/git/interpret-benchmark/data/dnase_positives/common_scripts/K562/sequences/K562_test_negatives.txt.gz\n"
     ]
    }
   ],
   "source": [
    "import random\n",
    "\n",
    "pos_seqs_dict= load_sequences('/users/eprakash/git/interpret-benchmark/data/dnase_positives/common_scripts/K562/sequences/K562_test_positives.txt.gz')\n",
    "neg_seqs_dict= load_sequences('/users/eprakash/git/interpret-benchmark/data/dnase_positives/common_scripts/K562/sequences/K562_test_negatives.txt.gz')\n",
    "pos_labels=pos_seqs_dict.keys()\n",
    "neg_labels=neg_seqs_dict.keys()\n",
    "pos_seqs=pos_seqs_dict.values()\n",
    "neg_seqs=neg_seqs_dict.values()"
   ]
  },
  {
   "cell_type": "code",
   "execution_count": 3,
   "metadata": {},
   "outputs": [],
   "source": [
    "def gc_content(seq):\n",
    "    g_count=seq.lower().count('g')\n",
    "    c_count=seq.lower().count('c')\n",
    "    return float(g_count+c_count)/float(len(seq))"
   ]
  },
  {
   "cell_type": "code",
   "execution_count": 4,
   "metadata": {},
   "outputs": [],
   "source": [
    "import matplotlib.pyplot as plt\n",
    "import numpy as np\n",
    "def sample_matched_bqtls(bqtls_to_match, bqtls_to_sample, attrfunc):\n",
    "    #sort bqtls_to_sample by the attribute\n",
    "    sorted_bqtls_to_sample = sorted([x for x in bqtls_to_sample\n",
    "                                     if np.isnan(attrfunc(x))==False],\n",
    "                                    key=lambda x: attrfunc(x))\n",
    "    #create a list of just the attribute values from the sorted items\n",
    "    sorted_bqtls_to_sample_vals = [attrfunc(x) for x in sorted_bqtls_to_sample]\n",
    "    \n",
    "    bqtls_to_match_vals = [attrfunc(x) for x in bqtls_to_match]\n",
    "\n",
    "    #for each value in the set to match, find the index in sorted_bqtls_to_sample_vals that matches it best\n",
    "    searchsorted_indices = np.searchsorted(a=sorted_bqtls_to_sample_vals, v=bqtls_to_match_vals)\n",
    "    \n",
    "    matched_sampled_bqtls_indices = set()\n",
    "    \n",
    "    for idx in searchsorted_indices:\n",
    "        #if the index you are considering sampling has already been sampled in a previous step, shift the index around until you find an index that isn't taken\n",
    "        shift = 1\n",
    "        while (idx in matched_sampled_bqtls_indices or idx==len(sorted_bqtls_to_sample)):\n",
    "            #if you are about to go over the end of the list in your search for an index that is not taken, start searching in the other direction\n",
    "            if idx == len(sorted_bqtls_to_sample):\n",
    "                shift = -1\n",
    "            idx += shift\n",
    "        if (idx < 0 or idx > len(sorted_bqtls_to_sample)):\n",
    "            print(idx) #this print statement shouldn't be triggered unless the set you are trying to match is bigger than the set you are subsampling from\n",
    "        matched_sampled_bqtls_indices.add(idx)\n",
    "    \n",
    "    matched_sampled_bqtls = [sorted_bqtls_to_sample[idx] for idx in sorted(matched_sampled_bqtls_indices)]\n",
    "    \n",
    "    #compare the two distributions to see if they match well\n",
    "    import seaborn as sns\n",
    "    sns.distplot([attrfunc(x) for x in bqtls_to_match], color='blue')\n",
    "    sns.distplot([attrfunc(x) for x in matched_sampled_bqtls], color='red')\n",
    "    plt.show()\n",
    "    \n",
    "    return matched_sampled_bqtls"
   ]
  },
  {
   "cell_type": "code",
   "execution_count": 5,
   "metadata": {},
   "outputs": [
    {
     "data": {
      "image/png": "[encoded data removed]",
      "text/plain": [
       "<Figure size 432x288 with 1 Axes>"
      ]
     },
     "metadata": {
      "needs_background": "light"
     },
     "output_type": "display_data"
    }
   ],
   "source": [
    "matched_sampled_negatives=sample_matched_bqtls(bqtls_to_match=pos_seqs, bqtls_to_sample=neg_seqs, attrfunc=gc_content)"
   ]
  },
  {
   "cell_type": "code",
   "execution_count": 6,
   "metadata": {},
   "outputs": [],
   "source": [
    "matched_neg_seqs=OrderedDict()\n",
    "for matched_seq in matched_sampled_negatives:\n",
    "    idx=list(neg_seqs).index(matched_seq)\n",
    "    matched_neg_seqs.update({list(neg_labels)[idx]:list(neg_seqs)[idx]})"
   ]
  },
  {
   "cell_type": "code",
   "execution_count": 7,
   "metadata": {},
   "outputs": [],
   "source": [
    "fp = open('K562_matched_test_negatives.txt', \"w\")\n",
    "idx=0\n",
    "for matched_seq_key in matched_neg_seqs.keys():\n",
    "    fp.write(matched_seq_key+'\\t')\n",
    "    if idx==len(matched_neg_seqs)-1:\n",
    "        fp.write(matched_neg_seqs[matched_seq_key])\n",
    "    else:\n",
    "        fp.write(matched_neg_seqs[matched_seq_key]+'\\n')\n",
    "fp.close()"
   ]
  },
  {
   "cell_type": "code",
   "execution_count": null,
   "metadata": {},
   "outputs": [],
   "source": []
  }
 ],
 "metadata": {
  "anaconda-cloud": {},
  "kernelspec": {
   "display_name": "Python 3",
   "language": "python",
   "name": "python3"
  },
  "language_info": {
   "codemirror_mode": {
    "name": "ipython",
    "version": 3
   },
   "file_extension": ".py",
   "mimetype": "text/x-python",
   "name": "python",
   "nbconvert_exporter": "python",
   "pygments_lexer": "ipython3",
   "version": "3.7.6"
  }
 },
 "nbformat": 4,
 "nbformat_minor": 2
}
