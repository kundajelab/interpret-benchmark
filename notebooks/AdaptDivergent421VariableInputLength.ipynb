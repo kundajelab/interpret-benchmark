{
 "cells": [
  {
   "cell_type": "markdown",
   "metadata": {
    "colab_type": "text",
    "id": "view-in-github"
   },
   "source": [
    "<a href=\"https://colab.research.google.com/github/AvantiShri/colab_notebooks/blob/master/AdaptDeepSEAvariableInputLength.ipynb\" target=\"_parent\"><img src=\"https://colab.research.google.com/assets/colab-badge.svg\" alt=\"Open In Colab\"/></a>"
   ]
  },
  {
   "cell_type": "code",
   "execution_count": 1,
   "metadata": {},
   "outputs": [],
   "source": [
    "import os"
   ]
  },
  {
   "cell_type": "code",
   "execution_count": 2,
   "metadata": {},
   "outputs": [
    {
     "name": "stderr",
     "output_type": "stream",
     "text": [
      "Using TensorFlow backend.\n",
      "/users/eprakash/anaconda3/envs/keras_test/lib/python3.6/site-packages/tensorflow/python/framework/dtypes.py:519: FutureWarning: Passing (type, 1) or '1type' as a synonym of type is deprecated; in a future version of numpy, it will be understood as (type, (1,)) / '(1,)type'.\n",
      "  _np_qint8 = np.dtype([(\"qint8\", np.int8, 1)])\n",
      "/users/eprakash/anaconda3/envs/keras_test/lib/python3.6/site-packages/tensorflow/python/framework/dtypes.py:520: FutureWarning: Passing (type, 1) or '1type' as a synonym of type is deprecated; in a future version of numpy, it will be understood as (type, (1,)) / '(1,)type'.\n",
      "  _np_quint8 = np.dtype([(\"quint8\", np.uint8, 1)])\n",
      "/users/eprakash/anaconda3/envs/keras_test/lib/python3.6/site-packages/tensorflow/python/framework/dtypes.py:521: FutureWarning: Passing (type, 1) or '1type' as a synonym of type is deprecated; in a future version of numpy, it will be understood as (type, (1,)) / '(1,)type'.\n",
      "  _np_qint16 = np.dtype([(\"qint16\", np.int16, 1)])\n",
      "/users/eprakash/anaconda3/envs/keras_test/lib/python3.6/site-packages/tensorflow/python/framework/dtypes.py:522: FutureWarning: Passing (type, 1) or '1type' as a synonym of type is deprecated; in a future version of numpy, it will be understood as (type, (1,)) / '(1,)type'.\n",
      "  _np_quint16 = np.dtype([(\"quint16\", np.uint16, 1)])\n",
      "/users/eprakash/anaconda3/envs/keras_test/lib/python3.6/site-packages/tensorflow/python/framework/dtypes.py:523: FutureWarning: Passing (type, 1) or '1type' as a synonym of type is deprecated; in a future version of numpy, it will be understood as (type, (1,)) / '(1,)type'.\n",
      "  _np_qint32 = np.dtype([(\"qint32\", np.int32, 1)])\n",
      "/users/eprakash/anaconda3/envs/keras_test/lib/python3.6/site-packages/tensorflow/python/framework/dtypes.py:528: FutureWarning: Passing (type, 1) or '1type' as a synonym of type is deprecated; in a future version of numpy, it will be understood as (type, (1,)) / '(1,)type'.\n",
      "  np_resource = np.dtype([(\"resource\", np.ubyte, 1)])\n"
     ]
    },
    {
     "data": {
      "text/plain": [
       "'1.2.2'"
      ]
     },
     "execution_count": 2,
     "metadata": {},
     "output_type": "execute_result"
    }
   ],
   "source": [
    "import keras\n",
    "\n",
    "keras.__version__"
   ]
  },
  {
   "cell_type": "code",
   "execution_count": 3,
   "metadata": {
    "colab": {
     "base_uri": "https://localhost:8080/",
     "height": 1000
    },
    "colab_type": "code",
    "id": "QYIiIBRUuvn5",
    "outputId": "82c2db68-5466-4224-be3c-a77232588586"
   },
   "outputs": [
    {
     "name": "stdout",
     "output_type": "stream",
     "text": [
      "WARNING:tensorflow:From /users/eprakash/anaconda3/envs/keras_test/lib/python3.6/site-packages/keras/backend/tensorflow_backend.py:1047: calling reduce_prod (from tensorflow.python.ops.math_ops) with keep_dims is deprecated and will be removed in a future version.\n",
      "Instructions for updating:\n",
      "keep_dims is deprecated, use keepdims instead\n",
      "WARNING:tensorflow:From /users/eprakash/anaconda3/envs/keras_test/lib/python3.6/site-packages/keras/backend/tensorflow_backend.py:1029: calling reduce_sum (from tensorflow.python.ops.math_ops) with keep_dims is deprecated and will be removed in a future version.\n",
      "Instructions for updating:\n",
      "keep_dims is deprecated, use keepdims instead\n",
      "____________________________________________________________________________________________________\n",
      "Layer (type)                     Output Shape          Param #     Connected to                     \n",
      "====================================================================================================\n",
      "data/genome_data_dir (InputLayer (None, 1000, 4)       0                                            \n",
      "____________________________________________________________________________________________________\n",
      "convolution1d_1 (Convolution1D)  (None, 982, 300)      23100       data/genome_data_dir[0][0]       \n",
      "____________________________________________________________________________________________________\n",
      "batchnormalization_1 (BatchNorma (None, 982, 300)      1200        convolution1d_1[0][0]            \n",
      "____________________________________________________________________________________________________\n",
      "prelu_1 (PReLU)                  (None, 982, 300)      294600      batchnormalization_1[0][0]       \n",
      "____________________________________________________________________________________________________\n",
      "maxpooling1d_1 (MaxPooling1D)    (None, 327, 300)      0           prelu_1[0][0]                    \n",
      "____________________________________________________________________________________________________\n",
      "convolution1d_2 (Convolution1D)  (None, 327, 200)      660200      maxpooling1d_1[0][0]             \n",
      "____________________________________________________________________________________________________\n",
      "batchnormalization_2 (BatchNorma (None, 327, 200)      800         convolution1d_2[0][0]            \n",
      "____________________________________________________________________________________________________\n",
      "prelu_2 (PReLU)                  (None, 327, 200)      65400       batchnormalization_2[0][0]       \n",
      "____________________________________________________________________________________________________\n",
      "maxpooling1d_2 (MaxPooling1D)    (None, 81, 200)       0           prelu_2[0][0]                    \n",
      "____________________________________________________________________________________________________\n",
      "convolution1d_3 (Convolution1D)  (None, 81, 200)       280200      maxpooling1d_2[0][0]             \n",
      "____________________________________________________________________________________________________\n",
      "batchnormalization_3 (BatchNorma (None, 81, 200)       800         convolution1d_3[0][0]            \n",
      "____________________________________________________________________________________________________\n",
      "prelu_3 (PReLU)                  (None, 81, 200)       16200       batchnormalization_3[0][0]       \n",
      "____________________________________________________________________________________________________\n",
      "maxpooling1d_3 (MaxPooling1D)    (None, 20, 200)       0           prelu_3[0][0]                    \n",
      "____________________________________________________________________________________________________\n",
      "flatten_1 (Flatten)              (None, 4000)          0           maxpooling1d_3[0][0]             \n",
      "____________________________________________________________________________________________________\n",
      "dense_1 (Dense)                  (None, 1000)          4001000     flatten_1[0][0]                  \n",
      "____________________________________________________________________________________________________\n",
      "batchnormalization_4 (BatchNorma (None, 1000)          4000        dense_1[0][0]                    \n",
      "____________________________________________________________________________________________________\n",
      "prelu_4 (PReLU)                  (None, 1000)          1000        batchnormalization_4[0][0]       \n",
      "____________________________________________________________________________________________________\n",
      "dropout_1 (Dropout)              (None, 1000)          0           prelu_4[0][0]                    \n",
      "____________________________________________________________________________________________________\n",
      "dense_2 (Dense)                  (None, 1000)          1001000     dropout_1[0][0]                  \n",
      "____________________________________________________________________________________________________\n",
      "batchnormalization_5 (BatchNorma (None, 1000)          4000        dense_2[0][0]                    \n",
      "____________________________________________________________________________________________________\n",
      "prelu_5 (PReLU)                  (None, 1000)          1000        batchnormalization_5[0][0]       \n",
      "____________________________________________________________________________________________________\n",
      "dropout_2 (Dropout)              (None, 1000)          0           prelu_5[0][0]                    \n",
      "____________________________________________________________________________________________________\n",
      "dense_3 (Dense)                  (None, 421)           421421      dropout_2[0][0]                  \n",
      "____________________________________________________________________________________________________\n",
      "activation_1 (Activation)        (None, 421)           0           dense_3[0][0]                    \n",
      "====================================================================================================\n",
      "Total params: 6,775,921\n",
      "Trainable params: 6,770,521\n",
      "Non-trainable params: 5,400\n",
      "____________________________________________________________________________________________________\n"
     ]
    }
   ],
   "source": [
    "from keras.models import load_model\n",
    "from keras.models import model_from_json\n",
    "\n",
    "keras_model_weights = \"/users/eprakash/divergent421/model.weights.h5\"\n",
    "keras_model_json = \"/users/eprakash/divergent421/model.arch.json\"\n",
    "\n",
    "keras_model = model_from_json(open(keras_model_json).read())\n",
    "keras_model.summary()"
   ]
  },
  {
   "cell_type": "code",
   "execution_count": 4,
   "metadata": {},
   "outputs": [
    {
     "name": "stdout",
     "output_type": "stream",
     "text": [
      "____________________________________________________________________________________________________\n",
      "Layer (type)                     Output Shape          Param #     Connected to                     \n",
      "====================================================================================================\n",
      "convolution1d_1 (Convolution1D)  (None, 382, 300)      23100       convolution1d_input_1[0][0]      \n",
      "____________________________________________________________________________________________________\n",
      "batchnormalization_1 (BatchNorma (None, 382, 300)      1200        convolution1d_1[0][0]            \n",
      "____________________________________________________________________________________________________\n",
      "prelu_1 (PReLU)                  (None, 382, 300)      114600      batchnormalization_1[0][0]       \n",
      "____________________________________________________________________________________________________\n",
      "maxpooling1d_1 (MaxPooling1D)    (None, 127, 300)      0           prelu_1[0][0]                    \n",
      "____________________________________________________________________________________________________\n",
      "convolution1d_2 (Convolution1D)  (None, 127, 200)      660200      maxpooling1d_1[0][0]             \n",
      "____________________________________________________________________________________________________\n",
      "batchnormalization_2 (BatchNorma (None, 127, 200)      800         convolution1d_2[0][0]            \n",
      "____________________________________________________________________________________________________\n",
      "prelu_2 (PReLU)                  (None, 127, 200)      25400       batchnormalization_2[0][0]       \n",
      "____________________________________________________________________________________________________\n",
      "maxpooling1d_2 (MaxPooling1D)    (None, 31, 200)       0           prelu_2[0][0]                    \n",
      "____________________________________________________________________________________________________\n",
      "convolution1d_3 (Convolution1D)  (None, 31, 200)       280200      maxpooling1d_2[0][0]             \n",
      "____________________________________________________________________________________________________\n",
      "batchnormalization_3 (BatchNorma (None, 31, 200)       800         convolution1d_3[0][0]            \n",
      "____________________________________________________________________________________________________\n",
      "prelu_3 (PReLU)                  (None, 31, 200)       6200        batchnormalization_3[0][0]       \n",
      "____________________________________________________________________________________________________\n",
      "maxpooling1d_3 (MaxPooling1D)    (None, 7, 200)        0           prelu_3[0][0]                    \n",
      "____________________________________________________________________________________________________\n",
      "flatten_1 (Flatten)              (None, 1400)          0           maxpooling1d_3[0][0]             \n",
      "____________________________________________________________________________________________________\n",
      "dense_1 (Dense)                  (None, 1000)          1401000     flatten_1[0][0]                  \n",
      "____________________________________________________________________________________________________\n",
      "batchnormalization_4 (BatchNorma (None, 1000)          4000        dense_1[0][0]                    \n",
      "____________________________________________________________________________________________________\n",
      "prelu_4 (PReLU)                  (None, 1000)          1000        batchnormalization_4[0][0]       \n",
      "____________________________________________________________________________________________________\n",
      "dropout_1 (Dropout)              (None, 1000)          0           prelu_4[0][0]                    \n",
      "____________________________________________________________________________________________________\n",
      "dense_2 (Dense)                  (None, 1000)          1001000     dropout_1[0][0]                  \n",
      "____________________________________________________________________________________________________\n",
      "batchnormalization_5 (BatchNorma (None, 1000)          4000        dense_2[0][0]                    \n",
      "____________________________________________________________________________________________________\n",
      "prelu_5 (PReLU)                  (None, 1000)          1000        batchnormalization_5[0][0]       \n",
      "____________________________________________________________________________________________________\n",
      "dropout_2 (Dropout)              (None, 1000)          0           prelu_5[0][0]                    \n",
      "____________________________________________________________________________________________________\n",
      "dense_3 (Dense)                  (None, 421)           421421      dropout_2[0][0]                  \n",
      "____________________________________________________________________________________________________\n",
      "activation_1 (Activation)        (None, 421)           0           dense_3[0][0]                    \n",
      "====================================================================================================\n",
      "Total params: 3,945,921\n",
      "Trainable params: 3,940,521\n",
      "Non-trainable params: 5,400\n",
      "____________________________________________________________________________________________________\n",
      "None\n"
     ]
    }
   ],
   "source": [
    "from keras.models import Sequential\n",
    "from keras.layers.core import Dense,Flatten\n",
    "from keras.layers.convolutional import Conv1D\n",
    "\n",
    "new_model = Sequential()\n",
    "new_model.add(Conv1D(300, 19, input_shape=(400,4)))\n",
    "\n",
    "for layer in keras_model.layers[2:]:\n",
    "  layer_config = layer.get_config()\n",
    "  del layer_config['name'] #let the name be autogenerated to avoid collisions\n",
    "  new_layer = type(layer)(**layer_config)\n",
    "  new_model.add(new_layer)\n",
    "\n",
    "print(new_model.summary())"
   ]
  },
  {
   "cell_type": "code",
   "execution_count": 5,
   "metadata": {},
   "outputs": [],
   "source": [
    "import numpy as np\n",
    "from keras.models import Sequential\n",
    "from keras.layers.core import Dense,Flatten\n",
    "from keras.layers.convolutional import Conv1D\n",
    "\n",
    "new_model = Sequential()\n",
    "new_model.add(Conv1D(300, 19, input_shape=(400,4)))\n",
    "\n",
    "size_change_indices = [2, 6, 10, 13, 21]\n",
    "\n",
    "for layer in keras_model.layers[2:22]:\n",
    "    layer_config = layer.get_config()\n",
    "    del layer_config['name']\n",
    "    new_layer = type(layer)(**layer_config)\n",
    "    new_model.add(new_layer)\n",
    "    \n",
    "layer_config = keras_model.layers[22].get_config()\n",
    "#layer_config['output_dim']= 1\n",
    "del layer_config['name']\n",
    "new_layer = type(keras_model.layers[22])(**layer_config)\n",
    "new_model.add(new_layer)\n",
    "\n",
    "layer_config = keras_model.layers[23].get_config()\n",
    "del layer_config['name']\n",
    "new_layer = type(keras_model.layers[23])(**layer_config)\n",
    "new_model.add(new_layer)\n",
    "    \n",
    "for i in range(len(new_model.layers)):\n",
    "    if i in size_change_indices:\n",
    "        continue\n",
    "    layer = new_model.layers[i]\n",
    "    if (len(layer.get_weights()) > 0):\n",
    "        pass\n",
    "        #layer.build(layer.input_shape)\n",
    "    layer.set_weights(layer.get_weights())\n",
    "    \n",
    "layer = new_model.layers[2]\n",
    "if (len(layer.get_weights()) > 0):\n",
    "    pass\n",
    "    #layer.build(layer.input_shape)\n",
    "weights = keras_model.layers[3].get_weights()[0][300:682,:]\n",
    "layer.set_weights([weights])\n",
    "\n",
    "layer = new_model.layers[6]\n",
    "if (len(layer.get_weights()) > 0):\n",
    "    pass\n",
    "    #layer.build(layer.input_shape)\n",
    "weights = keras_model.layers[7].get_weights()[0][100:227,:]\n",
    "layer.set_weights([weights])\n",
    "\n",
    "layer = new_model.layers[10]\n",
    "if (len(layer.get_weights()) > 0):\n",
    "    pass\n",
    "    #layer.build(layer.input_shape)\n",
    "weights = keras_model.layers[11].get_weights()[0][24:55,:]\n",
    "layer.set_weights([weights])"
   ]
  },
  {
   "cell_type": "code",
   "execution_count": 7,
   "metadata": {},
   "outputs": [],
   "source": [
    "dense_layer = new_model.layers[13]\n",
    "if (len(dense_layer.get_weights()) > 0):\n",
    "    pass\n",
    "    #dense_layer.build(dense_layer.input_shape)\n",
    "\n",
    "weights, biases = keras_model.layers[14].get_weights()\n",
    "weights = weights[1300:2700,:]\n",
    "dense_layer.set_weights([weights, biases])"
   ]
  },
  {
   "cell_type": "code",
   "execution_count": 8,
   "metadata": {
    "colab": {
     "base_uri": "https://localhost:8080/",
     "height": 867
    },
    "colab_type": "code",
    "id": "foPoQ8RpzQNa",
    "outputId": "c862b800-41d6-4c40-ff65-a6d3e5456bce"
   },
   "outputs": [
    {
     "name": "stdout",
     "output_type": "stream",
     "text": [
      "____________________________________________________________________________________________________\n",
      "Layer (type)                     Output Shape          Param #     Connected to                     \n",
      "====================================================================================================\n",
      "convolution1d_4 (Convolution1D)  (None, 382, 300)      23100       convolution1d_input_2[0][0]      \n",
      "____________________________________________________________________________________________________\n",
      "batchnormalization_6 (BatchNorma (None, 382, 300)      1200        convolution1d_4[0][0]            \n",
      "____________________________________________________________________________________________________\n",
      "prelu_6 (PReLU)                  (None, 382, 300)      114600      batchnormalization_6[0][0]       \n",
      "____________________________________________________________________________________________________\n",
      "maxpooling1d_4 (MaxPooling1D)    (None, 127, 300)      0           prelu_6[0][0]                    \n",
      "____________________________________________________________________________________________________\n",
      "convolution1d_5 (Convolution1D)  (None, 127, 200)      660200      maxpooling1d_4[0][0]             \n",
      "____________________________________________________________________________________________________\n",
      "batchnormalization_7 (BatchNorma (None, 127, 200)      800         convolution1d_5[0][0]            \n",
      "____________________________________________________________________________________________________\n",
      "prelu_7 (PReLU)                  (None, 127, 200)      25400       batchnormalization_7[0][0]       \n",
      "____________________________________________________________________________________________________\n",
      "maxpooling1d_5 (MaxPooling1D)    (None, 31, 200)       0           prelu_7[0][0]                    \n",
      "____________________________________________________________________________________________________\n",
      "convolution1d_6 (Convolution1D)  (None, 31, 200)       280200      maxpooling1d_5[0][0]             \n",
      "____________________________________________________________________________________________________\n",
      "batchnormalization_8 (BatchNorma (None, 31, 200)       800         convolution1d_6[0][0]            \n",
      "____________________________________________________________________________________________________\n",
      "prelu_8 (PReLU)                  (None, 31, 200)       6200        batchnormalization_8[0][0]       \n",
      "____________________________________________________________________________________________________\n",
      "maxpooling1d_6 (MaxPooling1D)    (None, 7, 200)        0           prelu_8[0][0]                    \n",
      "____________________________________________________________________________________________________\n",
      "flatten_2 (Flatten)              (None, 1400)          0           maxpooling1d_6[0][0]             \n",
      "____________________________________________________________________________________________________\n",
      "dense_4 (Dense)                  (None, 1000)          1401000     flatten_2[0][0]                  \n",
      "____________________________________________________________________________________________________\n",
      "batchnormalization_9 (BatchNorma (None, 1000)          4000        dense_4[0][0]                    \n",
      "____________________________________________________________________________________________________\n",
      "prelu_9 (PReLU)                  (None, 1000)          1000        batchnormalization_9[0][0]       \n",
      "____________________________________________________________________________________________________\n",
      "dropout_3 (Dropout)              (None, 1000)          0           prelu_9[0][0]                    \n",
      "____________________________________________________________________________________________________\n",
      "dense_5 (Dense)                  (None, 1000)          1001000     dropout_3[0][0]                  \n",
      "____________________________________________________________________________________________________\n",
      "batchnormalization_10 (BatchNorm (None, 1000)          4000        dense_5[0][0]                    \n",
      "____________________________________________________________________________________________________\n",
      "prelu_10 (PReLU)                 (None, 1000)          1000        batchnormalization_10[0][0]      \n",
      "____________________________________________________________________________________________________\n",
      "dropout_4 (Dropout)              (None, 1000)          0           prelu_10[0][0]                   \n",
      "____________________________________________________________________________________________________\n",
      "dense_6 (Dense)                  (None, 421)           421421      dropout_4[0][0]                  \n",
      "____________________________________________________________________________________________________\n",
      "activation_2 (Activation)        (None, 421)           0           dense_6[0][0]                    \n",
      "====================================================================================================\n",
      "Total params: 3,945,921\n",
      "Trainable params: 3,940,521\n",
      "Non-trainable params: 5,400\n",
      "____________________________________________________________________________________________________\n",
      "None\n"
     ]
    }
   ],
   "source": [
    "print(new_model.summary())"
   ]
  },
  {
   "cell_type": "code",
   "execution_count": null,
   "metadata": {},
   "outputs": [],
   "source": [
    "#new_model.save('divergent421.h5')"
   ]
  },
  {
   "cell_type": "code",
   "execution_count": 9,
   "metadata": {},
   "outputs": [],
   "source": [
    "adapted_inp = np.random.RandomState(1).rand(20,400,4)"
   ]
  },
  {
   "cell_type": "code",
   "execution_count": 10,
   "metadata": {},
   "outputs": [],
   "source": [
    "adapted_preds=new_model.predict(adapted_inp)"
   ]
  },
  {
   "cell_type": "code",
   "execution_count": 11,
   "metadata": {},
   "outputs": [],
   "source": [
    "def pad(seq_len,onehot_seqs,pad_len):\n",
    "    padded_onehot=np.zeros((onehot_seqs.shape[0],pad_len,onehot_seqs.shape[2]))\n",
    "    padding=np.zeros((int((pad_len-seq_len)/2),4))\n",
    "    for i in range(0,onehot_seqs.shape[0]):\n",
    "        padded_onehot[i]=np.concatenate((padding,onehot_seqs[i],padding))\n",
    "    return padded_onehot\n",
    "padded_inp=pad(400, adapted_inp, 1000)"
   ]
  },
  {
   "cell_type": "code",
   "execution_count": 13,
   "metadata": {},
   "outputs": [
    {
     "name": "stdout",
     "output_type": "stream",
     "text": [
      "(20, 400, 4)\n",
      "(20, 1000, 4)\n"
     ]
    }
   ],
   "source": [
    "print(adapted_inp.shape)\n",
    "print(padded_inp.shape)"
   ]
  },
  {
   "cell_type": "code",
   "execution_count": 14,
   "metadata": {},
   "outputs": [
    {
     "name": "stdout",
     "output_type": "stream",
     "text": [
      "(20, 421)\n",
      "(20, 421)\n"
     ]
    }
   ],
   "source": [
    "keras_model.load_weights(keras_model_weights)\n",
    "orig_preds=keras_model.predict(padded_inp)\n",
    "print(adapted_preds.shape)\n",
    "print(orig_preds.shape)"
   ]
  },
  {
   "cell_type": "code",
   "execution_count": 15,
   "metadata": {},
   "outputs": [
    {
     "data": {
      "text/plain": [
       "0.4998657"
      ]
     },
     "execution_count": 15,
     "metadata": {},
     "output_type": "execute_result"
    }
   ],
   "source": [
    "np.max(np.abs(adapted_preds-orig_preds))"
   ]
  },
  {
   "cell_type": "code",
   "execution_count": null,
   "metadata": {},
   "outputs": [],
   "source": []
  }
 ],
 "metadata": {
  "anaconda-cloud": {},
  "colab": {
   "include_colab_link": true,
   "name": "AdaptDeepSEAvariableInputLength.ipynb",
   "provenance": []
  },
  "kernelspec": {
   "display_name": "Python 3",
   "language": "python",
   "name": "python3"
  },
  "language_info": {
   "codemirror_mode": {
    "name": "ipython",
    "version": 3
   },
   "file_extension": ".py",
   "mimetype": "text/x-python",
   "name": "python",
   "nbconvert_exporter": "python",
   "pygments_lexer": "ipython3",
   "version": "3.7.6"
  }
 },
 "nbformat": 4,
 "nbformat_minor": 1
}
