{
 "cells": [
  {
   "cell_type": "code",
   "execution_count": 1,
   "metadata": {
    "collapsed": true
   },
   "outputs": [],
   "source": [
    "import re\n",
    "from collections import OrderedDict\n",
    "\n",
    "def load_sequences(seqfile):\n",
    "        seqs = OrderedDict()\n",
    "        fp = open(seqfile, \"rb\")\n",
    "        print(\"#Loading \" + seqfile + \" ...\")\n",
    "        expecting = \"label\"\n",
    "        label=''\n",
    "        for line in fp:\n",
    "                if expecting == \"label\":\n",
    "                        match = re.match(\">(.*)$\", line)\n",
    "                        if match:\n",
    "                                label = match.group(1)\n",
    "                                expecting = \"sequence\"\n",
    "                        else:\n",
    "                                print(\"Expecting LABEL but found (!!): \" + line)\n",
    "                                continue\n",
    "                else:\n",
    "                        match = re.match(\"(\\w+)$\", line)\n",
    "                        if match:\n",
    "                                sequence = match.group(1)\n",
    "                                seqs[label]=sequence\n",
    "                        else:\n",
    "                                print(\"Expecting SEQUENCE but found (!!): \" + line)\n",
    "                        expecting = \"label\"\n",
    "                        label=''\n",
    "        fp.close()\n",
    "        print(\"#Loaded \" + str(len(seqs.keys())) + \" sequences from \" + seqfile)\n",
    "        return seqs"
   ]
  },
  {
   "cell_type": "code",
   "execution_count": 2,
   "metadata": {
    "scrolled": true
   },
   "outputs": [
    {
     "name": "stdout",
     "output_type": "stream",
     "text": [
      "#Loading /users/eprakash/projects/benchmarking/newdata/A549/A549.summits.400bp.fa ...\n",
      "#Loaded 143217 sequences from /users/eprakash/projects/benchmarking/newdata/A549/A549.summits.400bp.fa\n",
      "#Loading /users/eprakash/projects/benchmarking/newdata/A549/no_A549_universal_dnase.fa ...\n",
      "#Loaded 1033975 sequences from /users/eprakash/projects/benchmarking/newdata/A549/no_A549_universal_dnase.fa\n"
     ]
    }
   ],
   "source": [
    "pos_seqs_dict= load_sequences('/users/eprakash/projects/benchmarking/newdata/A549/A549.summits.400bp.fa')\n",
    "neg_seqs_dict= load_sequences('/users/eprakash/projects/benchmarking/newdata/A549/no_A549_universal_dnase.fa')\n",
    "#pos_seqs_dict= load_sequences('/users/eprakash/projects/benchmarking/newdata/GM12878/400bp/GM12878.400bp.summits.fa')\n",
    "#neg_seqs_dict= load_sequences('/users/eprakash/projects/benchmarking/newdata/GM12878/400bp/GM12878.400bp.neg.summits.fa')\n",
    "pos_labels=pos_seqs_dict.keys()\n",
    "neg_labels=neg_seqs_dict.keys()\n",
    "pos_seqs=pos_seqs_dict.values()\n",
    "neg_seqs=neg_seqs_dict.values()"
   ]
  },
  {
   "cell_type": "code",
   "execution_count": 3,
   "metadata": {
    "collapsed": true
   },
   "outputs": [],
   "source": [
    "def gc_content(seq):\n",
    "    g_count=seq.lower().count('g')\n",
    "    c_count=seq.lower().count('c')\n",
    "    return float(g_count+c_count)/float(len(seq))"
   ]
  },
  {
   "cell_type": "code",
   "execution_count": 4,
   "metadata": {},
   "outputs": [],
   "source": [
    "import matplotlib.pyplot as plt\n",
    "import numpy as np\n",
    "def sample_matched_bqtls(bqtls_to_match, bqtls_to_sample, attrfunc):\n",
    "    #sort bqtls_to_sample by the attribute\n",
    "    sorted_bqtls_to_sample = sorted([x for x in bqtls_to_sample\n",
    "                                     if np.isnan(attrfunc(x))==False],\n",
    "                                    key=lambda x: attrfunc(x))\n",
    "    #create a list of just the attribute values from the sorted items\n",
    "    sorted_bqtls_to_sample_vals = [attrfunc(x) for x in sorted_bqtls_to_sample]\n",
    "    \n",
    "    bqtls_to_match_vals = [attrfunc(x) for x in bqtls_to_match]\n",
    "\n",
    "    #for each value in the set to match, find the index in sorted_bqtls_to_sample_vals that matches it best\n",
    "    searchsorted_indices = np.searchsorted(a=sorted_bqtls_to_sample_vals, v=bqtls_to_match_vals)\n",
    "    \n",
    "    matched_sampled_bqtls_indices = set()\n",
    "    \n",
    "    for idx in searchsorted_indices:\n",
    "        #if the index you are considering sampling has already been sampled in a previous step, shift the index around until you find an index that isn't taken\n",
    "        shift = 1\n",
    "        while (idx in matched_sampled_bqtls_indices or idx==len(sorted_bqtls_to_sample)):\n",
    "            #if you are about to go over the end of the list in your search for an index that is not taken, start searching in the other direction\n",
    "            if idx == len(sorted_bqtls_to_sample):\n",
    "                shift = -1\n",
    "            idx += shift\n",
    "        if (idx < 0 or idx > len(sorted_bqtls_to_sample)):\n",
    "            print(idx) #this print statement shouldn't be triggered unless the set you are trying to match is bigger than the set you are subsampling from\n",
    "        matched_sampled_bqtls_indices.add(idx)\n",
    "    \n",
    "    matched_sampled_bqtls = [sorted_bqtls_to_sample[idx] for idx in sorted(matched_sampled_bqtls_indices)]\n",
    "    \n",
    "    #compare the two distributions to see if they match well\n",
    "    import seaborn as sns\n",
    "    sns.distplot([attrfunc(x) for x in bqtls_to_match], color='blue')\n",
    "    sns.distplot([attrfunc(x) for x in matched_sampled_bqtls], color='red')\n",
    "    plt.show()\n",
    "    \n",
    "    return matched_sampled_bqtls"
   ]
  },
  {
   "cell_type": "code",
   "execution_count": 5,
   "metadata": {},
   "outputs": [
    {
     "data": {
      "image/png": "[encoded data removed]",
      "text/plain": [
       "<matplotlib.figure.Figure at 0x7fad1856a910>"
      ]
     },
     "metadata": {},
     "output_type": "display_data"
    }
   ],
   "source": [
    "matched_sampled_negatives=sample_matched_bqtls(bqtls_to_match=pos_seqs, bqtls_to_sample=neg_seqs, attrfunc=gc_content)"
   ]
  },
  {
   "cell_type": "code",
   "execution_count": 6,
   "metadata": {},
   "outputs": [],
   "source": [
    "matched_neg_seqs=OrderedDict()\n",
    "for matched_seq in matched_sampled_negatives:\n",
    "    idx=neg_seqs.index(matched_seq)\n",
    "    matched_neg_seqs.update({neg_labels[idx]:neg_seqs[idx]})"
   ]
  },
  {
   "cell_type": "code",
   "execution_count": 7,
   "metadata": {
    "collapsed": true
   },
   "outputs": [],
   "source": [
    "fp = open('/users/eprakash/projects/benchmarking/newdata/A549/no_A549_universal_dnase.matched.fa', \"w\")\n",
    "#fp = open('universal_dnase.matched.GM12878.summits.400bp.hg38.fa', \"w\")\n",
    "idx=0\n",
    "for matched_seq_key in matched_neg_seqs.keys():\n",
    "    fp.write('>'+matched_seq_key+'\\n')\n",
    "    if idx==len(matched_neg_seqs)-1:\n",
    "        fp.write(matched_neg_seqs[matched_seq_key])\n",
    "    else:\n",
    "        fp.write(matched_neg_seqs[matched_seq_key]+'\\n')\n",
    "fp.close()"
   ]
  },
  {
   "cell_type": "code",
   "execution_count": null,
   "metadata": {
    "collapsed": true
   },
   "outputs": [],
   "source": []
  }
 ],
 "metadata": {
  "anaconda-cloud": {},
  "kernelspec": {
   "display_name": "Python 2",
   "language": "python",
   "name": "python2"
  },
  "language_info": {
   "codemirror_mode": {
    "name": "ipython",
    "version": 2
   },
   "file_extension": ".py",
   "mimetype": "text/x-python",
   "name": "python",
   "nbconvert_exporter": "python",
   "pygments_lexer": "ipython2",
   "version": "2.7.12"
  }
 },
 "nbformat": 4,
 "nbformat_minor": 2
}
