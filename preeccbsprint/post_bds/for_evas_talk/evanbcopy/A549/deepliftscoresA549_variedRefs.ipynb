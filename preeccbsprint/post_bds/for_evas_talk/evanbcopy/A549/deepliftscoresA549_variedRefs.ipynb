{
 "cells": [
  {
   "cell_type": "code",
   "execution_count": 1,
   "metadata": {
    "collapsed": true
   },
   "outputs": [],
   "source": [
    "from __future__ import print_function\n",
    "import os"
   ]
  },
  {
   "cell_type": "code",
   "execution_count": 2,
   "metadata": {
    "collapsed": false
   },
   "outputs": [],
   "source": [
    "os.environ[\"CUDA_VISIBLE_DEVICES\"] = \"3\""
   ]
  },
  {
   "cell_type": "markdown",
   "metadata": {},
   "source": [
    "## Genomics example\n",
    "\n",
    "This will explore how importance scores from three different methods compare on simulated genomic data.\n",
    "\n",
    "The simulated data was as follows:\n",
    "\n",
    "- 1/4 sequences with 1-3 instances of a GATA_disc1 motif embedded (see http://compbio.mit.edu/encode-motifs/ for the PWM); these were labelled 1,0,0\n",
    "- 1/4 sequences with 1-3 instances of a TAL1_known1 motif embedded; these were labelled 0,1,0\n",
    "- 1/4 sequences with BOTH 1-3 instances of a GATA_disc1 motif AND 1-3 instances of a TAL1_known1 motif; these were labelled 1,1,1\n",
    "- 1/4 sequences with no motif\n",
    "\n",
    "Scores for all three tasks for sequences that contain both TAL1_known1 and GATA_disc1 motifs are analyzed in this notebook"
   ]
  },
  {
   "cell_type": "markdown",
   "metadata": {},
   "source": [
    "### Read in and one-hot encode the data"
   ]
  },
  {
   "cell_type": "code",
   "execution_count": 3,
   "metadata": {
    "collapsed": true
   },
   "outputs": [],
   "source": [
    "import gzip\n",
    "import re\n",
    "from collections import OrderedDict\n",
    "\n",
    "def load_sequences(seqfile):\n",
    "        seqs = OrderedDict()\n",
    "        fp = gzip.open(seqfile, \"rb\")\n",
    "        print(\"#Loading \" + seqfile + \" ...\")\n",
    "        expecting = \"label\"\n",
    "        label=''\n",
    "        for line in fp:\n",
    "                if expecting == \"label\":\n",
    "                        match = re.match(\">(.*)$\", line)\n",
    "                        if match:\n",
    "                                label = match.group(1)\n",
    "                                expecting = \"sequence\"\n",
    "                        else:\n",
    "                                print(\"Expecting LABEL but found (!!): \" + line)\n",
    "                                continue\n",
    "                else:\n",
    "                        match = re.match(\"(\\w+)$\", line)\n",
    "                        if match:\n",
    "                                sequence = match.group(1)\n",
    "                                seqs[label]=sequence\n",
    "                        else:\n",
    "                                print(\"Expecting SEQUENCE but found (!!): \" + line)\n",
    "                        expecting = \"label\"\n",
    "                        label=''\n",
    "        fp.close()\n",
    "        print(\"#Loaded \" + str(len(seqs.keys())) + \" sequences from \" + seqfile)\n",
    "        return seqs"
   ]
  },
  {
   "cell_type": "code",
   "execution_count": 4,
   "metadata": {
    "collapsed": true
   },
   "outputs": [],
   "source": [
    "def load_sequences_from_bedfile(seqfile):\n",
    "    seqs = OrderedDict()\n",
    "    fp = gzip.open(seqfile, \"rb\")\n",
    "    print(\"#Loading \" + seqfile + \" ...\")\n",
    "    for line in fp:\n",
    "        (label, sequence)=line.split()\n",
    "        seqs[label]=sequence\n",
    "    fp.close()\n",
    "    print(\"#Loaded \" + str(len(seqs.keys())) + \" sequences from \" + seqfile)\n",
    "    return seqs\n",
    "    "
   ]
  },
  {
   "cell_type": "code",
   "execution_count": 5,
   "metadata": {
    "collapsed": true
   },
   "outputs": [],
   "source": [
    "def get_value(label):\n",
    "    value = -1\n",
    "    match = re.match(\"((dinuc_shuff_|dinuc_shuffled_).+)$\", label)\n",
    "    if match:            \n",
    "        chrom = match.group(1)\n",
    "        if match.group(2) == 'dinuc_shuff_':\n",
    "            value = 0\n",
    "        else:\n",
    "            value = 1\n",
    "    return value        "
   ]
  },
  {
   "cell_type": "code",
   "execution_count": 6,
   "metadata": {
    "collapsed": true
   },
   "outputs": [],
   "source": [
    "import random\n",
    "def get_random_set(seqdict, num, sort=True):\n",
    "    newlist=seqdict.items()\n",
    "    if sort:\n",
    "        newlist = [newlist[i] for i in sorted(random.sample(range(len(newlist)), num))]\n",
    "    else:\n",
    "        newlist = [newlist[i] for i in random.sample(range(len(newlist)), num)]\n",
    "    return dict(newlist)"
   ]
  },
  {
   "cell_type": "code",
   "execution_count": 7,
   "metadata": {
    "collapsed": false
   },
   "outputs": [
    {
     "name": "stdout",
     "output_type": "stream",
     "text": [
      "#Loading /users/eprakash/projects/benchmarking/newdata/A549/A549.summits.400bp.implanted.5Ksubsample.bed.gz ...\n",
      "#Loaded 5000 sequences from /users/eprakash/projects/benchmarking/newdata/A549/A549.summits.400bp.implanted.5Ksubsample.bed.gz\n",
      "#Loading /users/eprakash/projects/benchmarking/newdata/A549/A549.summits.400bp.implanted.5Ksubsample.bed.gz ...\n",
      "#Loaded 5000 sequences from /users/eprakash/projects/benchmarking/newdata/A549/A549.summits.400bp.implanted.5Ksubsample.bed.gz\n",
      "Got 5000 positive sequences\n",
      "Sequences length:  5000\n"
     ]
    }
   ],
   "source": [
    "import numpy as np\n",
    "\n",
    "data_filename_positive = \"/users/eprakash/projects/benchmarking/newdata/A549/A549.summits.400bp.implanted.5Ksubsample.bed.gz\"\n",
    "#data_filename_negative = \"/users/eprakash/projects/benchmarking/newdata/GM12878/400bp/universal_dnase.matched.GM12878.summits.400bp.hg38.implanted.bed.gz\"\n",
    "positives=load_sequences_from_bedfile(data_filename_positive)\n",
    "labeled_sequences = load_sequences_from_bedfile(data_filename_positive)\n",
    "#del labeled_sequences['chr1:203649072-203650072']\n",
    "print(\"Got %d positive sequences\" % len(labeled_sequences))\n",
    "positive_labels = labeled_sequences.keys()\n",
    "#neg_seqs = load_sequences_from_bedfile(data_filename_negative)\n",
    "#del neg_seqs['chr1:203649072-203650072']\n",
    "#neg_seqs = get_random_set(neg_seqs, 200000)\n",
    "#print(\"Got %d negative sequences\" % len(neg_seqs))\n",
    "#negative_labels = neg_seqs.keys()\n",
    "#print(\"Number of labels common to both sets of sequences is %d \" % len(set(positive_labels).intersection(set(negative_labels))))\n",
    "#labeled_sequences.update(neg_seqs)\n",
    "#labeled_sequences=get_random_set(labeled_sequences, 74499, sort=False)\n",
    "labels = labeled_sequences.keys()\n",
    "sequences=labeled_sequences.values()\n",
    "#values = np.array([get_value(label) for label in labels])\n",
    "#check_negatives = np.nonzero(values == -1)[0]\n",
    "#assert (len(check_negatives) == 0)\n",
    "#print(\"Labels length: \", len(labels))\n",
    "print(\"Sequences length: \", len(sequences))\n",
    "#print(\"Values length: \", len(values))"
   ]
  },
  {
   "cell_type": "code",
   "execution_count": 8,
   "metadata": {
    "collapsed": false
   },
   "outputs": [
    {
     "name": "stdout",
     "output_type": "stream",
     "text": [
      "5000\n",
      "5000\n"
     ]
    }
   ],
   "source": [
    "removed=[]\n",
    "chars=['R','Y','S','W','K','M','B','D','H','V','N']\n",
    "print(len(sequences))\n",
    "for seq in sequences:\n",
    "    if any((c in chars) for c in seq):\n",
    "        print(seq)\n",
    "        removed.append(seq)\n",
    "        sequences.remove(seq)\n",
    "print(len(sequences))"
   ]
  },
  {
   "cell_type": "code",
   "execution_count": 9,
   "metadata": {
    "collapsed": false
   },
   "outputs": [
    {
     "name": "stdout",
     "output_type": "stream",
     "text": [
      "5000\n",
      "5000\n"
     ]
    }
   ],
   "source": [
    "for i in removed:\n",
    "    key=labeled_sequences.keys()[labeled_sequences.values().index(i)]\n",
    "    print(key)\n",
    "    del labeled_sequences[key]\n",
    "    labels.remove(key)\n",
    "print (len(labels))\n",
    "print(len(labeled_sequences))"
   ]
  },
  {
   "cell_type": "markdown",
   "metadata": {},
   "source": [
    "One-hot encode the data"
   ]
  },
  {
   "cell_type": "code",
   "execution_count": 10,
   "metadata": {
    "collapsed": false
   },
   "outputs": [],
   "source": [
    "import numpy as np\n",
    "\n",
    "#this is set up for 1d convolutions where examples\n",
    "#have dimensions (len, num_channels)\n",
    "#the channel axis is the axis for one-hot encoding.\n",
    "def one_hot_encode_along_channel_axis(sequence):\n",
    "    to_return = np.zeros((len(sequence),4), dtype=np.int8)\n",
    "    seq_to_one_hot_fill_in_array(zeros_array=to_return,\n",
    "                                 sequence=sequence, one_hot_axis=1)\n",
    "    return to_return\n",
    "\n",
    "def seq_to_one_hot_fill_in_array(zeros_array, sequence, one_hot_axis):\n",
    "    assert one_hot_axis==0 or one_hot_axis==1\n",
    "    if (one_hot_axis==0):\n",
    "        assert zeros_array.shape[1] == len(sequence)\n",
    "    elif (one_hot_axis==1): \n",
    "        assert zeros_array.shape[0] == len(sequence)\n",
    "    #will mutate zeros_array\n",
    "    for (i,char) in enumerate(sequence):\n",
    "        if (char==\"A\" or char==\"a\"):\n",
    "            char_idx = 0\n",
    "        elif (char==\"C\" or char==\"c\"):\n",
    "            char_idx = 1\n",
    "        elif (char==\"G\" or char==\"g\"):\n",
    "            char_idx = 2\n",
    "        elif (char==\"T\" or char==\"t\"):\n",
    "            char_idx = 3\n",
    "        elif (char==\"N\" or char==\"n\"):\n",
    "            continue #leave that pos as all 0's\n",
    "        else:\n",
    "            raise RuntimeError(\"Unsupported character: \"+str(char))\n",
    "        if (one_hot_axis==0):\n",
    "            zeros_array[char_idx,i] = 1\n",
    "        elif (one_hot_axis==1):\n",
    "            zeros_array[i,char_idx] = 1\n",
    "#sequences = sequences[-5000:]            \n",
    "onehot_data = np.array([one_hot_encode_along_channel_axis(seq) for seq in sequences])"
   ]
  },
  {
   "cell_type": "code",
   "execution_count": 11,
   "metadata": {
    "collapsed": false
   },
   "outputs": [
    {
     "name": "stdout",
     "output_type": "stream",
     "text": [
      "(5000, 400, 4)\n"
     ]
    }
   ],
   "source": [
    "print(onehot_data.shape)"
   ]
  },
  {
   "cell_type": "markdown",
   "metadata": {},
   "source": [
    "### Load the keras model"
   ]
  },
  {
   "cell_type": "code",
   "execution_count": 12,
   "metadata": {
    "collapsed": false
   },
   "outputs": [
    {
     "name": "stderr",
     "output_type": "stream",
     "text": [
      "Using TensorFlow backend.\n"
     ]
    },
    {
     "data": {
      "text/plain": [
       "'2.2.5'"
      ]
     },
     "execution_count": 12,
     "metadata": {},
     "output_type": "execute_result"
    }
   ],
   "source": [
    "import keras\n",
    "\n",
    "keras.__version__"
   ]
  },
  {
   "cell_type": "code",
   "execution_count": 13,
   "metadata": {
    "collapsed": true
   },
   "outputs": [],
   "source": [
    "from keras.models import model_from_json\n",
    "\n",
    "def load_keras_model_using_json(json_file_name, h5_weights_file):\n",
    "    json_file = open(json_file_name, 'r')\n",
    "    loaded_model_json = json_file.read()\n",
    "    json_file.close()\n",
    "    print(\"Loading Keras JSON model from file \" + json_file_name)\n",
    "    loaded_model = model_from_json(loaded_model_json)\n",
    "    # load weights into new model\n",
    "    print(\"Loading Keras model weights from file \" + h5_weights_file)\n",
    "    loaded_model.load_weights(h5_weights_file)\n",
    "    print(\"Successfully loaded\")\n",
    "    return loaded_model"
   ]
  },
  {
   "cell_type": "code",
   "execution_count": 14,
   "metadata": {
    "collapsed": false
   },
   "outputs": [
    {
     "name": "stdout",
     "output_type": "stream",
     "text": [
      "Loading Keras JSON model from file /users/eprakash/projects/benchmarking/newdata/A549/models/deepseabeluga/momma_dragonn/examples/fasta_sequential_model/model_files/record_1_model_SkPDS_modelJson.json\n",
      "Loading Keras model weights from file /users/eprakash/projects/benchmarking/newdata/A549/models/deepseabeluga/momma_dragonn/examples/fasta_sequential_model/model_files/record_1_model_SkPDS_modelWeights.h5\n",
      "Successfully loaded\n",
      "Model: \"sequential_1\"\n",
      "_________________________________________________________________\n",
      "Layer (type)                 Output Shape              Param #   \n",
      "=================================================================\n",
      "conv1d_1 (Conv1D)            (None, 393, 320)          10560     \n",
      "_________________________________________________________________\n",
      "activation_1 (Activation)    (None, 393, 320)          0         \n",
      "_________________________________________________________________\n",
      "conv1d_2 (Conv1D)            (None, 386, 320)          819520    \n",
      "_________________________________________________________________\n",
      "activation_2 (Activation)    (None, 386, 320)          0         \n",
      "_________________________________________________________________\n",
      "dropout_1 (Dropout)          (None, 386, 320)          0         \n",
      "_________________________________________________________________\n",
      "max_pooling1d_1 (MaxPooling1 (None, 96, 320)           0         \n",
      "_________________________________________________________________\n",
      "conv1d_3 (Conv1D)            (None, 89, 480)           1229280   \n",
      "_________________________________________________________________\n",
      "activation_3 (Activation)    (None, 89, 480)           0         \n",
      "_________________________________________________________________\n",
      "conv1d_4 (Conv1D)            (None, 82, 480)           1843680   \n",
      "_________________________________________________________________\n",
      "activation_4 (Activation)    (None, 82, 480)           0         \n",
      "_________________________________________________________________\n",
      "dropout_2 (Dropout)          (None, 82, 480)           0         \n",
      "_________________________________________________________________\n",
      "max_pooling1d_2 (MaxPooling1 (None, 20, 480)           0         \n",
      "_________________________________________________________________\n",
      "conv1d_5 (Conv1D)            (None, 13, 640)           2458240   \n",
      "_________________________________________________________________\n",
      "activation_5 (Activation)    (None, 13, 640)           0         \n",
      "_________________________________________________________________\n",
      "conv1d_6 (Conv1D)            (None, 6, 640)            3277440   \n",
      "_________________________________________________________________\n",
      "activation_6 (Activation)    (None, 6, 640)            0         \n",
      "_________________________________________________________________\n",
      "flatten_1 (Flatten)          (None, 3840)              0         \n",
      "_________________________________________________________________\n",
      "dense_1 (Dense)              (None, 2003)              7693523   \n",
      "_________________________________________________________________\n",
      "activation_7 (Activation)    (None, 2003)              0         \n",
      "_________________________________________________________________\n",
      "newdense (Dense)             (None, 1)                 2004      \n",
      "_________________________________________________________________\n",
      "activation_8 (Activation)    (None, 1)                 0         \n",
      "=================================================================\n",
      "Total params: 17,334,247\n",
      "Trainable params: 17,334,247\n",
      "Non-trainable params: 0\n",
      "_________________________________________________________________\n"
     ]
    },
    {
     "data": {
      "text/plain": [
       "'\\nwith tf.device(\\'/gpu:3\\'):\\n#load the keras model\\n    keras_model_weights = \"/users/eprakash/git/momma_dragonn/examples/fasta_sequential_model/model_files/record_6_model_6uIHH_modelWeights.h5\"\\n    keras_model_json = \"/users/eprakash/git/momma_dragonn/examples/fasta_sequential_model/model_files/record_6_model_6uIHH_modelJson.json\"\\n\\n    keras_model = model_from_json(open(keras_model_json).read())\\n    keras_model.load_weights(keras_model_weights)\\n    keras_model=load_h5_model(\\'/users/eprakash/projects/benchmarking/notebooks/momma_dragonn/deepseabeluga_keras.h5\\')'"
      ]
     },
     "execution_count": 14,
     "metadata": {},
     "output_type": "execute_result"
    }
   ],
   "source": [
    "\n",
    "import deeplift\n",
    "import tensorflow as tf\n",
    "from keras.models import model_from_json\n",
    "from keras.models import load_model\n",
    "\n",
    "#keras_model = load_model('/users/eprakash/projects/benchmarking/notebooks/momma_dragonn/adaptDeepSeaKerasModel.h5')\n",
    "keras_model = load_keras_model_using_json(\"/users/eprakash/projects/benchmarking/newdata/A549/models/deepseabeluga/momma_dragonn/examples/fasta_sequential_model/model_files/record_1_model_SkPDS_modelJson.json\", \"/users/eprakash/projects/benchmarking/newdata/A549/models/deepseabeluga/momma_dragonn/examples/fasta_sequential_model/model_files/record_1_model_SkPDS_modelWeights.h5\")\n",
    "keras_model.summary()\n",
    "'''\n",
    "with tf.device('/gpu:3'):\n",
    "#load the keras model\n",
    "    keras_model_weights = \"/users/eprakash/git/momma_dragonn/examples/fasta_sequential_model/model_files/record_6_model_6uIHH_modelWeights.h5\"\n",
    "    keras_model_json = \"/users/eprakash/git/momma_dragonn/examples/fasta_sequential_model/model_files/record_6_model_6uIHH_modelJson.json\"\n",
    "\n",
    "    keras_model = model_from_json(open(keras_model_json).read())\n",
    "    keras_model.load_weights(keras_model_weights)\n",
    "    keras_model=load_h5_model('/users/eprakash/projects/benchmarking/notebooks/momma_dragonn/deepseabeluga_keras.h5')'''"
   ]
  },
  {
   "cell_type": "code",
   "execution_count": 15,
   "metadata": {
    "collapsed": false
   },
   "outputs": [
    {
     "data": {
      "text/plain": [
       "(5000, 1)"
      ]
     },
     "execution_count": 15,
     "metadata": {},
     "output_type": "execute_result"
    }
   ],
   "source": [
    "preds = keras_model.predict(onehot_data)\n",
    "preds.shape"
   ]
  },
  {
   "cell_type": "code",
   "execution_count": 16,
   "metadata": {
    "collapsed": false
   },
   "outputs": [
    {
     "name": "stdout",
     "output_type": "stream",
     "text": [
      "5000\n",
      "0.006700392913818359\n"
     ]
    }
   ],
   "source": [
    "print (len(sequences))\n",
    "print(np.sum(1-preds)/preds.shape[0])"
   ]
  },
  {
   "cell_type": "code",
   "execution_count": 17,
   "metadata": {
    "collapsed": false
   },
   "outputs": [
    {
     "name": "stdout",
     "output_type": "stream",
     "text": [
      "5000\n"
     ]
    }
   ],
   "source": [
    "true_labels=[]\n",
    "for label in labels:\n",
    "    if label in positive_labels:\n",
    "        true_labels.append(1)\n",
    "    elif label in negative_labels:\n",
    "        true_labels.append(0)\n",
    "    else:\n",
    "        continue\n",
    "print(len(true_labels))"
   ]
  },
  {
   "cell_type": "code",
   "execution_count": 18,
   "metadata": {
    "collapsed": false
   },
   "outputs": [
    {
     "data": {
      "text/plain": [
       "1"
      ]
     },
     "execution_count": 18,
     "metadata": {},
     "output_type": "execute_result"
    }
   ],
   "source": [
    "preds.shape[1]"
   ]
  },
  {
   "cell_type": "code",
   "execution_count": 19,
   "metadata": {
    "collapsed": false
   },
   "outputs": [],
   "source": [
    "from sklearn.metrics import roc_auc_score\n",
    "#aurocs=np.zeros((preds.shape[1]))\n",
    "#print(aurocs.shape)\n",
    "#for i in range(0,preds.shape[1]):\n",
    "#    auroc = roc_auc_score(y_true=true_labels, y_score=preds[:,i])\n",
    "#    aurocs[i]=auroc\n",
    "#auroc = roc_auc_score(y_true=true_labels, y_score=preds[:,0])"
   ]
  },
  {
   "cell_type": "code",
   "execution_count": 20,
   "metadata": {
    "collapsed": false
   },
   "outputs": [],
   "source": [
    "#print(max(aurocs))"
   ]
  },
  {
   "cell_type": "code",
   "execution_count": 21,
   "metadata": {
    "collapsed": false
   },
   "outputs": [
    {
     "name": "stdout",
     "output_type": "stream",
     "text": [
      "5000\n",
      "5000\n"
     ]
    }
   ],
   "source": [
    "seq_id_to_pred={}\n",
    "for index in range(0,len(labels)):\n",
    "    label=labels[index]\n",
    "    if label in positive_labels:\n",
    "        seq_id_to_pred.update({label:preds[index][0]})\n",
    "print(len(seq_id_to_pred))\n",
    "print(len(positive_labels))"
   ]
  },
  {
   "cell_type": "code",
   "execution_count": 22,
   "metadata": {
    "collapsed": false
   },
   "outputs": [
    {
     "name": "stdout",
     "output_type": "stream",
     "text": [
      "1000\n",
      "['dinuc_shuffled_motifs_implanted_chrX:54044271-54044671', 'dinuc_shuffled_motifs_implanted_chr14:53613531-53613931', 'dinuc_shuffled_motifs_implanted_chr6:2764503-2764903', 'dinuc_shuffled_motifs_implanted_chr5:84249856-84250256', 'dinuc_shuffled_motifs_implanted_chr11:95089524-95089924']\n"
     ]
    }
   ],
   "source": [
    "top_1k_pos_labels=sorted(seq_id_to_pred, key=lambda x: seq_id_to_pred[x])[-1000:]\n",
    "top_1k_pos=[]\n",
    "for label in top_1k_pos_labels:\n",
    "    top_1k_pos.append(positives[label])\n",
    "print(len(top_1k_pos_labels))\n",
    "print(top_1k_pos_labels[0:5])"
   ]
  },
  {
   "cell_type": "code",
   "execution_count": 23,
   "metadata": {
    "collapsed": false
   },
   "outputs": [
    {
     "name": "stdout",
     "output_type": "stream",
     "text": [
      "[('dinuc_shuffled_motifs_implanted_chr6:136517027-136517427', 0.99996066), ('dinuc_shuffled_motifs_implanted_chr14:77033993-77034393', 0.9999689), ('dinuc_shuffled_motifs_implanted_chr17:48804883-48805283', 0.99543285), ('dinuc_shuffled_motifs_implanted_chr1:26991274-26991674', 0.98465157), ('dinuc_shuffled_motifs_implanted_chr12:79738102-79738502', 0.9999479)]\n"
     ]
    }
   ],
   "source": [
    "print(seq_id_to_pred.items()[0:5])"
   ]
  },
  {
   "cell_type": "code",
   "execution_count": 24,
   "metadata": {
    "collapsed": false
   },
   "outputs": [],
   "source": [
    "import h5py\n",
    "\n",
    "h5f = h5py.File('/users/eprakash/projects/benchmarking/newdata/A549/models/deepseabeluga/results/top1kposlabels_A549_1kb', 'w')\n",
    "h5f.create_dataset(\"labels\", data=top_1k_pos_labels)\n",
    "h5f.close()"
   ]
  },
  {
   "cell_type": "markdown",
   "metadata": {},
   "source": [
    "## Prepare the deeplift models\n",
    "\n",
    "### Model conversion\n",
    "\n",
    "Convert the keras models to deeplift models capable of computing importance scores using DeepLIFT (with 3 different variants: rescale on the conv layers and revealcancel on the fully-connected layers (the genomics default), rescale on all layers, and revealcancel on all layers), gradients and guided backprop\n"
   ]
  },
  {
   "cell_type": "code",
   "execution_count": 25,
   "metadata": {
    "collapsed": true
   },
   "outputs": [],
   "source": [
    "#keras_model.save_weights('gm12878_weights.h5')\n",
    "#with open('gm12878_model_architecture.json', 'w') as f:\n",
    "#    f.write(keras_model.to_json())"
   ]
  },
  {
   "cell_type": "code",
   "execution_count": 26,
   "metadata": {
    "collapsed": true
   },
   "outputs": [],
   "source": [
    "keras_model_weights='/users/eprakash/projects/benchmarking/newdata/A549/models/deepseabeluga/momma_dragonn/examples/fasta_sequential_model/model_files/record_1_model_SkPDS_modelWeights.h5'\n",
    "keras_model_json='/users/eprakash/projects/benchmarking/newdata/A549/models/deepseabeluga/momma_dragonn/examples/fasta_sequential_model/model_files/record_1_model_SkPDS_modelJson.json'"
   ]
  },
  {
   "cell_type": "code",
   "execution_count": 27,
   "metadata": {
    "collapsed": false
   },
   "outputs": [
    {
     "name": "stdout",
     "output_type": "stream",
     "text": [
      "nonlinear_mxts_mode is set to: DeepLIFT_GenomicsDefault\n",
      "For layer 1 the preceding linear layer is 0 of type Conv1D;\n",
      "In accordance with nonlinear_mxts_mode=DeepLIFT_GenomicsDefault we are setting the NonlinearMxtsMode to Rescale\n",
      "For layer 3 the preceding linear layer is 2 of type Conv1D;\n",
      "In accordance with nonlinear_mxts_mode=DeepLIFT_GenomicsDefault we are setting the NonlinearMxtsMode to Rescale\n",
      "Heads-up: current implementation assumes maxpool layer is followed by a linear transformation (conv/dense layer)\n",
      "For layer 7 the preceding linear layer is 6 of type Conv1D;\n",
      "In accordance with nonlinear_mxts_mode=DeepLIFT_GenomicsDefault we are setting the NonlinearMxtsMode to Rescale\n",
      "For layer 9 the preceding linear layer is 8 of type Conv1D;\n",
      "In accordance with nonlinear_mxts_mode=DeepLIFT_GenomicsDefault we are setting the NonlinearMxtsMode to Rescale\n",
      "Heads-up: current implementation assumes maxpool layer is followed by a linear transformation (conv/dense layer)\n",
      "For layer 13 the preceding linear layer is 12 of type Conv1D;\n",
      "In accordance with nonlinear_mxts_mode=DeepLIFT_GenomicsDefault we are setting the NonlinearMxtsMode to Rescale\n",
      "For layer 15 the preceding linear layer is 14 of type Conv1D;\n",
      "In accordance with nonlinear_mxts_mode=DeepLIFT_GenomicsDefault we are setting the NonlinearMxtsMode to Rescale\n",
      "For layer 18 the preceding linear layer is 17 of type Dense;\n",
      "In accordance with nonlinear_mxts_modeDeepLIFT_GenomicsDefault we are setting the NonlinearMxtsMode to RevealCancel\n",
      "Heads-up: I assume sigmoid is the output layer, not an intermediate one; if it's an intermediate layer then please bug me and I will implement the grad func\n",
      "For layer 20 the preceding linear layer is 19 of type Dense;\n",
      "In accordance with nonlinear_mxts_modeDeepLIFT_GenomicsDefault we are setting the NonlinearMxtsMode to RevealCancel\n",
      "nonlinear_mxts_mode is set to: Rescale\n",
      "Heads-up: current implementation assumes maxpool layer is followed by a linear transformation (conv/dense layer)\n",
      "Heads-up: current implementation assumes maxpool layer is followed by a linear transformation (conv/dense layer)\n",
      "Heads-up: I assume sigmoid is the output layer, not an intermediate one; if it's an intermediate layer then please bug me and I will implement the grad func\n",
      "nonlinear_mxts_mode is set to: RevealCancel\n",
      "Heads-up: current implementation assumes maxpool layer is followed by a linear transformation (conv/dense layer)\n",
      "Heads-up: current implementation assumes maxpool layer is followed by a linear transformation (conv/dense layer)\n",
      "Heads-up: I assume sigmoid is the output layer, not an intermediate one; if it's an intermediate layer then please bug me and I will implement the grad func\n",
      "nonlinear_mxts_mode is set to: Gradient\n",
      "Heads-up: current implementation assumes maxpool layer is followed by a linear transformation (conv/dense layer)\n",
      "Heads-up: current implementation assumes maxpool layer is followed by a linear transformation (conv/dense layer)\n",
      "Heads-up: I assume sigmoid is the output layer, not an intermediate one; if it's an intermediate layer then please bug me and I will implement the grad func\n",
      "nonlinear_mxts_mode is set to: GuidedBackprop\n",
      "Heads-up: current implementation assumes maxpool layer is followed by a linear transformation (conv/dense layer)\n",
      "Heads-up: current implementation assumes maxpool layer is followed by a linear transformation (conv/dense layer)\n",
      "Heads-up: I assume sigmoid is the output layer, not an intermediate one; if it's an intermediate layer then please bug me and I will implement the grad func\n"
     ]
    }
   ],
   "source": [
    "from deeplift.layers import NonlinearMxtsMode\n",
    "import deeplift.conversion.kerasapi_conversion as kc\n",
    "reload(deeplift.layers)\n",
    "reload(deeplift.conversion.kerasapi_conversion)\n",
    "from collections import OrderedDict\n",
    "\n",
    "method_to_model = OrderedDict()\n",
    "for method_name, nonlinear_mxts_mode in [\n",
    "    #The genomics default = rescale on conv layers, revealcance on fully-connected\n",
    "    ('rescale_conv_revealcancel_fc', NonlinearMxtsMode.DeepLIFT_GenomicsDefault),\n",
    "    ('rescale_all_layers', NonlinearMxtsMode.Rescale),\n",
    "    ('revealcancel_all_layers', NonlinearMxtsMode.RevealCancel),\n",
    "    ('grad_times_inp', NonlinearMxtsMode.Gradient),\n",
    "    ('guided_backprop', NonlinearMxtsMode.GuidedBackprop)]:\n",
    "    method_to_model[method_name] = kc.convert_model_from_saved_files(\n",
    "        h5_file=keras_model_weights,\n",
    "        json_file=keras_model_json,\n",
    "        nonlinear_mxts_mode=nonlinear_mxts_mode)"
   ]
  },
  {
   "cell_type": "markdown",
   "metadata": {
    "collapsed": true
   },
   "source": [
    "### Sanity checks\n",
    "To ensure that the conversion happend correctly, ensure that the models give identical predictions\n",
    "\n",
    "If you are using a functional model, see this issue for how to adapt the code: https://github.com/kundajelab/deeplift/issues/54"
   ]
  },
  {
   "cell_type": "code",
   "execution_count": 28,
   "metadata": {
    "collapsed": false
   },
   "outputs": [
    {
     "name": "stdout",
     "output_type": "stream",
     "text": [
      "maximum difference in predictions: 0.0\n"
     ]
    }
   ],
   "source": [
    "#make sure predictions are the same as the original model\n",
    "from deeplift.util import compile_func\n",
    "model_to_test = method_to_model['rescale_conv_revealcancel_fc']\n",
    "deeplift_prediction_func = compile_func([model_to_test.get_layers()[0].get_activation_vars()],\n",
    "                                         model_to_test.get_layers()[-1].get_activation_vars())\n",
    "original_model_predictions = keras_model.predict(onehot_data, batch_size=200)\n",
    "converted_model_predictions = deeplift.util.run_function_in_batches(\n",
    "                                input_data_list=[onehot_data],\n",
    "                                func=deeplift_prediction_func,\n",
    "                                batch_size=200,\n",
    "                                progress_update=None)\n",
    "print(\"maximum difference in predictions:\",np.max(np.array(converted_model_predictions)-np.array(original_model_predictions)))\n",
    "assert np.max(np.array(converted_model_predictions)-np.array(original_model_predictions)) < 10**-5\n",
    "predictions = converted_model_predictions"
   ]
  },
  {
   "cell_type": "markdown",
   "metadata": {},
   "source": [
    "## Compute importance scores\n",
    "\n",
    "### Compile various scoring functions\n",
    "Using the deeplift models, we obtain the functions capable of computing the importance scores."
   ]
  },
  {
   "cell_type": "code",
   "execution_count": 29,
   "metadata": {
    "collapsed": false
   },
   "outputs": [
    {
     "name": "stdout",
     "output_type": "stream",
     "text": [
      "Compiling scoring functions\n",
      "Compiling scoring function for: rescale_conv_revealcancel_fc\n",
      "Compiling scoring function for: rescale_all_layers\n",
      "Compiling scoring function for: revealcancel_all_layers\n",
      "Compiling scoring function for: grad_times_inp\n",
      "Compiling scoring function for: guided_backprop\n",
      "Compiling integrated gradients scoring functions\n"
     ]
    }
   ],
   "source": [
    "print(\"Compiling scoring functions\")\n",
    "method_to_scoring_func = OrderedDict()\n",
    "for method,model in method_to_model.items():\n",
    "    print(\"Compiling scoring function for: \"+method)\n",
    "    method_to_scoring_func[method] = model.get_target_contribs_func(find_scores_layer_idx=0,\n",
    "                                                                    target_layer_idx=-2)\n",
    "    \n",
    "#To get a function that just gives the gradients, we use the multipliers of the Gradient model\n",
    "gradient_func = method_to_model['grad_times_inp'].get_target_multipliers_func(find_scores_layer_idx=0,\n",
    "                                                                              target_layer_idx=-2)\n",
    "print(\"Compiling integrated gradients scoring functions\")\n",
    "integrated_gradients10_func = deeplift.util.get_integrated_gradients_function(\n",
    "    gradient_computation_function = gradient_func,\n",
    "    num_intervals=10)\n",
    "method_to_scoring_func['integrated_gradients10'] = integrated_gradients10_func"
   ]
  },
  {
   "cell_type": "markdown",
   "metadata": {},
   "source": [
    "### Call scoring functions on the data\n",
    "\n",
    "In the cell below, a reference representing 40% GC content is used"
   ]
  },
  {
   "cell_type": "code",
   "execution_count": 30,
   "metadata": {
    "collapsed": false
   },
   "outputs": [
    {
     "name": "stdout",
     "output_type": "stream",
     "text": [
      "[0.232586 0.266258 0.26742  0.233736]\n",
      "OrderedDict([('A', 0.232586), ('C', 0.266258), ('G', 0.26742), ('T', 0.233736)])\n",
      "['rescale_conv_revealcancel_fc', 'rescale_all_layers', 'revealcancel_all_layers', 'grad_times_inp', 'guided_backprop', 'integrated_gradients10']\n",
      "on method rescale_conv_revealcancel_fc\n",
      "scorefunc  <function func at 0x7fda046d5b18>\n",
      "on method rescale_all_layers\n",
      "scorefunc  <function func at 0x7fda0405eaa0>\n",
      "On method variation: rescale_all_layers_avg_gc_ref\n",
      "On method variation: rescale_all_layers_all_zeros_ref\n",
      "on method revealcancel_all_layers\n",
      "scorefunc  <function func at 0x7fd9c039daa0>\n",
      "on method grad_times_inp\n",
      "scorefunc  <function func at 0x7fd9aade2578>\n",
      "on method guided_backprop\n",
      "scorefunc  <function func at 0x7fd9aade2230>\n",
      "on method integrated_gradients10\n",
      "scorefunc  <function compute_integrated_gradients at 0x7fd9aa5861b8>\n",
      "On method variation: integrated_gradients10_avg_gc_ref\n",
      "On method variation: integrated_gradients10_all_zeros_ref\n"
     ]
    }
   ],
   "source": [
    "#background = OrderedDict([('A', 0.0), ('C', 0.0), ('G', 0.0), ('T', 0.0)])\n",
    "avg_gc_content = np.mean(onehot_data, axis=(0,1))\n",
    "print(avg_gc_content)\n",
    "background = OrderedDict([('A', avg_gc_content[0]), ('C', avg_gc_content[1]), ('G', avg_gc_content[2]), ('T', avg_gc_content[3])])\n",
    "print(background)\n",
    "\n",
    "from collections import OrderedDict\n",
    "method_to_task_to_scores = OrderedDict()\n",
    "print (method_to_scoring_func.keys())\n",
    "for method_name, score_func in method_to_scoring_func.items():\n",
    "    print(\"on method\",method_name)\n",
    "    print(\"scorefunc \", score_func)\n",
    "    if (not (method_name == \"rescale_all_layers\" or method_name == \"integrated_gradients10\")):\n",
    "        continue\n",
    "    method_variation_avg_gc_ref = method_name + \"_avg_gc_ref\"\n",
    "    method_variation_all_zeros_ref = method_name + \"_all_zeros_ref\"\n",
    "    method_to_task_to_scores[method_variation_avg_gc_ref] = OrderedDict()\n",
    "    method_to_task_to_scores[method_variation_all_zeros_ref] = OrderedDict()\n",
    "    for task_idx in [0]:\n",
    "        print(\"On method variation: \" + method_variation_avg_gc_ref)\n",
    "        scores = np.array(score_func(\n",
    "        task_idx=task_idx,\n",
    "        input_data_list=[onehot_data],\n",
    "        input_references_list=[\n",
    "        np.array([background['A'],\n",
    "                background['C'],\n",
    "                background['G'],\n",
    "                background['T']])[None,None,:]],\n",
    "                batch_size=200,\n",
    "                progress_update=None))\n",
    "        assert scores.shape[2]==4\n",
    "        #The sum over the ACGT axis in the code below is important! Recall that DeepLIFT\n",
    "        # assigns contributions based on difference-from-reference; if\n",
    "        # a position is [1,0,0,0] (i.e. 'A') in the actual sequence and [0.3, 0.2, 0.2, 0.3]\n",
    "        # in the reference, importance will be assigned to the difference (1-0.3)\n",
    "        # in the 'A' channel, (0-0.2) in the 'C' channel,\n",
    "        # (0-0.2) in the G channel, and (0-0.3) in the T channel. You want to take the importance\n",
    "        # on all four channels and sum them up, so that at visualization-time you can project the\n",
    "        # total importance over all four channels onto the base that is actually present (i.e. the 'A'). If you\n",
    "        # don't do this, your visualization will look very confusing as multiple bases will be highlighted at\n",
    "        # every position and you won't know which base is the one that is actually present in the sequence!\n",
    "        scores = np.sum(scores, axis=2)\n",
    "        method_to_task_to_scores[method_variation_avg_gc_ref][task_idx] = scores\n",
    "        # Second time for zeros ref\n",
    "        print(\"On method variation: \" + method_variation_all_zeros_ref)\n",
    "        scores = np.array(score_func(\n",
    "        task_idx=task_idx,\n",
    "        input_data_list=[onehot_data],\n",
    "        input_references_list=[\n",
    "        np.array([0,0,0,0])[None,None,:]],\n",
    "                batch_size=200,\n",
    "                progress_update=None))\n",
    "        assert scores.shape[2]==4\n",
    "        #The sum over the ACGT axis in the code below is important! Recall that DeepLIFT\n",
    "        # assigns contributions based on difference-from-reference; if\n",
    "        # a position is [1,0,0,0] (i.e. 'A') in the actual sequence and [0.3, 0.2, 0.2, 0.3]\n",
    "        # in the reference, importance will be assigned to the difference (1-0.3)\n",
    "        # in the 'A' channel, (0-0.2) in the 'C' channel,\n",
    "        # (0-0.2) in the G channel, and (0-0.3) in the T channel. You want to take the importance\n",
    "        # on all four channels and sum them up, so that at visualization-time you can project the\n",
    "        # total importance over all four channels onto the base that is actually present (i.e. the 'A'). If you\n",
    "        # don't do this, your visualization will look very confusing as multiple bases will be highlighted at\n",
    "        # every position and you won't know which base is the one that is actually present in the sequence!\n",
    "        scores = np.sum(scores, axis=2)\n",
    "        method_to_task_to_scores[method_variation_all_zeros_ref][task_idx] = scores"
   ]
  },
  {
   "cell_type": "code",
   "execution_count": 31,
   "metadata": {
    "collapsed": false
   },
   "outputs": [
    {
     "name": "stdout",
     "output_type": "stream",
     "text": [
      "(5000, 400)\n"
     ]
    }
   ],
   "source": [
    "print(scores.shape)"
   ]
  },
  {
   "cell_type": "code",
   "execution_count": 32,
   "metadata": {
    "collapsed": false
   },
   "outputs": [
    {
     "name": "stdout",
     "output_type": "stream",
     "text": [
      "['rescale_all_layers_avg_gc_ref', 'rescale_all_layers_all_zeros_ref', 'integrated_gradients10_avg_gc_ref', 'integrated_gradients10_all_zeros_ref']\n"
     ]
    }
   ],
   "source": [
    "print(method_to_task_to_scores.keys())"
   ]
  },
  {
   "cell_type": "markdown",
   "metadata": {},
   "source": [
    "### Save scores to HDF5 file"
   ]
  },
  {
   "cell_type": "code",
   "execution_count": 33,
   "metadata": {
    "collapsed": false
   },
   "outputs": [
    {
     "name": "stdout",
     "output_type": "stream",
     "text": [
      "['rescale_all_layers_avg_gc_ref', 'rescale_all_layers_all_zeros_ref', 'integrated_gradients10_avg_gc_ref', 'integrated_gradients10_all_zeros_ref']\n"
     ]
    }
   ],
   "source": [
    "print(method_to_task_to_scores.keys())"
   ]
  },
  {
   "cell_type": "code",
   "execution_count": 34,
   "metadata": {
    "collapsed": false
   },
   "outputs": [
    {
     "name": "stdout",
     "output_type": "stream",
     "text": [
      "Storing scores for rescale_all_layers_avg_gc_ref\n",
      "Storing scores for rescale_all_layers_all_zeros_ref\n",
      "Storing scores for integrated_gradients10_avg_gc_ref\n",
      "Storing scores for integrated_gradients10_all_zeros_ref\n"
     ]
    }
   ],
   "source": [
    "import h5py\n",
    "\n",
    "h5f = h5py.File('/users/eprakash/projects/benchmarking/newdata/A549/models/deepseabeluga/results/A549.deepseabeluga.scores.variedrefs.5Ksubsample.h5', 'w')\n",
    "h5f.create_dataset(\"labels\", data=labels)\n",
    "for meth in method_to_task_to_scores.keys()[0:4]:\n",
    "    print(\"Storing scores for \" + str(meth))\n",
    "    h5f.create_dataset(meth, data=method_to_task_to_scores[meth][0])\n",
    "h5f.close()"
   ]
  },
  {
   "cell_type": "markdown",
   "metadata": {},
   "source": [
    "## Visualize scores on individual sequences\n",
    "\n",
    "Visualize the scores at specific sequences. Cyan boxes indicate the ground-truth locations of the inserted TAL1_known1 motifs, red boxes indicate the ground-truth locations of the inserted GATA_disc1 motifs"
   ]
  },
  {
   "cell_type": "code",
   "execution_count": 35,
   "metadata": {
    "collapsed": false,
    "scrolled": false
   },
   "outputs": [
    {
     "name": "stdout",
     "output_type": "stream",
     "text": [
      "Scores for task 0 for example 731\n",
      "[-1.59996314e-04  3.21276719e-04 -1.05499057e-03  1.48633868e-03\n",
      "  2.00503226e-03 -9.43981810e-04 -7.79897906e-04 -3.22132325e-03\n",
      "  1.61739513e-02  1.81173515e-02  2.29527745e-02  2.95779924e-03\n",
      "  7.19583826e-03  3.95067707e-02  9.08019394e-03  1.51554262e-02\n",
      "  7.60926008e-02  7.92516917e-02  2.50487141e-02  6.10106140e-02\n",
      "  4.10877392e-02  1.30185783e-02  1.88799091e-02  3.61201614e-02\n",
      "  1.01437233e-02  1.79307461e-02 -1.25843333e-03  5.63985389e-03\n",
      " -2.40565799e-02  2.44209003e-02  4.19569649e-02  6.28873780e-02\n",
      " -3.36681195e-02 -1.44017264e-02 -5.06903045e-04  1.52270701e-02\n",
      "  1.11479782e-01  1.85794115e-01  1.46664158e-01  6.66365102e-02\n",
      " -4.91777137e-02 -2.13025659e-02 -1.75352097e-02 -2.87101809e-02\n",
      " -1.08926771e-02  6.16517626e-02  6.55350983e-02  1.70727298e-01\n",
      "  1.88247710e-01  2.29588836e-01  2.18060762e-01  1.71752572e-01\n",
      "  2.77276307e-01  1.52305812e-01  2.61476934e-02  4.33534309e-02\n",
      " -2.62724385e-02 -1.21417986e-02 -2.13566199e-02  9.09773931e-02\n",
      "  6.80614710e-02  5.82867973e-02  2.89396681e-02  4.12760898e-02\n",
      "  2.87669059e-02  1.10461935e-01  3.96072641e-02  2.26919562e-01\n",
      "  1.62999317e-01  1.55778974e-01  1.94208309e-01  1.14148282e-01\n",
      "  4.98871226e-03  2.31233723e-02 -4.84122299e-02 -4.98071536e-02\n",
      " -6.66443259e-02  3.25220358e-03 -2.00109463e-02  7.44256973e-02\n",
      "  2.02996194e-01  1.36136234e-01  1.60640895e-01 -2.05370523e-02\n",
      " -9.93109420e-02 -3.54388431e-02 -4.09641601e-02 -1.01838745e-01\n",
      " -7.97133222e-02 -3.05816438e-02  4.16010134e-02 -2.94548385e-02\n",
      " -1.76730193e-02 -5.28768711e-02 -4.85193282e-02  7.03613041e-03\n",
      "  6.59337193e-02  1.66505709e-01  1.94008555e-02 -1.50792599e-02\n",
      "  2.25369204e-02 -1.46831684e-02  3.34063098e-02  2.54538693e-02\n",
      "  1.18204094e-01  7.43627697e-02  2.29506958e-02  1.68086752e-01\n",
      "  9.76086110e-02  4.57999706e-02  7.15312883e-02  8.97910595e-02\n",
      "  9.15515125e-02  1.50174230e-01  1.23742640e-01  1.02920406e-01\n",
      " -1.97090115e-02  1.84625294e-02 -1.61914602e-02 -5.94514515e-03\n",
      " -3.30805220e-02  3.24170068e-02 -2.88321804e-02 -1.60091165e-02\n",
      " -1.50627131e-02  5.30811585e-02  1.83466464e-01  2.15955898e-01\n",
      "  7.68522695e-02  7.60200317e-04  6.62290305e-02  1.86418608e-01\n",
      "  2.34650105e-01  4.75269437e-01  8.60877514e-01  1.63384974e-01\n",
      "  4.38005447e-01  3.99616063e-02  7.42829025e-01  1.17370021e+00\n",
      "  4.52325225e-01  3.94201159e-01  8.20596397e-01  7.64344335e-01\n",
      "  8.20977390e-01  5.40156901e-01  3.01586181e-01 -9.78158861e-02\n",
      "  1.08619891e-01 -4.20586113e-03  7.30074495e-02  2.82791376e-01\n",
      "  1.96792021e-01  1.82669401e-01  1.03498533e-01 -7.82157946e-03\n",
      " -1.16397850e-02 -3.73796523e-02  5.79316393e-02  5.93713820e-02\n",
      "  4.53785136e-02  1.88749298e-01  1.57297388e-01  1.42740846e-01\n",
      "  1.47062289e-02  1.05194218e-01  8.08018968e-02  1.46284513e-03\n",
      "  1.96218956e-02 -2.36596987e-02 -3.75504047e-02 -4.70601469e-02\n",
      " -5.93964048e-02 -1.07548937e-01 -3.99728753e-02  6.81634992e-06\n",
      " -2.02462729e-02 -9.41259786e-04 -2.64634192e-02  7.50298845e-03\n",
      "  1.35239381e-02  2.05149408e-02  7.94374272e-02  1.40287891e-01\n",
      "  1.23049840e-01  7.56018832e-02  7.08643645e-02  5.67146577e-02\n",
      "  2.80541815e-02  2.77558565e-02  7.15420395e-03  5.77196386e-03\n",
      "  3.59646324e-03  1.58609003e-02  9.05913413e-02  1.48678944e-01\n",
      "  1.17257677e-01  1.11786323e-02  5.45560895e-03 -1.97138153e-02\n",
      "  2.66381428e-02  6.36098012e-02  2.40416601e-02 -3.20024788e-02\n",
      "  3.05355936e-02  7.95237534e-03  1.20484412e-01  1.30661994e-01\n",
      "  9.53933150e-02  8.66847783e-02  8.38346481e-02  1.15408719e-01\n",
      "  6.29527271e-02  4.83417250e-02  6.73642661e-03  6.24971576e-02\n",
      "  1.49580032e-01  2.53262162e-01  1.31836221e-01  1.08659759e-01\n",
      "  9.37344357e-02  7.75321797e-02  2.23302934e-03  5.83210448e-03\n",
      "  3.70310433e-02  1.47302635e-04  6.03558403e-03 -2.36309692e-02\n",
      " -7.38566183e-03  3.36982682e-03 -1.86753068e-02 -3.29794995e-02\n",
      " -8.65670200e-03 -1.29890265e-02  6.88384240e-03 -1.42389461e-02\n",
      "  7.09650526e-03  3.09985522e-02  3.12319472e-02  7.93045759e-02\n",
      "  7.07031414e-02  8.50277469e-02  1.54042855e-01  1.22642756e-01\n",
      "  6.66360334e-02  5.28016649e-02  3.47609296e-02  1.13957990e-02\n",
      "  4.33875732e-02  1.55907407e-01  1.27053320e-01  5.08389547e-02\n",
      "  6.28347928e-03  3.12241688e-02  3.30385342e-02  6.61090910e-02\n",
      "  9.67405960e-02  3.42934951e-02  2.90595507e-03  9.18362103e-03\n",
      " -1.37117179e-02 -2.59890482e-02  9.19692311e-03  7.23610341e-04\n",
      "  2.96184216e-02  5.45061454e-02  8.97025615e-02  7.48206377e-02\n",
      "  1.45733863e-01  3.38980108e-02 -3.41091082e-02  9.18649882e-02\n",
      "  8.92916843e-02  1.80926658e-02  9.32718068e-02  1.00284465e-01\n",
      "  2.75031216e-02  1.12029135e-01  8.11995715e-02  6.04684390e-02\n",
      " -2.23447056e-03  1.59639437e-02  3.30471732e-02  2.45457944e-02\n",
      "  4.78120521e-03  2.78224759e-02  6.69978261e-02  1.06224149e-01\n",
      "  1.24335088e-01  1.75349474e-01  8.50093588e-02 -2.36592200e-02\n",
      "  6.40439764e-02  1.00895651e-01  1.71124134e-02 -3.20808664e-02\n",
      "  8.36477987e-03 -4.12513614e-02 -3.20314094e-02 -5.98957613e-02\n",
      "  1.44540649e-02  7.27318972e-02  1.52090043e-01  1.98802784e-01\n",
      "  1.62317723e-01 -8.25052708e-02  2.91653395e-01  4.36375111e-01\n",
      "  3.03877234e-01  2.87332535e-01  4.18773293e-02 -2.57612541e-02\n",
      " -1.00094359e-02  3.89120765e-02  2.04997659e-02  3.38012874e-02\n",
      "  5.18053025e-02 -3.97281907e-02 -3.66676040e-03  3.22222225e-02\n",
      " -3.70082371e-02  2.43397206e-02  4.57270443e-02  1.02566831e-01\n",
      " -9.20276530e-03  2.39235926e-02  1.77162234e-03  8.59298185e-03\n",
      "  2.07108948e-02 -7.72233587e-03  7.69717172e-02  7.66528174e-02\n",
      "  9.76315439e-02  3.89614776e-02  1.11175939e-01  1.16852805e-01\n",
      "  1.53503735e-02  3.73302549e-02  1.96187407e-01  1.24964781e-01\n",
      "  6.66827708e-02  1.10916525e-01  9.23689902e-02  1.17756970e-01\n",
      " -1.25544425e-03  7.12104142e-02  1.33522540e-01  1.40371159e-01\n",
      " -1.09708551e-02 -1.51552185e-02 -7.24606588e-02 -4.53395955e-02\n",
      " -6.03041127e-02 -1.00830682e-02 -3.34565789e-02 -1.63997822e-02\n",
      "  7.82526936e-03  6.05587959e-02  8.31881985e-02  8.33128318e-02\n",
      "  8.36968869e-02  8.40216726e-02  1.07614577e-01  1.89221445e-02\n",
      "  5.86945005e-02  4.68480214e-02  2.18928009e-02 -1.85742136e-03\n",
      " -1.97829437e-02 -3.42630856e-02 -2.28621755e-02  2.30586324e-02\n",
      "  3.66734490e-02  7.77843408e-03 -1.78717473e-03 -1.21395877e-02\n",
      " -1.55579392e-02 -1.75161718e-03 -1.96842309e-02 -1.70690306e-02\n",
      " -1.01911081e-02 -6.91131223e-03 -3.65633378e-03 -7.00128090e-04\n",
      "  2.95119709e-03 -2.65695213e-04 -1.10620703e-03 -1.07392354e-03\n",
      " -1.84028759e-03 -5.13211999e-04 -3.45722828e-09 -6.63023814e-09\n",
      "  6.16549123e-09  7.86327092e-09  1.23690169e-08  7.01949743e-09\n",
      "  7.93133648e-09  4.79088769e-09  2.60166749e-10  5.48231327e-09]\n",
      "Scores shape: (400,)\n",
      "Onehot shape: (400, 4)\n",
      "rescale_all_layers_avg_gc_ref\n"
     ]
    },
    {
     "data": {
      "image/png": "[encoded data removed]",
      "text/plain": [
       "<matplotlib.figure.Figure at 0x7fd9a32d1690>"
      ]
     },
     "metadata": {},
     "output_type": "display_data"
    },
    {
     "name": "stdout",
     "output_type": "stream",
     "text": [
      "Scores for task 0 for example 197\n",
      "[ 3.37465084e-04  1.02000893e-03 -5.17681474e-04 -6.51066890e-04\n",
      " -4.67817858e-03  8.75310274e-04 -1.04872147e-02  3.95258749e-03\n",
      " -8.19943845e-03 -1.27864694e-02 -1.28298216e-02 -1.69929088e-04\n",
      "  2.60865167e-02  1.09512173e-03  1.41176712e-02  1.91128403e-02\n",
      "  1.54569726e-02  4.26077358e-02  2.55429950e-02 -1.68771520e-02\n",
      " -2.11906107e-03  1.94778405e-02 -7.70233851e-03 -7.51194824e-03\n",
      " -2.51105381e-03  7.67779490e-03 -2.58250497e-02  1.71943605e-02\n",
      "  2.01968420e-02 -3.26541960e-02 -1.92775652e-02 -1.07900240e-03\n",
      "  2.37972364e-02  8.33803862e-02  3.32211778e-02  4.04695608e-02\n",
      "  2.38091815e-02  2.53498536e-02 -4.26774984e-03 -2.89919693e-02\n",
      " -3.17055732e-02  2.31997091e-02 -2.28642244e-02  4.80113626e-02\n",
      "  1.60527229e-03  6.61221668e-02  2.56404560e-02  4.81429324e-02\n",
      "  2.07479093e-02  6.83711693e-02  9.67481583e-02  9.63588357e-02\n",
      "  1.03430852e-01  1.66603446e-01  1.45242423e-01  1.09109268e-01\n",
      "  1.53452098e-01  1.66204125e-01  1.03505895e-01  9.40793380e-02\n",
      "  6.39954209e-02  7.95935765e-02  2.65370131e-01  2.53690302e-01\n",
      "  6.15790449e-02  6.47697300e-02 -5.59297875e-02 -3.65199335e-02\n",
      " -7.73063600e-02 -1.28076524e-02 -6.35873824e-02 -4.89980914e-04\n",
      "  5.24799302e-02 -3.49849537e-02  1.01604713e-02  7.69986631e-03\n",
      "  1.79367661e-02  3.05582536e-03 -1.38851600e-02  1.04007786e-02\n",
      "  1.51730783e-03  1.13985687e-02 -3.43596861e-02 -5.55525441e-03\n",
      " -1.28543004e-04  1.81243215e-02  4.17746082e-02 -7.35177752e-03\n",
      "  5.41015016e-03  3.19300517e-02  4.39661145e-02  3.29750180e-02\n",
      "  3.50037683e-03  5.21454364e-02 -8.77682678e-03  6.89648092e-02\n",
      "  2.05003545e-02  1.80575103e-02  2.25455798e-02  2.05890238e-02\n",
      "  1.67265069e-02  4.73029166e-02  4.58447151e-02 -4.16061468e-03\n",
      "  2.63040792e-02  1.50993979e-02 -7.51558458e-03  4.58178185e-02\n",
      "  1.80289280e-02  3.38730514e-02 -4.92426474e-03 -2.39586225e-04\n",
      "  2.49678157e-02  1.86512880e-02 -1.02973264e-03 -1.02261873e-02\n",
      " -1.28653971e-02  1.35248583e-02  7.31946714e-03 -1.67100155e-03\n",
      "  4.04916704e-03  7.82327726e-03 -2.91735050e-03  1.19444858e-02\n",
      "  1.57403070e-02  4.54484448e-02  4.61514182e-02  3.27595584e-02\n",
      "  1.73018333e-02  3.67704127e-03  2.54937038e-02  2.34599058e-02\n",
      " -1.87854152e-02  9.45615955e-03 -1.23366024e-02  3.06420587e-02\n",
      "  3.40813473e-02  5.37843145e-02  5.53512573e-02  3.78926210e-02\n",
      "  3.01143434e-02  2.06940137e-02  4.39251438e-02  2.71086097e-02\n",
      "  1.27950832e-02  3.33153270e-03 -7.65841082e-03 -8.22310057e-03\n",
      "  1.55080827e-02 -6.28583739e-03 -7.09745195e-03  1.63676310e-02\n",
      "  1.76480655e-02  1.85921863e-02  6.46118820e-03  8.47496279e-03\n",
      "  1.78291462e-02  1.90695655e-02  7.94050768e-02  1.53747275e-01\n",
      "  1.04219131e-01  3.51824254e-01  4.71999079e-01  4.79198128e-01\n",
      "  5.13714552e-01  4.19520408e-01  2.46175826e-01  7.71917030e-02\n",
      "  1.04261227e-01  4.01044749e-02  1.25980690e-01  1.56389669e-01\n",
      "  6.87043667e-02  3.60218324e-02  1.06235053e-02  9.28055216e-03\n",
      " -7.86200352e-03 -1.69729143e-02 -1.13494536e-02 -1.49797220e-02\n",
      "  1.28256362e-02  1.13564983e-01  4.74413931e-02  1.13746382e-01\n",
      "  1.20536566e-01  1.94891900e-01  1.41548097e-01  1.51984513e-01\n",
      "  1.59601063e-01  2.48147011e-01  2.46012151e-01  6.86755776e-02\n",
      "  3.78529727e-02  7.59956017e-02  9.69575569e-02  1.62487850e-01\n",
      "  3.34977247e-02  5.62831275e-02  5.06984293e-02  1.46109797e-03\n",
      "  7.18952436e-03  1.08108185e-01  9.37093645e-02  1.41504124e-01\n",
      "  1.19559817e-01  1.13468707e-01  1.02918148e-01  1.51761368e-01\n",
      "  1.09028637e-01  2.43085593e-01  2.01042652e-01  1.98845536e-01\n",
      "  2.28381589e-01  5.43345138e-02  6.07312098e-02  2.39925131e-01\n",
      "  1.80796757e-01  1.70493722e-01  3.01168084e-01  3.60288620e-01\n",
      "  3.15398753e-01  4.72087651e-01  2.66787887e-01  1.68882936e-01\n",
      "  2.69329190e-01  1.24440737e-01  2.01488122e-01  2.14956507e-01\n",
      "  1.65251464e-01  3.03921372e-01  1.83636352e-01  9.37254652e-02\n",
      "  5.68219423e-02  8.29365253e-02  1.37286127e-01  2.29861252e-02\n",
      "  1.85261503e-01  4.80365187e-01  3.31220984e-01  4.95646708e-02\n",
      "  1.36765510e-01 -6.20240532e-02  4.49301675e-03  1.95189953e-01\n",
      "  2.32285246e-01  2.13178992e-01  8.53525549e-02  1.92727819e-02\n",
      " -1.15645844e-02 -1.95154287e-02  5.22364676e-02  4.96514514e-02\n",
      "  1.12435572e-01  7.31970742e-02  7.22096935e-02  3.42574827e-02\n",
      "  3.11354883e-02  1.84039846e-01  1.67431116e-01  6.97594695e-03\n",
      "  1.05800740e-01  1.31413609e-01  1.23923503e-01  7.71318078e-02\n",
      "  7.08188191e-02  1.97475087e-02  1.31010842e-02  5.30706830e-02\n",
      "  3.21370885e-02  2.39042100e-02  6.40266668e-03  6.94229081e-02\n",
      "  3.44407298e-02  2.05189303e-01  2.48496130e-01  4.57664132e-02\n",
      "  5.46754003e-02 -1.04828551e-02  6.21109195e-02  1.42119944e-01\n",
      "  1.12864882e-01  7.82644153e-02  2.15227872e-01  1.65173098e-01\n",
      "  2.19990388e-02  1.28833996e-02 -1.15995239e-02  1.06490552e-02\n",
      " -8.42394587e-03  2.42965184e-02  8.29910487e-02  7.46340156e-02\n",
      "  7.46643776e-03  1.43835157e-01  1.19343400e-01  9.71152820e-03\n",
      " -3.98406871e-02 -2.45088041e-02  1.84632977e-03 -2.64205430e-02\n",
      "  3.77107225e-02  5.19911665e-03  1.00551188e-01  1.94419045e-02\n",
      "  7.93695077e-02  4.29242738e-02  4.61803675e-02  5.13927266e-02\n",
      "  2.41769291e-02  2.14611888e-02  2.74357460e-02 -2.08932050e-02\n",
      " -1.79930823e-03  8.38851705e-02  1.04651310e-01  8.63629654e-02\n",
      "  1.12522498e-01  3.71349677e-02  1.63479030e-01  1.08824201e-01\n",
      "  7.90891051e-02  2.29934141e-01  1.87352717e-01  6.67110905e-02\n",
      "  1.14501789e-01  1.49110079e-01  2.08090529e-01  1.84110925e-01\n",
      "  1.23352945e-01  8.38967338e-02  1.37649979e-02  4.74431366e-03\n",
      "  5.31482510e-03  3.47935525e-03  4.29763161e-02  2.46952064e-02\n",
      "  4.72978503e-02  2.53569540e-02  2.31716875e-02  3.41182947e-03\n",
      "  1.60226375e-02  4.61094938e-02 -3.84938717e-02 -2.14294121e-02\n",
      "  2.10120957e-02 -1.23040965e-02  3.15973833e-02  2.81495675e-02\n",
      "  3.48397791e-02 -4.59442381e-04  2.88586896e-02 -1.86367380e-03\n",
      "  5.45169301e-02  1.93515234e-02  4.28685583e-02  6.05523624e-02\n",
      "  4.31852378e-02  2.93794200e-02  5.30851483e-02  5.66841587e-02\n",
      " -2.15924550e-02  2.97477115e-02  2.09022656e-01  2.49307215e-01\n",
      "  6.52006865e-02  2.82734726e-02 -1.62828658e-02  1.96959749e-02\n",
      "  5.66175254e-03 -1.41113158e-03  7.58064091e-02  5.47106639e-02\n",
      "  2.44561471e-02  3.84484567e-02  4.51819710e-02  4.24667913e-03\n",
      "  1.56784570e-03  3.05250473e-03 -7.63837108e-03 -9.85427108e-03\n",
      " -7.25273974e-03 -8.03471915e-03 -4.44439519e-03 -3.08608823e-03\n",
      " -4.56380076e-04  1.05951750e-03 -6.35738543e-04 -2.87028059e-04\n",
      " -7.50588515e-05  9.85415754e-05  2.58475428e-08  3.18795657e-08\n",
      "  4.14673806e-09  1.67208114e-08 -4.10472989e-09  3.38619155e-09\n",
      "  9.79732029e-09  1.48455959e-09 -1.13543475e-09  1.84297644e-09]\n",
      "Scores shape: (400,)\n",
      "Onehot shape: (400, 4)\n",
      "rescale_all_layers_avg_gc_ref\n"
     ]
    },
    {
     "data": {
      "image/png": "[encoded data removed]",
      "text/plain": [
       "<matplotlib.figure.Figure at 0x7fd9a32d1cd0>"
      ]
     },
     "metadata": {},
     "output_type": "display_data"
    }
   ],
   "source": [
    "#visualize scores + ground-truth locations of motifs\n",
    "%matplotlib inline\n",
    "from deeplift.visualization import viz_sequence\n",
    "\n",
    "for task, idx in [(0,731), #illustrates failure of grad*inp, integrated grads, deeplift-rescale\n",
    "                  (0,197)  #illustrates non-specific firing of guided backprop\n",
    "                 ]:\n",
    "    print(\"Scores for task\",task,\"for example\",idx)\n",
    "    for method_name in [\n",
    "                        'rescale_all_layers_avg_gc_ref',\n",
    "                        #'integrated_gradients10',\n",
    "                        #'rescale_all_layers',\n",
    "                        #'rescale_conv_revealcancel_fc',\n",
    "                        #'rescale_conv_revealcancel_fc_multiref_10',\n",
    "                        #'rescale_all_layers_multiref_10'\n",
    "                        ]:\n",
    "        scores = method_to_task_to_scores[method_name][task]\n",
    "        scores_for_idx = scores[idx]\n",
    "        print(scores_for_idx)\n",
    "        original_onehot = onehot_data[idx]\n",
    "        print(\"Scores shape: \" + str(scores_for_idx.shape))\n",
    "        print(\"Onehot shape: \" + str(original_onehot.shape))\n",
    "        scores_for_idx = original_onehot*scores_for_idx[:,None]\n",
    "        print(method_name)\n",
    " #       highlight = {'blue':[\n",
    " #               (embedding.startPos, embedding.startPos+len(embedding.what))\n",
    " #               for embedding in data.embeddings[idx] if 'GATA_disc1' in embedding.what.getDescription()],\n",
    " #               'green':[\n",
    " #               (embedding.startPos, embedding.startPos+len(embedding.what))\n",
    " #               for embedding in data.embeddings[idx] if 'TAL1_known1' in embedding.what.getDescription()]}\n",
    "        viz_sequence.plot_weights(scores_for_idx, subticks_frequency=10, highlight={})"
   ]
  },
  {
   "cell_type": "markdown",
   "metadata": {},
   "source": [
    "## Making the scatterplots\n",
    "\n",
    "I haven't ported the code necessary to generate the scatterplots in the DeepLIFT paper in this version of DeepLIFT. However, for a notebook that reproduces the figures in the paper, feel free to look at https://github.com/kundajelab/deeplift/blob/671ee67a03bd5bebf4c405af59eec45d3ca2a288/examples/public/genomics/genomics_simulation.ipynb"
   ]
  },
  {
   "cell_type": "code",
   "execution_count": null,
   "metadata": {
    "collapsed": true
   },
   "outputs": [],
   "source": []
  }
 ],
 "metadata": {
  "anaconda-cloud": {},
  "kernelspec": {
   "display_name": "Python [default]",
   "language": "python",
   "name": "python2"
  },
  "language_info": {
   "codemirror_mode": {
    "name": "ipython",
    "version": 2
   },
   "file_extension": ".py",
   "mimetype": "text/x-python",
   "name": "python",
   "nbconvert_exporter": "python",
   "pygments_lexer": "ipython2",
   "version": "2.7.12"
  }
 },
 "nbformat": 4,
 "nbformat_minor": 0
}
