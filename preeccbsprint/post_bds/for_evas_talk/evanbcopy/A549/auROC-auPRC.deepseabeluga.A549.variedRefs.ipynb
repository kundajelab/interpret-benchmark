{
 "cells": [
  {
   "cell_type": "code",
   "execution_count": 1,
   "metadata": {},
   "outputs": [],
   "source": [
    "#!/usr/bin/env python\n",
    "from __future__ import division, print_function, absolute_import\n",
    "import numpy as np\n",
    "import h5py\n",
    "import simdna.synthetic as synthetic\n",
    "from sklearn.metrics import (\n",
    "    roc_auc_score, average_precision_score,\n",
    "    roc_curve, precision_recall_curve)\n",
    "import re\n",
    "from collections import OrderedDict, defaultdict\n",
    "\n",
    "def load_motif_matches(motif_match_file, doprint=False):\n",
    "        \"\"\"\n",
    "        Loads a homer motif match file into an ordered dictionary with key as se\n",
    "quence name\n",
    "        and value as list of dictionaries each containing the keys - motif, sequ\n",
    "ence,\n",
    "        begin (0-indexed inclusive begin index of motif), end (0-indexed exclusi\n",
    "ve end index),\n",
    "        strand (+ or -), seqval. Each dictionary\n",
    "        represents one motif match on that sequence\n",
    "        \"\"\"\n",
    "        motif_matches = OrderedDict()\n",
    "        fp = open(motif_match_file, \"r\")\n",
    "        if doprint:\n",
    "                print(\"#Loading \" + motif_match_file + \" ...\")\n",
    "        numlines = 0\n",
    "        for line in fp:\n",
    "                match = re.match(\"((\\w|\\-)+)\\s+((\\w|\\:|\\-)+)\\s+(\\d+)\\s+(\\d+)\\s+(\\+|\\-)\\s+.+\\s+(\\w+)$\", line)\n",
    "                if match:\n",
    "                        numlines = numlines + 1\n",
    "                        motif = match.group(1)\n",
    "                        sequence = match.group(3)\n",
    "                        begin = int(match.group(5))\n",
    "                        end = int(match.group(6))\n",
    "                        strand = match.group(7)\n",
    "                        seqval = match.group(8)\n",
    "                        entry = dict()\n",
    "                        entry['motif'] = motif\n",
    "                        entry['sequence'] = sequence\n",
    "                        entry['begin'] = begin-1 # Homer motif match file is 1 indexed, convert to 0\n",
    "                        entry['end'] = end # Homer motif match file is 1 indexed AND inclusive, convert to 0 and exclusive\n",
    "                        entry['strand'] = strand\n",
    "                        entry['seqval'] = seqval\n",
    "                        if sequence not in motif_matches:\n",
    "                                motif_matches[sequence] = list()\n",
    "                        motif_matches[sequence].append(entry)\n",
    "        fp.close()\n",
    "        if doprint:\n",
    "                print(\"#Loaded \" + str(numlines) + \" motif matches in \" + str(len(motif_matches.keys())) + \" sequences\")\n",
    "        return motif_matches"
   ]
  },
  {
   "cell_type": "code",
   "execution_count": 2,
   "metadata": {
    "collapsed": true
   },
   "outputs": [],
   "source": [
    "def rename(label):\n",
    "    match=re.match('.*_(chr.*)$',label)\n",
    "    if match:\n",
    "        return match.group(1)\n",
    "    else:\n",
    "        return \"\""
   ]
  },
  {
   "cell_type": "code",
   "execution_count": 3,
   "metadata": {},
   "outputs": [],
   "source": [
    "def get_relevant_labels_in_order_of_scores(labels, motif_matches):\n",
    "    relevant_labels_list=[]\n",
    "    relevant_indices_list=[]\n",
    "    sequence_index=0\n",
    "    positive_labels=[]\n",
    "    for label in motif_matches.keys():\n",
    "        positive_labels.append(label)\n",
    "    positive_labels_set = set(positive_labels)\n",
    "    print(\"Motif matches sequences are \" + str(len(positive_labels_set)))\n",
    "    print(\"Supplied labels are \" + str(len(labels)))\n",
    "    for sequence_label in labels:\n",
    "        if sequence_label in positive_labels_set:\n",
    "            if sequence_index==731:\n",
    "                print(sequence_index)\n",
    "            relevant_indices_list.append(sequence_index)\n",
    "            relevant_labels_list.append(sequence_label)\n",
    "        else:\n",
    "            print(\"Did not find this label in motif matches: \" + sequence_label)\n",
    "        sequence_index=sequence_index+1\n",
    "    print (len(relevant_indices_list))\n",
    "    print (len(relevant_labels_list))\n",
    "    return relevant_indices_list, relevant_labels_list"
   ]
  },
  {
   "cell_type": "code",
   "execution_count": 4,
   "metadata": {
    "collapsed": true
   },
   "outputs": [],
   "source": [
    "def get_relevant_scores(relevant_indices_list, scores, seq_len=400):\n",
    "    relevant_scores=np.zeros((len(relevant_indices_list),seq_len))\n",
    "    index=0\n",
    "    for scores_index in relevant_indices_list:\n",
    "        relevant_scores[index]=scores[scores_index]\n",
    "        index=index+1\n",
    "    return relevant_scores"
   ]
  },
  {
   "cell_type": "code",
   "execution_count": 5,
   "metadata": {},
   "outputs": [
    {
     "name": "stdout",
     "output_type": "stream",
     "text": [
      "(5000,)\n",
      "#Loading /users/eprakash/projects/benchmarking/newdata/A549/A549.motif.matches.txt ...\n",
      "#Loaded 4599731 motif matches in 143217 sequences\n",
      "143217\n"
     ]
    }
   ],
   "source": [
    "scores_file='/users/eprakash/projects/benchmarking/newdata/A549/models/deepseabeluga/results/A549.deepseabeluga.scores.variedrefs.5Ksubsample.h5'\n",
    "h5f = h5py.File(scores_file,'r')\n",
    "initial_labels=np.array(h5f.get(\"labels\"))\n",
    "size=len(initial_labels)\n",
    "labels=np.empty(size,dtype=object)\n",
    "#fpointer = open(\"/users/eprakash/projects/benchmarking/newdata/K562/K562_pos_labels_truncated.txt\", \"w\")\n",
    "for index in range(0, size):\n",
    "    labels[index]=rename(initial_labels[index])\n",
    "    #fpointer.write(str(labels[index]) + \"\\n\")\n",
    "#Sanity check\n",
    "#fpointer.close()\n",
    "print (labels.shape)\n",
    "\n",
    "original_rescale_all_layers_avg_gc_ref_scores=np.array(h5f.get(\"rescale_all_layers_avg_gc_ref\"))\n",
    "original_rescale_all_layers_all_zeros_ref_scores=np.array(h5f.get(\"rescale_all_layers_all_zeros_ref\"))\n",
    "original_integrated_gradients10_avg_gc_ref_scores=np.array(h5f.get(\"integrated_gradients10_avg_gc_ref\"))\n",
    "original_integrated_gradients10_all_zeros_ref_scores=np.array(h5f.get(\"integrated_gradients10_all_zeros_ref\"))\n",
    "\n",
    "h5f.close()\n",
    "\n",
    "seq_len=original_rescale_all_layers_avg_gc_ref_scores.shape[1]\n",
    "motif_matches=load_motif_matches('/users/eprakash/projects/benchmarking/newdata/A549/A549.motif.matches.txt', True)\n",
    "initial_seq_ids_of_interest = motif_matches.keys()\n",
    "seq_ids_of_interest=[]\n",
    "for id in initial_seq_ids_of_interest:\n",
    "    seq_ids_of_interest.append(rename(id))\n",
    "print(len(seq_ids_of_interest))"
   ]
  },
  {
   "cell_type": "code",
   "execution_count": 6,
   "metadata": {},
   "outputs": [
    {
     "name": "stdout",
     "output_type": "stream",
     "text": [
      "Motif matches sequences are 143217\n",
      "Supplied labels are 5000\n",
      "731\n",
      "5000\n",
      "5000\n",
      "(5000, 400)\n"
     ]
    }
   ],
   "source": [
    "seq_ids_of_interest_set = set(seq_ids_of_interest)\n",
    "relevant_indices_list, relevant_labels_list=get_relevant_labels_in_order_of_scores(labels, motif_matches)\n",
    "#Changed later: reducing seq_ids_of_interest to those which are common to motif matches and labels\n",
    "seq_ids_of_interest = relevant_labels_list\n",
    "seq_ids_of_interest_set = set(relevant_labels_list)\n",
    "\n",
    "rescale_all_layers_avg_gc_ref_scores=get_relevant_scores(relevant_indices_list, original_rescale_all_layers_avg_gc_ref_scores, seq_len)\n",
    "rescale_all_layers_all_zeros_ref_scores=get_relevant_scores(relevant_indices_list, original_rescale_all_layers_all_zeros_ref_scores, seq_len)\n",
    "integrated_gradients10_avg_gc_ref_scores=get_relevant_scores(relevant_indices_list, original_integrated_gradients10_avg_gc_ref_scores, seq_len)\n",
    "integrated_gradients10_all_zeros_ref_scores=get_relevant_scores(relevant_indices_list, original_integrated_gradients10_all_zeros_ref_scores, seq_len)\n",
    "#reveal_cancel_scores=get_relevant_scores(relevant_indices_list, original_reveal_cancel_scores, seq_len)\n",
    "#guided_backprop_scores=get_relevant_scores(relevant_indices_list, original_guided_backprop_scores, seq_len)\n",
    "\n",
    "print (rescale_all_layers_avg_gc_ref_scores.shape)"
   ]
  },
  {
   "cell_type": "code",
   "execution_count": 7,
   "metadata": {},
   "outputs": [
    {
     "name": "stdout",
     "output_type": "stream",
     "text": [
      "5000\n",
      "5000\n",
      "5000\n",
      "5000\n",
      "5000\n",
      "5000\n",
      "5000\n",
      "5000\n",
      "Motif positions: 825682.0, total positions: 2000000\n"
     ]
    }
   ],
   "source": [
    "import re\n",
    "method_to_saved_scores = OrderedDict([\n",
    "    ('rescale_all_layers_avg_gc_ref', rescale_all_layers_avg_gc_ref_scores),\n",
    "    ('rescale_all_layers_all_zeros_ref', rescale_all_layers_all_zeros_ref_scores),\n",
    "    ('integrated_gradients10_avg_gc_ref', integrated_gradients10_avg_gc_ref_scores),\n",
    "    #('guided_backprop', guided_backprop_scores),\n",
    "    #('reveal_cancel', reveal_cancel_scores),\n",
    "    ('integrated_gradients10_all_zeros_ref', integrated_gradients10_all_zeros_ref_scores)\n",
    "\n",
    "])\n",
    "method_to_seq_id_to_scores = {}\n",
    "for method_name in method_to_saved_scores:\n",
    "    scores = method_to_saved_scores[method_name]\n",
    "    if (method_name=='integrated_gradients'):\n",
    "        print(\"Error!!!! Shouldnt be here\")\n",
    "    else:\n",
    "        print(len(seq_ids_of_interest))\n",
    "        print(len(scores))\n",
    "        assert(len(seq_ids_of_interest)==len(scores))\n",
    "        seq_id_to_scores = dict(zip(relevant_labels_list,scores))\n",
    "    method_to_seq_id_to_scores[method_name] = seq_id_to_scores\n",
    "\n",
    "\n",
    "#covered_positions marks a position as a 1 if it overlaps\n",
    "# an embedded motif\n",
    "seq_id_to_covered_positions = {}\n",
    "motif_id_to_hit_locations = defaultdict(list)\n",
    "motif_id_to_motif_length = {}\n",
    "#For each motif, we need a mapping from the motif\n",
    "# to the positives locations\n",
    "for seq_id in motif_matches:\n",
    "    original_seq_id=seq_id\n",
    "    #seq_id=rename(seq_id)\n",
    "    if (method_name=='integrated_gradients'):\n",
    "        print(\"Error!!!! Shouldnt be here\")\n",
    "    else:\n",
    "        if (seq_id in seq_ids_of_interest_set):\n",
    "            embedded_positions = np.zeros(seq_len)\n",
    "            for embedding in motif_matches[original_seq_id]:\n",
    "                the_seq=embedding['sequence']\n",
    "                motif_start_loc = embedding['begin'] \n",
    "                motif_end_loc = embedding['end']\n",
    "                motif_len = motif_end_loc-motif_start_loc\n",
    "                embedded_positions[motif_start_loc:motif_end_loc] = 1.0\n",
    "                motif_name = re.match('(\\d+)-(\\w+)-(\\d+)',embedding['motif']).group(2)\n",
    "                if (motif_name in motif_id_to_motif_length):\n",
    "                    assert (motif_id_to_motif_length[motif_name]==motif_len)\n",
    "                else:\n",
    "                    motif_id_to_motif_length[motif_name] = motif_len\n",
    "                motif_id_to_hit_locations[motif_name].append(\n",
    "                    (seq_id,motif_start_loc))\n",
    "        #print(embedded_positions)\n",
    "            seq_id_to_covered_positions[seq_id] = embedded_positions \n",
    "\n",
    "total_motif_bases = 0\n",
    "total_bases = 0\n",
    "for (seqname, arr) in seq_id_to_covered_positions.items():\n",
    "    total_motif_bases = total_motif_bases + np.sum(arr)\n",
    "    total_bases = total_bases +  len(arr)\n",
    "print(\"Motif positions: \" + str(total_motif_bases) + \", total positions: \" + str(total_bases))\n",
    "\n",
    "#find windows of a given length that do not overlap any motif\n",
    "motif_len_to_negatives = defaultdict(list)                            \n",
    "for motif_len in set(motif_id_to_motif_length.values()):\n",
    "    for seq_id,covered_positions in seq_id_to_covered_positions.items():\n",
    "        cumsum = np.array([0]+list(np.cumsum(covered_positions)))\n",
    "        window_sums = cumsum[motif_len:]-cumsum[0:-motif_len]\n",
    "        null_windows = [(seq_id,x) for x in\n",
    "                        np.nonzero(window_sums==0)[0]]\n",
    "        motif_len_to_negatives[motif_len].extend(null_windows)"
   ]
  },
  {
   "cell_type": "code",
   "execution_count": 8,
   "metadata": {},
   "outputs": [
    {
     "name": "stdout",
     "output_type": "stream",
     "text": [
      "75\n"
     ]
    }
   ],
   "source": [
    "motif_id_to_pos_locs={}\n",
    "for motif_id in motif_id_to_hit_locations:\n",
    "    motif_len = motif_id_to_motif_length[motif_id]\n",
    "    num_pos_locs = len(motif_id_to_hit_locations[motif_id])\n",
    "    #num_neg_locs = len(motif_len_to_negatives[motif_len])\n",
    "    motif_id_to_pos_locs.update({motif_id:float(num_pos_locs)})\n",
    "print(len(motif_id_to_pos_locs))\n",
    "top_5_motif_ids=sorted(motif_id_to_pos_locs, key=lambda x: motif_id_to_pos_locs[x])\n",
    "#['TGAATGAATGAA', 'GGGGCGGGGC', 'AGAGGAAGTG', 'AAAAAAAAAAAA', 'AAAAAAAAAA', 'CTTCCTCT', 'GCCACTGCAC', 'AAAAAAAA', 'GGGTGGGG'] \n",
    "#top_5_motif_ids=sorted(motif_id_to_hit_locations, key=lambda x: len(motif_id_to_hit_locations[x]))[-5:]\n",
    "#rescale_all_scores=np.random.rand(rescale_all_scores.shape[0], rescale_all_scores.shape[1])"
   ]
  },
  {
   "cell_type": "code",
   "execution_count": 9,
   "metadata": {
    "scrolled": false
   },
   "outputs": [
    {
     "name": "stdout",
     "output_type": "stream",
     "text": [
      "Number of motifs is 75\n",
      "CCACYAGRKGGC: [0.9740531831495397, 0.6513509295366244, 1109.0]\n",
      "CACTAGRGGG: [0.96186742452631, 0.5619491900540294, 891.0]\n",
      "ATGACTCA: [0.9751360536368533, 0.4332470750979178, 1682.0]\n",
      "CCRCTAGGKG: [0.9423049480855761, 0.3742798519162681, 492.0]\n",
      "ATGACTCATC: [0.9696589240439679, 0.355875767760992, 1631.0]\n",
      "TGASTCAB: [0.950774409028006, 0.3363895215725694, 2566.0]\n",
      "CCCCTAGTGGCC: [0.8905892328201747, 0.3204890070872926, 463.0]\n",
      "NNATGASTCATN: [0.9684487838086407, 0.29865865246708334, 1535.0]\n",
      "STTAVTCABH: [0.878593804857501, 0.21146084281454686, 3061.0]\n",
      "CYAGGGGGCGCT: [0.8632254844715003, 0.17829931337304475, 439.0]\n",
      "CTAGCGGC: [0.8591605944719863, 0.11178068906631228, 2093.0]\n",
      "CAGTCATK: [0.8165818319820215, 0.10330738530887353, 7031.0]\n",
      "AGAGGGCGCT: [0.7643086440547632, 0.0635323413584793, 3508.0]\n",
      "CGCGCBCT: [0.7656633498958587, 0.03317943597532944, 3372.0]\n",
      "SCYYTARR: [0.7850033909704299, 0.030180402368340242, 5576.0]\n",
      "TSGGAAMG: [0.7264945722207165, 0.021654407072005746, 7737.0]\n",
      "VACWTTCC: [0.7767502215801464, 0.020930545709547877, 5291.0]\n",
      "CCGGAAAT: [0.7913809084378383, 0.01731426353924429, 3523.0]\n",
      "VGGAGGAR: [0.711523642345292, 0.01727431593830025, 5649.0]\n",
      "CCAAWCGS: [0.8054699271542972, 0.01663753042154744, 3269.0]\n",
      "RCCGGAARYG: [0.7625043899492454, 0.01663137368688089, 4108.0]\n",
      "GACGTCAC: [0.7640419497820996, 0.01644285258984571, 2414.0]\n",
      "GGRAGTGTTT: [0.7179183144378163, 0.014212276923055107, 3289.0]\n",
      "AAAACGMG: [0.7168841969112613, 0.01389482475252334, 5456.0]\n",
      "BCGCGGAR: [0.7606126350016285, 0.013193326098724213, 4650.0]\n",
      "CTGTTTRC: [0.8063718787541131, 0.011956796449810497, 2263.0]\n",
      "NAACAGGAARTB: [0.704901337949897, 0.011830443313327351, 3722.0]\n",
      "TGACGTCAYY: [0.8240542946082654, 0.011675354926955914, 562.0]\n",
      "ACAAATCC: [0.7000997815827777, 0.011543699413179632, 4452.0]\n",
      "YTCCTCCCCC: [0.7235063195754016, 0.011055963483256596, 2994.0]\n",
      "TTGCGTAA: [0.8054945075625888, 0.011007740745638069, 1691.0]\n",
      "GBTTTCTCTCCS: [0.5916349259476499, 0.010166108147143001, 4847.0]\n",
      "CGGCGGCG: [0.7507118066735464, 0.010117652726980807, 3685.0]\n",
      "TGWGTAAACA: [0.8006804506189675, 0.009920931977309469, 1576.0]\n",
      "TTCGCTCCGS: [0.7397487120312505, 0.009572694120929846, 3119.0]\n",
      "CTCTCGCG: [0.8077554448600835, 0.009491198218384773, 2176.0]\n",
      "CGCVYGCGCG: [0.7486027476567424, 0.00927443382305303, 3066.0]\n",
      "NMAABRTTTVYH: [0.6533671302504013, 0.009211058302357928, 3133.0]\n",
      "SCGCSGCGSV: [0.7052053406641383, 0.008730415857804397, 3756.0]\n",
      "GGGCGGGGCC: [0.7868009607294317, 0.00865299833338792, 2009.0]\n",
      "TTAATGATTAAC: [0.8174886260933334, 0.008589436019894125, 243.0]\n",
      "GWGTGTGTGTGT: [0.6493964609773509, 0.008585381371051257, 2607.0]\n",
      "SGACCGAA: [0.7635205947666754, 0.008521670811233914, 2621.0]\n",
      "TTAACCGC: [0.7072411304451591, 0.008417814810061559, 3088.0]\n",
      "GGGGCGGRVCSG: [0.7284597579400734, 0.008238788710660297, 2273.0]\n",
      "CGTCACTTCCGG: [0.7707370416666516, 0.008196080850175544, 873.0]\n",
      "NNCRAABCCG: [0.7380135147552612, 0.008189222978858829, 2590.0]\n",
      "DGGAAWTTSC: [0.751412466983658, 0.007974348109145827, 1957.0]\n",
      "CGRCGCGCGS: [0.7054288247302198, 0.007829083100898264, 3210.0]\n",
      "NSBSTCGCGVNC: [0.6992097538573716, 0.007719335673769896, 2590.0]\n",
      "GGGGCGKA: [0.7602151196526712, 0.007580010319278935, 2073.0]\n",
      "GGCGGCGC: [0.7881772424251271, 0.0075590380124261995, 2185.0]\n",
      "CGGCCAATCR: [0.8490219894044849, 0.007215499448128179, 548.0]\n",
      "BBCGKGGAAANK: [0.6591195139030168, 0.0070988444282994445, 2797.0]\n",
      "NNCCGCTTMCSN: [0.6675609761588503, 0.006992328928341459, 2645.0]\n",
      "TTCCNGGAAN: [0.6963331707267559, 0.006479503347488162, 2234.0]\n",
      "NRGTSACGTSAC: [0.7194517729576608, 0.006298537694189833, 630.0]\n",
      "YBSYSATTGGCY: [0.8330871675178673, 0.006292899002110181, 612.0]\n",
      "GTTGCCANRB: [0.7463219777343423, 0.006028005282229051, 1384.0]\n",
      "GGGGGCGGGGCC: [0.7843723697232323, 0.005973487647323303, 1336.0]\n",
      "GCGCGGCGCCGC: [0.6575251208570905, 0.00496783588741214, 2192.0]\n",
      "GTGTTTGT: [0.7578486010366537, 0.004613653375330779, 1168.0]\n",
      "GCCGCCGCCGCN: [0.6882294757576497, 0.004353326074735115, 1734.0]\n",
      "KCTCGCGCGA: [0.7762735143922386, 0.004025800409642785, 1003.0]\n",
      "ATTKCACAAC: [0.7805883647518468, 0.003960699518959537, 719.0]\n",
      "TVTGCGCA: [0.7792439513551884, 0.00395810250344976, 1135.0]\n",
      "SSGCGCSSGCGC: [0.7276004403688996, 0.003579713851629219, 1182.0]\n",
      "GGGAAAAAAA: [0.6125160465782169, 0.0026705122105508666, 1369.0]\n",
      "CCGCCCTCCSGC: [0.6614127777496778, 0.0014959406411467803, 605.0]\n",
      "GTCACGTGAC: [0.7454313078886907, 0.0011584205344230998, 148.0]\n",
      "AAGATGGCGGCS: [0.7401588927524552, 0.0009921421015164967, 122.0]\n",
      "CGGAGCCGAGCC: [0.583500578101963, 0.00046570144810240957, 268.0]\n",
      "GGGARWYGTAGT: [0.7437453818256284, 0.00044785558767437156, 81.0]\n",
      "CCGCCATCTT: [0.6856337972779185, 0.0004243790945592916, 57.0]\n",
      "CGCCATGGCGAC: [0.6273206383089538, 0.00018111497654228658, 51.0]\n"
     ]
    }
   ],
   "source": [
    "import matplotlib\n",
    "import matplotlib.pyplot as plt\n",
    "%matplotlib inline\n",
    "\n",
    "font = {'family' : 'normal',\n",
    "        'weight' : 'bold',\n",
    "        'size'   : 15}\n",
    "\n",
    "matplotlib.rc('font', **font)\n",
    "\n",
    "method_name_to_plot_style = {\n",
    "    'grad_times_input': {'color':'green'},\n",
    "    'rescale_all': {'color':'orange'},\n",
    "    'rescale_conv': {'color':'purple'},\n",
    "    'reveal_cancel': {'color': 'red'},\n",
    "    'guided_backprop': {'color': 'yellow'},\n",
    "    'integrated_gradients': {'color': 'blue'}\n",
    "}\n",
    "\n",
    "method_name_nicename = {\n",
    "    'grad_times_input': 'grad_times_input',\n",
    "    'rescale_all': 'rescale_all',\n",
    "    'rescale_conv': 'rescale_conv',\n",
    "    'reveal_cancel': 'reveal_cancel',\n",
    "    'guided_backprop': 'guided_backprop',\n",
    "    'integrated_gradients': 'integrated_gradients'\n",
    "}\n",
    "motif_info={}\n",
    "print(\"Number of motifs is \" + str(len(motif_id_to_motif_length.keys())))\n",
    "for motif_id in sorted(top_5_motif_ids):\n",
    "    \n",
    "    for methods_to_plot in [['integrated_gradients10_all_zeros_ref']]:\n",
    "    #[['grad_times_input', 'rescale_all', 'rescale_conv', 'reveal_cancel', 'guided_backprop', 'integrated_gradients']]:\n",
    "    #['rescale_all_layers_avg_gc_ref', 'rescale_all_layers_all_zeros_ref', 'integrated_gradients10_avg_gc_ref', 'integrated_gradients10_all_zeros_ref']:\n",
    "        #print(\"On motif\",motif_id)\n",
    "        motif_len = motif_id_to_motif_length[motif_id]\n",
    "        pos_locs = motif_id_to_hit_locations[motif_id]\n",
    "        neg_locs = motif_len_to_negatives[motif_len]\n",
    "        #print(\"num pos\",len(pos_locs))\n",
    "        #print(\"num neg\",len(neg_locs))\n",
    "        all_locs = list(pos_locs)+list(neg_locs)\n",
    "        #print(len(motif_matches.items()))\n",
    "        loc_labels = [1 for x in pos_locs]+[0 for x in neg_locs]\n",
    "\n",
    "        #f,axarr = plt.subplots(1,2, figsize=(20,5))\n",
    "        #plt.subplot(122)\n",
    "        #plt.title(motif_id+' auROC Curves')\n",
    "        #plt.plot([0, 1], [0, 1], color='black', linestyle='--')\n",
    "        #plt.xlim([0, 1])\n",
    "        #plt.ylim([0, 1])\n",
    "        #plt.ylabel('True Positive Rate')\n",
    "        #plt.xlabel('False Positive Rate')\n",
    "\n",
    "        pos_frac = float(len(pos_locs))/(len(pos_locs)+len(neg_locs))\n",
    "        #plt.subplot(121)\n",
    "        #plt.title(motif_id+' auPRC Curves')\n",
    "        #plt.plot([0, 1], [pos_frac, pos_frac], color='black', linestyle='--')\n",
    "        #plt.xlim([0, 1])\n",
    "        #plt.ylim([0, 1])\n",
    "        #plt.ylabel('Precision')\n",
    "        #plt.xlabel('Recall') \n",
    "    \n",
    "        for method_name in methods_to_plot:\n",
    "            #print(method_name)\n",
    "            seq_id_to_windowsums = {}\n",
    "            seq_id_to_scores=method_to_seq_id_to_scores[method_name]\n",
    "            for seq_id,scores in seq_id_to_scores.items():\n",
    "                #cumsum = np.array([0]+list(np.cumsum(np.sum(scores,axis=-1))))\n",
    "                cumsum = np.array([0]+list(np.cumsum(scores)))\n",
    "                windowsums = cumsum[motif_len:]-cumsum[:-motif_len]\n",
    "                seq_id_to_windowsums[seq_id] = windowsums\n",
    "            loc_scores = [seq_id_to_windowsums[seq_id][pos]\n",
    "                          for (seq_id, pos) in all_locs]\n",
    "            auroc = roc_auc_score(y_true=loc_labels,\n",
    "                                  y_score=loc_scores)\n",
    "            auprc = average_precision_score(y_true=loc_labels,\n",
    "                                            y_score=loc_scores)\n",
    "            #print(\"auROC: \" + str(auroc))\n",
    "            #print(\"auPRC: \" + str(auprc))\n",
    "            #print(\"Hits in pos set: \" + str(motif_id_to_pos_locs[motif_id]))\n",
    "            motif_info.update({motif_id:[auroc,auprc,motif_id_to_pos_locs[motif_id]]})\n",
    "            \"\"\"plt.subplot(122)\n",
    "            fpr, tpr, rocthresholds = roc_curve(\n",
    "                loc_labels, loc_scores, pos_label=1)\n",
    "            plt.plot(fpr, tpr,\n",
    "                     label = method_name_nicename[method_name]+(' AUC = %0.2f' % (100*auroc))+\"%\",\n",
    "                     linewidth=2,\n",
    "                     **method_name_to_plot_style[method_name])\n",
    "            plt.legend(loc = 'lower right', fontsize='xx-small')\n",
    "\n",
    "            plt.subplot(121)\n",
    "            precision, recall, thresholds = precision_recall_curve(\n",
    "                loc_labels, loc_scores, pos_label=1)\n",
    "            plt.plot(precision, recall,\n",
    "                     label = method_name_nicename[method_name]+(' AUC = %0.2f' % (100*auprc))+\"%\",\n",
    "                     linewidth=2,\n",
    "                     **method_name_to_plot_style[method_name])\n",
    "            plt.legend(loc = 'top right', fontsize='xx-small')\n",
    "\n",
    "        plt.show()\"\"\"\n",
    "\n",
    "sorted_keys=(sorted(motif_info, key=lambda x: motif_info[x][1]))\n",
    "for key in sorted_keys[::-1]:\n",
    "    print(key+\": \"+str(motif_info[key]))"
   ]
  },
  {
   "cell_type": "markdown",
   "metadata": {
    "collapsed": true
   },
   "source": [
    "# Sanity Check"
   ]
  },
  {
   "cell_type": "markdown",
   "metadata": {},
   "source": [
    "#### Extract base pair sequences"
   ]
  },
  {
   "cell_type": "code",
   "execution_count": null,
   "metadata": {},
   "outputs": [],
   "source": [
    "shuffled_motifs={'SAGATAAV', 'NVCTTTYACA', 'NTRTCTAGCK', 'NNATGASTCATN', 'DCTGTRAAARVN', 'STTCYDGGAA', 'WGAAAAGCAG', 'CGCGGCGC', 'CAGCCAAANV', 'RCCAATCG', 'NBNTTATCTG', 'GGCGSCGSCG', 'CMYCTRGTGG', 'SNAAACMGCH', 'GGGGGAGGGGSN', 'AGGAAACG', 'CAGCCAMA', 'GNTCTCGCGAGA', 'AAAAGCHGNCTN', 'GCCGCTAG', 'AACAGCAG', 'VAGRYGGCGSCN', 'GCCCCGCCCC', 'NBTGTYTAGCTG', 'ACCAGAAG', 'YGTTTCCHNN', 'HRAATGGAAT', 'CCTTCCCC', 'TGTCTAGC', 'GCTTTGCAAA', 'AAAGCCDC', 'AAACCAGA', 'AAAGSCNNNN', 'CCCCNCCC', 'YGTTTACA', 'RMTGACWG', 'RKCWGTAAAR', 'YTTCTGGTTT', 'GCTCCTCC', 'ATGACWDCRN', 'GSGGGGGSGGSG', 'ATGACTCA', 'GCCMYCTRGTGG', 'ACTTCCTB', 'NWGATAANVNNN', 'NNGCGCVKSCGC', 'AGATAGGRNNNN', 'RCTTCCTBYYNN', 'CCGCGCGGCG', 'CTTTCACA', 'NVMGCNVGCG', 'BYTGCTGTTW', 'GTGTGTGT', 'GATGAGTCAT', 'RCCAATSVSNNN', 'GTGACDTC', 'HGTSACTTVD', 'GCTCCWCCCG', 'CSGCGGCG', 'NHGCAGAAAARA', 'NTSTGGCTKBHD', 'CGCCCTCT', 'CTTTCMCAGAAG', 'NDGTCACRTGAC', 'TTTACARWCCYT', 'RGAGGAAGYG', 'NNDGHAGTCACT', 'GWGTGTGTGT', 'NNNARACAGCAR', 'AGCGCGCG', 'NCMVCTCCCYCN', 'NGBCCCGCGVGV', 'GWGTGTGTGTGT', 'DGCTGTTW', 'NGGGYGGRGCSR'}\n",
    "original_motifs={'AAAGCSDC', 'HGGCCCCGCCCC', 'ACCAATCG', 'NNDACNGCNS', 'TTGGWGAACCTT', 'CCAATCAG', 'CCCCTCCCCCNC', 'ACTTCCTSYTBN', 'CAGCCAAA', 'AGGGTTTGTAAA', 'ASMMAAACAS', 'STTATCWG', 'GGCGCGGGCGCG', 'GAGTGTGTGTGT', 'YTGTCAGB', 'RTGACGTCAYCS', 'TAAAAGCAGGCT', 'CMYCTAGYGG', 'ACTACRNYTCCC', 'GGCGGCGGCG', 'HKCGCGCG', 'CGCAAGATTTAT', 'TGBAAACG', 'AGTGACCTCTAG', 'VTCATGTGAC', 'TGTGAAAG', 'GCCMCGCC', 'DGTGACGTCA', 'CGCCGCCG', 'CACYAGRGGG', 'TGTCTAGC', 'GCWGHMAAAAMV', 'BYTSTGGTTT', 'CGCGCNNGCG', 'ATTATACGCTAA', 'RMTCTCGCGAGA', 'RRCCAATCRG', 'CTAGCGGC', 'CWGATAAGANNN', 'TBTRKCTAGCTV', 'GGGHGGAGCC', 'CTCCGCCC', 'GCCCCGCCCC', 'VTTCYNGGAA', 'ATGACTCA', 'TCGAATGGAATC', 'CYCTGTMAAA', 'KGCKGTTT', 'RASMGGAAGT', 'CTGCGCATGCGC', 'CCGCGCGGCG', 'DACAGCWG', 'NGVTGASTCATC', 'GATGAGTCAT', 'AAGATGGCGGCS', 'RCCAATCAGMDB', 'TGGTCTAGCGGT', 'CTTATCTSNN', 'GRGGRAGT', 'CCCCCCCC', 'GCCMCCTAGTGG', 'CCMCKCCCMC', 'CGCATGCG', 'CGCCCTCT', 'TKAGCATGCT', 'WGATAAVS', 'KVKCGCGVGA', 'RYCAYRTGRYHN', 'NBCTTATCTS', 'GTGACTWC', 'GTRTCTAGCT', 'CTTCCGGT', 'SGWTYGTRAA', 'AGCGCCCCCT'}\n",
    "print (\"Intersects:\", shuffled_motifs.intersection(original_motifs))"
   ]
  },
  {
   "cell_type": "code",
   "execution_count": null,
   "metadata": {
    "collapsed": true
   },
   "outputs": [],
   "source": [
    "import gzip\n",
    "import re\n",
    "from collections import OrderedDict\n",
    "def load_sequences_from_bedfile(seqfile):\n",
    "    seqs = OrderedDict()\n",
    "    fp = gzip.open(seqfile, \"rb\")\n",
    "    print(\"#Loading \" + seqfile + \" ...\")\n",
    "    for line in fp:\n",
    "        (label, sequence)=line.split()\n",
    "        seqs[label]=sequence\n",
    "    fp.close()\n",
    "    print(\"#Loaded \" + str(len(seqs.keys())) + \" sequences from \" + seqfile)\n",
    "    return seqs"
   ]
  },
  {
   "cell_type": "code",
   "execution_count": null,
   "metadata": {
    "collapsed": true
   },
   "outputs": [],
   "source": [
    "def rename(label):\n",
    "    match=re.match('.*_(chr.*)$',label)\n",
    "    if match:\n",
    "        return match.group(1)\n",
    "    else:\n",
    "        return \"\""
   ]
  },
  {
   "cell_type": "code",
   "execution_count": null,
   "metadata": {},
   "outputs": [],
   "source": [
    "data_filename_positive = \"/users/eprakash/projects/benchmarking/newdata/SPI1_in_K562/SPI1.pos.summits.implanted.bed.gz\"\n",
    "data_filename_negative = \"/users/eprakash/projects/benchmarking/newdata/SPI1_in_K562/SPI1.neg.summits.implanted.bed.gz\"\n",
    "labeled_sequences = load_sequences_from_bedfile(data_filename_positive)\n",
    "neg_seqs = load_sequences_from_bedfile(data_filename_negative)\n",
    "labeled_sequences.update(neg_seqs)\n",
    "sequences={}\n",
    "for (label,seq) in labeled_sequences.items():\n",
    "    sequences.update({rename(label):seq})"
   ]
  },
  {
   "cell_type": "markdown",
   "metadata": {},
   "source": [
    "#### Select random 5 sequences for motif"
   ]
  },
  {
   "cell_type": "code",
   "execution_count": null,
   "metadata": {},
   "outputs": [],
   "source": [
    "from random import *\n",
    "motif='CTTCCTTYCT'\n",
    "motif_seqs=[value[0] for value in motif_id_to_hit_locations[motif]]\n",
    "random_indices=[randint(0,len(motif_seqs)) for i in range(0,5)]\n",
    "print (random_indices)\n",
    "selected_seqs=[motif_seqs[i] for i in random_indices]\n",
    "print (selected_seqs)"
   ]
  },
  {
   "cell_type": "markdown",
   "metadata": {},
   "source": [
    "#### Onehot encode"
   ]
  },
  {
   "cell_type": "code",
   "execution_count": null,
   "metadata": {},
   "outputs": [],
   "source": [
    "def one_hot_encode_along_channel_axis(sequence):\n",
    "    to_return = np.zeros((len(sequence),4), dtype=np.int8)\n",
    "    seq_to_one_hot_fill_in_array(zeros_array=to_return,\n",
    "                                 sequence=sequence, one_hot_axis=1)\n",
    "    return to_return\n",
    "\n",
    "def seq_to_one_hot_fill_in_array(zeros_array, sequence, one_hot_axis):\n",
    "    assert one_hot_axis==0 or one_hot_axis==1\n",
    "    if (one_hot_axis==0):\n",
    "        assert zeros_array.shape[1] == len(sequence)\n",
    "    elif (one_hot_axis==1): \n",
    "        assert zeros_array.shape[0] == len(sequence)\n",
    "    #will mutate zeros_array\n",
    "    for (i,char) in enumerate(sequence):\n",
    "        if (char==\"A\" or char==\"a\"):\n",
    "            char_idx = 0\n",
    "        elif (char==\"C\" or char==\"c\"):\n",
    "            char_idx = 1\n",
    "        elif (char==\"G\" or char==\"g\"):\n",
    "            char_idx = 2\n",
    "        elif (char==\"T\" or char==\"t\"):\n",
    "            char_idx = 3\n",
    "        elif (char==\"N\" or char==\"n\"):\n",
    "            continue #leave that pos as all 0's\n",
    "        else:\n",
    "            raise RuntimeError(\"Unsupported character: \"+str(char))\n",
    "        if (one_hot_axis==0):\n",
    "            zeros_array[char_idx,i] = 1\n",
    "        elif (one_hot_axis==1):\n",
    "            zeros_array[i,char_idx] = 1\n",
    "#sequences = sequences[-5000:]            \n",
    "onehot_data = np.array([one_hot_encode_along_channel_axis(sequences[select_seq]) for select_seq in selected_seqs])"
   ]
  },
  {
   "cell_type": "code",
   "execution_count": null,
   "metadata": {},
   "outputs": [],
   "source": [
    "print (onehot_data.shape)"
   ]
  },
  {
   "cell_type": "markdown",
   "metadata": {},
   "source": [
    "#### Get relevant scores"
   ]
  },
  {
   "cell_type": "code",
   "execution_count": null,
   "metadata": {},
   "outputs": [],
   "source": [
    "selected_relevant_indices_list=[list(labels).index(seq) for seq in selected_seqs]\n",
    "selected_rescale_conv_scores=get_relevant_scores(selected_relevant_indices_list, original_rescale_conv_scores, seq_len)\n",
    "print (selected_rescale_conv_scores.shape)"
   ]
  },
  {
   "cell_type": "code",
   "execution_count": null,
   "metadata": {},
   "outputs": [],
   "source": [
    "def split_sequence_by_motif_name(motif_name, list_of_dicts):\n",
    "    list_with_motif = list()\n",
    "    list_without_motif = list()\n",
    "    for one_motif_occurrence in list_of_dicts:\n",
    "        full_motif = one_motif_occurrence['motif']\n",
    "        essential_motif = re.match('(\\d+)-(\\w+)-(\\d+)',full_motif).group(2)\n",
    "        if essential_motif == motif_name:\n",
    "            list_with_motif.append(one_motif_occurrence)\n",
    "        else:\n",
    "            list_without_motif.append(one_motif_occurrence)\n",
    "    return (list_with_motif, list_without_motif)"
   ]
  },
  {
   "cell_type": "markdown",
   "metadata": {},
   "source": [
    "#### Visualization"
   ]
  },
  {
   "cell_type": "code",
   "execution_count": null,
   "metadata": {},
   "outputs": [],
   "source": [
    "%matplotlib inline\n",
    "from deeplift.visualization import viz_sequence\n",
    "for i in range(0,len(selected_seqs)):\n",
    "    scores=selected_grad_times_input_scores[i]\n",
    "    seq_id=selected_seqs[i]\n",
    "    print(seq_id)\n",
    "    (list_with_motif, list_without_motif)=split_sequence_by_motif_name(motif, motif_matches[seq_id])\n",
    "    viz_sequence.plot_weights(onehot_data[i]*scores[:, None], subticks_frequency=10, highlight={'blue':[(seq_info['begin'],seq_info['end']) for seq_info in list_with_motif]})\n",
    "    viz_sequence.plot_weights(onehot_data[i]*scores[:, None], subticks_frequency=10, highlight={'red':[(seq_info['begin'],seq_info['end']) for seq_info in list_without_motif]})"
   ]
  },
  {
   "cell_type": "code",
   "execution_count": null,
   "metadata": {},
   "outputs": [],
   "source": [
    "pwm = np.array([[0.036,0.170,0.033,0.761],[0.001,0.635,0.125,0.239],[0.031,0.128,0.004,0.837],[0.001,0.676,0.166,0.157],\n",
    "                [0.058,0.113,0.040,0.789],[0.007,0.676,0.207,0.110],[0.007,0.125,0.001,0.867],[0.001,0.660,0.206,0.133],\n",
    "                [0.005,0.186,0.001,0.808],[0.001,0.607,0.241,0.151],[0.054,0.231,0.006,0.709],[0.025,0.540,0.217,0.218]])\n",
    "print (pwm.shape)"
   ]
  },
  {
   "cell_type": "code",
   "execution_count": null,
   "metadata": {},
   "outputs": [],
   "source": [
    "%matplotlib inline\n",
    "from deeplift.visualization import viz_sequence\n",
    "viz_sequence.plot_weights(pwm, subticks_frequency=10)"
   ]
  },
  {
   "cell_type": "code",
   "execution_count": null,
   "metadata": {
    "collapsed": true
   },
   "outputs": [],
   "source": []
  }
 ],
 "metadata": {
  "anaconda-cloud": {},
  "kernelspec": {
   "display_name": "Python 2",
   "language": "python",
   "name": "python2"
  },
  "language_info": {
   "codemirror_mode": {
    "name": "ipython",
    "version": 2
   },
   "file_extension": ".py",
   "mimetype": "text/x-python",
   "name": "python",
   "nbconvert_exporter": "python",
   "pygments_lexer": "ipython2",
   "version": "2.7.12"
  }
 },
 "nbformat": 4,
 "nbformat_minor": 2
}
