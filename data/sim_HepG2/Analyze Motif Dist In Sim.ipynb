{
 "cells": [
  {
   "cell_type": "code",
   "execution_count": 1,
   "metadata": {
    "collapsed": false
   },
   "outputs": [],
   "source": [
    "%matplotlib inline\n",
    "from __future__ import division, print_function\n",
    "import os"
   ]
  },
  {
   "cell_type": "code",
   "execution_count": 2,
   "metadata": {
    "collapsed": false
   },
   "outputs": [
    {
     "name": "stdout",
     "output_type": "stream",
     "text": [
      "Analyze Motif Dist In Sim.ipynb\r\n",
      "compute_imp_scores.py\r\n",
      "compute_imp_scores.pyc\r\n",
      "compute_imp_scores.sh\r\n",
      "config\r\n",
      "dan_basset_keras_port\r\n",
      "dinucshuff_motifs_inserted_sigthresh5e-6_sorted_naive_window_around_summit.bed.gz\r\n",
      "imp_scores\r\n",
      "insert_motifs_in_dincuc_shuff_regions.py\r\n",
      "model_files\r\n",
      "motif_hits_sorted_naive_window_around_summit.bed.gz\r\n",
      "nonoverlap_dinucshuff_motifs_inserted_sigthresh5e-6_merged_universal_neg_representative_peaks.bed.gz\r\n",
      "runs_perf-metric-auROC.db\r\n",
      "sorted_naive_window_around_summit.bed.gz\r\n",
      "sorted_naive_window_around_summit.fa.gz\r\n",
      "Study Simulated Importance.ipynb\r\n",
      "test_set_negatives.bed.gz\r\n",
      "test_set_positives.bed.gz\r\n",
      "train_dinucshuff_motifs_inserted_sigthresh5e-6_sorted_naive_window_around_summit.bed.gz\r\n",
      "train_nonoverlap_dinucshuff_motifs_inserted_sigthresh5e-6_merged_universal_neg_representative_peaks.bed.gz\r\n",
      "train_sim_model_from_preinit.sh\r\n",
      "valid_labels.gz\r\n"
     ]
    }
   ],
   "source": [
    "!ls"
   ]
  },
  {
   "cell_type": "code",
   "execution_count": 3,
   "metadata": {
    "collapsed": false
   },
   "outputs": [
    {
     "name": "stdout",
     "output_type": "stream",
     "text": [
      "18421\r\n"
     ]
    }
   ],
   "source": [
    "!zcat test_set_positives.bed.gz | wc -l"
   ]
  },
  {
   "cell_type": "code",
   "execution_count": 4,
   "metadata": {
    "collapsed": false
   },
   "outputs": [],
   "source": [
    "import gzip\n",
    "from collections import namedtuple\n",
    "\n",
    "MotifHit = namedtuple(\"MotifHit\",['offset', 'motif_id',\n",
    "                                  'motif_factor', 'motif_seq',\n",
    "                                  'motif_strand', 'motif_sig'])\n",
    "def parse_motif_hit(string):\n",
    "    (offset,motif_id,motif_factor,\n",
    "     motif_seq,motif_strand,motif_sig) = string.split(\",\")\n",
    "    \n",
    "    offset = int(offset)\n",
    "    motif_sig = float(motif_sig)\n",
    "    return MotifHit(offset=offset,\n",
    "                    motif_id=motif_id,\n",
    "                    motif_factor=motif_factor,\n",
    "                    motif_seq=motif_seq,\n",
    "                    motif_strand=motif_strand,\n",
    "                    motif_sig=motif_sig)\n",
    "\n",
    "def parse_sim_file(file_name):\n",
    "    seqs = []\n",
    "    motifs_arr = []\n",
    "    seq_ids = []\n",
    "    \n",
    "    for line in gzip.open(file_name):\n",
    "        line = line.rstrip(\"\\n\")\n",
    "        chrom,start,end,seq_id,seq,motifs = line.split(\"\\t\")\n",
    "        seqs.append(seq)\n",
    "        motifs_arr.append([parse_motif_hit(x) for x in motifs.split(\";\")] if len(motifs) > 0 else [])\n",
    "        seq_ids.append(seq_id)\n",
    "    return seqs, motifs_arr, seq_ids\n",
    "\n",
    "original_positives_seqs, original_positives_motifs, original_positives_ids = parse_sim_file(\"test_set_positives.bed.gz\")\n",
    "negatives_seqs, negatives_motifs, negatives_ids = parse_sim_file(\"test_set_negatives.bed.gz\")"
   ]
  },
  {
   "cell_type": "code",
   "execution_count": 5,
   "metadata": {
    "collapsed": true
   },
   "outputs": [],
   "source": [
    "positives_seqs = original_positives_seqs[::10]\n",
    "positives_motifs = original_positives_motifs[::10]\n",
    "positives_ids = original_positives_ids[::10]"
   ]
  },
  {
   "cell_type": "code",
   "execution_count": 39,
   "metadata": {
    "collapsed": false
   },
   "outputs": [],
   "source": [
    "from collections import Counter\n",
    "original_positives_motif_counts_in_central_300 = Counter([x.motif_factor+\":\"+x.motif_id for y in original_positives_motifs for x in y\n",
    "                                       if (x.offset > 350 and (x.offset + len(x.motif_seq))<650)])\n",
    "original_positives_motif_counts_outside_central_300 = Counter([x.motif_factor+\":\"+x.motif_id for y in original_positives_motifs for x in y\n",
    "                                                      if (x.offset > 650 or (x.offset + len(x.motif_seq))<350)])\n",
    "negatives_motif_counts_in_central_300 = Counter([x.motif_factor+\":\"+x.motif_id for y in negatives_motifs for x in y\n",
    "                                       if (x.offset > 350 and (x.offset + len(x.motif_seq))<650)])\n",
    "negatives_motif_counts_outside_central_300 = Counter([x.motif_factor+\":\"+x.motif_id for y in negatives_motifs for x in y\n",
    "                                                      if (x.offset > 650 or (x.offset + len(x.motif_seq))<350)])\n"
   ]
  },
  {
   "cell_type": "code",
   "execution_count": 183,
   "metadata": {
    "collapsed": false,
    "scrolled": false
   },
   "outputs": [
    {
     "name": "stdout",
     "output_type": "stream",
     "text": [
      "('HNF1B:M6282_1.02', 2.9417622694195185, 3.2372372372372378, 1.1204111600587372, 14)\n",
      "('HNF4A:M4698_1.02', 4.069058579510268, 2.8727828746177373, 1.515895498898332, 75)\n",
      "('HNF4G:M2286_1.02', 3.894936648697557, 2.7839951865222625, 1.570342205323194, 70)\n",
      "('FOXA2:M4567_1.02', 1.724945201004461, 2.636217948717949, 1.617359413202934, 19)\n",
      "('HNF1A:M6281_1.02', 2.5505599980664253, 2.5859872611464967, 1.215902140672783, 24)\n",
      "('NR2F1:M6176_1.02', 3.1292275120786055, 2.28060263653484, 1.3951578037181152, 43)\n",
      "('RXRG:M6462_1.02', 2.4932056600301085, 2.2206119162640903, 1.3033389926428978, 20)\n",
      "('NR1H2:M6383_1.02', 1.8931048033271567, 2.0755813953488373, 1.3658536585365855, 17)\n",
      "['HNF1B:M6282_1.02', 'HNF4A:M4698_1.02', 'HNF4G:M2286_1.02', 'FOXA2:M4567_1.02', 'HNF1A:M6281_1.02', 'NR2F1:M6176_1.02', 'RXRG:M6462_1.02', 'NR1H2:M6383_1.02']\n"
     ]
    }
   ],
   "source": [
    "ratios_in_to_out_negatives = dict([(x,((negatives_motif_counts_in_central_300[x]+1)\n",
    "                             *(7/3)/(negatives_motif_counts_outside_central_300[x]+1),\n",
    "                   negatives_motif_counts_in_central_300[x]))\n",
    "                   for x in negatives_motif_counts_in_central_300.keys()])\n",
    "ratios_in_to_out_positives = dict([(x,((original_positives_motif_counts_in_central_300[x]+1)\n",
    "                                       *(7/3)/(original_positives_motif_counts_outside_central_300[x]+1),\n",
    "                                    original_positives_motif_counts_in_central_300[x],\n",
    "                                    ratios_in_to_out_negatives[x]))\n",
    "                                    for x in original_positives_motif_counts_in_central_300.keys()])\n",
    "ratios_positives_to_negatives = dict([(x,((original_positives_motif_counts_in_central_300[x])\n",
    "                                       *(len(negatives_seqs)/len(original_positives_seqs))/(negatives_motif_counts_in_central_300[x]),\n",
    "                                       original_positives_motif_counts_in_central_300[x]))\n",
    "                                    for x in original_positives_motif_counts_in_central_300.keys()])\n",
    "\n",
    "sorted_motif_list = [(x, ratios_positives_to_negatives[x][0],\n",
    "        ratios_in_to_out_positives[x][0],\n",
    "        ratios_in_to_out_negatives[x][0],\n",
    "        positives_motif_counts_in_central_300[x])\n",
    " for x,y in sorted(ratios_in_to_out_positives.items(), key=lambda x: -x[1][0])\n",
    " if (ratios_positives_to_negatives[x][0] > 1.5\n",
    "     and ratios_in_to_out_positives[x][0] > 2\n",
    "     and (ratios_in_to_out_positives[x][0] > ratios_in_to_out_negatives[x][0]*1.5)\n",
    "     and positives_motif_counts_in_central_300[x] > 10)]\n",
    "print(\"\\n\".join(str(x) for x in sorted_motif_list))\n",
    "motif_ids_to_assess = [x[0] for x in sorted_motif_list]\n",
    "print(motif_ids_to_assess)\n",
    "motif_ids_to_assess_set = set(motif_ids_to_assess)"
   ]
  },
  {
   "cell_type": "code",
   "execution_count": 184,
   "metadata": {
    "collapsed": false
   },
   "outputs": [],
   "source": [
    "from collections import defaultdict\n",
    "\n",
    "motif_to_hit_locations = defaultdict(list)\n",
    "motif_to_length = {}\n",
    "\n",
    "for region_idx,motifs_arr in enumerate(positives_motifs):\n",
    "    for motif in motifs_arr:\n",
    "        if (motif.offset > 350 and (motif.offset + len(motif.motif_seq)) < 650):\n",
    "            motif_id = motif.motif_factor+\":\"+motif.motif_id\n",
    "            if (motif_id in motif_ids_to_assess):\n",
    "                motif_to_hit_locations[motif_id].append((region_idx, motif.offset))\n",
    "                if (motif_id in motif_to_length):\n",
    "                    assert motif_to_length[motif_id] == len(motif.motif_seq)\n",
    "                else:\n",
    "                    motif_to_length[motif_id] = len(motif.motif_seq)\n",
    "\n",
    "all_motif_lengths = sorted(set(motif_to_length.values()))\n"
   ]
  },
  {
   "cell_type": "code",
   "execution_count": 185,
   "metadata": {
    "collapsed": false
   },
   "outputs": [],
   "source": [
    "import numpy as np\n",
    "\n",
    "negatives_subsample_factor = 100\n",
    "\n",
    "#prepare negative windows\n",
    "motif_length_to_negatives_locations = defaultdict(list)\n",
    "val_lookup = {'a': 0, 'c': 0, 'g': 0, 't': 0, 'n':0, 'A': 1, 'C': 1, 'G':1, 'T':1, 'N':1}\n",
    "\n",
    "for i,sequence in enumerate(positives_seqs):\n",
    "    arr = np.array([val_lookup[x] for x in sequence])\n",
    "    cumsum_arr = np.array([0]+list(np.cumsum(arr)))\n",
    "    for motif_length in all_motif_lengths:\n",
    "        windows_sums = cumsum_arr[motif_length:]-cumsum_arr[:-motif_length]\n",
    "        null_windows = [(i,x) for x in np.nonzero(windows_sums==0)[0][::negatives_subsample_factor]\n",
    "                        if x > 350 and x < (650-motif_length)]\n",
    "        motif_length_to_negatives_locations[motif_length].extend(null_windows)\n"
   ]
  },
  {
   "cell_type": "code",
   "execution_count": 194,
   "metadata": {
    "collapsed": false
   },
   "outputs": [
    {
     "data": {
      "text/plain": [
       "[(19, 3285), (12, 3695), (13, 3637), (14, 3566), (15, 3533)]"
      ]
     },
     "execution_count": 194,
     "metadata": {},
     "output_type": "execute_result"
    }
   ],
   "source": [
    "[(x,len(y)) for x,y in motif_length_to_negatives_locations.items()]"
   ]
  },
  {
   "cell_type": "code",
   "execution_count": 197,
   "metadata": {
    "collapsed": false,
    "scrolled": false
   },
   "outputs": [
    {
     "name": "stdout",
     "output_type": "stream",
     "text": [
      "Computing with average or max scores\n",
      "on record_1_model_Ba1Th\n",
      "on record_2_model_fijFp\n",
      "on record_3_model_iNu96\n",
      "on record_4_model_s3EVY\n",
      "on record_5_model_k1Ccu\n",
      "on record_6_model_X79UW\n",
      "on record_7_model_XpjQJ\n",
      "on record_8_model_XchY4\n",
      "on record_9_model_8fTYg\n",
      "on record_10_model_xpYJA\n"
     ]
    }
   ],
   "source": [
    "import h5py\n",
    "import numpy as np\n",
    "from sklearn.metrics import average_precision_score\n",
    "import sys\n",
    "\n",
    "model_ids = [\"record_1_model_Ba1Th\",\n",
    "             \"record_2_model_fijFp\",\n",
    "             \"record_3_model_iNu96\",\n",
    "             \"record_4_model_s3EVY\",\n",
    "             \"record_5_model_k1Ccu\",\n",
    "             \"record_6_model_X79UW\",\n",
    "             \"record_7_model_XpjQJ\",\n",
    "             \"record_8_model_XchY4\",\n",
    "             \"record_9_model_8fTYg\",\n",
    "             \"record_10_model_xpYJA\"]\n",
    "\n",
    "scoring_methods = ['scores_ism',\n",
    "'scores_deeplift_rescale_dinucshuff',\n",
    "'scores_deeplift_genomicsdefault_dinucshuff',\n",
    "'scores_integrated_grad20_dinucshuff',\n",
    "'scores_grad_times_inp_flatref',\n",
    "\n",
    "'scores_integrated_grad20_avgposref',\n",
    "'scores_deeplift_rescale_avgposref',\n",
    "'scores_deeplift_genomicsdefault_avgposref',\n",
    "'scores_integrated_grad20_flatref',\n",
    "'scores_deeplift_rescale_flatref',\n",
    "'scores_deeplift_genomicsdefault_flatref',\n",
    "\n",
    "'scores_integrated_grad10_dinucshuff',\n",
    "'scores_integrated_grad2_dinucshuff',\n",
    "'scores_integrated_grad5_dinucshuff']\n",
    "\n",
    "model_id_to_scoring_method_to_motif_to_auprc = defaultdict(lambda: defaultdict(dict))\n",
    "model_id_to_scoring_method_to_motif_to_auprcoverbg = defaultdict(lambda: defaultdict(dict))\n",
    "model_id_to_scoring_method_to_motif_to_ranks = defaultdict(lambda: defaultdict(dict))\n",
    "\n",
    "def compute_motif_auprc_and_ranks_given_scores(\n",
    "    scores,\n",
    "    motif_length_to_negatives_locations,\n",
    "    motif_to_hit_locations,\n",
    "    motif_to_length):\n",
    "    \n",
    "    negatives_locations_scores = {}\n",
    "    for motif_length in motif_length_to_negatives_locations:\n",
    "        negatives_locations_scores[motif_length] = [\n",
    "            np.sum(scores[x[0],x[1]:x[1]+motif_length]) for x in\n",
    "            motif_length_to_negatives_locations[motif_length]]\n",
    "    motif_to_auprc = {}\n",
    "    motif_to_auprcoverbg = {}\n",
    "    motif_to_ranks = {}\n",
    "    for motif in motif_to_hit_locations:\n",
    "        motif_length = motif_to_length[motif]\n",
    "        hit_locations_scores = [\n",
    "            np.sum(scores[x[0], x[1]:x[1]+motif_length]) for x in\n",
    "            motif_to_hit_locations[motif]]\n",
    "        y_true = ([1 for x in hit_locations_scores]\n",
    "                  + [0 for x in negatives_locations_scores[motif_length]])\n",
    "        sorted_negatives = np.array(sorted(negatives_locations_scores[motif_length]))\n",
    "        hit_ranks = np.array([x/len(sorted_negatives) for\n",
    "                     x in np.searchsorted(sorted_negatives, hit_locations_scores)])\n",
    "        y_score = hit_locations_scores + negatives_locations_scores[motif_length]\n",
    "        auprc = average_precision_score(y_true=y_true,\n",
    "                                        y_score=y_score)\n",
    "        motif_to_auprc[motif] = auprc\n",
    "        motif_to_auprcoverbg[motif] = auprc/np.mean(y_true)\n",
    "        motif_to_ranks[motif] = hit_ranks\n",
    "    return motif_to_auprc, motif_to_auprcoverbg, motif_to_ranks\n",
    "\n",
    "print(\"Computing with average or max scores\")\n",
    "#Compute with average scores\n",
    "for scoring_method in scoring_methods:\n",
    "    for op in [\"average\", \"max\"]:\n",
    "        if (op==\"average\"):\n",
    "            scores = np.mean([\n",
    "                np.array(h5py.File(\"oneinten_imp_scores/imp_scores_\"+model_id+\".h5\", \"r\")[scoring_method])\n",
    "                    for model_id in model_ids], axis=0)\n",
    "        else:\n",
    "            assert op==\"max\"\n",
    "            scores = np.max([\n",
    "                np.array(h5py.File(\"oneinten_imp_scores/imp_scores_\"+model_id+\".h5\", \"r\")[scoring_method])\n",
    "                    for model_id in model_ids], axis=0)\n",
    "        (motif_to_auprc,\n",
    "         motif_to_auprcoverbg,\n",
    "         motif_to_ranks) = compute_motif_auprc_and_ranks_given_scores(\n",
    "                            scores=scores,\n",
    "                            motif_length_to_negatives_locations=\n",
    "                             motif_length_to_negatives_locations,\n",
    "                            motif_to_hit_locations=\n",
    "                             motif_to_hit_locations,\n",
    "                            motif_to_length=motif_to_length) \n",
    "        model_id_to_scoring_method_to_motif_to_auprc[op][scoring_method] = motif_to_auprc\n",
    "        model_id_to_scoring_method_to_motif_to_auprcoverbg[op][scoring_method] = motif_to_auprcoverbg\n",
    "        model_id_to_scoring_method_to_motif_to_ranks[op][scoring_method] = motif_to_ranks\n",
    "\n",
    "for model_id in model_ids:\n",
    "    f = h5py.File(\"oneinten_imp_scores/imp_scores_\"+model_id+\".h5\", \"r\")\n",
    "    print(\"on\",model_id)\n",
    "    sys.stdout.flush()\n",
    "    for scoring_method in scoring_methods:\n",
    "        #print(\"\\n\",scoring_method,\"\\n\")\n",
    "        scores = np.array(f[scoring_method])      \n",
    "        (motif_to_auprc,\n",
    "         motif_to_auprcoverbg,\n",
    "         motif_to_ranks) = compute_motif_auprc_and_ranks_given_scores(\n",
    "                            scores=scores,\n",
    "                            motif_length_to_negatives_locations=\n",
    "                             motif_length_to_negatives_locations,\n",
    "                            motif_to_hit_locations=\n",
    "                             motif_to_hit_locations,\n",
    "                            motif_to_length=motif_to_length)        \n",
    "        model_id_to_scoring_method_to_motif_to_auprc[model_id][scoring_method] = motif_to_auprc\n",
    "        model_id_to_scoring_method_to_motif_to_auprcoverbg[model_id][scoring_method] = motif_to_auprcoverbg\n",
    "        model_id_to_scoring_method_to_motif_to_ranks[model_id][scoring_method] = motif_to_ranks\n"
   ]
  },
  {
   "cell_type": "code",
   "execution_count": 214,
   "metadata": {
    "collapsed": false,
    "scrolled": true
   },
   "outputs": [
    {
     "data": {
      "text/plain": [
       "[(53, -0.44409849985847716),\n",
       " (56, -0.26917633739031976),\n",
       " (46, -0.10274554203226727),\n",
       " (26, -0.04160769883951321),\n",
       " (10, -0.03906028870648174),\n",
       " (55, -0.021794508915935484),\n",
       " (59, -0.01330314180583081),\n",
       " (43, -0.011604868383809808),\n",
       " (67, -0.009906594961788806),\n",
       " (37, -0.008208321539767915),\n",
       " (73, -0.0067930936880837844),\n",
       " (1, -0.005660911406736413),\n",
       " (38, -0.004245683555052393),\n",
       " (28, -0.003962637984715522),\n",
       " (36, -0.003679592414378652),\n",
       " (63, -0.0033965468440418922),\n",
       " (15, -0.002830455703368262),\n",
       " (4, -0.002264364562694521),\n",
       " (69, -0.002264364562694521),\n",
       " (62, -0.0016982734220208906),\n",
       " (2, -0.0005660911406737412),\n",
       " (9, -0.0005660911406736302),\n",
       " (41, -0.0005660911406736302),\n",
       " (7, -0.0002830455703368706),\n",
       " (8, -0.0002830455703368706),\n",
       " (19, -0.0002830455703368706),\n",
       " (21, -0.0002830455703368706),\n",
       " (23, -0.0002830455703368706),\n",
       " (24, -0.0002830455703368706),\n",
       " (27, -0.0002830455703368706),\n",
       " (29, -0.0002830455703368706),\n",
       " (31, -0.0002830455703368706),\n",
       " (45, -0.0002830455703368706),\n",
       " (47, -0.0002830455703368706),\n",
       " (48, -0.0002830455703368706),\n",
       " (50, -0.0002830455703368706),\n",
       " (51, -0.0002830455703368706),\n",
       " (61, -0.0002830455703368706),\n",
       " (70, -0.0002830455703368706),\n",
       " (74, -0.0002830455703368706),\n",
       " (20, -0.0002830455703367596),\n",
       " (25, -0.0002830455703367596),\n",
       " (71, -0.0002830455703367596),\n",
       " (0, 0.0),\n",
       " (3, 0.0),\n",
       " (5, 0.0),\n",
       " (6, 0.0),\n",
       " (11, 0.0),\n",
       " (12, 0.0),\n",
       " (13, 0.0),\n",
       " (14, 0.0),\n",
       " (16, 0.0),\n",
       " (17, 0.0),\n",
       " (18, 0.0),\n",
       " (22, 0.0),\n",
       " (30, 0.0),\n",
       " (32, 0.0),\n",
       " (33, 0.0),\n",
       " (34, 0.0),\n",
       " (35, 0.0),\n",
       " (39, 0.0),\n",
       " (40, 0.0),\n",
       " (44, 0.0),\n",
       " (49, 0.0),\n",
       " (52, 0.0),\n",
       " (54, 0.0),\n",
       " (57, 0.0),\n",
       " (58, 0.0),\n",
       " (60, 0.0),\n",
       " (64, 0.0),\n",
       " (65, 0.0),\n",
       " (66, 0.0),\n",
       " (68, 0.0),\n",
       " (72, 0.0),\n",
       " (42, 0.0002830455703368706)]"
      ]
     },
     "execution_count": 214,
     "metadata": {},
     "output_type": "execute_result"
    }
   ],
   "source": [
    "sorted(list(enumerate(\n",
    "model_id_to_scoring_method_to_motif_to_ranks[\"record_1_model_Ba1Th\"][\"scores_ism\"]['HNF4A:M4698_1.02']\n",
    "- model_id_to_scoring_method_to_motif_to_ranks[\"record_1_model_Ba1Th\"][\"scores_deeplift_rescale_dinucshuff\"]['HNF4A:M4698_1.02'])),\n",
    "       key=lambda x: x[1])"
   ]
  },
  {
   "cell_type": "code",
   "execution_count": 215,
   "metadata": {
    "collapsed": false
   },
   "outputs": [
    {
     "data": {
      "text/plain": [
       "(1499, 352)"
      ]
     },
     "execution_count": 215,
     "metadata": {},
     "output_type": "execute_result"
    }
   ],
   "source": [
    "#(53, -0.44409849985847716),\n",
    "# (56, -0.26917633739031976),\n",
    "# (46, -0.10274554203226727),\n",
    "# (26, -0.04160769883951321),\n",
    "# (10, -0.03906028870648174),\n"
   ]
  },
  {
   "cell_type": "code",
   "execution_count": 218,
   "metadata": {
    "collapsed": false
   },
   "outputs": [
    {
     "name": "stdout",
     "output_type": "stream",
     "text": [
      "cttttcaaacaatggtagagaaggaggcccaagcaggtagtgttcttctcTTGGCCTCTGGACTTGtttgaatcagttgctcacctctaggatggccacaatgtgctgccgattagttgcttaacaagtctaactcctttgtccacctctctgctctctgtactccccaatctgagctatgaggaaagtctcctcatggtacaggctttcagttcccataaattggttagtctagcagtacctggggtattcaggctgactAACAATCTGCAGTGCCttctattggcagcacacgctgtg\n"
     ]
    },
    {
     "data": {
      "image/png": "[encoded data removed]",
      "text/plain": [
       "<matplotlib.figure.Figure at 0x7f3ddcd2e410>"
      ]
     },
     "metadata": {},
     "output_type": "display_data"
    },
    {
     "data": {
      "image/png": "[encoded data removed]",
      "text/plain": [
       "<matplotlib.figure.Figure at 0x7f3ddcc97450>"
      ]
     },
     "metadata": {},
     "output_type": "display_data"
    }
   ],
   "source": [
    "model_id = \"record_1_model_Ba1Th\"\n",
    "f = h5py.File(\"oneinten_imp_scores/imp_scores_\"+model_id+\".h5\", \"r\")\n",
    "onehot = f[\"onehot\"]\n",
    "ism_scores = f[\"scores_ism\"]\n",
    "deeplift_rescale_scores = f['scores_deeplift_rescale_dinucshuff']\n",
    "ig_scores = f['scores_integrated_grad20_dinucshuff']\n",
    "\n",
    "from deeplift.visualization import viz_sequence\n",
    "idx = motif_to_hit_locations['HNF4A:M4698_1.02'][26][0]\n",
    "print(positives_seqs[idx][350:650])\n",
    "viz_sequence.plot_weights((onehot[idx]*ism_scores[idx][:,None])[350:650],\n",
    "                          subticks_frequency=20)\n",
    "viz_sequence.plot_weights((onehot[idx]*deeplift_rescale_scores[idx][:,None])[350:650],\n",
    "                          subticks_frequency=20)\n"
   ]
  },
  {
   "cell_type": "code",
   "execution_count": 220,
   "metadata": {
    "collapsed": false,
    "scrolled": false
   },
   "outputs": [
    {
     "name": "stdout",
     "output_type": "stream",
     "text": [
      "HNF4A:M4698_1.02\n",
      "scores_ism 0.9825417492216244\n",
      "scores_ism 0.9699518822530425\n",
      "scores_deeplift_rescale_dinucshuff 0.9908519671667139\n",
      "scores_deeplift_rescale_dinucshuff 0.9858835739220682\n",
      "scores_deeplift_genomicsdefault_dinucshuff 0.9919728276252476\n",
      "scores_deeplift_genomicsdefault_dinucshuff 0.9860050948202659\n",
      "scores_integrated_grad20_dinucshuff 0.9913878667798849\n",
      "scores_integrated_grad20_dinucshuff 0.9834667421454852\n",
      "scores_grad_times_inp_flatref 0.9955127842249267\n",
      "scores_grad_times_inp_flatref 0.9871659590527407\n",
      "scores_integrated_grad20_avgposref 0.9912444570242473\n",
      "scores_integrated_grad20_avgposref 0.983715444853288\n",
      "scores_deeplift_rescale_avgposref 0.9901009529200866\n",
      "scores_deeplift_rescale_avgposref 0.9832897443155014\n",
      "scores_deeplift_genomicsdefault_avgposref 0.9909840550995377\n",
      "scores_deeplift_genomicsdefault_avgposref 0.9837863949429192\n",
      "scores_integrated_grad20_flatref 0.9902443626757241\n",
      "scores_integrated_grad20_flatref 0.9825745825077836\n",
      "scores_deeplift_rescale_flatref 0.9882479479196151\n",
      "scores_deeplift_rescale_flatref 0.9815220303802248\n",
      "scores_deeplift_genomicsdefault_flatref 0.9891423719218794\n",
      "scores_deeplift_genomicsdefault_flatref 0.9833078592320031\n",
      "scores_integrated_grad10_dinucshuff 0.9918369657514858\n",
      "scores_integrated_grad10_dinucshuff 0.9832538918765922\n",
      "scores_integrated_grad2_dinucshuff 0.990655722237947\n",
      "scores_integrated_grad2_dinucshuff 0.977726200584961\n",
      "scores_integrated_grad5_dinucshuff 0.990655722237947\n",
      "scores_integrated_grad5_dinucshuff 0.977726200584961\n",
      "HNF4G:M2286_1.02\n",
      "scores_ism 0.9960656665723178\n",
      "scores_ism 0.983826371760139\n",
      "scores_deeplift_rescale_dinucshuff 0.9981076381868909\n",
      "scores_deeplift_rescale_dinucshuff 0.9960838623589826\n",
      "scores_deeplift_genomicsdefault_dinucshuff 0.9977801140269297\n",
      "scores_deeplift_genomicsdefault_dinucshuff 0.9951578989931663\n",
      "scores_integrated_grad20_dinucshuff 0.9984189883142613\n",
      "scores_integrated_grad20_dinucshuff 0.9942525575189032\n",
      "scores_grad_times_inp_flatref 0.9963406251263596\n",
      "scores_grad_times_inp_flatref 0.992673163236424\n",
      "scores_integrated_grad20_avgposref 0.9981925518579919\n",
      "scores_integrated_grad20_avgposref 0.9923626218106829\n",
      "scores_deeplift_rescale_avgposref 0.9966519752537298\n",
      "scores_deeplift_rescale_avgposref 0.9914540455299015\n",
      "scores_deeplift_genomicsdefault_avgposref 0.9974485463588207\n",
      "scores_deeplift_genomicsdefault_avgposref 0.9929966438882374\n",
      "scores_integrated_grad20_flatref 0.9974647203914113\n",
      "scores_integrated_grad20_flatref 0.990589947838745\n",
      "scores_deeplift_rescale_flatref 0.9957340989042093\n",
      "scores_deeplift_rescale_flatref 0.9888273826371761\n",
      "scores_deeplift_genomicsdefault_flatref 0.9972180663944036\n",
      "scores_deeplift_genomicsdefault_flatref 0.9918749747280741\n",
      "scores_integrated_grad10_dinucshuff 0.9984634669038859\n",
      "scores_integrated_grad10_dinucshuff 0.994078282317739\n",
      "scores_integrated_grad2_dinucshuff 0.9977558529780436\n",
      "scores_integrated_grad2_dinucshuff 0.988974970684566\n",
      "scores_integrated_grad5_dinucshuff 0.9977558529780436\n",
      "scores_integrated_grad5_dinucshuff 0.988974970684566\n",
      "NR2F1:M6176_1.02\n",
      "scores_ism 0.9967460742046133\n",
      "scores_ism 0.9810353400258048\n",
      "scores_deeplift_rescale_dinucshuff 0.9978789690656764\n",
      "scores_deeplift_rescale_dinucshuff 0.9934468326147844\n",
      "scores_deeplift_genomicsdefault_dinucshuff 0.997633508512446\n",
      "scores_deeplift_genomicsdefault_dinucshuff 0.9891833716209837\n",
      "scores_integrated_grad20_dinucshuff 0.997948201529408\n",
      "scores_integrated_grad20_dinucshuff 0.9915486043364699\n",
      "scores_grad_times_inp_flatref 0.995632060924568\n",
      "scores_grad_times_inp_flatref 0.9857834282657267\n",
      "scores_integrated_grad20_avgposref 0.9982691884067091\n",
      "scores_integrated_grad20_avgposref 0.9903615822764893\n",
      "scores_deeplift_rescale_avgposref 0.9973188154954841\n",
      "scores_deeplift_rescale_avgposref 0.9872284985996161\n",
      "scores_deeplift_genomicsdefault_avgposref 0.99710482424395\n",
      "scores_deeplift_genomicsdefault_avgposref 0.9841224785222016\n",
      "scores_integrated_grad20_flatref 0.9981810743619598\n",
      "scores_integrated_grad20_flatref 0.9899814331119993\n",
      "scores_deeplift_rescale_flatref 0.9966642540202032\n",
      "scores_deeplift_rescale_flatref 0.9848846650092835\n",
      "scores_deeplift_genomicsdefault_flatref 0.9967838373666488\n",
      "scores_deeplift_genomicsdefault_flatref 0.9845013689146238\n",
      "scores_integrated_grad10_dinucshuff 0.9978600874846586\n",
      "scores_integrated_grad10_dinucshuff 0.9901331151461747\n",
      "scores_integrated_grad2_dinucshuff 0.9976209207917676\n",
      "scores_integrated_grad2_dinucshuff 0.9886527991943858\n",
      "scores_integrated_grad5_dinucshuff 0.9976209207917676\n",
      "scores_integrated_grad5_dinucshuff 0.9886527991943858\n",
      "HNF1A:M6281_1.02\n",
      "scores_ism 0.9996108123407869\n",
      "scores_ism 0.9987628549863196\n",
      "scores_deeplift_rescale_dinucshuff 0.9996697801679403\n",
      "scores_deeplift_rescale_dinucshuff 0.997861826587414\n",
      "scores_deeplift_genomicsdefault_dinucshuff 0.9997405415605246\n",
      "scores_deeplift_genomicsdefault_dinucshuff 0.9991143032361542\n",
      "scores_integrated_grad20_dinucshuff 0.9997405415605245\n",
      "scores_integrated_grad20_dinucshuff 0.9985517501651099\n",
      "scores_grad_times_inp_flatref 0.9985140107557315\n",
      "scores_grad_times_inp_flatref 0.9943567789414095\n",
      "scores_integrated_grad20_avgposref 0.999799509387678\n",
      "scores_integrated_grad20_avgposref 0.9991036890272668\n",
      "scores_deeplift_rescale_avgposref 0.9997169544296631\n",
      "scores_deeplift_rescale_avgposref 0.9987675724124919\n",
      "scores_deeplift_genomicsdefault_avgposref 0.9996579866025096\n",
      "scores_deeplift_genomicsdefault_avgposref 0.9983677705443907\n",
      "scores_integrated_grad20_flatref 0.9997169544296631\n",
      "scores_integrated_grad20_flatref 0.9978252665345787\n",
      "scores_deeplift_rescale_flatref 0.9995046702519105\n",
      "scores_deeplift_rescale_flatref 0.9965362298330032\n",
      "scores_deeplift_genomicsdefault_flatref 0.9996343994716481\n",
      "scores_deeplift_genomicsdefault_flatref 0.9978547504481556\n",
      "scores_integrated_grad10_dinucshuff 0.999764128691386\n",
      "scores_integrated_grad10_dinucshuff 0.9987086045853383\n",
      "scores_integrated_grad2_dinucshuff 0.9996226059062175\n",
      "scores_integrated_grad2_dinucshuff 0.9966577035569394\n",
      "scores_integrated_grad5_dinucshuff 0.9996226059062175\n",
      "scores_integrated_grad5_dinucshuff 0.9966577035569394\n",
      "RXRG:M6462_1.02\n",
      "scores_ism 0.9972642287599671\n",
      "scores_ism 0.9908702227110255\n",
      "scores_deeplift_rescale_dinucshuff 0.9977591421501237\n",
      "scores_deeplift_rescale_dinucshuff 0.9946219411602968\n",
      "scores_deeplift_genomicsdefault_dinucshuff 0.997951608468518\n",
      "scores_deeplift_genomicsdefault_dinucshuff 0.9942246356887544\n",
      "scores_integrated_grad20_dinucshuff 0.9981303271927413\n",
      "scores_integrated_grad20_dinucshuff 0.9922999725048116\n",
      "scores_grad_times_inp_flatref 0.9951196040692878\n",
      "scores_grad_times_inp_flatref 0.9849917514434973\n",
      "scores_integrated_grad20_avgposref 0.9984602694528457\n",
      "scores_integrated_grad20_avgposref 0.9928938685729995\n",
      "scores_deeplift_rescale_avgposref 0.9974017047016772\n",
      "scores_deeplift_rescale_avgposref 0.992722023645862\n",
      "scores_deeplift_genomicsdefault_avgposref 0.9972642287599671\n",
      "scores_deeplift_genomicsdefault_avgposref 0.9907547429199889\n",
      "scores_integrated_grad20_flatref 0.9983777838878195\n",
      "scores_integrated_grad20_flatref 0.9926120428924937\n",
      "scores_deeplift_rescale_flatref 0.9974429474841904\n",
      "scores_deeplift_rescale_flatref 0.9927673907066265\n",
      "scores_deeplift_genomicsdefault_flatref 0.9969617816882046\n",
      "scores_deeplift_genomicsdefault_flatref 0.9915658509760792\n",
      "scores_integrated_grad10_dinucshuff 0.9982403079461095\n",
      "scores_integrated_grad10_dinucshuff 0.9924608193566126\n",
      "scores_integrated_grad2_dinucshuff 0.9983090459169646\n",
      "scores_integrated_grad2_dinucshuff 0.9926766565850977\n",
      "scores_integrated_grad5_dinucshuff 0.9983090459169646\n",
      "scores_integrated_grad5_dinucshuff 0.9926766565850977\n",
      "FOXA2:M4567_1.02\n",
      "scores_ism 0.9886036915101226\n",
      "scores_ism 0.9479985698750131\n",
      "scores_deeplift_rescale_dinucshuff 0.9765966004737288\n",
      "scores_deeplift_rescale_dinucshuff 0.9514219315625605\n",
      "scores_deeplift_genomicsdefault_dinucshuff 0.9779671369195702\n",
      "scores_deeplift_genomicsdefault_dinucshuff 0.9611974317338777\n",
      "scores_integrated_grad20_dinucshuff 0.9663920628063223\n",
      "scores_integrated_grad20_dinucshuff 0.9390871035499874\n",
      "scores_grad_times_inp_flatref 0.9770584116674362\n",
      "scores_grad_times_inp_flatref 0.9356503344406871\n",
      "scores_integrated_grad20_avgposref 0.9569174847676793\n",
      "scores_integrated_grad20_avgposref 0.9257675748953476\n",
      "scores_deeplift_rescale_avgposref 0.9554277712395908\n",
      "scores_deeplift_rescale_avgposref 0.9317934661164659\n",
      "scores_deeplift_genomicsdefault_avgposref 0.9762390692269877\n",
      "scores_deeplift_genomicsdefault_avgposref 0.9489594351006302\n",
      "scores_integrated_grad20_flatref 0.9363147466742145\n",
      "scores_integrated_grad20_flatref 0.9081010621657455\n",
      "scores_deeplift_rescale_flatref 0.9460127817420712\n",
      "scores_deeplift_rescale_flatref 0.9207040386133747\n",
      "scores_deeplift_genomicsdefault_flatref 0.9736171734175519\n",
      "scores_deeplift_genomicsdefault_flatref 0.9420784483143892\n",
      "scores_integrated_grad10_dinucshuff 0.9666453141060974\n",
      "scores_integrated_grad10_dinucshuff 0.9381113411890893\n",
      "scores_integrated_grad2_dinucshuff 0.9480387921402715\n",
      "scores_integrated_grad2_dinucshuff 0.9150669626230877\n",
      "scores_integrated_grad5_dinucshuff 0.9480387921402715\n",
      "scores_integrated_grad5_dinucshuff 0.9150669626230877\n",
      "NR1H2:M6383_1.02\n",
      "scores_ism 0.9578476139314174\n",
      "scores_ism 0.9212516787536933\n",
      "scores_deeplift_rescale_dinucshuff 0.9604978064285074\n",
      "scores_deeplift_rescale_dinucshuff 0.9576613841883784\n",
      "scores_deeplift_genomicsdefault_dinucshuff 0.9629331184528606\n",
      "scores_deeplift_genomicsdefault_dinucshuff 0.9525149968663262\n",
      "scores_integrated_grad20_dinucshuff 0.9202614379084967\n",
      "scores_integrated_grad20_dinucshuff 0.9128319455636136\n",
      "scores_grad_times_inp_flatref 0.9689855851016205\n",
      "scores_grad_times_inp_flatref 0.9374966424926134\n",
      "scores_integrated_grad20_avgposref 0.9573641328677589\n",
      "scores_integrated_grad20_avgposref 0.9409257767033754\n",
      "scores_deeplift_rescale_avgposref 0.9608380338436744\n",
      "scores_deeplift_rescale_avgposref 0.9423941266004118\n",
      "scores_deeplift_genomicsdefault_avgposref 0.950756558331095\n",
      "scores_deeplift_genomicsdefault_avgposref 0.9351848867400842\n",
      "scores_integrated_grad20_flatref 0.9473542841794251\n",
      "scores_integrated_grad20_flatref 0.9284680812964454\n",
      "scores_deeplift_rescale_flatref 0.9618408093831138\n",
      "scores_deeplift_rescale_flatref 0.9371313456889604\n",
      "scores_deeplift_genomicsdefault_flatref 0.9567373981556092\n",
      "scores_deeplift_genomicsdefault_flatref 0.9372083445250246\n",
      "scores_integrated_grad10_dinucshuff 0.9218193213358402\n",
      "scores_integrated_grad10_dinucshuff 0.9143683409436834\n",
      "scores_integrated_grad2_dinucshuff 0.9145312919688423\n",
      "scores_integrated_grad2_dinucshuff 0.9044390724326261\n",
      "scores_integrated_grad5_dinucshuff 0.9145312919688423\n",
      "scores_integrated_grad5_dinucshuff 0.9044390724326261\n",
      "HNF1B:M6282_1.02\n",
      "scores_ism 0.9991787517025876\n",
      "scores_ism 0.996963384344203\n",
      "scores_deeplift_rescale_dinucshuff 0.9993590257190929\n",
      "scores_deeplift_rescale_dinucshuff 0.9972017466549155\n",
      "scores_deeplift_genomicsdefault_dinucshuff 0.9994191170579277\n",
      "scores_deeplift_genomicsdefault_dinucshuff 0.9983274577357582\n",
      "scores_integrated_grad20_dinucshuff 0.9996194215207111\n",
      "scores_integrated_grad20_dinucshuff 0.9990185081323609\n",
      "scores_grad_times_inp_flatref 0.9972758593061453\n",
      "scores_grad_times_inp_flatref 0.9888750901370083\n",
      "scores_integrated_grad20_avgposref 0.9995993910744329\n",
      "scores_integrated_grad20_avgposref 0.9982733755308066\n",
      "scores_deeplift_rescale_avgposref 0.9993389952728144\n",
      "scores_deeplift_rescale_avgposref 0.9977145260796408\n",
      "scores_deeplift_genomicsdefault_avgposref 0.9992989343802579\n",
      "scores_deeplift_genomicsdefault_avgposref 0.997664449963945\n",
      "scores_integrated_grad20_flatref 0.9995593301818761\n",
      "scores_integrated_grad20_flatref 0.9946458617097989\n",
      "scores_deeplift_rescale_flatref 0.9990585690249176\n",
      "scores_deeplift_rescale_flatref 0.9910243570226742\n",
      "scores_deeplift_genomicsdefault_flatref 0.9992789039339794\n",
      "scores_deeplift_genomicsdefault_flatref 0.9952107202948479\n",
      "scores_integrated_grad10_dinucshuff 0.9995993910744329\n",
      "scores_integrated_grad10_dinucshuff 0.9989103437224578\n",
      "scores_integrated_grad2_dinucshuff 0.9996795128595463\n",
      "scores_integrated_grad2_dinucshuff 0.9988742889191569\n",
      "scores_integrated_grad5_dinucshuff 0.9996795128595463\n",
      "scores_integrated_grad5_dinucshuff 0.9988742889191569\n"
     ]
    }
   ],
   "source": [
    "\n",
    "#Hard to interpret the results on the motifs with weaker support...\n",
    "for selected_motif in ['HNF4A:M4698_1.02',\n",
    "                       'HNF4G:M2286_1.02',\n",
    "                       'NR2F1:M6176_1.02',\n",
    "                       'HNF1A:M6281_1.02',\n",
    "                       'RXRG:M6462_1.02',\n",
    "                       'FOXA2:M4567_1.02',\n",
    "                       'NR1H2:M6383_1.02',\n",
    "                       'HNF1B:M6282_1.02'\n",
    "                      ]:\n",
    "    print(selected_motif)\n",
    "    for scoring_method in scoring_methods:\n",
    "        print(scoring_method,\n",
    "              np.mean(model_id_to_scoring_method_to_motif_to_ranks[\"average\"][scoring_method][selected_motif]))\n",
    "        print(scoring_method,\n",
    "              np.mean(\n",
    "               [np.mean(model_id_to_scoring_method_to_motif_to_ranks[model_id][scoring_method][selected_motif])\n",
    "                for model_id in model_ids] \n",
    "              ))\n",
    "        #print(scoring_method,model_id_to_scoring_method_to_motif_to_auprcoverbg\n",
    "        #         [\"max\"][scoring_method][selected_motif])\n",
    "    #for scoring_method in scoring_methods:\n",
    "    #    print(scoring_method)\n",
    "    #    for model_id in [\"average\"]+model_ids:\n",
    "    #        print(model_id_to_scoring_method_to_motif_to_auprcoverbg\n",
    "    #              [model_id][scoring_method][selected_motif])"
   ]
  },
  {
   "cell_type": "code",
   "execution_count": 203,
   "metadata": {
    "collapsed": false
   },
   "outputs": [
    {
     "data": {
      "text/plain": [
       "[('HNF4A:M4698_1.02', 75),\n",
       " ('HNF4G:M2286_1.02', 70),\n",
       " ('NR2F1:M6176_1.02', 43),\n",
       " ('HNF1A:M6281_1.02', 24),\n",
       " ('RXRG:M6462_1.02', 20),\n",
       " ('FOXA2:M4567_1.02', 19),\n",
       " ('NR1H2:M6383_1.02', 17),\n",
       " ('HNF1B:M6282_1.02', 14)]"
      ]
     },
     "execution_count": 203,
     "metadata": {},
     "output_type": "execute_result"
    }
   ],
   "source": [
    "sorted([(x,len(y)) for x,y in motif_to_hit_locations.items()],\n",
    "        key=lambda x: -x[1])\n",
    "#[x[0] for x in sorted([(x,len(y)) for x,y in motif_to_hit_locations.items()],\n",
    "#        key=lambda x: -x[1])]"
   ]
  },
  {
   "cell_type": "code",
   "execution_count": null,
   "metadata": {
    "collapsed": true
   },
   "outputs": [],
   "source": [
    "#HNF4A:M4698_1.02\n",
    "#NR2F1:M6176_1.02 is similar to HNF"
   ]
  },
  {
   "cell_type": "code",
   "execution_count": null,
   "metadata": {
    "collapsed": true
   },
   "outputs": [],
   "source": [
    "['CREB3:M5323_1.02', 'HNF1B:M6282_1.02', 'HNF4A:M4698_1.02', 'HNF4G:M2286_1.02', 'DMBX1:M5345_1.02', 'FOXA2:M4567_1.02', 'HNF1A:M6281_1.02', 'XBP1:M6536_1.02', 'NR2F1:M6176_1.02', 'RXRG:M6462_1.02', 'NR1H2:M6383_1.02', 'HIF1A:M6275_1.02', '(SP5)_(Drosophila_melanogaster)_(DBD_0.93):M5209_1.02', 'TCF7L1:M5903_1.02', 'NR2F6:M6392_1.02', '(KLF12)_(Mus_musculus)_(DBD_1.00):M0443_1.02', '(KLF7)_(Mus_musculus)_(DBD_1.00):M0405_1.02', '(ZFP161)_(Mus_musculus)_(DBD_1.00):M0432_1.02', 'NR6A1:M6397_1.02', 'E2F4:M4537_1.02']"
   ]
  }
 ],
 "metadata": {
  "kernelspec": {
   "display_name": "Python 2",
   "language": "python",
   "name": "python2"
  },
  "language_info": {
   "codemirror_mode": {
    "name": "ipython",
    "version": 2
   },
   "file_extension": ".py",
   "mimetype": "text/x-python",
   "name": "python",
   "nbconvert_exporter": "python",
   "pygments_lexer": "ipython2",
   "version": "2.7.13"
  }
 },
 "nbformat": 4,
 "nbformat_minor": 0
}
