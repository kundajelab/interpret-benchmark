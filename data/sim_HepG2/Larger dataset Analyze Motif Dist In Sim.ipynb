{
 "cells": [
  {
   "cell_type": "code",
   "execution_count": 1,
   "metadata": {
    "collapsed": false
   },
   "outputs": [],
   "source": [
    "%matplotlib inline\n",
    "from __future__ import division, print_function\n",
    "import os"
   ]
  },
  {
   "cell_type": "code",
   "execution_count": 2,
   "metadata": {
    "collapsed": false
   },
   "outputs": [
    {
     "name": "stdout",
     "output_type": "stream",
     "text": [
      "Analyze Motif Dist In Sim.ipynb\r\n",
      "compute_imp_score.log\r\n",
      "compute_imp_scores.py\r\n",
      "compute_imp_scores.pyc\r\n",
      "compute_imp_scores.sh\r\n",
      "config\r\n",
      "dan_basset_keras_port\r\n",
      "dinucshuff_motifs_inserted_sigthresh5e-6_sorted_naive_window_around_summit.bed.gz\r\n",
      "imp_scores\r\n",
      "insert_motifs_in_dincuc_shuff_regions.py\r\n",
      "Larger dataset Analyze Motif Dist In Sim-Copy1.ipynb\r\n",
      "model_fidelity_results.h5\r\n",
      "model_files\r\n",
      "motif_hits_sorted_naive_window_around_summit.bed.gz\r\n",
      "nonoverlap_dinucshuff_motifs_inserted_sigthresh5e-6_merged_universal_neg_representative_peaks.bed.gz\r\n",
      "oneinten_imp_scores\r\n",
      "runs_perf-metric-auROC.db\r\n",
      "Simulation Assess Model Fidelity.ipynb\r\n",
      "sorted_naive_window_around_summit.bed.gz\r\n",
      "sorted_naive_window_around_summit.fa.gz\r\n",
      "Study Simulated Importance.ipynb\r\n",
      "test_set_negatives.bed.gz\r\n",
      "test_set_positives.bed.gz\r\n",
      "train_dinucshuff_motifs_inserted_sigthresh5e-6_sorted_naive_window_around_summit.bed.gz\r\n",
      "train_nonoverlap_dinucshuff_motifs_inserted_sigthresh5e-6_merged_universal_neg_representative_peaks.bed.gz\r\n",
      "train_sim_model_from_preinit.sh\r\n",
      "valid_labels.gz\r\n"
     ]
    }
   ],
   "source": [
    "!ls"
   ]
  },
  {
   "cell_type": "code",
   "execution_count": 3,
   "metadata": {
    "collapsed": false
   },
   "outputs": [
    {
     "name": "stdout",
     "output_type": "stream",
     "text": [
      "18421\r\n"
     ]
    }
   ],
   "source": [
    "!zcat test_set_positives.bed.gz | wc -l"
   ]
  },
  {
   "cell_type": "code",
   "execution_count": 4,
   "metadata": {
    "collapsed": false
   },
   "outputs": [],
   "source": [
    "import gzip\n",
    "from collections import namedtuple\n",
    "\n",
    "MotifHit = namedtuple(\"MotifHit\",['offset', 'motif_id',\n",
    "                                  'motif_factor', 'motif_seq',\n",
    "                                  'motif_strand', 'motif_sig'])\n",
    "def parse_motif_hit(string):\n",
    "    (offset,motif_id,motif_factor,\n",
    "     motif_seq,motif_strand,motif_sig) = string.split(\",\")\n",
    "    \n",
    "    offset = int(offset)\n",
    "    motif_sig = float(motif_sig)\n",
    "    return MotifHit(offset=offset,\n",
    "                    motif_id=motif_id,\n",
    "                    motif_factor=motif_factor,\n",
    "                    motif_seq=motif_seq,\n",
    "                    motif_strand=motif_strand,\n",
    "                    motif_sig=motif_sig)\n",
    "\n",
    "def parse_sim_file(file_name):\n",
    "    seqs = []\n",
    "    motifs_arr = []\n",
    "    seq_ids = []\n",
    "    \n",
    "    for line in gzip.open(file_name):\n",
    "        line = line.rstrip(\"\\n\")\n",
    "        chrom,start,end,seq_id,seq,motifs = line.split(\"\\t\")\n",
    "        seqs.append(seq)\n",
    "        motifs_arr.append([parse_motif_hit(x) for x in motifs.split(\";\")] if len(motifs) > 0 else [])\n",
    "        seq_ids.append(seq_id)\n",
    "    return seqs, motifs_arr, seq_ids\n",
    "\n",
    "original_positives_seqs, original_positives_motifs, original_positives_ids = parse_sim_file(\"test_set_positives.bed.gz\")\n",
    "negatives_seqs, negatives_motifs, negatives_ids = parse_sim_file(\"test_set_negatives.bed.gz\")"
   ]
  },
  {
   "cell_type": "code",
   "execution_count": 5,
   "metadata": {
    "collapsed": true
   },
   "outputs": [],
   "source": [
    "positives_seqs = original_positives_seqs[:]\n",
    "positives_motifs = original_positives_motifs[:]\n",
    "positives_ids = original_positives_ids[:]"
   ]
  },
  {
   "cell_type": "code",
   "execution_count": 6,
   "metadata": {
    "collapsed": false
   },
   "outputs": [],
   "source": [
    "from collections import Counter\n",
    "original_positives_motif_counts_in_central_300 = Counter([x.motif_factor+\":\"+x.motif_id for y in original_positives_motifs for x in y\n",
    "                                       if (x.offset > 350 and (x.offset + len(x.motif_seq))<650)])\n",
    "original_positives_motif_counts_outside_central_300 = Counter([x.motif_factor+\":\"+x.motif_id for y in original_positives_motifs for x in y\n",
    "                                                      if (x.offset > 650 or (x.offset + len(x.motif_seq))<350)])\n",
    "negatives_motif_counts_in_central_300 = Counter([x.motif_factor+\":\"+x.motif_id for y in negatives_motifs for x in y\n",
    "                                       if (x.offset > 350 and (x.offset + len(x.motif_seq))<650)])\n",
    "negatives_motif_counts_outside_central_300 = Counter([x.motif_factor+\":\"+x.motif_id for y in negatives_motifs for x in y\n",
    "                                                      if (x.offset > 650 or (x.offset + len(x.motif_seq))<350)])\n"
   ]
  },
  {
   "cell_type": "code",
   "execution_count": 9,
   "metadata": {
    "collapsed": false,
    "scrolled": false
   },
   "outputs": [
    {
     "name": "stdout",
     "output_type": "stream",
     "text": [
      "('CREB3:M5323_1.02', 3.2596119917485478, 3.5174129353233834, 2.075862068965517, 100)\n",
      "('HNF1B:M6282_1.02', 2.9417622694195185, 3.2372372372372378, 1.1204111600587372, 153)\n",
      "('HNF4A:M4698_1.02', 4.069058579510268, 2.8727828746177373, 1.515895498898332, 670)\n",
      "('HNF4G:M2286_1.02', 3.894936648697557, 2.7839951865222625, 1.570342205323194, 660)\n",
      "('DMBX1:M5345_1.02', 1.5452975368289412, 2.7820512820512824, 1.7237237237237237, 30)\n",
      "('FOXA2:M4567_1.02', 1.724945201004461, 2.636217948717949, 1.617359413202934, 234)\n",
      "('HNF1A:M6281_1.02', 2.5505599980664253, 2.5859872611464967, 1.215902140672783, 173)\n",
      "('XBP1:M6536_1.02', 3.3899964714184896, 2.522522522522523, 1.1909722222222223, 39)\n",
      "('NR2F1:M6176_1.02', 3.1292275120786055, 2.28060263653484, 1.3951578037181152, 345)\n",
      "('RXRG:M6462_1.02', 2.4932056600301085, 2.2206119162640903, 1.3033389926428978, 196)\n",
      "('NR1H2:M6383_1.02', 1.8931048033271567, 2.0755813953488373, 1.3658536585365855, 152)\n",
      "('HIF1A:M6275_1.02', 8.225398031749478, 2.067510548523207, 1.2352941176470589, 69)\n",
      "['CREB3:M5323_1.02', 'HNF1B:M6282_1.02', 'HNF4A:M4698_1.02', 'HNF4G:M2286_1.02', 'DMBX1:M5345_1.02', 'FOXA2:M4567_1.02', 'HNF1A:M6281_1.02', 'XBP1:M6536_1.02', 'NR2F1:M6176_1.02', 'RXRG:M6462_1.02', 'NR1H2:M6383_1.02', 'HIF1A:M6275_1.02']\n"
     ]
    }
   ],
   "source": [
    "ratios_in_to_out_negatives = dict([(x,((negatives_motif_counts_in_central_300[x]+1)\n",
    "                             *(7/3)/(negatives_motif_counts_outside_central_300[x]+1),\n",
    "                   negatives_motif_counts_in_central_300[x]))\n",
    "                   for x in negatives_motif_counts_in_central_300.keys()])\n",
    "ratios_in_to_out_positives = dict([(x,((original_positives_motif_counts_in_central_300[x]+1)\n",
    "                                       *(7/3)/(original_positives_motif_counts_outside_central_300[x]+1),\n",
    "                                    original_positives_motif_counts_in_central_300[x],\n",
    "                                    ratios_in_to_out_negatives[x]))\n",
    "                                    for x in original_positives_motif_counts_in_central_300.keys()])\n",
    "ratios_positives_to_negatives = dict([(x,((original_positives_motif_counts_in_central_300[x])\n",
    "                                       *(len(negatives_seqs)/len(original_positives_seqs))/(negatives_motif_counts_in_central_300[x]),\n",
    "                                       original_positives_motif_counts_in_central_300[x]))\n",
    "                                    for x in original_positives_motif_counts_in_central_300.keys()])\n",
    "\n",
    "sorted_motif_list = [(x, ratios_positives_to_negatives[x][0],\n",
    "        ratios_in_to_out_positives[x][0],\n",
    "        ratios_in_to_out_negatives[x][0],\n",
    "        original_positives_motif_counts_in_central_300[x])\n",
    " for x,y in sorted(ratios_in_to_out_positives.items(), key=lambda x: -x[1][0])\n",
    " if (ratios_positives_to_negatives[x][0] > 1.5\n",
    "     and ratios_in_to_out_positives[x][0] > 2\n",
    "     and (ratios_in_to_out_positives[x][0] > ratios_in_to_out_negatives[x][0]*1.5)\n",
    "     and original_positives_motif_counts_in_central_300[x] > 10)]\n",
    "print(\"\\n\".join(str(x) for x in sorted_motif_list))\n",
    "motif_ids_to_assess = [x[0] for x in sorted_motif_list]\n",
    "print(motif_ids_to_assess)\n",
    "motif_ids_to_assess_set = set(motif_ids_to_assess)"
   ]
  },
  {
   "cell_type": "code",
   "execution_count": 10,
   "metadata": {
    "collapsed": false
   },
   "outputs": [],
   "source": [
    "from collections import defaultdict\n",
    "\n",
    "motif_to_hit_locations = defaultdict(list)\n",
    "motif_to_length = {}\n",
    "\n",
    "for region_idx,motifs_arr in enumerate(positives_motifs):\n",
    "    for motif in motifs_arr:\n",
    "        if (motif.offset > 350 and (motif.offset + len(motif.motif_seq)) < 650):\n",
    "            motif_id = motif.motif_factor+\":\"+motif.motif_id\n",
    "            if (motif_id in motif_ids_to_assess):\n",
    "                motif_to_hit_locations[motif_id].append((region_idx, motif.offset))\n",
    "                if (motif_id in motif_to_length):\n",
    "                    assert motif_to_length[motif_id] == len(motif.motif_seq)\n",
    "                else:\n",
    "                    motif_to_length[motif_id] = len(motif.motif_seq)\n",
    "\n",
    "all_motif_lengths = sorted(set(motif_to_length.values()))\n"
   ]
  },
  {
   "cell_type": "code",
   "execution_count": 11,
   "metadata": {
    "collapsed": false
   },
   "outputs": [],
   "source": [
    "import numpy as np\n",
    "\n",
    "negatives_subsample_factor = 100\n",
    "\n",
    "#prepare negative windows\n",
    "motif_length_to_negatives_locations = defaultdict(list)\n",
    "val_lookup = {'a': 0, 'c': 0, 'g': 0, 't': 0, 'n':0, 'A': 1, 'C': 1, 'G':1, 'T':1, 'N':1}\n",
    "\n",
    "for i,sequence in enumerate(positives_seqs):\n",
    "    arr = np.array([val_lookup[x] for x in sequence])\n",
    "    cumsum_arr = np.array([0]+list(np.cumsum(arr)))\n",
    "    for motif_length in all_motif_lengths:\n",
    "        windows_sums = cumsum_arr[motif_length:]-cumsum_arr[:-motif_length]\n",
    "        null_windows = [(i,x) for x in np.nonzero(windows_sums==0)[0][::negatives_subsample_factor]\n",
    "                        if x > 350 and x < (650-motif_length)]\n",
    "        motif_length_to_negatives_locations[motif_length].extend(null_windows)\n"
   ]
  },
  {
   "cell_type": "code",
   "execution_count": 12,
   "metadata": {
    "collapsed": false
   },
   "outputs": [
    {
     "data": {
      "text/plain": [
       "[(10, 37727), (12, 36928), (13, 36505), (14, 36044), (15, 35591), (19, 33111)]"
      ]
     },
     "execution_count": 12,
     "metadata": {},
     "output_type": "execute_result"
    }
   ],
   "source": [
    "[(x,len(y)) for x,y in motif_length_to_negatives_locations.items()]"
   ]
  },
  {
   "cell_type": "code",
   "execution_count": 13,
   "metadata": {
    "collapsed": false,
    "scrolled": false
   },
   "outputs": [
    {
     "name": "stdout",
     "output_type": "stream",
     "text": [
      "Computing with average or max scores\n",
      "on record_1_model_Ba1Th\n"
     ]
    }
   ],
   "source": [
    "import h5py\n",
    "import numpy as np\n",
    "from sklearn.metrics import average_precision_score\n",
    "import sys\n",
    "\n",
    "model_ids = [\"record_1_model_Ba1Th\",\n",
    "             #\"record_2_model_fijFp\",\n",
    "             #\"record_3_model_iNu96\",\n",
    "             #\"record_4_model_s3EVY\",\n",
    "             #\"record_5_model_k1Ccu\",\n",
    "             #\"record_6_model_X79UW\",\n",
    "             #\"record_7_model_XpjQJ\",\n",
    "             #\"record_8_model_XchY4\",\n",
    "             #\"record_9_model_8fTYg\",\n",
    "             #\"record_10_model_xpYJA\"\n",
    "            ]\n",
    "\n",
    "scoring_methods = ['scores_ism',\n",
    "'scores_deeplift_rescale_dinucshuff',\n",
    "'scores_deeplift_genomicsdefault_dinucshuff',\n",
    "'scores_integrated_grad20_dinucshuff',\n",
    "'scores_grad_times_inp_flatref',\n",
    "\n",
    "'scores_integrated_grad20_avgposref',\n",
    "'scores_deeplift_rescale_avgposref',\n",
    "'scores_deeplift_genomicsdefault_avgposref',\n",
    "'scores_integrated_grad20_flatref',\n",
    "'scores_deeplift_rescale_flatref',\n",
    "'scores_deeplift_genomicsdefault_flatref',\n",
    "\n",
    "'scores_integrated_grad10_dinucshuff',\n",
    "'scores_integrated_grad2_dinucshuff',\n",
    "'scores_integrated_grad5_dinucshuff']\n",
    "\n",
    "model_id_to_scoring_method_to_motif_to_auprc = defaultdict(lambda: defaultdict(dict))\n",
    "model_id_to_scoring_method_to_motif_to_auprcoverbg = defaultdict(lambda: defaultdict(dict))\n",
    "model_id_to_scoring_method_to_motif_to_ranks = defaultdict(lambda: defaultdict(dict))\n",
    "\n",
    "def compute_motif_auprc_and_ranks_given_scores(\n",
    "    scores,\n",
    "    motif_length_to_negatives_locations,\n",
    "    motif_to_hit_locations,\n",
    "    motif_to_length):\n",
    "    \n",
    "    negatives_locations_scores = {}\n",
    "    for motif_length in motif_length_to_negatives_locations:\n",
    "        negatives_locations_scores[motif_length] = [\n",
    "            np.sum(scores[x[0],x[1]:x[1]+motif_length]) for x in\n",
    "            motif_length_to_negatives_locations[motif_length]]\n",
    "    motif_to_auprc = {}\n",
    "    motif_to_auprcoverbg = {}\n",
    "    motif_to_ranks = {}\n",
    "    for motif in motif_to_hit_locations:\n",
    "        motif_length = motif_to_length[motif]\n",
    "        hit_locations_scores = [\n",
    "            np.sum(scores[x[0], x[1]:x[1]+motif_length]) for x in\n",
    "            motif_to_hit_locations[motif]]\n",
    "        y_true = ([1 for x in hit_locations_scores]\n",
    "                  + [0 for x in negatives_locations_scores[motif_length]])\n",
    "        sorted_negatives = np.array(sorted(negatives_locations_scores[motif_length]))\n",
    "        hit_ranks = np.array([x/len(sorted_negatives) for\n",
    "                     x in np.searchsorted(sorted_negatives, hit_locations_scores)])\n",
    "        y_score = hit_locations_scores + negatives_locations_scores[motif_length]\n",
    "        auprc = average_precision_score(y_true=y_true,\n",
    "                                        y_score=y_score)\n",
    "        motif_to_auprc[motif] = auprc\n",
    "        motif_to_auprcoverbg[motif] = auprc/np.mean(y_true)\n",
    "        motif_to_ranks[motif] = hit_ranks\n",
    "    return motif_to_auprc, motif_to_auprcoverbg, motif_to_ranks\n",
    "\n",
    "print(\"Computing with average or max scores\")\n",
    "#Compute with average scores\n",
    "for scoring_method in scoring_methods:\n",
    "    for op in [\"average\", \"max\"]:\n",
    "        if (op==\"average\"):\n",
    "            scores = np.mean([\n",
    "                np.array(h5py.File(\"imp_scores/imp_scores_\"+model_id+\".h5\", \"r\")[scoring_method])\n",
    "                    for model_id in model_ids], axis=0)\n",
    "        else:\n",
    "            assert op==\"max\"\n",
    "            scores = np.max([\n",
    "                np.array(h5py.File(\"imp_scores/imp_scores_\"+model_id+\".h5\", \"r\")[scoring_method])\n",
    "                    for model_id in model_ids], axis=0)\n",
    "        (motif_to_auprc,\n",
    "         motif_to_auprcoverbg,\n",
    "         motif_to_ranks) = compute_motif_auprc_and_ranks_given_scores(\n",
    "                            scores=scores,\n",
    "                            motif_length_to_negatives_locations=\n",
    "                             motif_length_to_negatives_locations,\n",
    "                            motif_to_hit_locations=\n",
    "                             motif_to_hit_locations,\n",
    "                            motif_to_length=motif_to_length) \n",
    "        model_id_to_scoring_method_to_motif_to_auprc[op][scoring_method] = motif_to_auprc\n",
    "        model_id_to_scoring_method_to_motif_to_auprcoverbg[op][scoring_method] = motif_to_auprcoverbg\n",
    "        model_id_to_scoring_method_to_motif_to_ranks[op][scoring_method] = motif_to_ranks\n",
    "\n",
    "for model_id in model_ids:\n",
    "    f = h5py.File(\"imp_scores/imp_scores_\"+model_id+\".h5\", \"r\")\n",
    "    print(\"on\",model_id)\n",
    "    sys.stdout.flush()\n",
    "    for scoring_method in scoring_methods:\n",
    "        #print(\"\\n\",scoring_method,\"\\n\")\n",
    "        scores = np.array(f[scoring_method])      \n",
    "        (motif_to_auprc,\n",
    "         motif_to_auprcoverbg,\n",
    "         motif_to_ranks) = compute_motif_auprc_and_ranks_given_scores(\n",
    "                            scores=scores,\n",
    "                            motif_length_to_negatives_locations=\n",
    "                             motif_length_to_negatives_locations,\n",
    "                            motif_to_hit_locations=\n",
    "                             motif_to_hit_locations,\n",
    "                            motif_to_length=motif_to_length)        \n",
    "        model_id_to_scoring_method_to_motif_to_auprc[model_id][scoring_method] = motif_to_auprc\n",
    "        model_id_to_scoring_method_to_motif_to_auprcoverbg[model_id][scoring_method] = motif_to_auprcoverbg\n",
    "        model_id_to_scoring_method_to_motif_to_ranks[model_id][scoring_method] = motif_to_ranks\n"
   ]
  },
  {
   "cell_type": "code",
   "execution_count": 21,
   "metadata": {
    "collapsed": false
   },
   "outputs": [
    {
     "data": {
      "text/plain": [
       "[(118, -0.9260064631089365),\n",
       " (74, -0.7859925704448673),\n",
       " (70, -0.6780828123584307),\n",
       " (51, -0.6339585032164538),\n",
       " (66, -0.613179909999698),\n",
       " (106, -0.59095164748875),\n",
       " (62, -0.5298541270272719),\n",
       " (100, -0.49460904231222247),\n",
       " (103, -0.47464588807345),\n",
       " (78, -0.3913503065446528),\n",
       " (82, -0.37123614508773517),\n",
       " (23, -0.35172601250339763),\n",
       " (97, -0.3069976744888405),\n",
       " (98, -0.28540364229410164),\n",
       " (149, -0.22790009362447528),\n",
       " (151, -0.2158195161728731),\n",
       " (14, -0.18936305155386424),\n",
       " (123, -0.18489323789677148),\n",
       " (1, -0.16278578116033948),\n",
       " (90, -0.0632418229591375)]"
      ]
     },
     "execution_count": 21,
     "metadata": {},
     "output_type": "execute_result"
    }
   ],
   "source": [
    "sorted(list(enumerate(\n",
    "model_id_to_scoring_method_to_motif_to_ranks[\"record_1_model_Ba1Th\"][\"scores_ism\"]['NR1H2:M6383_1.02']\n",
    "- model_id_to_scoring_method_to_motif_to_ranks[\"record_1_model_Ba1Th\"][\"scores_deeplift_rescale_dinucshuff\"]['NR1H2:M6383_1.02'])),\n",
    "       key=lambda x: x[1])[:20]"
   ]
  },
  {
   "cell_type": "code",
   "execution_count": 24,
   "metadata": {
    "collapsed": false
   },
   "outputs": [
    {
     "name": "stdout",
     "output_type": "stream",
     "text": [
      "(9280, 405)\n",
      "ggcCCGCCCGCCTCGGCCTCggacagctcaagaaaatgtggttatcaCCACCGCGCCCAGCCCTTTGACCCATATagggcagacacatagtgctcggatagtacactacgattatattcttTCACAGCTGTCACtcctctctacagtttgttggcaaattttaaactcatcgtacttggcagtgtgtatccttgccaaaggtccctcaacagtctgcctttccccccatactctCAACACAACACAggttaattgctagaactgaaagaatgcagatcaaagggtatgaaacgataagtg\n"
     ]
    },
    {
     "data": {
      "image/png": "[encoded data removed]",
      "text/plain": [
       "<matplotlib.figure.Figure at 0x7fbf20a72fd0>"
      ]
     },
     "metadata": {},
     "output_type": "display_data"
    },
    {
     "data": {
      "image/png": "[encoded data removed]",
      "text/plain": [
       "<matplotlib.figure.Figure at 0x7fbf25179b90>"
      ]
     },
     "metadata": {},
     "output_type": "display_data"
    }
   ],
   "source": [
    "model_id = \"record_1_model_Ba1Th\"\n",
    "f = h5py.File(\"imp_scores/imp_scores_\"+model_id+\".h5\", \"r\")\n",
    "onehot = f[\"onehot\"]\n",
    "ism_scores = f[\"scores_ism\"]\n",
    "deeplift_rescale_scores = f['scores_deeplift_rescale_dinucshuff']\n",
    "ig_scores = f['scores_integrated_grad20_dinucshuff']\n",
    "\n",
    "from deeplift.visualization import viz_sequence\n",
    "print(motif_to_hit_locations['NR1H2:M6383_1.02'][74])\n",
    "idx = motif_to_hit_locations['NR1H2:M6383_1.02'][74][0]\n",
    "print(positives_seqs[idx][350:650])\n",
    "viz_sequence.plot_weights((onehot[idx]*ism_scores[idx][:,None])[350:650],\n",
    "                          subticks_frequency=20)\n",
    "viz_sequence.plot_weights((onehot[idx]*deeplift_rescale_scores[idx][:,None])[350:650],\n",
    "                          subticks_frequency=20)\n"
   ]
  },
  {
   "cell_type": "code",
   "execution_count": 26,
   "metadata": {
    "collapsed": false,
    "scrolled": false
   },
   "outputs": [
    {
     "name": "stdout",
     "output_type": "stream",
     "text": [
      "HNF4A:M4698_1.02\n",
      "scores_ism 0.9620586203874283\n",
      "scores_deeplift_rescale_dinucshuff 0.9910782828293417\n",
      "scores_deeplift_genomicsdefault_dinucshuff 0.9893602986164958\n",
      "scores_integrated_grad20_dinucshuff 0.979826612211623\n",
      "scores_grad_times_inp_flatref 0.985300367315735\n",
      "scores_integrated_grad20_avgposref 0.97862670296071\n",
      "scores_deeplift_rescale_avgposref 0.9841973717152207\n",
      "scores_deeplift_genomicsdefault_avgposref 0.9852306280683907\n",
      "scores_integrated_grad20_flatref 0.9759176917525269\n",
      "scores_deeplift_rescale_flatref 0.9727473027937217\n",
      "scores_deeplift_genomicsdefault_flatref 0.9788438046344939\n",
      "scores_integrated_grad10_dinucshuff 0.9791466230981587\n",
      "scores_integrated_grad2_dinucshuff 0.9677106446078729\n",
      "scores_integrated_grad5_dinucshuff 0.9677106446078729\n",
      "HNF4G:M2286_1.02\n",
      "scores_ism 0.9676231989190321\n",
      "scores_deeplift_rescale_dinucshuff 0.9915166244786092\n",
      "scores_deeplift_genomicsdefault_dinucshuff 0.9907039828761612\n",
      "scores_integrated_grad20_dinucshuff 0.9858754298626737\n",
      "scores_grad_times_inp_flatref 0.9879955606754517\n",
      "scores_integrated_grad20_avgposref 0.983275947358159\n",
      "scores_deeplift_rescale_avgposref 0.9876215301280626\n",
      "scores_deeplift_genomicsdefault_avgposref 0.9886728684388204\n",
      "scores_integrated_grad20_flatref 0.9810255912500861\n",
      "scores_deeplift_rescale_flatref 0.9780401582626864\n",
      "scores_deeplift_genomicsdefault_flatref 0.9827105592748593\n",
      "scores_integrated_grad10_dinucshuff 0.9842931009967621\n",
      "scores_integrated_grad2_dinucshuff 0.9764070419573215\n",
      "scores_integrated_grad5_dinucshuff 0.9764070419573215\n",
      "NR2F1:M6176_1.02\n",
      "scores_ism 0.96970210735187\n",
      "scores_deeplift_rescale_dinucshuff 0.9909924208173211\n",
      "scores_deeplift_genomicsdefault_dinucshuff 0.988343396001306\n",
      "scores_integrated_grad20_dinucshuff 0.9754332755632583\n",
      "scores_grad_times_inp_flatref 0.9855279682515761\n",
      "scores_integrated_grad20_avgposref 0.9741154742169643\n",
      "scores_deeplift_rescale_avgposref 0.9823119960816818\n",
      "scores_deeplift_genomicsdefault_avgposref 0.9810978826011604\n",
      "scores_integrated_grad20_flatref 0.9730799299223871\n",
      "scores_deeplift_rescale_flatref 0.9783757817798205\n",
      "scores_deeplift_genomicsdefault_flatref 0.9809233949966091\n",
      "scores_integrated_grad10_dinucshuff 0.9743352516765882\n",
      "scores_integrated_grad2_dinucshuff 0.9691269183432547\n",
      "scores_integrated_grad5_dinucshuff 0.9691269183432547\n",
      "FOXA2:M4567_1.02\n",
      "scores_ism 0.9556469788410448\n",
      "scores_deeplift_rescale_dinucshuff 0.9649826242925622\n",
      "scores_deeplift_genomicsdefault_dinucshuff 0.95618934682181\n",
      "scores_integrated_grad20_dinucshuff 0.9405818286434171\n",
      "scores_grad_times_inp_flatref 0.9282096669497978\n",
      "scores_integrated_grad20_avgposref 0.9160884570117241\n",
      "scores_deeplift_rescale_avgposref 0.9477558068915435\n",
      "scores_deeplift_genomicsdefault_avgposref 0.9448951970235441\n",
      "scores_integrated_grad20_flatref 0.8810223318245008\n",
      "scores_deeplift_rescale_flatref 0.9183674351553872\n",
      "scores_deeplift_genomicsdefault_flatref 0.9266462014909655\n",
      "scores_integrated_grad10_dinucshuff 0.9397422809521373\n",
      "scores_integrated_grad2_dinucshuff 0.901952428672667\n",
      "scores_integrated_grad5_dinucshuff 0.9019523086000566\n",
      "RXRG:M6462_1.02\n",
      "scores_ism 0.9434192688169639\n",
      "scores_deeplift_rescale_dinucshuff 0.9766147494472381\n",
      "scores_deeplift_genomicsdefault_dinucshuff 0.9720596004461228\n",
      "scores_integrated_grad20_dinucshuff 0.9642894878811682\n",
      "scores_grad_times_inp_flatref 0.9653726495392021\n",
      "scores_integrated_grad20_avgposref 0.9556753477997144\n",
      "scores_deeplift_rescale_avgposref 0.9761694651836903\n",
      "scores_deeplift_genomicsdefault_avgposref 0.9748738640778871\n",
      "scores_integrated_grad20_flatref 0.9483593245543663\n",
      "scores_deeplift_rescale_flatref 0.9641514022401182\n",
      "scores_deeplift_genomicsdefault_flatref 0.9679746134859917\n",
      "scores_integrated_grad10_dinucshuff 0.9619650928444244\n",
      "scores_integrated_grad2_dinucshuff 0.9483352853536977\n",
      "scores_integrated_grad5_dinucshuff 0.9483352853536977\n",
      "HNF1A:M6281_1.02\n",
      "scores_ism 0.988046435718064\n",
      "scores_deeplift_rescale_dinucshuff 0.9915522255658905\n",
      "scores_deeplift_genomicsdefault_dinucshuff 0.9855521375394797\n",
      "scores_integrated_grad20_dinucshuff 0.9931129890439602\n",
      "scores_grad_times_inp_flatref 0.9906477623182974\n",
      "scores_integrated_grad20_avgposref 0.9777160004891798\n",
      "scores_deeplift_rescale_avgposref 0.9891894797720343\n",
      "scores_deeplift_genomicsdefault_avgposref 0.9914026456321442\n",
      "scores_integrated_grad20_flatref 0.9745043357879491\n",
      "scores_deeplift_rescale_flatref 0.9870560573945191\n",
      "scores_deeplift_genomicsdefault_flatref 0.9892112427591377\n",
      "scores_integrated_grad10_dinucshuff 0.9909737198937902\n",
      "scores_integrated_grad2_dinucshuff 0.9925591697452901\n",
      "scores_integrated_grad5_dinucshuff 0.9925591697452901\n",
      "HNF1B:M6282_1.02\n",
      "scores_ism 0.9858870748388137\n",
      "scores_deeplift_rescale_dinucshuff 0.988595275346109\n",
      "scores_deeplift_genomicsdefault_dinucshuff 0.9877491780198929\n",
      "scores_integrated_grad20_dinucshuff 0.994912536094229\n",
      "scores_grad_times_inp_flatref 0.9920385977052013\n",
      "scores_integrated_grad20_avgposref 0.98193874153812\n",
      "scores_deeplift_rescale_avgposref 0.9877192581615933\n",
      "scores_deeplift_genomicsdefault_avgposref 0.989706480750107\n",
      "scores_integrated_grad20_flatref 0.9751414937298856\n",
      "scores_deeplift_rescale_flatref 0.9834871395382403\n",
      "scores_deeplift_genomicsdefault_flatref 0.986612586069459\n",
      "scores_integrated_grad10_dinucshuff 0.9946632039417327\n",
      "scores_integrated_grad2_dinucshuff 0.9936783872724912\n",
      "scores_integrated_grad5_dinucshuff 0.9936783872724912\n",
      "NR1H2:M6383_1.02\n",
      "scores_ism 0.91385058074197\n",
      "scores_deeplift_rescale_dinucshuff 0.9685855312831322\n",
      "scores_deeplift_genomicsdefault_dinucshuff 0.9603091435665361\n",
      "scores_integrated_grad20_dinucshuff 0.9340883296853167\n",
      "scores_grad_times_inp_flatref 0.9680192542150882\n",
      "scores_integrated_grad20_avgposref 0.926176544923058\n",
      "scores_deeplift_rescale_avgposref 0.9365278910331913\n",
      "scores_deeplift_genomicsdefault_avgposref 0.9421988081556614\n",
      "scores_integrated_grad20_flatref 0.9165391053060757\n",
      "scores_deeplift_rescale_flatref 0.9205906687076485\n",
      "scores_deeplift_genomicsdefault_flatref 0.932514278129863\n",
      "scores_integrated_grad10_dinucshuff 0.9334322430612182\n",
      "scores_integrated_grad2_dinucshuff 0.9080489231595796\n",
      "scores_integrated_grad5_dinucshuff 0.9080489231595796\n",
      "CREB3:M5323_1.02\n",
      "scores_ism 0.4216701808900233\n",
      "scores_deeplift_rescale_dinucshuff 0.41694373543446894\n",
      "scores_deeplift_genomicsdefault_dinucshuff 0.34672455887248915\n",
      "scores_integrated_grad20_dinucshuff 0.5456250693596716\n",
      "scores_grad_times_inp_flatref 0.4708062368216625\n",
      "scores_integrated_grad20_avgposref 0.6400177560759073\n",
      "scores_deeplift_rescale_avgposref 0.6396570857840418\n",
      "scores_deeplift_genomicsdefault_avgposref 0.3461305626456553\n",
      "scores_integrated_grad20_flatref 0.6475765730773498\n",
      "scores_deeplift_rescale_flatref 0.8125873931861056\n",
      "scores_deeplift_genomicsdefault_flatref 0.3639457329930086\n",
      "scores_integrated_grad10_dinucshuff 0.5337631783375874\n",
      "scores_integrated_grad2_dinucshuff 0.5161019864609921\n",
      "scores_integrated_grad5_dinucshuff 0.5161019864609921\n",
      "HIF1A:M6275_1.02\n",
      "scores_ism 0.5687813182879962\n",
      "scores_deeplift_rescale_dinucshuff 0.6885600337829352\n",
      "scores_deeplift_genomicsdefault_dinucshuff 0.8418775745359556\n",
      "scores_integrated_grad20_dinucshuff 0.7748438795117173\n",
      "scores_grad_times_inp_flatref 0.5536500326526511\n",
      "scores_integrated_grad20_avgposref 0.7926619445909628\n",
      "scores_deeplift_rescale_avgposref 0.8499359505689096\n",
      "scores_deeplift_genomicsdefault_avgposref 0.7659181674327482\n",
      "scores_integrated_grad20_flatref 0.8120443542310302\n",
      "scores_deeplift_rescale_flatref 0.8663136883681211\n",
      "scores_deeplift_genomicsdefault_flatref 0.791848767990355\n",
      "scores_integrated_grad10_dinucshuff 0.7799152443925351\n",
      "scores_integrated_grad2_dinucshuff 0.7261145071961419\n",
      "scores_integrated_grad5_dinucshuff 0.7261145071961419\n",
      "XBP1:M6536_1.02\n",
      "scores_ism 0.5847914722481447\n",
      "scores_deeplift_rescale_dinucshuff 0.6733650791005645\n",
      "scores_deeplift_genomicsdefault_dinucshuff 0.6710077545216192\n",
      "scores_integrated_grad20_dinucshuff 0.686844531840199\n",
      "scores_grad_times_inp_flatref 0.6131793538639292\n",
      "scores_integrated_grad20_avgposref 0.647728219570724\n",
      "scores_deeplift_rescale_avgposref 0.6732880060436387\n",
      "scores_deeplift_genomicsdefault_avgposref 0.643910673021375\n",
      "scores_integrated_grad20_flatref 0.6628720337288362\n",
      "scores_deeplift_rescale_flatref 0.6776839476958627\n",
      "scores_deeplift_genomicsdefault_flatref 0.6404521063858153\n",
      "scores_integrated_grad10_dinucshuff 0.6955364284762032\n",
      "scores_integrated_grad2_dinucshuff 0.6588913144914011\n",
      "scores_integrated_grad5_dinucshuff 0.6588913144914011\n",
      "DMBX1:M5345_1.02\n",
      "scores_ism 0.1924863713874237\n",
      "scores_deeplift_rescale_dinucshuff 0.1706576192117051\n",
      "scores_deeplift_genomicsdefault_dinucshuff 0.1954002880342107\n",
      "scores_integrated_grad20_dinucshuff 0.37811205060920117\n",
      "scores_grad_times_inp_flatref 0.21132433889080326\n",
      "scores_integrated_grad20_avgposref 0.4614087170108057\n",
      "scores_deeplift_rescale_avgposref 0.4821339270725652\n",
      "scores_deeplift_genomicsdefault_avgposref 0.4200996633710605\n",
      "scores_integrated_grad20_flatref 0.45103595126390483\n",
      "scores_deeplift_rescale_flatref 0.4294740283263091\n",
      "scores_deeplift_genomicsdefault_flatref 0.3853950751451215\n",
      "scores_integrated_grad10_dinucshuff 0.39117254662885104\n",
      "scores_integrated_grad2_dinucshuff 0.41700727153850914\n",
      "scores_integrated_grad5_dinucshuff 0.41700727153850914\n"
     ]
    }
   ],
   "source": [
    "#['CREB3:M5323_1.02', 'HNF4A:M4698_1.02', 'HNF4G:M2286_1.02', 'DMBX1:M5345_1.02', 'FOXA2:M4567_1.02', 'HNF1A:M6281_1.02', 'XBP1:M6536_1.02', 'NR2F1:M6176_1.02', 'RXRG:M6462_1.02', 'NR1H2:M6383_1.02', 'HIF1A:M6275_1.02']\n",
    "\n",
    "for selected_motif in ['HNF4A:M4698_1.02',\n",
    "                       'HNF4G:M2286_1.02',\n",
    "                       'NR2F1:M6176_1.02',\n",
    "                       'FOXA2:M4567_1.02',\n",
    "                       'RXRG:M6462_1.02',\n",
    "                       'HNF1A:M6281_1.02',\n",
    "                       'HNF1B:M6282_1.02',\n",
    "                       'NR1H2:M6383_1.02',\n",
    "                       'CREB3:M5323_1.02',\n",
    "                       'HIF1A:M6275_1.02',\n",
    "                       'XBP1:M6536_1.02',\n",
    "                       'DMBX1:M5345_1.02'\n",
    "                      ]:\n",
    "    print(selected_motif)\n",
    "    for scoring_method in scoring_methods:\n",
    "        print(scoring_method,\n",
    "              np.mean(model_id_to_scoring_method_to_motif_to_ranks[\"average\"][scoring_method][selected_motif]))\n",
    "        #print(scoring_method,model_id_to_scoring_method_to_motif_to_auprcoverbg\n",
    "        #         [\"max\"][scoring_method][selected_motif])\n",
    "    #for scoring_method in scoring_methods:\n",
    "    #    print(scoring_method)\n",
    "    #    for model_id in [\"average\"]+model_ids:\n",
    "    #        print(model_id_to_scoring_method_to_motif_to_auprcoverbg\n",
    "    #              [model_id][scoring_method][selected_motif])"
   ]
  },
  {
   "cell_type": "code",
   "execution_count": 25,
   "metadata": {
    "collapsed": false
   },
   "outputs": [
    {
     "data": {
      "text/plain": [
       "['HNF4A:M4698_1.02',\n",
       " 'HNF4G:M2286_1.02',\n",
       " 'NR2F1:M6176_1.02',\n",
       " 'FOXA2:M4567_1.02',\n",
       " 'RXRG:M6462_1.02',\n",
       " 'HNF1A:M6281_1.02',\n",
       " 'HNF1B:M6282_1.02',\n",
       " 'NR1H2:M6383_1.02',\n",
       " 'CREB3:M5323_1.02',\n",
       " 'HIF1A:M6275_1.02',\n",
       " 'XBP1:M6536_1.02',\n",
       " 'DMBX1:M5345_1.02']"
      ]
     },
     "execution_count": 25,
     "metadata": {},
     "output_type": "execute_result"
    }
   ],
   "source": [
    "sorted([(x,len(y)) for x,y in motif_to_hit_locations.items()],\n",
    "        key=lambda x: -x[1])\n",
    "[x[0] for x in sorted([(x,len(y)) for x,y in motif_to_hit_locations.items()],\n",
    "        key=lambda x: -x[1])]"
   ]
  },
  {
   "cell_type": "code",
   "execution_count": null,
   "metadata": {
    "collapsed": true
   },
   "outputs": [],
   "source": [
    "#HNF4A:M4698_1.02\n",
    "#NR2F1:M6176_1.02 is similar to HNF"
   ]
  },
  {
   "cell_type": "code",
   "execution_count": null,
   "metadata": {
    "collapsed": true
   },
   "outputs": [],
   "source": [
    "['CREB3:M5323_1.02', 'HNF1B:M6282_1.02', 'HNF4A:M4698_1.02', 'HNF4G:M2286_1.02', 'DMBX1:M5345_1.02', 'FOXA2:M4567_1.02', 'HNF1A:M6281_1.02', 'XBP1:M6536_1.02', 'NR2F1:M6176_1.02', 'RXRG:M6462_1.02', 'NR1H2:M6383_1.02', 'HIF1A:M6275_1.02', '(SP5)_(Drosophila_melanogaster)_(DBD_0.93):M5209_1.02', 'TCF7L1:M5903_1.02', 'NR2F6:M6392_1.02', '(KLF12)_(Mus_musculus)_(DBD_1.00):M0443_1.02', '(KLF7)_(Mus_musculus)_(DBD_1.00):M0405_1.02', '(ZFP161)_(Mus_musculus)_(DBD_1.00):M0432_1.02', 'NR6A1:M6397_1.02', 'E2F4:M4537_1.02']"
   ]
  }
 ],
 "metadata": {
  "kernelspec": {
   "display_name": "Python 2",
   "language": "python",
   "name": "python2"
  },
  "language_info": {
   "codemirror_mode": {
    "name": "ipython",
    "version": 2
   },
   "file_extension": ".py",
   "mimetype": "text/x-python",
   "name": "python",
   "nbconvert_exporter": "python",
   "pygments_lexer": "ipython2",
   "version": "2.7.13"
  }
 },
 "nbformat": 4,
 "nbformat_minor": 0
}
