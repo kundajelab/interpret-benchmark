{
 "cells": [
  {
   "cell_type": "code",
   "execution_count": 1,
   "metadata": {
    "collapsed": true
   },
   "outputs": [],
   "source": [
    "from __future__ import division, print_function"
   ]
  },
  {
   "cell_type": "code",
   "execution_count": 3,
   "metadata": {
    "collapsed": false
   },
   "outputs": [
    {
     "name": "stdout",
     "output_type": "stream",
     "text": [
      "/users/avanti/interpret-benchmark/data/HepG2\n"
     ]
    }
   ],
   "source": [
    "%cd HepG2"
   ]
  },
  {
   "cell_type": "code",
   "execution_count": 4,
   "metadata": {
    "collapsed": false
   },
   "outputs": [
    {
     "name": "stdout",
     "output_type": "stream",
     "text": [
      "compute_imp_scores.py\t\t\truns_perf-metric-auROC.db\r\n",
      "compute_scores.sh\t\t\tsmall_valid_labels.gz\r\n",
      "config\t\t\t\t\ttest_labels.gz\r\n",
      "dan_basset_keras_port.arch.json\t\ttrain_model_convfixedfcfromscratch.sh\r\n",
      "dan_basset_keras_port.weights.h5\ttrain_model_fcfromscratch.sh\r\n",
      "imp_scores\t\t\t\ttrain_model_from_preinit.sh\r\n",
      "labels.gz\t\t\t\ttrain_model_from_scratch.sh\r\n",
      "model_files\t\t\t\tuniversal_negatives.bed.gz\r\n",
      "naive_window_around_summit.bed.gz\tvalid_labels.gz\r\n",
      "positives_not_in_small_valid_labels.gz\r\n"
     ]
    }
   ],
   "source": [
    "!ls"
   ]
  },
  {
   "cell_type": "code",
   "execution_count": null,
   "metadata": {
    "collapsed": true
   },
   "outputs": [],
   "source": []
  }
 ],
 "metadata": {
  "kernelspec": {
   "display_name": "Python 2",
   "language": "python",
   "name": "python2"
  },
  "language_info": {
   "codemirror_mode": {
    "name": "ipython",
    "version": 2
   },
   "file_extension": ".py",
   "mimetype": "text/x-python",
   "name": "python",
   "nbconvert_exporter": "python",
   "pygments_lexer": "ipython2",
   "version": "2.7.13"
  }
 },
 "nbformat": 4,
 "nbformat_minor": 0
}
